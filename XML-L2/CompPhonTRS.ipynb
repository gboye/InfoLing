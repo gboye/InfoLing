{
 "cells": [
  {
   "cell_type": "code",
   "execution_count": 9,
   "metadata": {
    "collapsed": true
   },
   "outputs": [],
   "source": [
    "from lxml import etree\n",
    "import glob,codecs"
   ]
  },
  {
   "cell_type": "code",
   "execution_count": 10,
   "metadata": {
    "collapsed": true
   },
   "outputs": [],
   "source": [
    "parser = etree.XMLParser(remove_blank_text=True)"
   ]
  },
  {
   "cell_type": "code",
   "execution_count": 11,
   "metadata": {
    "collapsed": true
   },
   "outputs": [],
   "source": [
    "def printPhon(rootTRS):\n",
    "    phonLignes=[]\n",
    "    for ligne in rootTRS.xpath(\"//Turn//text()\"):\n",
    "        ligne=ligne.strip()\n",
    "        phonLignes.append(ligne)\n",
    "    return(phonLignes)"
   ]
  },
  {
   "cell_type": "code",
   "execution_count": 12,
   "metadata": {
    "collapsed": false
   },
   "outputs": [],
   "source": [
    "def writeListe(nomFichier,liste):\n",
    "    with codecs.open(nomFichier, \"w\", encoding='utf8') as f:\n",
    "        for ligne in liste:\n",
    "            f.write(ligne+u\"\\n\")\n"
   ]
  },
  {
   "cell_type": "code",
   "execution_count": 20,
   "metadata": {
    "collapsed": false
   },
   "outputs": [],
   "source": [
    "def extractPhon(nomDir,version=\"CM\"):\n",
    "    nomPhonTRS=glob.glob(nomDir+\"*BDL2.trs\")\n",
    "    for nom in nomPhonTRS:\n",
    "#        print nom\n",
    "    #    print\n",
    "        nomTextePhon=nom.replace(\".trs\",\"-\"+version+\".txt\")\n",
    "#        print nomTextePhon\n",
    "        try:\n",
    "            xmlTRS=etree.parse(nom,parser)\n",
    "        except:\n",
    "            print \"erreur avec\",nom\n",
    "        phonLignes=printPhon(xmlTRS)\n",
    "        writeListe(nomTextePhon,phonLignes)"
   ]
  },
  {
   "cell_type": "code",
   "execution_count": 21,
   "metadata": {
    "collapsed": true
   },
   "outputs": [],
   "source": [
    "def iterateExtract(nomDir,version=\"CM\"):\n",
    "    dirListe=glob.glob(nomDir+\"*/\")\n",
    "    for dirName in dirListe:\n",
    "        extractPhon(dirName,version)"
   ]
  },
  {
   "cell_type": "code",
   "execution_count": 22,
   "metadata": {
    "collapsed": true
   },
   "outputs": [],
   "source": [
    "nomDirGB='/Users/gilles/Dropbox/TRS-V2/'\n",
    "nomDirCM='/Users/gilles/Downloads/LNS3U5-TRS-Corr/'"
   ]
  },
  {
   "cell_type": "code",
   "execution_count": 23,
   "metadata": {
    "collapsed": false
   },
   "outputs": [
    {
     "name": "stdout",
     "output_type": "stream",
     "text": [
      "erreur avec /Users/gilles/Dropbox/TRS-V2/ALEXIA CLEMENT_11603/Chantal Véronique Giacomo-BDL2.trs\n",
      "erreur avec /Users/gilles/Dropbox/TRS-V2/CLARA CASSUS_11618/Viviane raconte lhomme\\ Ö\\ lUsine-BDL2.trs\n"
     ]
    }
   ],
   "source": [
    "iterateExtract(nomDirGB,version=\"GB\")\n",
    "#iterateExtract(nomDirCM,version=\"CM\")"
   ]
  },
  {
   "cell_type": "code",
   "execution_count": 62,
   "metadata": {
    "collapsed": false
   },
   "outputs": [
    {
     "name": "stdout",
     "output_type": "stream",
     "text": [
      "diff_file extrait - Migrants, COP21, attentats à Paris - les enfants parlent de lactualité-BDL2.trs found in /Users/gilles/Dropbox/TRS-VF/ALEXIA CLEMENT_11603/ and /Users/gilles/Downloads/LNS3U5-TRS-Corr/ALEXIA CLEMENT_17415/\n"
     ]
    }
   ],
   "source": [
    "from filecmp import dircmp\n",
    "def print_diff_files(dcmp):\n",
    "    for name in dcmp.diff_files:\n",
    "        print \"diff_file %s found in %s and %s\" % (name, dcmp.left,\n",
    "              dcmp.right)\n",
    "    for sub_dcmp in dcmp.subdirs.values():\n",
    "        print_diff_files(sub_dcmp)\n",
    "\n",
    "dcmp = dircmp(\n",
    "    '/Users/gilles/Dropbox/TRS-VF/ALEXIA CLEMENT_11603/', \n",
    "    '/Users/gilles/Downloads/LNS3U5-TRS-Corr/ALEXIA CLEMENT_17415/'\n",
    "        ) \n",
    "print_diff_files(dcmp) \n"
   ]
  },
  {
   "cell_type": "code",
   "execution_count": null,
   "metadata": {
    "collapsed": true
   },
   "outputs": [],
   "source": []
  }
 ],
 "metadata": {
  "kernelspec": {
   "display_name": "Python 2",
   "language": "python",
   "name": "python2"
  },
  "language_info": {
   "codemirror_mode": {
    "name": "ipython",
    "version": 2
   },
   "file_extension": ".py",
   "mimetype": "text/x-python",
   "name": "python",
   "nbconvert_exporter": "python",
   "pygments_lexer": "ipython2",
   "version": "2.7.11"
  }
 },
 "nbformat": 4,
 "nbformat_minor": 0
}
