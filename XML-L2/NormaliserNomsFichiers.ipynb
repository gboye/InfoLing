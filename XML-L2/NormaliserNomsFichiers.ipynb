{
 "cells": [
  {
   "cell_type": "code",
   "execution_count": 1,
   "metadata": {},
   "outputs": [],
   "source": [
    "import glob,os,re,shutil\n",
    "from unidecode import unidecode"
   ]
  },
  {
   "cell_type": "code",
   "execution_count": 4,
   "metadata": {},
   "outputs": [],
   "source": [
    "repertoires=glob.glob(u\"/Users/gilles/pCloud Drive/FOD/Corpus-2018/0 Groupes/*/\")"
   ]
  },
  {
   "cell_type": "code",
   "execution_count": 26,
   "metadata": {
    "scrolled": false
   },
   "outputs": [
    {
     "name": "stdout",
     "output_type": "stream",
     "text": [
      "/Users/gilles/pCloud Drive/FOD/Corpus-2018/0 Groupes/JaubertLagrangeTriffaux/\n",
      "/Users/gilles/pCloud Drive/FOD/Corpus-2018/0 Groupes/BauraudEscandeTendeiro/\n",
      "/Users/gilles/pCloud Drive/FOD/Corpus-2018/0 Groupes/BeccavinGautierVigouroux/\n",
      "/Users/gilles/pCloud Drive/FOD/Corpus-2018/0 Groupes/ChallancinMicheletOliveira/\n",
      "/Users/gilles/pCloud Drive/FOD/Corpus-2018/0 Groupes/AndralDuizaboTauziede/\n",
      "/Users/gilles/pCloud Drive/FOD/Corpus-2018/0 Groupes/CampetTourrel/\n",
      "/Users/gilles/pCloud Drive/FOD/Corpus-2018/0 Groupes/BelhaniBoudassouSanchez/\n",
      "/Users/gilles/pCloud Drive/FOD/Corpus-2018/0 Groupes/AudoueineixMagnac/\n",
      "/Users/gilles/pCloud Drive/FOD/Corpus-2018/0 Groupes/ArnaudCharlesRoussel/\n",
      "/Users/gilles/pCloud Drive/FOD/Corpus-2018/0 Groupes/ColombeLeGuillouRamaye/\n",
      "/Users/gilles/pCloud Drive/FOD/Corpus-2018/0 Groupes/CarbonnierCodognottoMonfroy/\n",
      "/Users/gilles/pCloud Drive/FOD/Corpus-2018/0 Groupes/BerdotBourgmeyerLaurentPourcel/\n",
      "/Users/gilles/pCloud Drive/FOD/Corpus-2018/0 Groupes/BadetsBellangerBulutDelavault/\n",
      "/Users/gilles/pCloud Drive/FOD/Corpus-2018/0 Groupes/BasseBelivierJanoulet/\n",
      "/Users/gilles/pCloud Drive/FOD/Corpus-2018/0 Groupes/AvidJacquemin/\n",
      "/Users/gilles/pCloud Drive/FOD/Corpus-2018/0 Groupes/RoussetZago/\n",
      "/Users/gilles/pCloud Drive/FOD/Corpus-2018/0 Groupes/AbesJautzyChouyaFilyo/\n",
      "/Users/gilles/pCloud Drive/FOD/Corpus-2018/0 Groupes/MerleRoumier/\n",
      "/Users/gilles/pCloud Drive/FOD/Corpus-2018/0 Groupes/BezemontJuzanGuillonPoirier/\n",
      "/Users/gilles/pCloud Drive/FOD/Corpus-2018/0 Groupes/DupelDupont/\n",
      "/Users/gilles/pCloud Drive/FOD/Corpus-2018/0 Groupes/BardinJacobHipplerLaterrade/\n",
      "/Users/gilles/pCloud Drive/FOD/Corpus-2018/0 Groupes/DelayeDumainePauillac/\n",
      "/Users/gilles/pCloud Drive/FOD/Corpus-2018/0 Groupes/BayonaEnjilela/\n",
      "/Users/gilles/pCloud Drive/FOD/Corpus-2018/0 Groupes/PocheluSusset/\n",
      "/Users/gilles/pCloud Drive/FOD/Corpus-2018/0 Groupes/DuniauMaillardRosnet/\n",
      "/Users/gilles/pCloud Drive/FOD/Corpus-2018/0 Groupes/GendreDescrambesMonnier/\n",
      "/Users/gilles/pCloud Drive/FOD/Corpus-2018/0 Groupes/HimTalouTourdotFuentes/\n",
      "/Users/gilles/pCloud Drive/FOD/Corpus-2018/0 Groupes/CoteGuillot/\n",
      "/Users/gilles/pCloud Drive/FOD/Corpus-2018/0 Groupes/LayanFreselMartorell/\n",
      "/Users/gilles/pCloud Drive/FOD/Corpus-2018/0 Groupes/BlegerDinclauxLeLaurain/\n"
     ]
    }
   ],
   "source": [
    "def makeNom(nom):\n",
    "    chaine=re.sub(ur\"[()\\[\\]]\",ur\"\",nom)\n",
    "    return \"\".join([f.capitalize() for f in chaine.split(\" \")])\n",
    "    \n",
    "for rep in repertoires:\n",
    "    print rep\n",
    "    fichiers=glob.glob(rep+\"*\")\n",
    "    regex = re.compile(r'\\.(trico|trs|xml)')\n",
    "    fichiers = filter(regex.search, fichiers)\n",
    "    for f in fichiers:\n",
    "        nom=f.rsplit(\"/\",1)[1]\n",
    "        m=re.search(ur\"[ éèàùçâêîôû()]\",nom)\n",
    "        if m:\n",
    "            nouveauNom=makeNom(nom)\n",
    "            if not os.path.isfile(rep+nouveauNom):\n",
    "                shutil.move(rep+nom,rep+nouveauNom)\n",
    "            else:\n",
    "                print nom\n",
    "                print \"fichier existant\",nouveauNom\n",
    "                print\n"
   ]
  },
  {
   "cell_type": "code",
   "execution_count": null,
   "metadata": {},
   "outputs": [],
   "source": []
  }
 ],
 "metadata": {
  "kernelspec": {
   "display_name": "Python 2",
   "language": "python",
   "name": "python2"
  },
  "language_info": {
   "codemirror_mode": {
    "name": "ipython",
    "version": 2
   },
   "file_extension": ".py",
   "mimetype": "text/x-python",
   "name": "python",
   "nbconvert_exporter": "python",
   "pygments_lexer": "ipython2",
   "version": "2.7.11"
  }
 },
 "nbformat": 4,
 "nbformat_minor": 2
}
