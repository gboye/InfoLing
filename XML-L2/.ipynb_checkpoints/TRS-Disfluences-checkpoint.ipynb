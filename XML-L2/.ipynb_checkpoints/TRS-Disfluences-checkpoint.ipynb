{
 "metadata": {
  "name": "",
  "signature": "sha256:aa3a168eb0d6ea1516585b7be1b01478f9f75db7eda775e6189d44c669091af0"
 },
 "nbformat": 3,
 "nbformat_minor": 0,
 "worksheets": [
  {
   "cells": [
    {
     "cell_type": "markdown",
     "metadata": {},
     "source": [
      "#Transformer les TRS\n",
      "##Importer les modules n\u00e9cessaires\n",
      "- codecs est le module qui permet de lire l'encodage UTF8 ou ISO-8859-1 au choix\n",
      "- re est le module qui permet d'utiliser des expressions r\u00e9guli\u00e8res pour analyser une chaine de caract\u00e8res"
     ]
    },
    {
     "cell_type": "code",
     "collapsed": false,
     "input": [
      "import codecs, re"
     ],
     "language": "python",
     "metadata": {},
     "outputs": []
    },
    {
     "cell_type": "markdown",
     "metadata": {},
     "source": [
      "##D\u00e9claration des noms des fichiers"
     ]
    },
    {
     "cell_type": "code",
     "collapsed": false,
     "input": [
      "nomTRS=\"/Users/gilles/Copy/Cours/Bordeaux/XML/XML-Ressources/Natif.Kevin-Non_Natf.Mario.trs\"\n",
      "nomXML=nomTRS.replace(\".trs\",\".xml\")"
     ],
     "language": "python",
     "metadata": {},
     "outputs": []
    },
    {
     "cell_type": "markdown",
     "metadata": {},
     "source": [
      "##Lecture du fichier TRS"
     ]
    },
    {
     "cell_type": "code",
     "collapsed": false,
     "input": [
      "with codecs.open(nomTRS,\"r\",encoding=\"ISO-8859-1\") as entree:\n",
      "    transcription=entree.readlines()"
     ],
     "language": "python",
     "metadata": {},
     "outputs": []
    },
    {
     "cell_type": "markdown",
     "metadata": {},
     "source": [
      "##Ajout des lignes pour les disfluences et la mise en forme\n",
      "- apr\u00e8s la ligne de d\u00e9claration de l'encodage : la r\u00e9f\u00e9rence de la feuille de style\n",
      "- apr\u00e8s les lignes de d\u00e9but de disfluences : la balise &lt;disfluence>\n",
      "- avant les lignes de fin de disfluences : la balise &lt;/difluence>\n",
      "\n",
      "Avec le fichier XML\n",
      ">pour chaque ligne\n",
      ">>nettoyer la ligne\n",
      ">>comparer la ligne avec un event de type disflu\n",
      "\n",
      ">>si la ligne est la d\u00e9claration d'encodage\n",
      ">>>recopier la ligne\n",
      ">>>ajouter la r\u00e9f\u00e9rence de la feuille de style\n",
      "\n",
      ">>si la ligne est la r\u00e9f\u00e9rence de la feuille de style\n",
      ">>>ne rien faire\n",
      "\n",
      ">>si la ligne est celle de la DTD\n",
      ">>>remplacer la ligne par celle de la DTD adapt\u00e9e pour accepter les disfluences\n",
      "\n",
      ">>si la ligne est du type event de disfluence\n",
      ">>>si le dernier attribut vaut begin\n",
      ">>>>recopier la ligne\n",
      ">>>>ajouter une balise &lt;disfluence>\n",
      "\n",
      ">>>si le dernier attribut vaut end\n",
      ">>>>ajouter une balise &lt;/disfluence>\n",
      ">>>>recopier la ligne\n",
      "\n",
      ">>sinon\n",
      ">>>recopier la ligne"
     ]
    },
    {
     "cell_type": "code",
     "collapsed": false,
     "input": [
      "with codecs.open(nomXML,\"w\",encoding=\"ISO-8859-1\") as sortie:\n",
      "    for ligne in transcription:\n",
      "        ligne=ligne.strip()\n",
      "        m=re.match('<Event desc=\"disflu\" type=\"(noise|lexical|pronounce|language|entities)\" extent=\"(begin|end)\"/>',ligne)\n",
      "        if ligne=='<?xml version=\"1.0\" encoding=\"ISO-8859-1\"?>':\n",
      "            sortie.write(ligne+\"\\n\")\n",
      "            sortie.write('<?xml-stylesheet type=\"text/xsl\" href=\"TRS-Speakers.xsl\" ?>'+\"\\n\")\n",
      "        elif ligne=='<?xml-stylesheet type=\"text/xsl\" href=\"TRS-Speakers.xsl\" ?>':\n",
      "            pass\n",
      "        elif ligne=='<!DOCTYPE Trans SYSTEM \"trans-14.dtd\">':\n",
      "            sortie.write('<!DOCTYPE Trans SYSTEM \"trans-14-corpus.dtd\">'+\"\\n\")\n",
      "        elif m:\n",
      "            if m.group(2)==\"begin\":\n",
      "                sortie.write(ligne+\"\\n\")\n",
      "                sortie.write(\"<disfluence>\"+\"\\n\")\n",
      "            elif m.group(2)==\"end\":\n",
      "                sortie.write(\"</disfluence>\"+\"\\n\")\n",
      "                sortie.write(ligne+\"\\n\")            \n",
      "        else:\n",
      "            sortie.write(ligne+\"\\n\")"
     ],
     "language": "python",
     "metadata": {},
     "outputs": []
    },
    {
     "cell_type": "code",
     "collapsed": false,
     "input": [],
     "language": "python",
     "metadata": {},
     "outputs": []
    }
   ],
   "metadata": {}
  }
 ]
}