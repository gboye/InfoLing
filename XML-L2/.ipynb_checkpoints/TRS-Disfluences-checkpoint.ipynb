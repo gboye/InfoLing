{
 "metadata": {
  "name": "",
  "signature": "sha256:e901ba1781c85528967911cf7936e4fc04905b77617d2488f21c6e09abff7261"
 },
 "nbformat": 3,
 "nbformat_minor": 0,
 "worksheets": [
  {
   "cells": [
    {
     "cell_type": "code",
     "collapsed": false,
     "input": [
      "import codecs, re"
     ],
     "language": "python",
     "metadata": {},
     "outputs": [],
     "prompt_number": 26
    },
    {
     "cell_type": "code",
     "collapsed": false,
     "input": [
      "nomTRS=\"/Users/gilles/Copy/Cours/Bordeaux/XML/XML-Ressources/Natif.Kevin-Non_Natf.Mario.trs\"\n",
      "nomXML=nomTRS.replace(\".trs\",\".xml\")"
     ],
     "language": "python",
     "metadata": {},
     "outputs": [],
     "prompt_number": 27
    },
    {
     "cell_type": "code",
     "collapsed": false,
     "input": [
      "with codecs.open(nomTRS,\"r\",encoding=\"ISO-8859-1\") as entree:\n",
      "    transcription=entree.readlines()"
     ],
     "language": "python",
     "metadata": {},
     "outputs": [],
     "prompt_number": 28
    },
    {
     "cell_type": "code",
     "collapsed": false,
     "input": [
      "with codecs.open(nomXML,\"w\",encoding=\"ISO-8859-1\") as sortie:\n",
      "    for ligne in transcription:\n",
      "        ligne=ligne.strip()\n",
      "        m=re.match('<Event desc=\"disflu\" type=\"(noise|lexical|pronounce|language|entities)\" extent=\"(begin|end)\"/>',ligne)\n",
      "        if ligne=='<?xml version=\"1.0\" encoding=\"ISO-8859-1\"?>':\n",
      "            sortie.write(ligne+\"\\n\")\n",
      "            sortie.write('<?xml-stylesheet type=\"text/xsl\" href=\"TRS-Speakers.xsl\" ?>'+\"\\n\")\n",
      "        elif ligne=='<?xml-stylesheet type=\"text/xsl\" href=\"TRS-Speakers.xsl\" ?>':\n",
      "            pass\n",
      "        elif ligne=='<!DOCTYPE Trans SYSTEM \"trans-14.dtd\">':\n",
      "            sortie.write('<!DOCTYPE Trans SYSTEM \"trans-14-corpus.dtd\">'+\"\\n\")\n",
      "        elif m:\n",
      "            if m.group(2)==\"begin\":\n",
      "                sortie.write(ligne+\"\\n\")\n",
      "                sortie.write(\"<disfluence>\"+\"\\n\")\n",
      "            elif m.group(2)==\"end\":\n",
      "                sortie.write(\"</disfluence>\"+\"\\n\")\n",
      "                sortie.write(ligne+\"\\n\")            \n",
      "        else:\n",
      "            sortie.write(ligne+\"\\n\")\n"
     ],
     "language": "python",
     "metadata": {},
     "outputs": [],
     "prompt_number": 29
    },
    {
     "cell_type": "code",
     "collapsed": false,
     "input": [],
     "language": "python",
     "metadata": {},
     "outputs": [],
     "prompt_number": 29
    }
   ],
   "metadata": {}
  }
 ]
}