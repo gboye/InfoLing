{
 "metadata": {
  "name": "",
  "signature": "sha256:897cdf90bbbfa4bd7ac010d548d6777dc73231dd1eaac245c9cb9b0c3cc09563"
 },
 "nbformat": 3,
 "nbformat_minor": 0,
 "worksheets": [
  {
   "cells": [
    {
     "cell_type": "code",
     "collapsed": false,
     "input": [
      "import codecs"
     ],
     "language": "python",
     "metadata": {},
     "outputs": [],
     "prompt_number": 26
    },
    {
     "cell_type": "code",
     "collapsed": false,
     "input": [
      "nomTRS=\"/Users/gilles/Copy/Cours/Bordeaux/XML/XML-Ressources/Natif.Kevin-Non_Natf.Mario.trs\"\n",
      "nomXML=nomTRS.replace(\".trs\",\".xml\")"
     ],
     "language": "python",
     "metadata": {},
     "outputs": [],
     "prompt_number": 27
    },
    {
     "cell_type": "code",
     "collapsed": false,
     "input": [
      "with codecs.open(nomTRS,\"r\",encoding=\"ISO-8859-1\") as entree:\n",
      "    transcription=entree.readlines()"
     ],
     "language": "python",
     "metadata": {},
     "outputs": [],
     "prompt_number": 28
    },
    {
     "cell_type": "code",
     "collapsed": false,
     "input": [
      "with codecs.open(nomXML,\"w\",encoding=\"ISO-8859-1\") as sortie:\n",
      "    for ligne in transcription:\n",
      "        ligne=ligne.strip()\n",
      "        if ligne=='<Event desc=\"disflu\" type=\"pronounce\" extent=\"begin\"/>':\n",
      "            sortie.write(\"<disfluence>\"+\"\\n\")\n",
      "        elif ligne=='<Event desc=\"disflu\" type=\"pronounce\" extent=\"end\"/>':\n",
      "            sortie.write(\"</disfluence>\"+\"\\n\")\n",
      "        elif ligne==\"<disfluence>\":\n",
      "            sortie.write('<Event desc=\"disflu\" type=\"pronounce\" extent=\"begin\"/>'+\"\\n\")\n",
      "        elif ligne==\"</disfluence>\":\n",
      "            sortie.write('<Event desc=\"disflu\" type=\"pronounce\" extent=\"end\"/>'+\"\\n\")\n",
      "        elif ligne=='<?xml version=\"1.0\" encoding=\"ISO-8859-1\"?>':\n",
      "            sortie.write(ligne+\"\\n\")\n",
      "            sortie.write('<?xml-stylesheet type=\"text/xsl\" href=\"TRS-Speakers.xsl\" ?>'+\"\\n\")\n",
      "        else:\n",
      "            sortie.write(ligne+\"\\n\")\n"
     ],
     "language": "python",
     "metadata": {},
     "outputs": [],
     "prompt_number": 29
    },
    {
     "cell_type": "code",
     "collapsed": false,
     "input": [],
     "language": "python",
     "metadata": {},
     "outputs": [],
     "prompt_number": 29
    }
   ],
   "metadata": {}
  }
 ]
}