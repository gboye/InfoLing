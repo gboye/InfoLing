{
 "metadata": {
  "name": "",
  "signature": "sha256:9d66a6f1ec2fe3938066bc0edf341dc2c5308eb9c6d6e67c067e563b709f5d03"
 },
 "nbformat": 3,
 "nbformat_minor": 0,
 "worksheets": [
  {
   "cells": [
    {
     "cell_type": "code",
     "collapsed": false,
     "input": [
      "import time\n",
      "import sys\n",
      "import codecs\n",
      "import re\n",
      "import pdb # ajouter pdb.set_trace() \u00e0 l'endroit o\u00f9 on veut le d\u00e9bugueur"
     ],
     "language": "python",
     "metadata": {},
     "outputs": [],
     "prompt_number": 4
    },
    {
     "cell_type": "code",
     "collapsed": false,
     "input": [
      "from os.path import expanduser\n",
      "home = expanduser(\"~\")\n",
      "repRessources=home+\"/Copy/Cours/Bordeaux/XML/XML-Ressources/\"\n",
      "repCorpus=home+\"/Copy/Linguistique et corpus 2014-2015/CHOW-WING-BOM_PEDEZERT_VERCOUTERE/Phone\u0301misation/scripts-Phonemisation-CWBCPPVE-\"\n",
      "text=\"petitsmots.txt\""
     ],
     "language": "python",
     "metadata": {},
     "outputs": [],
     "prompt_number": 8
    },
    {
     "cell_type": "markdown",
     "metadata": {},
     "source": [
      "#Modif GB 12/04/14\n",
      "- mise en texte des deux blocs de traitement de la ligne de commande"
     ]
    },
    {
     "cell_type": "raw",
     "metadata": {},
     "source": [
      "if len(sys.argv) < 3:\n",
      "    print (\"Veuillez renseigner tous les champs  : \\n 1. un fichier segment\u00e9 \\n 2. le fichier du lexique \\n 3. \u00e9ventuellement un fichier d'exceptions\")\n",
      "    sys.exit()\n",
      "\n",
      "# ouvre le fichier segment\u00e9 et affiche un message d'erreur s'il ne peut pas \u00eatre ouvert\n",
      "try:\n",
      "    fichier=codecs.open(sys.argv[1],\"r\")\n",
      "except IOError:\n",
      "    print ('le fichier \"'+ sys.argv[1]+ '\" ne peut pas \u00eatre ouvert',)\n",
      "    sys.exit()\n",
      "# ouvre BDLex et affiche un message d'erreur s'il ne peut pas \u00eatre ouvert\n",
      "try:\n",
      "    lexicon=codecs.open(sys.argv[2],\"r\")\n",
      "except IOError:\n",
      "    print ('le fichier \"'+ sys.argv[2]+ '\" ne peut pas \u00eatre ouvert',)\n",
      "    sys.exit()\n",
      "# ouvre le fichier d'exceptions(s'il est l\u00e0) et affiche un message d'erreur s'il ne peut pas \u00eatre ouvert\n",
      "fichier_exceptions=False # pour ne pas ex\u00e9cuter la pr\u00e9paration des exceptions s'il n'y a pas de fichier\n",
      "if len(sys.argv) == 4:\n",
      "    try:\n",
      "        exceptions=codecs.open(sys.argv[3],\"r\")\n",
      "        fichier_exceptions=True\n",
      "    except IOError:\n",
      "        print ('le fichier \"'+ sys.argv[3]+ '\" ne peut pas \u00eatre ouvert', )\n",
      "        sys.exit()"
     ]
    },
    {
     "cell_type": "raw",
     "metadata": {},
     "source": [
      "# ajouter les liaisons facultatives ou pas ?\n",
      "facultatives=input(\"Voulez-vous ajouter les liaisons facultatives ou pas ?\\n1 = Oui, 0 = Non (suivi d'Entr\u00e9e) : \")"
     ]
    },
    {
     "cell_type": "markdown",
     "metadata": {},
     "source": [
      "#Modif GB 12/04/14\n",
      "- extension du bloc pour permettre d'ajouter les trois fichiers \u00e0 la main"
     ]
    },
    {
     "cell_type": "code",
     "collapsed": false,
     "input": [
      "fichierLexique=repRessources+\"bdlexique-gb-110217-utf8.txt\"\n",
      "lexicon=codecs.open(fichierLexique,\"r\")\n",
      "fichierCorpus=repCorpus+text\n",
      "fichier=codecs.open(fichierCorpus,\"r\")\n",
      "fichierExceptions=repCorpus+\"inconnus.txt\"\n",
      "exceptions=codecs.open(fichierExceptions,\"r\")\n",
      "fichier_exceptions=True"
     ],
     "language": "python",
     "metadata": {},
     "outputs": [],
     "prompt_number": 9
    },
    {
     "cell_type": "code",
     "collapsed": false,
     "input": [
      "facultatives = 0"
     ],
     "language": "python",
     "metadata": {},
     "outputs": [],
     "prompt_number": 10
    },
    {
     "cell_type": "code",
     "collapsed": false,
     "input": [
      "phrases=[]\n",
      "phon={}\n",
      "result=[]\n",
      "nouvellesExceptions = []\n",
      "output=[]"
     ],
     "language": "python",
     "metadata": {},
     "outputs": [],
     "prompt_number": 11
    },
    {
     "cell_type": "heading",
     "level": 3,
     "metadata": {},
     "source": [
      "Pr\u00e9paration des fichiers"
     ]
    },
    {
     "cell_type": "markdown",
     "metadata": {},
     "source": [
      "algorithme\n",
      "\n",
      "ajouter chaque ligne du fichier \u00e0 phrases[]"
     ]
    },
    {
     "cell_type": "code",
     "collapsed": false,
     "input": [
      "def lowerAccents(chaine):\n",
      "    if isinstance(chaine,str):\n",
      "        try:\n",
      "            result=chaine.decode(\"utf8\").lower().encode(\"utf8\")\n",
      "        except:\n",
      "            print chaine\n",
      "        return result\n",
      "    elif isinstance(chaine,unicode):\n",
      "        return chaine.lower().encode('utf8')"
     ],
     "language": "python",
     "metadata": {},
     "outputs": [],
     "prompt_number": 12
    },
    {
     "cell_type": "code",
     "collapsed": false,
     "input": [
      "for line in fichier:\n",
      "    line=line.strip()\n",
      "    if line != '':\n",
      "        phrases.append(line)"
     ],
     "language": "python",
     "metadata": {},
     "outputs": [],
     "prompt_number": 13
    },
    {
     "cell_type": "code",
     "collapsed": false,
     "input": [
      "fichier.close()"
     ],
     "language": "python",
     "metadata": {},
     "outputs": [],
     "prompt_number": 14
    },
    {
     "cell_type": "markdown",
     "metadata": {},
     "source": [
      "algorithme\n",
      "\n",
      "extraire de BDLex 0.forme fl\u00e9chie, 1.phon\u00e9tique, 2.liaison, 3.cat-gram, 4.genre+nombre"
     ]
    },
    {
     "cell_type": "code",
     "collapsed": false,
     "input": [
      "for entry in lexicon:\n",
      "    entry=entry.strip()\n",
      "    p=entry.split(';')\n",
      "    phon[p[0].lower()]=(p[0],p[1],p[2],p[3],p[4])"
     ],
     "language": "python",
     "metadata": {},
     "outputs": [],
     "prompt_number": 15
    },
    {
     "cell_type": "code",
     "collapsed": false,
     "input": [
      "lexicon.close()"
     ],
     "language": "python",
     "metadata": {},
     "outputs": [],
     "prompt_number": 16
    },
    {
     "cell_type": "markdown",
     "metadata": {},
     "source": [
      "algorithme\n",
      "\n",
      "extraire du fichier d'exceptions les m\u00eames donn\u00e9es que pour BDLex"
     ]
    },
    {
     "cell_type": "markdown",
     "metadata": {},
     "source": [
      "#Modif GB 12/04/14\n",
      "- fait une liste des exceptions lues pour ne pas les rajouter \u00e0 la fin\n",
      "- \u00e9viter de tenir compte des exceptions non renseign\u00e9es\n",
      " - les mots du fichier exceptions sans transcriptions \u00e9taient transcrits par une chaine vide..."
     ]
    },
    {
     "cell_type": "code",
     "collapsed": false,
     "input": [
      "if fichier_exceptions:\n",
      "    oldExceptions=[]\n",
      "    for entry in exceptions:\n",
      "        entry=entry.strip()\n",
      "        p=entry.split(';')\n",
      "        if len(p[1])!=0:\n",
      "            phon[p[0].lower()]=(p[0],p[1],p[2],p[3],p[4])\n",
      "        oldExceptions.append(p[0].lower())"
     ],
     "language": "python",
     "metadata": {},
     "outputs": [],
     "prompt_number": 17
    },
    {
     "cell_type": "code",
     "collapsed": false,
     "input": [
      "exceptions.close()"
     ],
     "language": "python",
     "metadata": {},
     "outputs": [],
     "prompt_number": 18
    },
    {
     "cell_type": "code",
     "collapsed": false,
     "input": [
      "for exception in oldExceptions:\n",
      "    print (exception)"
     ],
     "language": "python",
     "metadata": {},
     "outputs": [
      {
       "output_type": "stream",
       "stream": "stdout",
       "text": [
        "'\n",
        "a'\n",
        "ab\n",
        "ach'\n",
        "ach\n",
        "aequo\n",
        "aim\n",
        "alala\n",
        "aler\n",
        "alexa\n",
        "alfred\n",
        "alix\n",
        "amd\n",
        "anc\n",
        "and\n",
        "anh\n",
        "apparement\n",
        "appart\n",
        "aprem\n",
        "apr\u00e8m\n",
        "arr\n",
        "arthur\n",
        "atreu\n",
        "attenttion\n",
        "aujor'\n",
        "aussinon\n",
        "aut'\n",
        "aut\n",
        "av\n",
        "a\u00e9\n",
        "ba\n",
        "bad\n",
        "beh\n",
        "bengale\n",
        "bensimon\n",
        "biocop\n",
        "blanck\n",
        "body\n",
        "boh\n",
        "bonnie\n",
        "bourges\n",
        "bri\n",
        "br\u00fb\n",
        "br\u00fbleur\n",
        "b\u00e9\n",
        "ca\n",
        "camar\u00e9lis\u00e9\n",
        "casin\n",
        "cass'\n",
        "cath'\n",
        "ce1\n",
        "ce2\n",
        "cetera\n",
        "ch'\n",
        "ch\n",
        "chantilly\n",
        "chauss\n",
        "che\n",
        "chouinait\n",
        "ci'\n",
        "cin\n",
        "clashait\n",
        "clash\u00e9\n",
        "clash\u00e9e\n",
        "clash\u00e9es\n",
        "clem\n",
        "clyde\n",
        "cm1\n",
        "cm2\n",
        "cm\n",
        "co\n",
        "com\n",
        "compl\u00e8'\n",
        "compl\u00e9tement\n",
        "connait\n",
        "cont'\n",
        "cosette\n",
        "courriel\n",
        "courrir\n",
        "cousteaux\n",
        "cque\n",
        "creuver\n",
        "cthong\n",
        "culan\n",
        "c\u00e9tait\n",
        "dazey\n",
        "deg\n",
        "dhui\n",
        "di\n",
        "disney\n",
        "dumbo\n",
        "d\u00e9gui\n",
        "d\u00e9sintox\n",
        "ec\n",
        "egsemple\n",
        "emm'\n",
        "emma\n",
        "emple\n",
        "enant\n",
        "end\n",
        "endendaient\n",
        "enfait\n",
        "enguelait\n",
        "engueler\n",
        "enguel\u00e9\n",
        "enre\n",
        "ent'\n",
        "entrep\n",
        "entret\n",
        "est'\n",
        "estelle\n",
        "eug\u00e9\n",
        "euhm\n",
        "ev\n",
        "evenor\n",
        "ex\n",
        "exetera\n",
        "ezemple\n",
        "f'\n",
        "fac\n",
        "facebook\n",
        "fanny\n",
        "fau'\n",
        "final'\n",
        "flag\n",
        "fontbelleau\n",
        "franch'\n",
        "futuroscope\n",
        "galaxy\n",
        "gauffres\n",
        "gauffrier\n",
        "gemmell\u00e9es\n",
        "genr\n",
        "girly\n",
        "glasse\n",
        "google\n",
        "go\u00fb\n",
        "groot\n",
        "gy'\n",
        "g\u00e9nialissime\n",
        "haiti\n",
        "haitien\n",
        "hm\n",
        "houl\u00e0\n",
        "hyp\n",
        "hyper\n",
        "h\u00e2chur\u00e9\n",
        "i'\n",
        "iens\n",
        "infinit\n",
        "informti\n",
        "infos\n",
        "internet\n",
        "it'\n",
        "ja\n",
        "jumell\u00e9es\n",
        "jusqueuh\n",
        "j\u00e0\n",
        "j\u00e9\n",
        "ka\n",
        "kinder\n",
        "lach\u00e9\n",
        "land\n",
        "laurence\n",
        "mach\u00e9\n",
        "magali\n",
        "main'\n",
        "maind'\n",
        "maine\n",
        "maines\n",
        "margot\n",
        "martin\n",
        "mesmes\n",
        "meuf\n",
        "meufs\n",
        "mh\n",
        "mickey\n",
        "mignonnerie\n",
        "minnie\n",
        "minuteur\n",
        "mix'\n",
        "momo\n",
        "monopoly\n",
        "moon\n",
        "morpho\n",
        "mouais\n",
        "m\u00e9d\n",
        "m\u00e9ga\n",
        "m\u00e9thodo\n",
        "nan\n",
        "nant\n",
        "nastique\n",
        "niquer\n",
        "nir\n",
        "noel\n",
        "noor\n",
        "oil\u00e0\n",
        "okay\n",
        "olala\n",
        "ordi\n",
        "orgasmique\n",
        "orpelins\n",
        "ouah\n",
        "oufissime\n",
        "ouh\n",
        "ouiiii\n",
        "oula\n",
        "oulala\n",
        "p'\n",
        "p1\n",
        "pa'\n",
        "pa\n",
        "pac'\n",
        "panther\n",
        "parc'\n",
        "parce\n",
        "parcontre\n",
        "pasa\n",
        "patissier\n",
        "pf\n",
        "pink\n",
        "plas\n",
        "poele\n",
        "pompette\n",
        "pompettes\n",
        "pops\n",
        "postilloner\n",
        "potam\n",
        "pourcent\n",
        "pq\n",
        "pr\n",
        "pratiqu'\n",
        "pre\n",
        "proc\n",
        "prudou\n",
        "pr\u00e9fixation\n",
        "ptite\n",
        "ptites\n",
        "p\u00e9cho\n",
        "p\u00e9n\u00e9lope\n",
        "qand\n",
        "qu\n",
        "quans\n",
        "quat'\n",
        "quat\n",
        "que'\n",
        "quelqu\n",
        "quo\n",
        "qu\u00e9\n",
        "r'\n",
        "raiment\n",
        "ram'\n",
        "re\n",
        "refonder\n",
        "replay\n",
        "repprocher\n",
        "rer\n",
        "restau\n",
        "rev'\n",
        "ribs\n",
        "rine\n",
        "roh\n",
        "role\n",
        "roris\n",
        "rumpelstiskin\n",
        "r\u00e9cr\u00e9\n",
        "r\u00e9pa\n",
        "r\u00e9p\u00e8t'\n",
        "r\u00e9so\n",
        "r\u00e9solv\u00e9\n",
        "sam'\n",
        "samsung\n",
        "scarlett\n",
        "scrabble\n",
        "seut\n",
        "seventies\n",
        "siri\n",
        "sister\n",
        "sixties\n",
        "sonia\n",
        "sorry\n",
        "soule\n",
        "soul\u00e9\n",
        "ssemblait\n",
        "ssemble\n",
        "ssus\n",
        "sympathoche\n",
        "s\u00e8rieuse\n",
        "s\u00e9rieu\n",
        "s\u00fbr'\n",
        "tahiti\n",
        "taient\n",
        "tcheck\u00e9\n",
        "td\n",
        "tell'\n",
        "texto\n",
        "tinder\n",
        "tit\n",
        "tite\n",
        "tites\n",
        "tits\n",
        "tom\n",
        "too\n",
        "transperter\n",
        "tron\n",
        "ts\n",
        "ttends\n",
        "ui\n",
        "uis\n",
        "v'\n",
        "vach'\n",
        "vait\n",
        "vant\n",
        "veill\n",
        "v\u00e9ri\n",
        "watchers\n",
        "weed\n",
        "week\n",
        "weekend\n",
        "weight\n",
        "wifi\n",
        "wouah\n",
        "wouhaa\n",
        "wouhaaa\n",
        "xemp\n",
        "y'\n",
        "yes\n",
        "z'\n",
        "zon\n",
        "zont\n",
        "z\u00e9crivent\n",
        "\u00abmonsieur\n",
        "\u00e7\n",
        "\u00e9\n",
        "\u00e9ait\n",
        "\u00e9draient\n",
        "\u00e9l\u00e9ctronique\n",
        "\u00e9misson\n",
        "\u00e9t\n",
        "\u00ea'\n",
        "\u00eat'\n",
        "\u00eat\n"
       ]
      }
     ],
     "prompt_number": 19
    },
    {
     "cell_type": "heading",
     "level": 2,
     "metadata": {},
     "source": [
      "Fonctions"
     ]
    },
    {
     "cell_type": "heading",
     "level": 3,
     "metadata": {},
     "source": [
      "1. V\u00e9rifier si le mot existe"
     ]
    },
    {
     "cell_type": "markdown",
     "metadata": {},
     "source": [
      "algorithme\n",
      "\n",
      "+ si le mot est dans BDLex, ok\n",
      "+ s'il y a un espace dans le mot,\n",
      "    * le mot est divis\u00e9 en deux et\n",
      "    * si les mots existent dans bdlex, ok\n",
      "    * sinon les mots sont ajout\u00e9s aux nouvelles exceptions et mis entre \u00e9toiles\n",
      "+ s'il y a un apostrophe dans le mot,\n",
      "    * le mot est divis\u00e9 en deux\n",
      "    * si les mots existent dans bdlex, ok\n",
      "    * sinon les mots sont ajout\u00e9s aux nouvelles exceptions et mis entre \u00e9toiles\n",
      "+ dans les autres cas, le mot est ajout\u00e9 aux nouvelles exceptions et mis entre \u00e9toiles"
     ]
    },
    {
     "cell_type": "code",
     "collapsed": false,
     "input": [
      "def verifier_mot(mot):\n",
      "        sampa=\"\"\n",
      "        if mot in phon.keys():\n",
      "            sampa += phon[mot][0]\n",
      "        elif \" \" in mot:\n",
      "            mots = mot.split()\n",
      "            for mot in mots:\n",
      "                if mot in phon.keys():\n",
      "                    sampa += phon[mot][0]+\" \"\n",
      "                elif mot != \"\":\n",
      "                    sampa += \"***\"+mot+\"*** \"\n",
      "        elif \"'\" in mot:\n",
      "            mots = mot.split(\"'\")\n",
      "            mots[0]=mots[0]+\"'\"\n",
      "            for mot in mots:\n",
      "                if mot in phon.keys():\n",
      "                    sampa += phon[mot][0]+\" \"\n",
      "                elif mot != \"\":\n",
      "                    nouvellesExceptions.append(mot)\n",
      "                    sampa += \"***\"+mot+\"*** \"\n",
      "        elif mot != \"\": \n",
      "            nouvellesExceptions.append(mot)\n",
      "            sampa=\"***\"+mot+\"*** \"\n",
      "        return sampa"
     ],
     "language": "python",
     "metadata": {},
     "outputs": [],
     "prompt_number": 20
    },
    {
     "cell_type": "code",
     "collapsed": false,
     "input": [
      "verifier_mot(\"manger\")"
     ],
     "language": "python",
     "metadata": {},
     "outputs": [
      {
       "metadata": {},
       "output_type": "pyout",
       "prompt_number": 21,
       "text": [
        "'manger'"
       ]
      }
     ],
     "prompt_number": 21
    },
    {
     "cell_type": "code",
     "collapsed": false,
     "input": [
      "verifier_mot(\"aujourd'hui\")"
     ],
     "language": "python",
     "metadata": {},
     "outputs": [
      {
       "metadata": {},
       "output_type": "pyout",
       "prompt_number": 22,
       "text": [
        "\"aujourd'hui\""
       ]
      }
     ],
     "prompt_number": 22
    },
    {
     "cell_type": "code",
     "collapsed": false,
     "input": [
      "verifier_mot(\"mangr\")"
     ],
     "language": "python",
     "metadata": {},
     "outputs": [
      {
       "metadata": {},
       "output_type": "pyout",
       "prompt_number": 23,
       "text": [
        "'***mangr*** '"
       ]
      }
     ],
     "prompt_number": 23
    },
    {
     "cell_type": "code",
     "collapsed": false,
     "input": [
      "verifier_mot(\"jacqueline\")"
     ],
     "language": "python",
     "metadata": {},
     "outputs": [
      {
       "metadata": {},
       "output_type": "pyout",
       "prompt_number": 24,
       "text": [
        "'***jacqueline*** '"
       ]
      }
     ],
     "prompt_number": 24
    },
    {
     "cell_type": "code",
     "collapsed": false,
     "input": [
      "verifier_mot(\"manger mot\")"
     ],
     "language": "python",
     "metadata": {},
     "outputs": [
      {
       "metadata": {},
       "output_type": "pyout",
       "prompt_number": 25,
       "text": [
        "'manger mot '"
       ]
      }
     ],
     "prompt_number": 25
    },
    {
     "cell_type": "code",
     "collapsed": false,
     "input": [
      "verifier_mot(\"manger mt\")"
     ],
     "language": "python",
     "metadata": {},
     "outputs": [
      {
       "metadata": {},
       "output_type": "pyout",
       "prompt_number": 26,
       "text": [
        "'manger ***mt*** '"
       ]
      }
     ],
     "prompt_number": 26
    },
    {
     "cell_type": "code",
     "collapsed": false,
     "input": [
      "verifier_mot(\"j'ai\")"
     ],
     "language": "python",
     "metadata": {},
     "outputs": [
      {
       "metadata": {},
       "output_type": "pyout",
       "prompt_number": 27,
       "text": [
        "\"j' ai \""
       ]
      }
     ],
     "prompt_number": 27
    },
    {
     "cell_type": "code",
     "collapsed": false,
     "input": [
      "verifier_mot(\"c\u00f4t\u00e9\")"
     ],
     "language": "python",
     "metadata": {},
     "outputs": [
      {
       "metadata": {},
       "output_type": "pyout",
       "prompt_number": 28,
       "text": [
        "'c\\xc3\\xb4t\\xc3\\xa9'"
       ]
      }
     ],
     "prompt_number": 28
    },
    {
     "cell_type": "heading",
     "level": 3,
     "metadata": {},
     "source": [
      "2. traduire le SAMPA de BDLexique en API"
     ]
    },
    {
     "cell_type": "markdown",
     "metadata": {},
     "source": [
      "#Modif GB 12/04/14\n",
      "- ajout du r et du \u00e2\n",
      "- ajout des exemples associ\u00e9s en dessous"
     ]
    },
    {
     "cell_type": "code",
     "collapsed": false,
     "input": [
      "# traduire SAMPA-BDLex en API\n",
      "def sampa2api(sampa):\n",
      "    api=re.sub('S','\u0283',sampa) \n",
      "    api=re.sub('Z','\u0292', api)\n",
      "    api=re.sub('N','\u014b',api)\n",
      "    api=re.sub('J','\u0272',api)\n",
      "    api=re.sub('r','\u0281',api) \n",
      "    api=re.sub('H','\u0265',api)\n",
      "    api=re.sub('E','\u025b',api)\n",
      "    api=re.sub('2','\u00f8',api)\n",
      "    api=re.sub('9','\u0153',api)\n",
      "    api=re.sub('6','\u0259',api)\n",
      "    api=re.sub('O','\u0254',api)\n",
      "    api=re.sub('\u00e8','e',api)   \n",
      "    api=re.sub('\u00f2','o',api)    \n",
      "    api=re.sub('\u00e2','\u0251\u0303',api)   \n",
      "    api=re.sub('\u00ea','\u025b\u0303',api)   \n",
      "    api=re.sub('\u00fb','\u0153\u0303',api)  \n",
      "    api=re.sub('\u00f4','\u0254\u0303',api)       \n",
      "    api=re.sub('@','\u0259',api)\n",
      "    api=re.sub('n\"','n',api) \n",
      "    api=re.sub('t\"','t',api) \n",
      "    api=re.sub('z\"','z',api) \n",
      "    api=re.sub('R\"','\u0281',api) \n",
      "    api=re.sub('p\"','p',api) \n",
      "    return api"
     ],
     "language": "python",
     "metadata": {},
     "outputs": [],
     "prompt_number": 29
    },
    {
     "cell_type": "code",
     "collapsed": false,
     "input": [
      "sampa2api(phon[\"ai\"][1])"
     ],
     "language": "python",
     "metadata": {},
     "outputs": [
      {
       "metadata": {},
       "output_type": "pyout",
       "prompt_number": 30,
       "text": [
        "'e'"
       ]
      }
     ],
     "prompt_number": 30
    },
    {
     "cell_type": "code",
     "collapsed": false,
     "input": [
      "sampa2api(phon[\"chat\"][1])"
     ],
     "language": "python",
     "metadata": {},
     "outputs": [
      {
       "metadata": {},
       "output_type": "pyout",
       "prompt_number": 31,
       "text": [
        "'\\xca\\x83a'"
       ]
      }
     ],
     "prompt_number": 31
    },
    {
     "cell_type": "code",
     "collapsed": false,
     "input": [
      "sampa2api(phon[\"aucun\"][1])"
     ],
     "language": "python",
     "metadata": {},
     "outputs": [
      {
       "metadata": {},
       "output_type": "pyout",
       "prompt_number": 32,
       "text": [
        "'ok\\xc5\\x93\\xcc\\x83'"
       ]
      }
     ],
     "prompt_number": 32
    },
    {
     "cell_type": "code",
     "collapsed": false,
     "input": [
      "sampa2api(phon[\"chant\"][1])"
     ],
     "language": "python",
     "metadata": {},
     "outputs": [
      {
       "metadata": {},
       "output_type": "pyout",
       "prompt_number": 33,
       "text": [
        "'\\xca\\x83\\xc9\\x91\\xcc\\x83'"
       ]
      }
     ],
     "prompt_number": 33
    },
    {
     "cell_type": "code",
     "collapsed": false,
     "input": [
      "sampa2api(phon[\"march\u00e9\"][1])"
     ],
     "language": "python",
     "metadata": {},
     "outputs": [
      {
       "metadata": {},
       "output_type": "pyout",
       "prompt_number": 34,
       "text": [
        "'ma\\xca\\x81\\xca\\x83e'"
       ]
      }
     ],
     "prompt_number": 34
    },
    {
     "cell_type": "code",
     "collapsed": false,
     "input": [
      "sampa2api(phon[\"jacqueline\"][1])"
     ],
     "language": "python",
     "metadata": {},
     "outputs": [
      {
       "ename": "KeyError",
       "evalue": "'jacqueline'",
       "output_type": "pyerr",
       "traceback": [
        "\u001b[0;31m---------------------------------------------------------------------------\u001b[0m\n\u001b[0;31mKeyError\u001b[0m                                  Traceback (most recent call last)",
        "\u001b[0;32m<ipython-input-35-4b5ed467d265>\u001b[0m in \u001b[0;36m<module>\u001b[0;34m()\u001b[0m\n\u001b[0;32m----> 1\u001b[0;31m \u001b[0msampa2api\u001b[0m\u001b[0;34m(\u001b[0m\u001b[0mphon\u001b[0m\u001b[0;34m[\u001b[0m\u001b[0;34m\"jacqueline\"\u001b[0m\u001b[0;34m]\u001b[0m\u001b[0;34m[\u001b[0m\u001b[0;36m1\u001b[0m\u001b[0;34m]\u001b[0m\u001b[0;34m)\u001b[0m\u001b[0;34m\u001b[0m\u001b[0m\n\u001b[0m",
        "\u001b[0;31mKeyError\u001b[0m: 'jacqueline'"
       ]
      }
     ],
     "prompt_number": 35
    },
    {
     "cell_type": "heading",
     "level": 3,
     "metadata": {},
     "source": [
      "3. trimer le mot en cours"
     ]
    },
    {
     "cell_type": "markdown",
     "metadata": {},
     "source": [
      "algorithme\n",
      "\n",
      "+ la ponctuation est remplac\u00e9e par un espace\n",
      "+ les espaces aux extr\u00e9mit\u00e9s sont effac\u00e9s\n",
      "+ le mot est mis en minuscules"
     ]
    },
    {
     "cell_type": "code",
     "collapsed": false,
     "input": [
      "def trimer(mot):\n",
      "    mot=lowerAccents(mot)\n",
      "#    for p in ',;.:-?!()\"':\n",
      "    for p in ',;.:-?!()\u201c\u201d\u2018\u2019\u201b\u201f\u2032\u2033\u00b4\u02dd\"\u00ab\u00bb':\n",
      "        mot=mot.replace(p, ' ')\n",
      "    mot=mot.strip()\n",
      "    return mot"
     ],
     "language": "python",
     "metadata": {},
     "outputs": [],
     "prompt_number": 36
    },
    {
     "cell_type": "code",
     "collapsed": false,
     "input": [
      "trimer(\",;. :trois-?!( )\")"
     ],
     "language": "python",
     "metadata": {},
     "outputs": [
      {
       "metadata": {},
       "output_type": "pyout",
       "prompt_number": 37,
       "text": [
        "'trois'"
       ]
      }
     ],
     "prompt_number": 37
    },
    {
     "cell_type": "code",
     "collapsed": false,
     "input": [
      "trimer(\"(essai)chaud\")"
     ],
     "language": "python",
     "metadata": {},
     "outputs": [
      {
       "metadata": {},
       "output_type": "pyout",
       "prompt_number": 38,
       "text": [
        "'essai chaud'"
       ]
      }
     ],
     "prompt_number": 38
    },
    {
     "cell_type": "code",
     "collapsed": false,
     "input": [
      "trimer(\"gar\u00e7on.\")"
     ],
     "language": "python",
     "metadata": {},
     "outputs": [
      {
       "metadata": {},
       "output_type": "pyout",
       "prompt_number": 39,
       "text": [
        "'gar\\xc3\\xa7on'"
       ]
      }
     ],
     "prompt_number": 39
    },
    {
     "cell_type": "code",
     "collapsed": false,
     "input": [
      "trimer(\"vont-ils\")"
     ],
     "language": "python",
     "metadata": {},
     "outputs": [
      {
       "metadata": {},
       "output_type": "pyout",
       "prompt_number": 40,
       "text": [
        "'vont ils'"
       ]
      }
     ],
     "prompt_number": 40
    },
    {
     "cell_type": "code",
     "collapsed": false,
     "input": [
      "chaine=u\"c\u00f4t\u00e9\"\n",
      "print chaine,len(chaine)\n",
      "trimer(chaine)"
     ],
     "language": "python",
     "metadata": {},
     "outputs": [
      {
       "output_type": "stream",
       "stream": "stdout",
       "text": [
        "c\u00f4t\u00e9 4\n"
       ]
      },
      {
       "metadata": {},
       "output_type": "pyout",
       "prompt_number": 41,
       "text": [
        "'c\\xc3 t\\xc3\\xa9'"
       ]
      }
     ],
     "prompt_number": 41
    },
    {
     "cell_type": "code",
     "collapsed": false,
     "input": [
      "trimer(\"y'a\")"
     ],
     "language": "python",
     "metadata": {},
     "outputs": [
      {
       "metadata": {},
       "output_type": "pyout",
       "prompt_number": 42,
       "text": [
        "\"y'a\""
       ]
      }
     ],
     "prompt_number": 42
    },
    {
     "cell_type": "heading",
     "level": 3,
     "metadata": {},
     "source": [
      "4. V\u00e9rifier si la liaison est possible"
     ]
    },
    {
     "cell_type": "markdown",
     "metadata": {},
     "source": [
      "algorithme\n",
      "\n",
      "+ si le mot courant et le suivant ne sont pas dans lexicon, pas de liaison\n",
      "+ si le mot a une consonne dans le champ de la voyelle de liaison, check1 est vrai\n",
      "+ si le mot suivant commence par une voyelle, check2 est vrai\n",
      "\n",
      "  si check1 et check2 sont vrais, il y a liaison"
     ]
    },
    {
     "cell_type": "code",
     "collapsed": false,
     "input": [
      "def liaison_possible(phrase ,mot , mot_numero):\n",
      "    check1=0\n",
      "    check2=0\n",
      "    if mot in phon and phrase[mot_numero+1] in phon:\n",
      "        consonnes=['k\"', '(kt)\"', 'n\"', 'p\"', 'R\"', '@t\"', 't\"', '-V', '+V', '@z\"', 'z\"']\n",
      "        phoneme=phon[mot][2]\n",
      "        for phoneme in consonnes:\n",
      "            check1=1\n",
      "        \n",
      "        voyelles=[\"H\", \"j\", \"w\", \"E\", \"a\", \"2\", \"9\", \"6\", \"@\", \"y\", \"u\", \"O\", \"\u00f2\", \"o\", \"e\", \"\u00e8\", \"\u00ea\", \"\u00fb\", \"\u00f4\", \"i\"]\n",
      "        mot_suivant=phon[phrase[mot_numero+1]][1]\n",
      "        for v in voyelles:\n",
      "            if mot_suivant.startswith(v):\n",
      "                check2=1\n",
      "\n",
      "    if check1 and check2 :\n",
      "        return True\n",
      "    else:\n",
      "        return False"
     ],
     "language": "python",
     "metadata": {},
     "outputs": [],
     "prompt_number": 43
    },
    {
     "cell_type": "heading",
     "level": 3,
     "metadata": {},
     "source": [
      "5. v\u00e9rifier si la liaison est obligatoire"
     ]
    },
    {
     "cell_type": "markdown",
     "metadata": {},
     "source": [
      "algorithme\n",
      "\n",
      "+ si le mot courant et le suivant sont dans un des cas de figure, il y a liaison\n",
      "+ sinon pas de liaison"
     ]
    },
    {
     "cell_type": "code",
     "collapsed": false,
     "input": [
      "def liaison_obligatoire(phrase, mot, mot_numero):\n",
      "    determinant=[\"d\", \"P\"]\n",
      "    nom=[\"N\", \"G\", \"M\"]\n",
      "    adjectif=[\"J\", \"G\", \"M\"]\n",
      "    pronompers=[\"P\"]\n",
      "    verbe=[\"V\"]\n",
      "    catgram_mot1=phon[phrase[mot_numero]][3]\n",
      "    catgram_mot2=phon[phrase[mot_numero+1]][3]\n",
      "\n",
      "    if catgram_mot1 in determinant and catgram_mot2 in nom :\n",
      "        return True\n",
      "\n",
      "    elif catgram_mot1 in determinant and catgram_mot2 in adjectif :\n",
      "        return True\n",
      " \n",
      "    elif catgram_mot1 in pronompers and catgram_mot2 in verbe :\n",
      "        return True\n",
      "\n",
      "    elif catgram_mot1 in verbe and catgram_mot2 in pronompers :\n",
      "        return True\n",
      "\n",
      "    else:\n",
      "        return False"
     ],
     "language": "python",
     "metadata": {},
     "outputs": [],
     "prompt_number": 44
    },
    {
     "cell_type": "code",
     "collapsed": false,
     "input": [
      "phon[\"sommes\"]"
     ],
     "language": "python",
     "metadata": {},
     "outputs": [
      {
       "metadata": {},
       "output_type": "pyout",
       "prompt_number": 45,
       "text": [
        "('sommes', 'sOm', '@', 'V', '2S')"
       ]
      }
     ],
     "prompt_number": 45
    },
    {
     "cell_type": "code",
     "collapsed": false,
     "input": [
      "phon[\"armes\"]"
     ],
     "language": "python",
     "metadata": {},
     "outputs": [
      {
       "metadata": {},
       "output_type": "pyout",
       "prompt_number": 46,
       "text": [
        "('armes', 'arm', '@', 'V', '2S')"
       ]
      }
     ],
     "prompt_number": 46
    },
    {
     "cell_type": "code",
     "collapsed": false,
     "input": [
      "phon[\"cet\"]"
     ],
     "language": "python",
     "metadata": {},
     "outputs": [
      {
       "metadata": {},
       "output_type": "pyout",
       "prompt_number": 47,
       "text": [
        "('cet', 'sEt', '+V', 'd', 'MS')"
       ]
      }
     ],
     "prompt_number": 47
    },
    {
     "cell_type": "markdown",
     "metadata": {},
     "source": [
      "Cas de figure possibles:\n",
      "\n",
      "- DET + N\n",
      "    * ri + N:   d'animal, \n",
      "    * di + N:   certains \u00e9l\u00e9phants\n",
      "    * rd + N:   les animaux\n",
      "    * dd + N:   ces \u00e9t\u00e9s, cet \u00e9t\u00e9\n",
      "    * dp + N:   ton anorak\n",
      "    * rc + N:   aux armes\n",
      "- DET + ADJ:\n",
      "    * ri + ADJ:   d'\u00e9normes\n",
      "    * di + ADJ:   plusieurs immenses\n",
      "    * rd + ADJ:   les immenses\n",
      "    * dd + ADJ:   cet immense\n",
      "    * dp + ADJ:   son immense\n",
      "    * rc + ADJ:   aux immenses\n",
      "- PERS + V:\n",
      "    * SS + V:   m'\u00e9pate\n",
      "- V + PRO PERS: \n",
      "    * V + SS:   vont-ils\n"
     ]
    },
    {
     "cell_type": "markdown",
     "metadata": {},
     "source": [
      "algorithme\n",
      "\n",
      "+ si le mot courant et le suivant sont dans un des cas de figure, il y a liaison\n",
      "+ sinon pas de liaison"
     ]
    },
    {
     "cell_type": "code",
     "collapsed": false,
     "input": [
      "# v\u00e9rifier si la liaison est facultative\n",
      "def liaison_facultative(phrase, mot, mot_numero):\n",
      "    #pdb.set_trace()\n",
      "    nom=[\"N\", \"G\", \"M\"]\n",
      "    pluriel=[\"MP\", \"FP\"]\n",
      "    adjectif=[\"J\", \"G\", \"M\"]\n",
      "    verbe=[\"V\"]\n",
      "    pronompers=[\"P\"]\n",
      "    adverbe=[\"A\"]\n",
      "    preposition=[\"p\"]\n",
      "    catgram_mot1=phon[phrase[mot_numero]][3]\n",
      "    catgram_mot2=phon[phrase[mot_numero+1]][3]\n",
      "    genre_mot1=phon[phrase[mot_numero]][4]\n",
      "    \n",
      "    if (catgram_mot1 in nom) and (phon[phrase[mot_numero]][4] in pluriel) and (catgram_mot2 in adjectif) : \n",
      "        return True\n",
      "\n",
      "    elif (catgram_mot1 in verbe) and (catgram_mot2 not in pronompers):\n",
      "        return True\n",
      "\n",
      "    elif catgram_mot1 in adverbe :\n",
      "        return True\n",
      "    \n",
      "    elif catgram_mot1 in preposition : \n",
      "        return True\n",
      "\n",
      "    else :\n",
      "        return False"
     ],
     "language": "python",
     "metadata": {},
     "outputs": [],
     "prompt_number": 48
    },
    {
     "cell_type": "markdown",
     "metadata": {},
     "source": [
      "Cas de figure possibles :\n",
      "\n",
      "- N pl + ADJ: \n",
      "    * N + ADJ: monstres \u00e9normes \n",
      "    * G + ADJ: rivaux \u00e9normes\n",
      "- VERBE + TOUT-SAUF-PRO-PERS:\n",
      "    * V + N sont \u00e9l\u00e9phants\n",
      "    * V + G sommes abdicaires\n",
      "    * V + V sommes assis\n",
      "    * V + A sommes admirablement\n",
      "    * V + p sommes autour de\n",
      "    * V + di ont aucune\n",
      "    * V + rc sommes au\n",
      "- ADV + QQCH:\n",
      "    * ADV + N vraiment abruti\n",
      "    * ADV + G vraiment abandonn\u00e9\n",
      "    * ADV + V vraiment aim\u00e9\n",
      "    * ADV + J vraiment \u00e9tonnant\n",
      "    * ADV + ss vraiment ils\n",
      "    * ADV + A vraiment \u00e9tonnamment\n",
      "    * ADV + p vraiment attendu\n",
      "    * ADV + di vraiment autre \n",
      "    * ADV + rc vraiment au\n",
      "- PREP + QQCH:\n",
      "    * PREP + N tr\u00e8s amoureux\n",
      "    * PREP + G tr\u00e8s abandonn\u00e9\n",
      "    * PREP + V tr\u00e8s aim\u00e9\n",
      "    * PREP + J tr\u00e8s \u00e9tonnant\n",
      "    * PREP + SS tr\u00e8s ils\n",
      "    * PREP + A tr\u00e8s \u00e9tonnamment\n",
      "    * PREP + p tr\u00e8s attendu\n",
      "    * PREP + di tr\u00e8s autre\n",
      "    * PREP + rc tr\u00e8s au\n"
     ]
    },
    {
     "cell_type": "heading",
     "level": 2,
     "metadata": {},
     "source": [
      "Traitement"
     ]
    },
    {
     "cell_type": "markdown",
     "metadata": {},
     "source": [
      "+ Partie 1\n",
      "*chaque phrase est prise individuellement,\n",
      "    * d\u00e9coup\u00e9e en blocs,\n",
      "        * qui sont chacuns trim\u00e9s si ce sont des mots\n",
      "        * s'il y a plusieurs mots dans le bloc, ils sont s\u00e9par\u00e9s\n",
      "    + Partie 2\n",
      "    * pour chaque couple de mots\n",
      "        * si la liaison est possible,\n",
      "            * et qu'elle est obligatoire, l'api avec la liaison est g\u00e9n\u00e9r\u00e9\n",
      "            * et qu'elle est facultative,\n",
      "                * si l'utilisateur l'a choisi, l'api avec la liaison est g\u00e9n\u00e9r\u00e9\n",
      "                * sinon l'api sans la liaison est g\u00e9n\u00e9r\u00e9\n",
      "\n",
      "        + Partie 3\n",
      "        * si la liaison n'est pas possible,\n",
      "            * si le mot est dans bdlex, l'api est g\u00e9n\u00e9r\u00e9\n",
      "            * sinon le mot est laiss\u00e9 tel quel (il a d\u00e9j\u00e0 les \u00e9toiles)        \n",
      "\n",
      "    * pour le dernier mot de la phrase, \n",
      "        * si le mot est dans bdlex, l'api est g\u00e9n\u00e9r\u00e9\n",
      "        * sinon le mot est laiss\u00e9 tel quel (il a d\u00e9j\u00e0 les \u00e9toiles) \n",
      "\n",
      "+ Partie 4\n",
      "* le message \u00e0 l'utilisateur et la phrase en api est imprim\u00e9e"
     ]
    },
    {
     "cell_type": "markdown",
     "metadata": {},
     "source": [
      "#Modif GB 12/04/14\n",
      "- suppression du d\u00e9lai dans la boucle\n",
      " - pour 1500 lignes => 3 secondes sans ralentisseur, 1503 secondes avec "
     ]
    },
    {
     "cell_type": "code",
     "collapsed": false,
     "input": [
      "def enchasseXML(mot, phono):\n",
      "    result='<mot phon=\"%s\">%s</mot>' % (phono, mot)\n",
      "    return result"
     ],
     "language": "python",
     "metadata": {},
     "outputs": [],
     "prompt_number": 50
    },
    {
     "cell_type": "code",
     "collapsed": false,
     "input": [
      "# partie 1\n",
      "a=1\n",
      "for phrase in phrases:\n",
      "    api = \"\"\n",
      "    mots=re.split(\"[->< /@\\_]\", phrase)\n",
      "    phrasePropre = \"\"\n",
      "    for mot in mots:\n",
      "        mot = trimer(mot)\n",
      "        mot = verifier_mot(mot)\n",
      "        phrasePropre += mot+\" \"\n",
      "    phraseMots = phrasePropre.strip()\n",
      "    phraseMots = phrasePropre.split()\n",
      "\n",
      "    # partie 2    \n",
      "    mot_numero=0\n",
      "    while mot_numero <= len(phraseMots)-2:\n",
      "        \n",
      "        if liaison_possible(phraseMots, phraseMots[mot_numero], mot_numero):\n",
      " \n",
      "            if liaison_obligatoire(phraseMots, phraseMots[mot_numero], mot_numero):\n",
      "                api += enchasseXML(phraseMots[mot_numero],sampa2api(phon[phraseMots[mot_numero]][1])+sampa2api(phon[phraseMots[mot_numero]][2]))+\" \"\n",
      "\n",
      "            elif liaison_facultative(phraseMots, phraseMots[mot_numero], mot_numero):\n",
      "                if facultatives:\n",
      "                    api += sampa2api(phon[phraseMots[mot_numero]][1])+sampa2api(phon[phraseMots[mot_numero]][2]+\" \")\n",
      "                else :\n",
      "                    api += sampa2api(phon[phraseMots[mot_numero]][1])+\" \"\n",
      "            else:\n",
      "                if phraseMots[mot_numero] in phon:\n",
      "                    api += sampa2api(phon[phraseMots[mot_numero]][1]+\" \")\n",
      "                else:\n",
      "                    api += phraseMots[mot_numero]+\" \"\n",
      "        # partie 3\n",
      "        else:\n",
      "            if phraseMots[mot_numero] in phon:\n",
      "                api += enchasseXML(phraseMots[mot_numero],sampa2api(phon[phraseMots[mot_numero]][1]))+\" \"\n",
      "            else:\n",
      "                api += enchasseXML(phraseMots[mot_numero],\"?phon?\")+\" \"\n",
      "        mot_numero = mot_numero+1\n",
      "    \n",
      "    if phraseMots[len(phraseMots)-1] in phon:\n",
      "        api += enchasseXML(phraseMots[len(phraseMots)-1],sampa2api(phon[phraseMots[len(phraseMots)-1]][1]))\n",
      "    else:\n",
      "        api += phraseMots[mot_numero]\n",
      "    \n",
      "    # partie 4\n",
      "    sys.stdout.write(\"Traitement de \"+str(a)+\" sur \"+ str(len(phrases))+ \" phrases. \"+\"\\n\"+phrase+\"\\n\"+api+\"\\n\\n\"+chr(20))\n",
      "    sys.stdout.flush()\n",
      "    #time.sleep(1)\n",
      "    a=a+1\n",
      "    output.append(api)"
     ],
     "language": "python",
     "metadata": {},
     "outputs": [
      {
       "output_type": "stream",
       "stream": "stdout",
       "text": [
        "Traitement de 1 sur 1866 phrases. \n",
        "culan\n",
        "<mot phon=\"kyla~\">culan</mot>\n",
        "\n",
        "\u0014"
       ]
      },
      {
       "output_type": "stream",
       "stream": "stdout",
       "text": [
        "Traitement de 2 sur 1866 phrases. \n",
        "alors\n",
        "<mot phon=\"al\u0254\u0281\">alors</mot>\n",
        "\n",
        "\u0014"
       ]
      },
      {
       "output_type": "stream",
       "stream": "stdout",
       "text": [
        "Traitement de 3 sur 1866 phrases. \n",
        "sister comment c'\u00e9tait le yoga\n",
        "<mot phon=\"sist\u0153R\">sister</mot> <mot phon=\"kom\u0251\u0303\">comment</mot> s <mot phon=\"ete\">\u00e9tait</mot> l\u0259 <mot phon=\"joga\">yoga</mot>\n",
        "\n",
        "\u0014"
       ]
      },
      {
       "output_type": "stream",
       "stream": "stdout",
       "text": [
        "Traitement de 4 sur 1866 phrases. \n",
        "franch'ment c'tait au top\n",
        "<mot phon=\"fRa~\u0283\">franch'</mot> <mot phon=\"m\u0251\u0303\">ment</mot> <mot phon=\"s\">c'</mot> te <mot phon=\"o\">au</mot> <mot phon=\"t\u0254p\">top</mot>\n",
        "\n",
        "\u0014"
       ]
      },
      {
       "output_type": "stream",
       "stream": "stdout",
       "text": [
        "Traitement de 5 sur 1866 phrases. \n",
        "alors raconte\n",
        "<mot phon=\"al\u0254\u0281\">alors</mot> <mot phon=\"\u0281ak\u0254\u0303t\">raconte</mot>\n",
        "\n",
        "\u0014"
       ]
      },
      {
       "output_type": "stream",
       "stream": "stdout",
       "text": [
        "Traitement de 6 sur 1866 phrases. \n",
        "j'\u00e9tais au top\n",
        "\u0292 ete <mot phon=\"o\">au</mot> <mot phon=\"t\u0254p\">top</mot>\n",
        "\n",
        "\u0014"
       ]
      },
      {
       "output_type": "stream",
       "stream": "stdout",
       "text": [
        "Traitement de 7 sur 1866 phrases. \n",
        "dans mon tit leggings moulant\n",
        "<mot phon=\"d\u0251\u0303\">dans</mot> <mot phon=\"m\u0254\u0303\">mon</mot> <mot phon=\"ti\">tit</mot> <mot phon=\"legi\u014bs\">leggings</mot> <mot phon=\"mul\u0251\u0303\">moulant</mot>\n",
        "\n",
        "\u0014"
       ]
      },
      {
       "output_type": "stream",
       "stream": "stdout",
       "text": [
        "Traitement de 8 sur 1866 phrases. \n",
        "ha j'me suis fait un coup d'jus dans la main \u00e7a t'es d'j\u00e0 arriv\u00e9 \u00e7a\n",
        "<mot phon=\"a\">ha</mot> <mot phon=\"\u0292\">j'</mot> <mot phon=\"m\">me</mot> <mot phon=\"s\u0265i\">suis</mot> fe <mot phon=\"\u0153\u0303\">un</mot> <mot phon=\"ku\">coup</mot> <mot phon=\"d\">d'</mot> <mot phon=\"\u0292y\">jus</mot> <mot phon=\"d\u0251\u0303\">dans</mot> <mot phon=\"la\">la</mot> <mot phon=\"m\u025b\u0303\">main</mot> <mot phon=\"sa\">\u00e7a</mot> t <mot phon=\"e\">es</mot> <mot phon=\"d\">d'</mot> \u0292a <mot phon=\"a\u0281ive\">arriv\u00e9</mot> <mot phon=\"sa\">\u00e7a</mot>\n",
        "\n",
        "\u0014"
       ]
      },
      {
       "output_type": "stream",
       "stream": "stdout",
       "text": [
        "Traitement de 9 sur 1866 phrases. \n",
        "ouais quand tu tapes un truc fort\n",
        "<mot phon=\"we\">ouais</mot> <mot phon=\"k\u0251\u0303\">quand</mot> <mot phon=\"ty\">tu</mot> tap <mot phon=\"\u0153\u0303\">un</mot> <mot phon=\"t\u0281yk\">truc</mot> <mot phon=\"f\u0254\u0281\">fort</mot>\n",
        "\n",
        "\u0014"
       ]
      },
      {
       "output_type": "stream",
       "stream": "stdout",
       "text": [
        "Traitement de 10 sur 1866 phrases. \n",
        "nan j'ai fait\n",
        "<mot phon=\"na~\">nan</mot> \u0292 <mot phon=\"e\">ai</mot> <mot phon=\"fe\">fait</mot>\n",
        "\n",
        "\u0014"
       ]
      },
      {
       "output_type": "stream",
       "stream": "stdout",
       "text": [
        "Traitement de 11 sur 1866 phrases. \n",
        "comme \u00e7a ouais\n",
        "<mot phon=\"k\u0254m\">comme</mot> sa <mot phon=\"we\">ouais</mot>\n",
        "\n",
        "\u0014"
       ]
      },
      {
       "output_type": "stream",
       "stream": "stdout",
       "text": [
        "Traitement de 12 sur 1866 phrases. \n",
        "juste comme \u00e7a et \u00e7a m'a fait euh d- un de l'\u00e9lectricit\u00e9 dans la main \u00e7a m'a jamais fait\n",
        "<mot phon=\"\u0292yst\">juste</mot> <mot phon=\"k\u0254m\">comme</mot> sa <mot phon=\"e\">et</mot> <mot phon=\"sa\">\u00e7a</mot> m <mot phon=\"a\">a</mot> fe <mot phon=\"\u0259\">euh</mot> de <mot phon=\"\u0153\u0303\">un</mot> <mot phon=\"d\">de</mot> l <mot phon=\"el\u025bkt\u0281isite\">\u00e9lectricit\u00e9</mot> <mot phon=\"d\u0251\u0303\">dans</mot> <mot phon=\"la\">la</mot> <mot phon=\"m\u025b\u0303\">main</mot> <mot phon=\"sa\">\u00e7a</mot> m <mot phon=\"a\">a</mot> <mot phon=\"\u0292ame\">jamais</mot> <mot phon=\"fe\">fait</mot>\n",
        "\n",
        "\u0014"
       ]
      },
      {
       "output_type": "stream",
       "stream": "stdout",
       "text": [
        "Traitement de 13 sur 1866 phrases. \n",
        "bizarre\n",
        "<mot phon=\"biza\u0281\">bizarre</mot>\n",
        "\n",
        "\u0014"
       ]
      },
      {
       "output_type": "stream",
       "stream": "stdout",
       "text": [
        "Traitement de 14 sur 1866 phrases. \n",
        "\u00e7a\n",
        "<mot phon=\"sa\">\u00e7a</mot>\n",
        "\n",
        "\u0014"
       ]
      },
      {
       "output_type": "stream",
       "stream": "stdout",
       "text": [
        "Traitement de 15 sur 1866 phrases. \n",
        "genre comme quand\n",
        "<mot phon=\"\u0292\u0251\u0303\u0281\">genre</mot> <mot phon=\"k\u0254m\">comme</mot> <mot phon=\"k\u0251\u0303\">quand</mot>\n",
        "\n",
        "\u0014"
       ]
      },
      {
       "output_type": "stream",
       "stream": "stdout",
       "text": [
        "Traitement de 16 sur 1866 phrases. \n",
        "tu t'tapes le coude\n",
        "<mot phon=\"ty\">tu</mot> <mot phon=\"t\">t'</mot> <mot phon=\"tap\">tapes</mot> <mot phon=\"l\">le</mot> <mot phon=\"kud\">coude</mot>\n",
        "\n",
        "\u0014"
       ]
      },
      {
       "output_type": "stream",
       "stream": "stdout",
       "text": [
        "Traitement de 17 sur 1866 phrases. \n",
        "tu vois\n",
        "<mot phon=\"ty\">tu</mot> <mot phon=\"vwa\">vois</mot>\n",
        "\n",
        "\u0014"
       ]
      },
      {
       "ename": "KeyboardInterrupt",
       "evalue": "",
       "output_type": "pyerr",
       "traceback": [
        "\u001b[0;31m---------------------------------------------------------------------------\u001b[0m\n\u001b[0;31mKeyboardInterrupt\u001b[0m                         Traceback (most recent call last)",
        "\u001b[0;32m<ipython-input-55-a76b68c0009d>\u001b[0m in \u001b[0;36m<module>\u001b[0;34m()\u001b[0m\n\u001b[1;32m      7\u001b[0m     \u001b[0;32mfor\u001b[0m \u001b[0mmot\u001b[0m \u001b[0;32min\u001b[0m \u001b[0mmots\u001b[0m\u001b[0;34m:\u001b[0m\u001b[0;34m\u001b[0m\u001b[0m\n\u001b[1;32m      8\u001b[0m         \u001b[0mmot\u001b[0m \u001b[0;34m=\u001b[0m \u001b[0mtrimer\u001b[0m\u001b[0;34m(\u001b[0m\u001b[0mmot\u001b[0m\u001b[0;34m)\u001b[0m\u001b[0;34m\u001b[0m\u001b[0m\n\u001b[0;32m----> 9\u001b[0;31m         \u001b[0mmot\u001b[0m \u001b[0;34m=\u001b[0m \u001b[0mverifier_mot\u001b[0m\u001b[0;34m(\u001b[0m\u001b[0mmot\u001b[0m\u001b[0;34m)\u001b[0m\u001b[0;34m\u001b[0m\u001b[0m\n\u001b[0m\u001b[1;32m     10\u001b[0m         \u001b[0mphrasePropre\u001b[0m \u001b[0;34m+=\u001b[0m \u001b[0mmot\u001b[0m\u001b[0;34m+\u001b[0m\u001b[0;34m\" \"\u001b[0m\u001b[0;34m\u001b[0m\u001b[0m\n\u001b[1;32m     11\u001b[0m     \u001b[0mphraseMots\u001b[0m \u001b[0;34m=\u001b[0m \u001b[0mphrasePropre\u001b[0m\u001b[0;34m.\u001b[0m\u001b[0mstrip\u001b[0m\u001b[0;34m(\u001b[0m\u001b[0;34m)\u001b[0m\u001b[0;34m\u001b[0m\u001b[0m\n",
        "\u001b[0;32m<ipython-input-20-2ef35275bb4e>\u001b[0m in \u001b[0;36mverifier_mot\u001b[0;34m(mot)\u001b[0m\n\u001b[1;32m      1\u001b[0m \u001b[0;32mdef\u001b[0m \u001b[0mverifier_mot\u001b[0m\u001b[0;34m(\u001b[0m\u001b[0mmot\u001b[0m\u001b[0;34m)\u001b[0m\u001b[0;34m:\u001b[0m\u001b[0;34m\u001b[0m\u001b[0m\n\u001b[1;32m      2\u001b[0m         \u001b[0msampa\u001b[0m\u001b[0;34m=\u001b[0m\u001b[0;34m\"\"\u001b[0m\u001b[0;34m\u001b[0m\u001b[0m\n\u001b[0;32m----> 3\u001b[0;31m         \u001b[0;32mif\u001b[0m \u001b[0mmot\u001b[0m \u001b[0;32min\u001b[0m \u001b[0mphon\u001b[0m\u001b[0;34m.\u001b[0m\u001b[0mkeys\u001b[0m\u001b[0;34m(\u001b[0m\u001b[0;34m)\u001b[0m\u001b[0;34m:\u001b[0m\u001b[0;34m\u001b[0m\u001b[0m\n\u001b[0m\u001b[1;32m      4\u001b[0m             \u001b[0msampa\u001b[0m \u001b[0;34m+=\u001b[0m \u001b[0mphon\u001b[0m\u001b[0;34m[\u001b[0m\u001b[0mmot\u001b[0m\u001b[0;34m]\u001b[0m\u001b[0;34m[\u001b[0m\u001b[0;36m0\u001b[0m\u001b[0;34m]\u001b[0m\u001b[0;34m\u001b[0m\u001b[0m\n\u001b[1;32m      5\u001b[0m         \u001b[0;32melif\u001b[0m \u001b[0;34m\" \"\u001b[0m \u001b[0;32min\u001b[0m \u001b[0mmot\u001b[0m\u001b[0;34m:\u001b[0m\u001b[0;34m\u001b[0m\u001b[0m\n",
        "\u001b[0;31mKeyboardInterrupt\u001b[0m: "
       ]
      }
     ],
     "prompt_number": 55
    },
    {
     "cell_type": "markdown",
     "metadata": {},
     "source": [
      "#Modif GB 12/04/14\n",
      "- Insertion d'un set sur les nouvellesExceptions pour \u00e9viter les entr\u00e9es multiples\n",
      "- Ajout d'un test pour v\u00e9rifier que les nouvellesExceptions sont nouvelles\n",
      "\n",
      "#TO DO\n",
      "- Ajouter un message pour dire que le r\u00e9sultat a \u00e9t\u00e9 concat\u00e9n\u00e9 au fichier existant si c'est le cas."
     ]
    },
    {
     "cell_type": "code",
     "collapsed": false,
     "input": [
      "#1.2.a. mettre la liste des inconnus dans le fichier inconnus.txt\n",
      "with open(\"inconnus.txt\", \"a\") as f:\n",
      "    for n in set(nouvellesExceptions):\n",
      "        if not (n in oldExceptions): \n",
      "            f.write(n+\";;;;;\")\n",
      "            f.write(\"\\n\")\n",
      "        \n",
      "#1.2.b. mettre les phrases phon\u00e9mis\u00e9es dans un fichier\n",
      "with open(\"phonemise.txt\", \"a\") as f:\n",
      "    for o in output:\n",
      "        f.write(o)\n",
      "        f.write(\"\\n\")\n",
      "\n",
      "with open(\"verification.txt\", \"a\") as f:\n",
      "    for a in range(len(output)-2):\n",
      "        f.write(phrases[a]+\"\\n\"+output[a])\n",
      "        f.write(\"\\n\\n\")"
     ],
     "language": "python",
     "metadata": {},
     "outputs": []
    },
    {
     "cell_type": "code",
     "collapsed": false,
     "input": [],
     "language": "python",
     "metadata": {},
     "outputs": []
    }
   ],
   "metadata": {}
  }
 ]
}