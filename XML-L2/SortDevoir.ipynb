{
 "cells": [
  {
   "cell_type": "code",
   "execution_count": 10,
   "metadata": {
    "collapsed": true
   },
   "outputs": [],
   "source": [
    "import os"
   ]
  },
  {
   "cell_type": "code",
   "execution_count": 13,
   "metadata": {
    "collapsed": false
   },
   "outputs": [],
   "source": [
    "for root, dirs, files in os.walk(\"/Users/gilles/Downloads/LNS3U5-Dépot des TRS--28847-1/\"):\n",
    "    for file in files:\n",
    "        repertoire,fichier= file.split(\"_assignsubmission_file_\")\n",
    "        if not os.path.exists(root+repertoire):\n",
    "            os.makedirs(root+repertoire)\n",
    "#        print root+file\n",
    "#        print root+repertoire+fichier\n",
    "        os.rename(root+file,root+repertoire+\"/\"+fichier)"
   ]
  },
  {
   "cell_type": "code",
   "execution_count": null,
   "metadata": {
    "collapsed": true
   },
   "outputs": [],
   "source": []
  }
 ],
 "metadata": {
  "kernelspec": {
   "display_name": "Python 2",
   "language": "python",
   "name": "python2"
  },
  "language_info": {
   "codemirror_mode": {
    "name": "ipython",
    "version": 2
   },
   "file_extension": ".py",
   "mimetype": "text/x-python",
   "name": "python",
   "nbconvert_exporter": "python",
   "pygments_lexer": "ipython2",
   "version": "2.7.11"
  }
 },
 "nbformat": 4,
 "nbformat_minor": 0
}
