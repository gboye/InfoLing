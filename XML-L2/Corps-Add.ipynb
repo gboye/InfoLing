{
 "metadata": {
  "name": "",
  "signature": "sha256:1462618df382dab9541528f090bd01c8edd8f3ef61c78d99da73603ba38d8efc"
 },
 "nbformat": 3,
 "nbformat_minor": 0,
 "worksheets": [
  {
   "cells": [
    {
     "cell_type": "code",
     "collapsed": false,
     "input": [
      "# -*- coding: utf-8 -*-"
     ],
     "language": "python",
     "metadata": {},
     "outputs": [],
     "prompt_number": 189
    },
    {
     "cell_type": "code",
     "collapsed": false,
     "input": [
      "import time\n",
      "import sys\n",
      "import codecs\n",
      "import re\n",
      "import pdb # ajouter pdb.set_trace() \u00e0 l'endroit o\u00f9 on veut le d\u00e9bugueur"
     ],
     "language": "python",
     "metadata": {},
     "outputs": [],
     "prompt_number": 190
    },
    {
     "cell_type": "code",
     "collapsed": false,
     "input": [
      "from os.path import expanduser\n",
      "home = expanduser(\"~\")\n",
      "repRessources=home+\"/Copy/Cours/Bordeaux/XML/XML-Ressources/\"\n",
      "repCorpus=home+\"/Copy/Linguistique et corpus 2014-2015/CHOW-WING-BOM_PEDEZERT_VERCOUTERE/Phone\u0301misation/scripts-Phonemisation-CWBCPPVE-\"\n",
      "#repCorpus=home+\"/Copy/Python/workspace/phonemizer/GBCM-\"\n",
      "text=\"petitsmots.txt\"\n",
      "#text=\"BouvardPecuchet-Ch1.txt\"\n",
      "fichierXSL=\"phonemise.xsl\""
     ],
     "language": "python",
     "metadata": {},
     "outputs": [],
     "prompt_number": 191
    },
    {
     "cell_type": "markdown",
     "metadata": {},
     "source": [
      "#Modif GB 12/04/14\n",
      "- mise en texte des deux blocs de traitement de la ligne de commande"
     ]
    },
    {
     "cell_type": "raw",
     "metadata": {},
     "source": [
      "if len(sys.argv) < 3:\n",
      "    print (\"Veuillez renseigner tous les champs  : \\n 1. un fichier segment\u00e9 \\n 2. le fichier du lexique \\n 3. \u00e9ventuellement un fichier d'exceptions\")\n",
      "    sys.exit()\n",
      "\n",
      "# ouvre le fichier segment\u00e9 et affiche un message d'erreur s'il ne peut pas \u00eatre ouvert\n",
      "try:\n",
      "    fichier=codecs.open(sys.argv[1],\"r\")\n",
      "except IOError:\n",
      "    print ('le fichier \"'+ sys.argv[1]+ '\" ne peut pas \u00eatre ouvert',)\n",
      "    sys.exit()\n",
      "# ouvre BDLex et affiche un message d'erreur s'il ne peut pas \u00eatre ouvert\n",
      "try:\n",
      "    lexicon=codecs.open(sys.argv[2],\"r\")\n",
      "except IOError:\n",
      "    print ('le fichier \"'+ sys.argv[2]+ '\" ne peut pas \u00eatre ouvert',)\n",
      "    sys.exit()\n",
      "# ouvre le fichier d'exceptions(s'il est l\u00e0) et affiche un message d'erreur s'il ne peut pas \u00eatre ouvert\n",
      "fichier_exceptions=False # pour ne pas ex\u00e9cuter la pr\u00e9paration des exceptions s'il n'y a pas de fichier\n",
      "if len(sys.argv) == 4:\n",
      "    try:\n",
      "        exceptions=codecs.open(sys.argv[3],\"r\")\n",
      "        fichier_exceptions=True\n",
      "    except IOError:\n",
      "        print ('le fichier \"'+ sys.argv[3]+ '\" ne peut pas \u00eatre ouvert', )\n",
      "        sys.exit()"
     ]
    },
    {
     "cell_type": "raw",
     "metadata": {},
     "source": [
      "# ajouter les liaisons facultatives ou pas ?\n",
      "facultatives=input(\"Voulez-vous ajouter les liaisons facultatives ou pas ?\\n1 = Oui, 0 = Non (suivi d'Entr\u00e9e) : \")"
     ]
    },
    {
     "cell_type": "markdown",
     "metadata": {},
     "source": [
      "#Modif GB 12/04/14\n",
      "- extension du bloc pour permettre d'ajouter les trois fichiers \u00e0 la main"
     ]
    },
    {
     "cell_type": "code",
     "collapsed": false,
     "input": [
      "fichierLexique=repRessources+\"bdlexique-gb-110217-utf8.txt\"\n",
      "lexicon=codecs.open(fichierLexique,\"r\",encoding='utf8')\n",
      "fichierCorpus=repCorpus+text\n",
      "fichierExceptions=repCorpus+\"inconnus.txt\"\n",
      "exceptions=codecs.open(fichierExceptions,\"r\",encoding='utf8')\n",
      "fichier_exceptions=True"
     ],
     "language": "python",
     "metadata": {},
     "outputs": [],
     "prompt_number": 192
    },
    {
     "cell_type": "code",
     "collapsed": false,
     "input": [
      "facultatives = 0"
     ],
     "language": "python",
     "metadata": {},
     "outputs": [],
     "prompt_number": 193
    },
    {
     "cell_type": "code",
     "collapsed": false,
     "input": [
      "phon={}\n",
      "result=[]\n",
      "nouvellesExceptions = []\n",
      "output=[]"
     ],
     "language": "python",
     "metadata": {},
     "outputs": [],
     "prompt_number": 194
    },
    {
     "cell_type": "heading",
     "level": 3,
     "metadata": {},
     "source": [
      "Pr\u00e9paration des fichiers"
     ]
    },
    {
     "cell_type": "markdown",
     "metadata": {},
     "source": [
      "algorithme\n",
      "\n",
      "ajouter chaque ligne du fichier \u00e0 phrases[]"
     ]
    },
    {
     "cell_type": "code",
     "collapsed": false,
     "input": [
      "def lowerAccents(chaine):\n",
      "    return chaine.lower()"
     ],
     "language": "python",
     "metadata": {},
     "outputs": [],
     "prompt_number": 195
    },
    {
     "cell_type": "markdown",
     "metadata": {},
     "source": [
      "### Normaliser le mot en cours\n",
      "\n",
      "algorithme\n",
      "\n",
      "+ la ponctuation est remplac\u00e9e par un espace\n",
      "+ les espaces aux extr\u00e9mit\u00e9s sont effac\u00e9s\n",
      "+ le mot est mis en minuscules"
     ]
    },
    {
     "cell_type": "code",
     "collapsed": false,
     "input": [
      "def trimer(mot):\n",
      "    mot=lowerAccents(mot)\n",
      "    for p in u',;.:-?!()\u201c\u201d\u2018\u2019\u201b\u201f\u2032\u2033\u00b4\u02dd\"\u00ab\u00bb':\n",
      "        mot=mot.replace(p, ' ')\n",
      "    mot=mot.strip()\n",
      "    return mot"
     ],
     "language": "python",
     "metadata": {},
     "outputs": [],
     "prompt_number": 196
    },
    {
     "cell_type": "code",
     "collapsed": false,
     "input": [
      "phrases=[]\n",
      "motsPhrases=[]\n",
      "elementsPhrases=[]\n",
      "motsCorpus=set()\n",
      "fichier=codecs.open(fichierCorpus,\"r\",encoding=\"utf8\")\n",
      "for line in fichier:\n",
      "    line=line.strip()\n",
      "    if line != '':\n",
      "        phrases.append(line)\n",
      "#        mots=re.split(u\"[-.\u2026,\u2014\u2013()\\[\\]\\/#\\\"\u201c\u201d\u2018\u00ab\u00bb<>'\u2019=~;!?: ]\", line)\n",
      "#        elements=re.findall(ur\"[\\w\u00e2\u00e0\u00e9\u00e8\u00ea\u00eb\u00ee\u00ef\u00f4\u00f9\u00fb\u00fc\u00e7\u00c2\u00c0\u00c9\u00c8\u00ca\u00cb\u00ce\u00cf\u00d4\u00d9\u00db\u00dc\u00c7\u00e6\u0153\u00c6\u0152]+|[-.\u2026,\u2014\u2013()\\[\\]\\/#\\\"\u201c\u201d\u2018\u00ab\u00bb<>'\u2019=~]| [;!?:]\", line)\n",
      "        elements=re.findall(ur\"[\\w\u00e2\u00e0\u00e9\u00e8\u00ea\u00eb\u00ee\u00ef\u00f4\u00f9\u00fb\u00fc\u00e7\u00c2\u00c0\u00c9\u00c8\u00ca\u00cb\u00ce\u00cf\u00d4\u00d9\u00db\u00dc\u00c7\u00e6\u0153\u00c6\u0152]+['\u2019]?|[-.\u2026,\u2014\u2013()\\[\\]\\/#\\\"\u201c\u201d\u2018\u00ab\u00bb<>'\u2019=~]| [;!?:]\", line)\n",
      "        mots=[x for x in elements if not x in u\"-.\u2026,\u2014\u2013()\\[\\]\\/#\\\"\u201c\u201d\u2018\u00ab\u00bb<>'\u2019=~\" and not x in [\" ;\",\" !\",\" ?\",\" :\"]]\n",
      "        elements=[x for x in elements if x!=\" \"]\n",
      "        elementsPhrases.append(elements)\n",
      "        phrasePropre = u\"\"\n",
      "        for mot in mots:\n",
      "            mot = trimer(mot)\n",
      "            phrasePropre += mot+u\" \"\n",
      "            motsCorpus.add(mot)\n",
      "        phraseMots = phrasePropre.strip()\n",
      "        phraseMots = phrasePropre.split()        \n",
      "        motsPhrases.append(phraseMots)\n",
      "fichier.close()"
     ],
     "language": "python",
     "metadata": {},
     "outputs": [],
     "prompt_number": 197
    },
    {
     "cell_type": "markdown",
     "metadata": {},
     "source": [
      "algorithme\n",
      "\n",
      "extraire de BDLex 0.forme fl\u00e9chie, 1.phon\u00e9tique, 2.liaison, 3.cat-gram, 4.genre+nombre"
     ]
    },
    {
     "cell_type": "code",
     "collapsed": false,
     "input": [
      "for entry in lexicon:\n",
      "    entry=entry.strip()\n",
      "    p=entry.split(u';')\n",
      "    if p[0].lower() in motsCorpus:\n",
      "        if p[2]==\"@\" and not p[3] in [\"N\",\"V\",\"J\",\"K\"]:\n",
      "            p[1]+=p[2]\n",
      "            p[2]=\"\"\n",
      "        phon[p[0].lower()]=(p[0],p[1],p[2],p[3],p[4],p[5])\n",
      "lexicon.close()"
     ],
     "language": "python",
     "metadata": {},
     "outputs": [],
     "prompt_number": 198
    },
    {
     "cell_type": "markdown",
     "metadata": {},
     "source": [
      "algorithme\n",
      "\n",
      "extraire du fichier d'exceptions les m\u00eames donn\u00e9es que pour BDLex"
     ]
    },
    {
     "cell_type": "markdown",
     "metadata": {},
     "source": [
      "#Modif GB 12/04/14\n",
      "- fait une liste des exceptions lues pour ne pas les rajouter \u00e0 la fin\n",
      "- \u00e9viter de tenir compte des exceptions non renseign\u00e9es\n",
      " - les mots du fichier exceptions sans transcriptions \u00e9taient transcrits par une chaine vide..."
     ]
    },
    {
     "cell_type": "code",
     "collapsed": false,
     "input": [
      "if fichier_exceptions:\n",
      "    oldExceptions=[]\n",
      "    for entry in exceptions:\n",
      "        entry=entry.strip()\n",
      "        p=entry.split(u';')\n",
      "        if len(p[1])!=0:\n",
      "            phon[p[0].lower()]=(p[0],p[1],p[2],p[3],p[4],p[5])\n",
      "        oldExceptions.append(p[0].lower())\n",
      "exceptions.close()"
     ],
     "language": "python",
     "metadata": {},
     "outputs": [],
     "prompt_number": 199
    },
    {
     "cell_type": "heading",
     "level": 2,
     "metadata": {},
     "source": [
      "Fonctions"
     ]
    },
    {
     "cell_type": "markdown",
     "metadata": {},
     "source": [
      "### V\u00e9rifier si le mot existe\n",
      "\n",
      "algorithme\n",
      "\n",
      "+ si le mot est dans BDLex, ok\n",
      "+ s'il y a un espace dans le mot,\n",
      "    * le mot est divis\u00e9 en deux et\n",
      "    * si les mots existent dans bdlex, ok\n",
      "    * sinon les mots sont ajout\u00e9s aux nouvelles exceptions et mis entre \u00e9toiles\n",
      "+ s'il y a un apostrophe dans le mot,\n",
      "    * le mot est divis\u00e9 en deux\n",
      "    * si les mots existent dans bdlex, ok\n",
      "    * sinon les mots sont ajout\u00e9s aux nouvelles exceptions et mis entre \u00e9toiles\n",
      "+ dans les autres cas, le mot est ajout\u00e9 aux nouvelles exceptions et mis entre \u00e9toiles"
     ]
    },
    {
     "cell_type": "code",
     "collapsed": false,
     "input": [
      "def verifier_mot(mot):\n",
      "        sampa=\"\"\n",
      "        if mot in phon.keys():\n",
      "            sampa += phon[mot][0]\n",
      "        elif \" \" in mot:\n",
      "            mots = mot.split()\n",
      "            for mot in mots:\n",
      "                if mot in phon.keys():\n",
      "                    sampa += phon[mot][0]+\" \"\n",
      "                elif mot != \"\":\n",
      "                    sampa += \"***\"+mot+\"*** \"\n",
      "        elif \"'\" in mot:\n",
      "            mots = mot.split(\"'\")\n",
      "            mots[0]=mots[0]+\"'\"\n",
      "            for mot in mots:\n",
      "                if mot in phon.keys():\n",
      "                    sampa += phon[mot][0]+\" \"\n",
      "                elif mot != \"\":\n",
      "                    nouvellesExceptions.append(mot)\n",
      "                    sampa += \"***\"+mot+\"*** \"\n",
      "        elif mot != \"\": \n",
      "            nouvellesExceptions.append(mot)\n",
      "            sampa=\"***\"+mot+\"*** \"\n",
      "        return sampa"
     ],
     "language": "python",
     "metadata": {},
     "outputs": [],
     "prompt_number": 200
    },
    {
     "cell_type": "heading",
     "level": 3,
     "metadata": {},
     "source": [
      "2. traduire le SAMPA de BDLexique en API"
     ]
    },
    {
     "cell_type": "markdown",
     "metadata": {},
     "source": [
      "#Modif GB 12/04/14\n",
      "- ajout du r et du \u00e2\n",
      "- ajout des exemples associ\u00e9s en dessous"
     ]
    },
    {
     "cell_type": "code",
     "collapsed": false,
     "input": [
      "# traduire SAMPA-BDLex en API\n",
      "\n",
      "def sampa2api(sampa):\n",
      "    if isinstance(sampa,str):\n",
      "        api=sampa.decode(\"utf8\")\n",
      "    else:\n",
      "        api=sampa\n",
      "    api=api.replace(u'S',u'\u0283') \n",
      "    api=api.replace(u'Z',u'\u0292')\n",
      "    api=api.replace(u'N',u'\u014b')\n",
      "    api=api.replace(u'J',u'\u0272')\n",
      "    api=api.replace(u'r',u'\u0281') \n",
      "    api=api.replace(u'H',u'\u0265')\n",
      "    api=api.replace(u'E',u'\u025b')\n",
      "    api=api.replace(u'2',u'\u00f8')\n",
      "    api=api.replace(u'9',u'\u0153')\n",
      "    api=api.replace(u'6',u'\u0259')\n",
      "    api=api.replace(u'O',u'\u0254')\n",
      "    api=api.replace(u'\u00e8',u'e')   \n",
      "    api=api.replace(u'\u00f2',u'o')    \n",
      "    api=api.replace(u'\u00e2',u'\u0251\u0303')   \n",
      "    api=api.replace(u'\u00ea',u'\u025b\u0303')   \n",
      "    api=api.replace(u'\u00fb',u'\u0153\u0303')  \n",
      "    api=api.replace(u'\u00f4',u'\u0254\u0303')       \n",
      "    api=api.replace(u'@',u'\u0259')\n",
      "    api=api.replace(u'n\"',u'n') \n",
      "    api=api.replace(u't\"',u't') \n",
      "    api=api.replace(u'z\"',u'z') \n",
      "    api=api.replace(u'R\"',u'\u0281') \n",
      "    api=api.replace(u'p\"',u'p') \n",
      "    return api"
     ],
     "language": "python",
     "metadata": {},
     "outputs": [],
     "prompt_number": 201
    },
    {
     "cell_type": "heading",
     "level": 3,
     "metadata": {},
     "source": [
      "4. V\u00e9rifier si la liaison est possible"
     ]
    },
    {
     "cell_type": "markdown",
     "metadata": {},
     "source": [
      "algorithme\n",
      "\n",
      "+ si le mot courant et le suivant ne sont pas dans lexicon, pas de liaison\n",
      "+ si le mot a une consonne dans le champ de la voyelle de liaison, check1 est vrai\n",
      "+ si le mot suivant commence par une voyelle, check2 est vrai\n",
      "\n",
      "  si check1 et check2 sont vrais, il y a liaison"
     ]
    },
    {
     "cell_type": "code",
     "collapsed": false,
     "input": [
      "def liaison_possible(phrase ,mot , mot_numero):\n",
      "    check1=0\n",
      "    check2=0\n",
      "    if mot in phon and phrase[mot_numero+1] in phon:\n",
      "        consonnes=['k\"', '(kt)\"', 'n\"', 'p\"', 'R\"', '@t\"', 't\"', '-V', '+V', '@z\"', 'z\"']\n",
      "        phoneme=phon[mot][2]\n",
      "        for phoneme in consonnes:\n",
      "            check1=1\n",
      "        \n",
      "        voyelles=[\"H\", \"j\", \"w\", \"E\", \"a\", \"2\", \"9\", \"6\", \"@\", \"y\", \"u\", \"O\", u\"\u00f2\", \"o\", \"e\", u\"\u00e8\", u\"\u00ea\", u\"\u00fb\", u\"\u00f4\", \"i\"]\n",
      "        mot_suivant=phon[phrase[mot_numero+1]][1]\n",
      "        for v in voyelles:\n",
      "            if mot_suivant.startswith(v):\n",
      "                check2=1\n",
      "\n",
      "    if check1 and check2 :\n",
      "        return True\n",
      "    else:\n",
      "        return False"
     ],
     "language": "python",
     "metadata": {},
     "outputs": [],
     "prompt_number": 202
    },
    {
     "cell_type": "heading",
     "level": 3,
     "metadata": {},
     "source": [
      "5. v\u00e9rifier si la liaison est obligatoire"
     ]
    },
    {
     "cell_type": "markdown",
     "metadata": {},
     "source": [
      "algorithme\n",
      "\n",
      "+ si le mot courant et le suivant sont dans un des cas de figure, il y a liaison\n",
      "+ sinon pas de liaison"
     ]
    },
    {
     "cell_type": "code",
     "collapsed": false,
     "input": [
      "def liaison_obligatoire(phrase, mot, mot_numero):\n",
      "    determinant=[\"d\", \"P\"]\n",
      "    nom=[\"N\", \"G\", \"M\"]\n",
      "    adjectif=[\"J\", \"G\", \"M\"]\n",
      "    pronompers=[\"P\"]\n",
      "    verbe=[\"V\"]\n",
      "    catgram_mot1=phon[phrase[mot_numero]][3]\n",
      "    catgram_mot2=phon[phrase[mot_numero+1]][3]\n",
      "\n",
      "    if catgram_mot1 in determinant and catgram_mot2 in nom :\n",
      "        return True\n",
      "\n",
      "    elif catgram_mot1 in determinant and catgram_mot2 in adjectif :\n",
      "        return True\n",
      " \n",
      "    elif catgram_mot1 in pronompers and catgram_mot2 in verbe :\n",
      "        return True\n",
      "\n",
      "    elif catgram_mot1 in verbe and catgram_mot2 in pronompers :\n",
      "        return True\n",
      "\n",
      "    else:\n",
      "        return False"
     ],
     "language": "python",
     "metadata": {},
     "outputs": [],
     "prompt_number": 203
    },
    {
     "cell_type": "markdown",
     "metadata": {},
     "source": [
      "Cas de figure possibles:\n",
      "\n",
      "- DET + N\n",
      "    * ri + N:   d'animal, \n",
      "    * di + N:   certains \u00e9l\u00e9phants\n",
      "    * rd + N:   les animaux\n",
      "    * dd + N:   ces \u00e9t\u00e9s, cet \u00e9t\u00e9\n",
      "    * dp + N:   ton anorak\n",
      "    * rc + N:   aux armes\n",
      "- DET + ADJ:\n",
      "    * ri + ADJ:   d'\u00e9normes\n",
      "    * di + ADJ:   plusieurs immenses\n",
      "    * rd + ADJ:   les immenses\n",
      "    * dd + ADJ:   cet immense\n",
      "    * dp + ADJ:   son immense\n",
      "    * rc + ADJ:   aux immenses\n",
      "- PERS + V:\n",
      "    * SS + V:   m'\u00e9pate\n",
      "- V + PRO PERS: \n",
      "    * V + SS:   vont-ils\n"
     ]
    },
    {
     "cell_type": "markdown",
     "metadata": {},
     "source": [
      "algorithme\n",
      "\n",
      "+ si le mot courant et le suivant sont dans un des cas de figure, il y a liaison\n",
      "+ sinon pas de liaison"
     ]
    },
    {
     "cell_type": "code",
     "collapsed": false,
     "input": [
      "# v\u00e9rifier si la liaison est facultative\n",
      "def liaison_facultative(phrase, mot, mot_numero):\n",
      "    #pdb.set_trace()\n",
      "    nom=[\"N\", \"G\", \"M\"]\n",
      "    pluriel=[\"MP\", \"FP\"]\n",
      "    adjectif=[\"J\", \"G\", \"M\"]\n",
      "    verbe=[\"V\"]\n",
      "    pronompers=[\"P\"]\n",
      "    adverbe=[\"A\"]\n",
      "    preposition=[\"p\"]\n",
      "    catgram_mot1=phon[phrase[mot_numero]][3]\n",
      "    catgram_mot2=phon[phrase[mot_numero+1]][3]\n",
      "    genre_mot1=phon[phrase[mot_numero]][4]\n",
      "    \n",
      "    if (catgram_mot1 in nom) and (phon[phrase[mot_numero]][4] in pluriel) and (catgram_mot2 in adjectif) : \n",
      "        return True\n",
      "\n",
      "    elif (catgram_mot1 in verbe) and (catgram_mot2 not in pronompers):\n",
      "        return True\n",
      "\n",
      "    elif catgram_mot1 in adverbe :\n",
      "        return True\n",
      "    \n",
      "    elif catgram_mot1 in preposition : \n",
      "        return True\n",
      "\n",
      "    else :\n",
      "        return False"
     ],
     "language": "python",
     "metadata": {},
     "outputs": [],
     "prompt_number": 204
    },
    {
     "cell_type": "markdown",
     "metadata": {},
     "source": [
      "Cas de figure possibles :\n",
      "\n",
      "- N pl + ADJ: \n",
      "    * N + ADJ: monstres \u00e9normes \n",
      "    * G + ADJ: rivaux \u00e9normes\n",
      "- VERBE + TOUT-SAUF-PRO-PERS:\n",
      "    * V + N sont \u00e9l\u00e9phants\n",
      "    * V + G sommes abdicaires\n",
      "    * V + V sommes assis\n",
      "    * V + A sommes admirablement\n",
      "    * V + p sommes autour de\n",
      "    * V + di ont aucune\n",
      "    * V + rc sommes au\n",
      "- ADV + QQCH:\n",
      "    * ADV + N vraiment abruti\n",
      "    * ADV + G vraiment abandonn\u00e9\n",
      "    * ADV + V vraiment aim\u00e9\n",
      "    * ADV + J vraiment \u00e9tonnant\n",
      "    * ADV + ss vraiment ils\n",
      "    * ADV + A vraiment \u00e9tonnamment\n",
      "    * ADV + p vraiment attendu\n",
      "    * ADV + di vraiment autre \n",
      "    * ADV + rc vraiment au\n",
      "- PREP + QQCH:\n",
      "    * PREP + N tr\u00e8s amoureux\n",
      "    * PREP + G tr\u00e8s abandonn\u00e9\n",
      "    * PREP + V tr\u00e8s aim\u00e9\n",
      "    * PREP + J tr\u00e8s \u00e9tonnant\n",
      "    * PREP + SS tr\u00e8s ils\n",
      "    * PREP + A tr\u00e8s \u00e9tonnamment\n",
      "    * PREP + p tr\u00e8s attendu\n",
      "    * PREP + di tr\u00e8s autre\n",
      "    * PREP + rc tr\u00e8s au\n"
     ]
    },
    {
     "cell_type": "heading",
     "level": 2,
     "metadata": {},
     "source": [
      "Traitement"
     ]
    },
    {
     "cell_type": "markdown",
     "metadata": {},
     "source": [
      "+ Partie 1\n",
      "*chaque phrase est prise individuellement,\n",
      "    * d\u00e9coup\u00e9e en blocs,\n",
      "        * qui sont chacuns trim\u00e9s si ce sont des mots\n",
      "        * s'il y a plusieurs mots dans le bloc, ils sont s\u00e9par\u00e9s\n",
      "    + Partie 2\n",
      "    * pour chaque couple de mots\n",
      "        * si la liaison est possible,\n",
      "            * et qu'elle est obligatoire, l'api avec la liaison est g\u00e9n\u00e9r\u00e9\n",
      "            * et qu'elle est facultative,\n",
      "                * si l'utilisateur l'a choisi, l'api avec la liaison est g\u00e9n\u00e9r\u00e9\n",
      "                * sinon l'api sans la liaison est g\u00e9n\u00e9r\u00e9\n",
      "\n",
      "        + Partie 3\n",
      "        * si la liaison n'est pas possible,\n",
      "            * si le mot est dans bdlex, l'api est g\u00e9n\u00e9r\u00e9\n",
      "            * sinon le mot est laiss\u00e9 tel quel (il a d\u00e9j\u00e0 les \u00e9toiles)        \n",
      "\n",
      "    * pour le dernier mot de la phrase, \n",
      "        * si le mot est dans bdlex, l'api est g\u00e9n\u00e9r\u00e9\n",
      "        * sinon le mot est laiss\u00e9 tel quel (il a d\u00e9j\u00e0 les \u00e9toiles) \n",
      "\n",
      "+ Partie 4\n",
      "* le message \u00e0 l'utilisateur et la phrase en api est imprim\u00e9e"
     ]
    },
    {
     "cell_type": "markdown",
     "metadata": {},
     "source": [
      "#Modif GB 12/04/14\n",
      "- suppression du d\u00e9lai dans la boucle\n",
      " - pour 1500 lignes => 3 secondes sans ralentisseur, 1503 secondes avec "
     ]
    },
    {
     "cell_type": "code",
     "collapsed": false,
     "input": [
      "def enchasseBDLexique(nphrase,nmot,liaison=False):\n",
      "    mot=motsPhrases[nphrase][nmot]\n",
      "    if mot in phon: \n",
      "        phono=sampa2api(phon[mot][1])\n",
      "        if liaison:\n",
      "            phono+=sampa2api(phon[mot][2])\n",
      "        cat=phon[mot][3]\n",
      "        if cat in [\"J\",\"K\"]:\n",
      "            cat=\"Adj\"\n",
      "        ms=phon[mot][4]\n",
      "        vs=phon[mot][5]\n",
      "        if \" \" in vs:\n",
      "            vs=\"\"\n",
      "    else:\n",
      "        phono=mot\n",
      "        cat=\"???\"\n",
      "        ms=\"\"\n",
      "        vs=\"\"\n",
      "#    print phon[motsPhrases[nphrase][nmot]]\n",
      "    result=u'<mot cat=\"%s\" ms=\"%s\" vs=\"%s\" phon=\"%s\">%s</mot>' % (cat,ms,vs,phono,mot)\n",
      "    return result\n",
      "    \n",
      "def enchasseXML(mot, phono):\n",
      "    if isinstance(phono,str):\n",
      "        phono=phono.decode(\"utf8\")\n",
      "#    print [mot, phono]\n",
      "    result=u'<mot phon=\"%s\">%s</mot>' % (phono, mot)\n",
      "    return result\n",
      "\n",
      "def enchasseTour(phrase):\n",
      "    result=u'<tour>%s</tour>' % (phrase)\n",
      "    return result\n",
      "\n",
      "def enchasseNonMot(nonmot):\n",
      "    result=u'<punct>%s</punct>' % (nonmot)\n",
      "    return result"
     ],
     "language": "python",
     "metadata": {},
     "outputs": [],
     "prompt_number": 205
    },
    {
     "cell_type": "markdown",
     "metadata": {},
     "source": [
      "#D\u00e9but de l'enchassement en XML (7/12/15)\n",
      "- r\u00e9cup\u00e9rer la ponctuation et les sauts de lignes pour rendre le texte lisible\n",
      "- ajouter le reste des informations du lexique dans la balise"
     ]
    },
    {
     "cell_type": "code",
     "collapsed": false,
     "input": [
      "a=1\n",
      "for nPhrase,phrase in enumerate(phrases[:]):\n",
      "    api=\"\"\n",
      "    mot_numero=0\n",
      "    element_numero=0\n",
      "    while mot_numero <= len(motsPhrases[nPhrase])-2:\n",
      "#        print (\"mot\",mot_numero, motsPhrases[nPhrase][mot_numero])\n",
      "        while motsPhrases[nPhrase][mot_numero]!=elementsPhrases[nPhrase][element_numero].lower():\n",
      "#            print (\"element\",element_numero, elementsPhrases[nPhrase][element_numero])\n",
      "            api+=enchasseNonMot(elementsPhrases[nPhrase][element_numero])\n",
      "            element_numero+=1\n",
      "        if liaison_possible(motsPhrases[nPhrase], motsPhrases[nPhrase][mot_numero], mot_numero):\n",
      " \n",
      "            if liaison_obligatoire(motsPhrases[nPhrase], motsPhrases[nPhrase][mot_numero], mot_numero):\n",
      "                api += enchasseBDLexique(nPhrase,mot_numero,True)\n",
      "\n",
      "            elif liaison_facultative(motsPhrases[nPhrase], motsPhrases[nPhrase][mot_numero], mot_numero):\n",
      "                if facultatives:\n",
      "                    api += enchasseBDLexique(nPhrase,mot_numero,True)\n",
      "                else :\n",
      "                    api += enchasseBDLexique(nPhrase,mot_numero)\n",
      "            else:\n",
      "                api += enchasseBDLexique(nPhrase,mot_numero)\n",
      "        # partie 3\n",
      "        else:\n",
      "            api += enchasseBDLexique(nPhrase,mot_numero)\n",
      "        mot_numero = mot_numero+1\n",
      "        element_numero+=1\n",
      "    \n",
      "    api += enchasseBDLexique(nPhrase,len(motsPhrases[nPhrase])-1)\n",
      "    \n",
      "    # partie 4\n",
      "#    sys.stdout.write(\"Traitement de \"+str(a)+\" sur \"+ str(len(phrases))+ \" phrases. \"+\"\\n\"+phrase+\"\\n\"+api+\"\\n\\n\"+chr(20))\n",
      "#    sys.stdout.flush()\n",
      "    #time.sleep(1)\n",
      "    a=a+1\n",
      "    output.append(enchasseTour(api))"
     ],
     "language": "python",
     "metadata": {},
     "outputs": [],
     "prompt_number": 206
    },
    {
     "cell_type": "markdown",
     "metadata": {},
     "source": [
      "#Modif GB 12/04/14\n",
      "- Insertion d'un set sur les nouvellesExceptions pour \u00e9viter les entr\u00e9es multiples\n",
      "- Ajout d'un test pour v\u00e9rifier que les nouvellesExceptions sont nouvelles\n",
      "\n",
      "#TO DO\n",
      "- Ajouter un message pour dire que le r\u00e9sultat a \u00e9t\u00e9 concat\u00e9n\u00e9 au fichier existant si c'est le cas."
     ]
    },
    {
     "cell_type": "code",
     "collapsed": false,
     "input": [
      "#1.2.a. mettre la liste des inconnus dans le fichier inconnus.txt\n",
      "with codecs.open(\"inconnus.txt\", \"a\", encoding='utf8') as f:\n",
      "    for n in set(nouvellesExceptions):\n",
      "        if not (n in oldExceptions): \n",
      "            f.write(n+\";;;;;\")\n",
      "            f.write(\"\\n\")\n",
      "        \n",
      "#1.2.b. mettre les phrases phon\u00e9mis\u00e9es dans un fichier\n",
      "with codecs.open(\"phonemise.xml\", \"w\", encoding='utf8') as f:\n",
      "    f.write(u'<?xml version=\"1.0\" encoding=\"UTF-8\"?>'+\"\\n\")\n",
      "    f.write(u'<?xml-stylesheet type=\"text/xsl\" href=\"%s\" ?>' % fichierXSL+\"\\n\")\n",
      "    f.write(u\"<corpus>\"+\"\\n\")\n",
      "    for o in output:\n",
      "        f.write(o)\n",
      "        f.write(\"\\n\")\n",
      "    f.write(u\"</corpus>\"+\"\\n\")\n",
      "\n",
      "with codecs.open(\"verification.txt\", \"w\", encoding='utf8') as f:\n",
      "    for a in range(len(output)-2):\n",
      "        f.write(phrases[a]+\"\\n\"+output[a])\n",
      "        f.write(\"\\n\\n\")"
     ],
     "language": "python",
     "metadata": {},
     "outputs": [],
     "prompt_number": 207
    },
    {
     "cell_type": "code",
     "collapsed": false,
     "input": [
      "phon[\"pourcent\"]"
     ],
     "language": "python",
     "metadata": {},
     "outputs": [
      {
       "metadata": {},
       "output_type": "pyout",
       "prompt_number": 208,
       "text": [
        "(u'pourcent', u'puRsa~', u'', u'', u'', u'')"
       ]
      }
     ],
     "prompt_number": 208
    },
    {
     "cell_type": "code",
     "collapsed": false,
     "input": [],
     "language": "python",
     "metadata": {},
     "outputs": [],
     "prompt_number": 208
    }
   ],
   "metadata": {}
  }
 ]
}