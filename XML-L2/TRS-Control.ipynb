{
 "cells": [
  {
   "cell_type": "code",
   "execution_count": 68,
   "metadata": {
    "collapsed": true
   },
   "outputs": [],
   "source": [
    "from lxml import etree\n",
    "import bs4"
   ]
  },
  {
   "cell_type": "code",
   "execution_count": 69,
   "metadata": {
    "collapsed": true
   },
   "outputs": [],
   "source": [
    "fichierTRS=\"/Users/gilles/Desktop/STORYTIME_J'aiRencontreMesIdoles.trs\""
   ]
  },
  {
   "cell_type": "code",
   "execution_count": 70,
   "metadata": {
    "collapsed": false
   },
   "outputs": [],
   "source": [
    "xmlTRS=etree.parse(fichierTRS)\n",
    "#print etree.tostring(xmlTRS)"
   ]
  },
  {
   "cell_type": "code",
   "execution_count": 71,
   "metadata": {
    "collapsed": false,
    "scrolled": true
   },
   "outputs": [],
   "source": [
    "rootTRS=xmlTRS.getroot()\n",
    "#print etree.tostring(rootTRS)"
   ]
  },
  {
   "cell_type": "code",
   "execution_count": 72,
   "metadata": {
    "collapsed": false
   },
   "outputs": [
    {
     "name": "stdout",
     "output_type": "stream",
     "text": [
      "0\n"
     ]
    }
   ],
   "source": [
    "finTourPrecedent=0\n",
    "syncPrecedent=0\n",
    "nbErreurs=0\n",
    "for element in rootTRS.xpath('//Turn'):\n",
    "    debut=round(float(element.attrib[\"startTime\"]),3)\n",
    "    fin=round(float(element.attrib[\"endTime\"]),3)\n",
    "#    print debut, fin\n",
    "    if debut>fin:\n",
    "        print \"pb de borne sur Turn\",debut,fin\n",
    "#        print etree.tostring(element)\n",
    "        nbErreurs+=1\n",
    "    elif debut<finTourPrecedent:\n",
    "        print \"pb de recouvrement sur Turn\",finTourPrecedent,debut\n",
    "#        print etree.tostring(element)\n",
    "        nbErreurs+=1\n",
    "#    else:\n",
    "#        print \"tour ok\"\n",
    "#        print debut, fin\n",
    "#        print etree.tostring(element)\n",
    "    for sync in element.findall('Sync'):\n",
    "        syncCourant=round(float(sync.attrib[\"time\"]),3)\n",
    "        if syncCourant<syncPrecedent:\n",
    "            print \"pb de Sync\",syncPrecedent,syncCourant\n",
    "#            print etree.tostring(sync)\n",
    "            nbErreurs+=1\n",
    "        elif syncCourant>fin:\n",
    "            print \"Sync hors Turn\",syncCourant,fin\n",
    "            nbErreurs+=1\n",
    "        syncPrecedent=syncCourant\n",
    "    finTourPrecedent=fin\n",
    "print nbErreurs"
   ]
  },
  {
   "cell_type": "code",
   "execution_count": null,
   "metadata": {
    "collapsed": true
   },
   "outputs": [],
   "source": []
  }
 ],
 "metadata": {
  "kernelspec": {
   "display_name": "Python 2",
   "language": "python",
   "name": "python2"
  },
  "language_info": {
   "codemirror_mode": {
    "name": "ipython",
    "version": 2
   },
   "file_extension": ".py",
   "mimetype": "text/x-python",
   "name": "python",
   "nbconvert_exporter": "python",
   "pygments_lexer": "ipython2",
   "version": "2.7.11"
  }
 },
 "nbformat": 4,
 "nbformat_minor": 0
}
