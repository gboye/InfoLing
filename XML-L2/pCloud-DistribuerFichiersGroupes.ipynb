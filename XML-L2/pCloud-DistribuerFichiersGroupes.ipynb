{
 "cells": [
  {
   "cell_type": "code",
   "execution_count": 11,
   "metadata": {},
   "outputs": [],
   "source": [
    "import glob,os,re,shutil\n",
    "from unidecode import unidecode"
   ]
  },
  {
   "cell_type": "code",
   "execution_count": 12,
   "metadata": {},
   "outputs": [
    {
     "name": "stdout",
     "output_type": "stream",
     "text": [
      "/Users/gilles/pCloud Drive/FOD/Corpus-2018/25 files from AvidJacquemin on Jan 21, 2019\n",
      "/Users/gilles/pCloud Drive/FOD/Corpus-2018/1 file from AvidJacquemin on Jan 22, 2019\n",
      "/Users/gilles/pCloud Drive/FOD/Corpus-2018/5 files from BauraudEscandeTendeiro on Jan 24, 2019\n",
      "/Users/gilles/pCloud Drive/FOD/Corpus-2018/7 files from BauraudEscandeTendeiro on Jan 24, 2019\n",
      "/Users/gilles/pCloud Drive/FOD/Corpus-2018/4 files from BauraudEscandeTendeiro on Jan 24, 2019\n",
      "/Users/gilles/pCloud Drive/FOD/Corpus-2018/14 files from BelhaniBoudassouSanchez on Jan 25, 2019\n",
      "/Users/gilles/pCloud Drive/FOD/Corpus-2018/1 file from BelhaniBoudassouSanchez on Jan 27, 2019\n"
     ]
    }
   ],
   "source": [
    "depots=glob.glob(u\"/Users/gilles/pCloud Drive/FOD/Corpus-2018/[0-9]*file*\")\n",
    "print \"\\n\".join(depots)"
   ]
  },
  {
   "cell_type": "code",
   "execution_count": 13,
   "metadata": {
    "scrolled": false
   },
   "outputs": [
    {
     "name": "stderr",
     "output_type": "stream",
     "text": [
      "/Users/gilles/anaconda/lib/python2.7/site-packages/ipykernel_launcher.py:6: RuntimeWarning: Argument <type 'str'> is not an unicode object. Passing an encoded string will likely have unexpected results.\n",
      "  \n"
     ]
    },
    {
     "name": "stdout",
     "output_type": "stream",
     "text": [
      "25 files from AvidJacquemin on Jan 21, 2019\n",
      "25 files from AvidJacquemin on Jan 21, 2019 25 AvidJacquemin Jan 21, 2019\n",
      "Correspondance ok?\n",
      "y\n",
      "Création du dossier /Users/gilles/pCloud Drive/FOD/Corpus-2018/AvidJacquemin\n",
      "Copie de /Users/gilles/pCloud Drive/FOD/Corpus-2018/AvidJacquemin/Jean Marie (musique et sport).trico\n",
      "Copie de /Users/gilles/pCloud Drive/FOD/Corpus-2018/AvidJacquemin/Louane (ecole).trico\n",
      "Copie de /Users/gilles/pCloud Drive/FOD/Corpus-2018/AvidJacquemin/Louane (liste).trico\n",
      "Copie de /Users/gilles/pCloud Drive/FOD/Corpus-2018/AvidJacquemin/Louane (retard + enfants).trico\n",
      "Copie de /Users/gilles/pCloud Drive/FOD/Corpus-2018/AvidJacquemin/Nicole.trico\n",
      "Copie de /Users/gilles/pCloud Drive/FOD/Corpus-2018/AvidJacquemin/Jean-Marie punitions.trico\n",
      "Copie de /Users/gilles/pCloud Drive/FOD/Corpus-2018/AvidJacquemin/Margaux cantine.trico\n",
      "Copie de /Users/gilles/pCloud Drive/FOD/Corpus-2018/AvidJacquemin/Margaux kermesse.trico\n",
      "Copie de /Users/gilles/pCloud Drive/FOD/Corpus-2018/AvidJacquemin/Margaux materiel.trico\n",
      "Copie de /Users/gilles/pCloud Drive/FOD/Corpus-2018/AvidJacquemin/Margaux matieres.trico\n",
      "Copie de /Users/gilles/pCloud Drive/FOD/Corpus-2018/AvidJacquemin/Margaux punition.trico\n",
      "Copie de /Users/gilles/pCloud Drive/FOD/Corpus-2018/AvidJacquemin/BeatriceCachot.trico\n",
      "Copie de /Users/gilles/pCloud Drive/FOD/Corpus-2018/AvidJacquemin/BeatriceCantine.trico\n",
      "Copie de /Users/gilles/pCloud Drive/FOD/Corpus-2018/AvidJacquemin/BeatriceColle.trico\n",
      "Copie de /Users/gilles/pCloud Drive/FOD/Corpus-2018/AvidJacquemin/BeatriceCours.trico\n",
      "Copie de /Users/gilles/pCloud Drive/FOD/Corpus-2018/AvidJacquemin/BeatriceHabit.trico\n",
      "Copie de /Users/gilles/pCloud Drive/FOD/Corpus-2018/AvidJacquemin/BeatriceJeux.trico\n",
      "Copie de /Users/gilles/pCloud Drive/FOD/Corpus-2018/AvidJacquemin/BeatriceMateriel.trico\n",
      "Copie de /Users/gilles/pCloud Drive/FOD/Corpus-2018/AvidJacquemin/BeatriceProfesseurs.trico\n",
      "Copie de /Users/gilles/pCloud Drive/FOD/Corpus-2018/AvidJacquemin/IsabelleAndralCantine.trico\n",
      "Copie de /Users/gilles/pCloud Drive/FOD/Corpus-2018/AvidJacquemin/IsabelleAndralJeux.trico\n",
      "Copie de /Users/gilles/pCloud Drive/FOD/Corpus-2018/AvidJacquemin/IsabelleAndralMatieres.trico\n",
      "Copie de /Users/gilles/pCloud Drive/FOD/Corpus-2018/AvidJacquemin/IsabelleAndralSport.trico\n",
      "Copie de /Users/gilles/pCloud Drive/FOD/Corpus-2018/AvidJacquemin/IsabelleGiffle.trico\n",
      "Copie de /Users/gilles/pCloud Drive/FOD/Corpus-2018/AvidJacquemin/IsabellePunition.trico\n",
      "1 file from AvidJacquemin on Jan 22, 2019\n",
      "1 file from AvidJacquemin on Jan 22, 2019 1 AvidJacquemin Jan 22, 2019\n",
      "Correspondance ok?\n",
      "y\n",
      "Copie de /Users/gilles/pCloud Drive/FOD/Corpus-2018/AvidJacquemin/inconnus.txt\n",
      "5 files from BauraudEscandeTendeiro on Jan 24, 2019\n",
      "5 files from BauraudEscandeTendeiro on Jan 24, 2019 5 BauraudEscandeTendeiro Jan 24, 2019\n",
      "Correspondance ok?\n",
      "y\n",
      "Création du dossier /Users/gilles/pCloud Drive/FOD/Corpus-2018/BauraudEscandeTendeiro\n",
      "Copie de /Users/gilles/pCloud Drive/FOD/Corpus-2018/BauraudEscandeTendeiro/CANULAR CLASH RADIO corrige.trico\n",
      "Copie de /Users/gilles/pCloud Drive/FOD/Corpus-2018/BauraudEscandeTendeiro/FlorenceEtSophie corrige.trico\n",
      "Copie de /Users/gilles/pCloud Drive/FOD/Corpus-2018/BauraudEscandeTendeiro/PerteMariMilitaire corrige.trico\n",
      "Copie de /Users/gilles/pCloud Drive/FOD/Corpus-2018/BauraudEscandeTendeiro/RafleVelD'hiv corrige.trico\n",
      "Copie de /Users/gilles/pCloud Drive/FOD/Corpus-2018/BauraudEscandeTendeiro/RoseEtAdele corrige.trico\n",
      "7 files from BauraudEscandeTendeiro on Jan 24, 2019\n",
      "7 files from BauraudEscandeTendeiro on Jan 24, 2019 7 BauraudEscandeTendeiro Jan 24, 2019\n",
      "Correspondance ok?\n",
      "y\n",
      "Copie de /Users/gilles/pCloud Drive/FOD/Corpus-2018/BauraudEscandeTendeiro/INCONNU TXT corrige.pdf\n",
      "Copie de /Users/gilles/pCloud Drive/FOD/Corpus-2018/BauraudEscandeTendeiro/nathalie corrige.trico\n",
      "Copie de /Users/gilles/pCloud Drive/FOD/Corpus-2018/BauraudEscandeTendeiro/Christophe 2 corrige.trico\n",
      "Copie de /Users/gilles/pCloud Drive/FOD/Corpus-2018/BauraudEscandeTendeiro/Christophe B corrige.trico\n",
      "Copie de /Users/gilles/pCloud Drive/FOD/Corpus-2018/BauraudEscandeTendeiro/CHARLIE HEBDO corrige.trico\n",
      "Copie de /Users/gilles/pCloud Drive/FOD/Corpus-2018/BauraudEscandeTendeiro/audio valentin2 corrige.trico\n",
      "Copie de /Users/gilles/pCloud Drive/FOD/Corpus-2018/BauraudEscandeTendeiro/audio valentin corrige.trico\n",
      "4 files from BauraudEscandeTendeiro on Jan 24, 2019\n",
      "4 files from BauraudEscandeTendeiro on Jan 24, 2019 4 BauraudEscandeTendeiro Jan 24, 2019\n",
      "Correspondance ok?\n",
      "y\n",
      "Copie de /Users/gilles/pCloud Drive/FOD/Corpus-2018/BauraudEscandeTendeiro/Gilles corrige.trico\n",
      "Copie de /Users/gilles/pCloud Drive/FOD/Corpus-2018/BauraudEscandeTendeiro/Hugo 7 corrige.trico\n",
      "Copie de /Users/gilles/pCloud Drive/FOD/Corpus-2018/BauraudEscandeTendeiro/Hugo 8 corrige.trico\n",
      "Copie de /Users/gilles/pCloud Drive/FOD/Corpus-2018/BauraudEscandeTendeiro/Hugo 9 corrige.trico\n",
      "14 files from BelhaniBoudassouSanchez on Jan 25, 2019\n",
      "14 files from BelhaniBoudassouSanchez on Jan 25, 2019 14 BelhaniBoudassouSanchez Jan 25, 2019\n",
      "Correspondance ok?\n",
      "y\n",
      "Création du dossier /Users/gilles/pCloud Drive/FOD/Corpus-2018/BelhaniBoudassouSanchez\n",
      "Copie de /Users/gilles/pCloud Drive/FOD/Corpus-2018/BelhaniBoudassouSanchez/AudioCyrilcorrige.trico\n",
      "Copie de /Users/gilles/pCloud Drive/FOD/Corpus-2018/BelhaniBoudassouSanchez/AudioCyril.trico~\n",
      "Copie de /Users/gilles/pCloud Drive/FOD/Corpus-2018/BelhaniBoudassouSanchez/AudioQuebecoiscorrige.trico\n",
      "Copie de /Users/gilles/pCloud Drive/FOD/Corpus-2018/BelhaniBoudassouSanchez/AudioQuebecois.trico~\n",
      "Copie de /Users/gilles/pCloud Drive/FOD/Corpus-2018/BelhaniBoudassouSanchez/BarryAlphacorrige.trico\n",
      "Copie de /Users/gilles/pCloud Drive/FOD/Corpus-2018/BelhaniBoudassouSanchez/BarryAlpha.trico~\n",
      "Copie de /Users/gilles/pCloud Drive/FOD/Corpus-2018/BelhaniBoudassouSanchez/Maximacorrige.trico\n",
      "Copie de /Users/gilles/pCloud Drive/FOD/Corpus-2018/BelhaniBoudassouSanchez/Maxima.trico~\n",
      "Copie de /Users/gilles/pCloud Drive/FOD/Corpus-2018/BelhaniBoudassouSanchez/Nikolas&Anthonycorrige.trico\n",
      "Copie de /Users/gilles/pCloud Drive/FOD/Corpus-2018/BelhaniBoudassouSanchez/Nikolas&Anthony.trico~\n",
      "Copie de /Users/gilles/pCloud Drive/FOD/Corpus-2018/BelhaniBoudassouSanchez/Nouracorrige.trico\n",
      "Copie de /Users/gilles/pCloud Drive/FOD/Corpus-2018/BelhaniBoudassouSanchez/Noura.trico~\n",
      "Copie de /Users/gilles/pCloud Drive/FOD/Corpus-2018/BelhaniBoudassouSanchez/AudioTchequecorrige.trico\n",
      "Copie de /Users/gilles/pCloud Drive/FOD/Corpus-2018/BelhaniBoudassouSanchez/AudioTcheque.trico~\n",
      "1 file from BelhaniBoudassouSanchez on Jan 27, 2019\n",
      "1 file from BelhaniBoudassouSanchez on Jan 27, 2019 1 BelhaniBoudassouSanchez Jan 27, 2019\n",
      "Correspondance ok?\n",
      "y\n",
      "Copie de /Users/gilles/pCloud Drive/FOD/Corpus-2018/BelhaniBoudassouSanchez/Inconnu TXT .pdf\n"
     ]
    },
    {
     "data": {
      "text/plain": [
       "{'AbesJautzyChouyaFilyo': [],\n",
       " 'AndralDuizaboTauziede': [],\n",
       " 'ArnaudCharlesRoussel': [],\n",
       " 'AudoueineixMagnac': [],\n",
       " 'AvidJacquemin': [u'Jean Marie (musique et sport).trico',\n",
       "  u'Louane (\\xe9cole).trico',\n",
       "  u'Louane (liste).trico',\n",
       "  u'Louane (retard + enfants).trico',\n",
       "  u'Nicole.trico',\n",
       "  u'Jean-Marie punitions.trico',\n",
       "  u'Margaux cantine.trico',\n",
       "  u'Margaux kermesse.trico',\n",
       "  u'Margaux mat\\xe9riel.trico',\n",
       "  u'Margaux mati\\xe8res.trico',\n",
       "  u'Margaux punition.trico',\n",
       "  u'BeatriceCachot.trico',\n",
       "  u'BeatriceCantine.trico',\n",
       "  u'BeatriceColle.trico',\n",
       "  u'BeatriceCours.trico',\n",
       "  u'BeatriceHabit.trico',\n",
       "  u'BeatriceJeux.trico',\n",
       "  u'BeatriceMateriel.trico',\n",
       "  u'BeatriceProfesseurs.trico',\n",
       "  u'IsabelleAndralCantine.trico',\n",
       "  u'IsabelleAndralJeux.trico',\n",
       "  u'IsabelleAndralMatieres.trico',\n",
       "  u'IsabelleAndralSport.trico',\n",
       "  u'IsabelleGiffle.trico',\n",
       "  u'IsabellePunition.trico',\n",
       "  u'inconnus.txt'],\n",
       " 'BadetsBellangerBulutDelavault': [],\n",
       " 'BardinJacobHipplerLaterrade': [],\n",
       " 'BasseBelivierJanoulet': [],\n",
       " 'BauraudEscandeTendeiro': [u'CANULAR CLASH RADIO corrig\\xe9.trico',\n",
       "  u'FlorenceEtSophie corrig\\xe9.trico',\n",
       "  u'PerteMariMilitaire corrig\\xe9.trico',\n",
       "  u\"RafleVelD'hiv corrig\\xe9.trico\",\n",
       "  u'RoseEtAdele corrig\\xe9.trico',\n",
       "  u'INCONNU TXT corrig\\xe9.pdf',\n",
       "  u'nathalie corrig\\xe9.trico',\n",
       "  u'Christophe 2 corrig\\xe9.trico',\n",
       "  u'Christophe B corrig\\xe9.trico',\n",
       "  u'CHARLIE HEBDO corrig\\xe9.trico',\n",
       "  u'audio valentin2 corrig\\xe9.trico',\n",
       "  u'audio valentin corrig\\xe9.trico',\n",
       "  u'Gilles corrig\\xe9.trico',\n",
       "  u'Hugo 7 corrig\\xe9.trico',\n",
       "  u'Hugo 8 corrig\\xe9.trico',\n",
       "  u'Hugo 9 corrig\\xe9.trico'],\n",
       " 'BayonaEnjilela': [],\n",
       " 'BeccavinGautierVigouroux': [],\n",
       " 'BelhaniBoudassouSanchez': [u'AudioCyrilcorrig\\xe9.trico',\n",
       "  u'AudioCyril.trico~',\n",
       "  u'AudioQuebecoiscorrig\\xe9.trico',\n",
       "  u'AudioQuebecois.trico~',\n",
       "  u'BarryAlphacorrig\\xe9.trico',\n",
       "  u'BarryAlpha.trico~',\n",
       "  u'Maximacorrig\\xe9.trico',\n",
       "  u'Maxima.trico~',\n",
       "  u'Nikolas&Anthonycorrig\\xe9.trico',\n",
       "  u'Nikolas&Anthony.trico~',\n",
       "  u'Nouracorrig\\xe9.trico',\n",
       "  u'Noura.trico~',\n",
       "  u'AudioTchequecorrig\\xe9.trico',\n",
       "  u'AudioTcheque.trico~',\n",
       "  u'Inconnu TXT .pdf'],\n",
       " 'BerdotBourgmeyerLaurentPourcel': [],\n",
       " 'BezemontJuzanGuillonPoirier': [],\n",
       " 'BlegerDinclauxLeLaurain': [],\n",
       " 'CampetTourrel': [],\n",
       " 'CarbonnierCodognottoMonfroy': [],\n",
       " 'ChallancinMicheletOliveira': [],\n",
       " 'CirtautaiteLabeikyteVas': [],\n",
       " 'ColombeLeGuillouRamaye': [],\n",
       " 'CoteGuillot': [],\n",
       " 'DelayeDumainePauillac': [],\n",
       " 'DuniauMaillardRosnet': [],\n",
       " 'DupelDupont': [],\n",
       " 'GendreDescrambesMonnier': [],\n",
       " 'HimTalouTourdotFuentes': [],\n",
       " 'JaubertLagrangeTriffaux': [],\n",
       " 'LayanFreselMartorell': [],\n",
       " 'MerleRoumier': [],\n",
       " 'PocheluSusset': [],\n",
       " 'RoussetZago': []}"
      ]
     },
     "execution_count": 13,
     "metadata": {},
     "output_type": "execute_result"
    }
   ],
   "source": [
    "copies={k:[] for k in groupes}\n",
    "for depot in depots:\n",
    "    depotFichiers=glob.glob(depot+u\"/*\")\n",
    "    nomDepot=depot.split(u\"/\")[-1]\n",
    "    m=re.match(ur\"^(\\d+) files? from (.+) on (.*)$\",nomDepot)\n",
    "    if m:\n",
    "        print nomDepot\n",
    "        nbFichiers=int(m.group(1))\n",
    "        nomGroupe=trouverGroupe(unidecode(m.group(2)))\n",
    "        dateBrute=m.group(3)\n",
    "        print nomDepot,nbFichiers,nomGroupe,dateBrute      \n",
    "        strSelect=raw_input(u\"Correspondance ok?\\n\")\n",
    "        if strSelect==\"y\":\n",
    "            for fichier in depotFichiers:\n",
    "                nomFichier=fichier.split(u\"/\")[-1]\n",
    "                if os.path.isfile(fichier):\n",
    "        #            print \"cp\",nomFichier,\"=>\",nomGroupe\n",
    "                    fichierElements=fichier.split(u\"/\")\n",
    "                    nouveauDossier=unidecode(\"/\".join(fichierElements[:-2]+[nomGroupe]))\n",
    "                    nouveauFichier=nouveauDossier+u\"/\"+unidecode(fichierElements[-1])\n",
    "                    if not os.path.exists(nouveauDossier):\n",
    "                        print \"Création du dossier\",nouveauDossier\n",
    "                        os.makedirs(nouveauDossier)\n",
    "                    if os.path.isfile(nouveauFichier):\n",
    "                        #print \"Le fichier\",nouveauFichier,\"est déjà dans le dossier\"\n",
    "                        if os.stat(fichier).st_mtime > os.stat(nouveauFichier).st_mtime:\n",
    "                            print nouveauFichier,\"plus récent\"\n",
    "                            print \"que\",fichier\n",
    "                            shutil.move(fichier,nouveauFichier)\n",
    "                    else:\n",
    "                        print \"Copie de\",nouveauFichier\n",
    "                        shutil.move(fichier,nouveauFichier)\n",
    "                        copies[nomGroupe].append(nomFichier)\n",
    "                else:\n",
    "        #            print \"PB avec le fichier\",nomFichier\n",
    "                    %ding\n",
    "    else:\n",
    "        print \"pb nomDepot\",[nomDepot]\n",
    "copies"
   ]
  },
  {
   "cell_type": "code",
   "execution_count": 4,
   "metadata": {},
   "outputs": [],
   "source": [
    "groupesBruts=unidecode(u'''PIGACHE Marion, YACHOU Rizlène, ARMAND Manon\n",
    "PHALIPPOU Laure-Anne/ PEYRONDET Juliette \n",
    "Laura LEMONNIER / Shaddey RESOUF/ Victoria RICHARD  \n",
    "Lucie PAILLET / Delphine LAVACHERY \n",
    "Alan BRUEL / François LE MOAL / Elorri ARZAC \n",
    "COMBAUD Cherifa / VETTORI Marie-Clara / GASTOLDI Marie \n",
    "ARRIVÉ Alexia / GENESTAL Marine / MARIE Amandine\n",
    "GUERIN Marie / SEGUIN Lisa \n",
    "BOISSON Héloise/DUMAS Sarah \n",
    "ARON Chloé / CAZALBOU Marie / MARQUET Juliette \n",
    "CASTEX Laure, FARAGGI Zoé et GABOULEAUD Audrey \n",
    "Lola LETRONNIER, Elsa LOPEZ, Léa FOURGS \n",
    "DRECQ Mathilde, LEGRAS Gabrielle et MALEVIALLE Aitana \n",
    "SARRAUD Carla, AUCHE Elise \n",
    "FALBET Marine, FOURNIOUX Julie, VALENTIN Léa \n",
    "JOLY Manon, QUELARD Colas, PAGES Lucas\n",
    "GRANDVEAU Anaïs, LAPORTE Julia, BARADA Manon \n",
    "RECINE Lucie, LAMOLIATTE Ariane, FEYFANT Chloé \n",
    "ESPONDA Julie, BABIC Caroline, HIRIBERRY Sarah  \n",
    "HENAFF Céline, TEYSSOT Amélie \n",
    "NEAU Amandine, MIARA Louise, FAUCHOIT Mandy \n",
    "HUMEAU Mathilda, IBARBOURE Claire, JOYAU Marie \n",
    "PROKOP Vaite , LANGER Pauline \n",
    "PERRIER Gabrielle, LAGES Doriane \n",
    "HUTEAU Agathe, FAGNIDI Noura, PUYDEBOIS Charlie \n",
    "BENOIT Mathilde, CLEMENS Zoé, BLANDAMOUR Julia \n",
    "MOUILLET Sarah / ROUMIEUX Jules / SPAMPINATO Pierre-Aurélien \n",
    "HIRAM Widza/FAGNIDI Kriwa Noura \n",
    "SARDINHA-GONCALVES Tatiana, LUZIGNAN Mélanie \n",
    "NOELLAT Léo / DELLUC Johanne / AELLEN Raphaela \n",
    "BROHAN Marie-Lou / LACAM Noémie \n",
    "DUPAU / IMBERT\n",
    "CHEVALIER/ANDREANI/CASTELEIN/DE-OLIVEIRA''').split(\"\\n\")\n",
    "\n",
    "groupesBruts=unidecode(u'''Manon BOURGMEYER, Amandine BERDOT, Kathy LAURENT POURCEL \n",
    "Elfie CÔTE, Simon GUILLOT\n",
    "Jade JACOB-HIPPLER, Léna LATERRADE, Adèle BARDIN \n",
    "Tiffany ROUSSEL, Amélie ARNAUD, Emilie CHARLES \n",
    "Elina BAURAUD, Clémentine ESCANDE, Chloé TENDEIRO \n",
    "Maxime MARTORELL et Pauline LAYAN-FRESEL \n",
    "Nathan BEZEMONT-JUZAN, Shaneze GUILLON, Lison POIRIER \n",
    "Anne-Sophie DUPEL et Julie DUPONT \n",
    "Jade BASSE, Alexia BELIVIER, Pauline JANOULET \n",
    "TOURDOT-FUENTES Nina, TALOU Marion, HIM Lorène \n",
    "CARBONNIER Evane, MONFROY Marina et CODOGNOTTO Emilie \n",
    "LAGRANGE Elisa, TRIFFAUX Maéva et JAUBERT Marie \n",
    "BECCAVIN Ludivine, VIGOUROUX Roxane et GAUTIER Claire \n",
    "BELHANI Marine, BOUDASSOU Fanny et SANCHEZ Meryl \n",
    "DUIZABO C. Solenn, TAUZIEDE Maylis et ANDRAL Marie \n",
    "F.FILYÓ, P. ABES-JAUTZY, G.CHOUYA \n",
    "GENDRE-DESCRAMBES Dylan, MONNIER Maïlys \n",
    "CHALLANCIN Carla, MICHELET Lucie, OLIVEIRA Léa \n",
    "ROSNET Charlotte, DUNIAU Alexis, MAILLARD Célia \n",
    "AVID Romane, JACQUEMIN Clarisse \n",
    "LE GUILLOU Elsa, COLOMBE Noura, RAMAYE Livia \n",
    "ROUMIER Emeline, MERLE Marion \n",
    "TOURREL Charlotte / CAMPET Manon  \n",
    "AUDOUEINEIX Camille / MAGNAC Océane \n",
    "DINCLAUX Lilas, LE LAURAIN Tom, BLEGER Enora \n",
    "PAUILLAC Manon, DUMAINE Charles, DELAYE Adrien \n",
    "SUSSET Manon et POCHELU Ines \n",
    "LABEIKYTĖ Greta, CIRTAUTAITĖ Guoda, VAS Réka \n",
    "ENJILELA Arman, BAYONA Pablo \n",
    "Héléna BELLANGER, Margaux BADETS, Bessie BULUT-DELAVAULT \n",
    "ZAGO Camille, ROUSSET Léa ''').split(\"\\n\")"
   ]
  },
  {
   "cell_type": "code",
   "execution_count": 5,
   "metadata": {},
   "outputs": [
    {
     "data": {
      "text/plain": [
       "31"
      ]
     },
     "execution_count": 5,
     "metadata": {},
     "output_type": "execute_result"
    }
   ],
   "source": [
    "groupesBruts=[g.split(\":\")[0] for g in groupesBruts if g]\n",
    "len(groupesBruts)"
   ]
  },
  {
   "cell_type": "code",
   "execution_count": 6,
   "metadata": {},
   "outputs": [
    {
     "data": {
      "text/plain": [
       "31"
      ]
     },
     "execution_count": 6,
     "metadata": {},
     "output_type": "execute_result"
    }
   ],
   "source": [
    "groupesBruts=[g for g in groupesBruts if g]\n",
    "groupes={}\n",
    "for groupe in groupesBruts:\n",
    "    groupeNoms=re.split(ur\",|/| et \",groupe.strip())\n",
    "    noms=set()\n",
    "    for groupeNom in groupeNoms:\n",
    "        elements=re.findall(ur\"([A-Z]+)\",groupeNom)\n",
    "        noms.add(\"\".join([e.capitalize() for e in elements if len(e)>1]))\n",
    "    nomGroupe=\"\".join(sorted(list(noms)))\n",
    "    groupes[nomGroupe]=noms\n",
    "len(groupes)"
   ]
  },
  {
   "cell_type": "code",
   "execution_count": 7,
   "metadata": {},
   "outputs": [
    {
     "name": "stdout",
     "output_type": "stream",
     "text": [
      "AbesJautzyChouyaFilyo\n",
      "AndralDuizaboTauziede\n",
      "ArnaudCharlesRoussel\n",
      "AudoueineixMagnac\n",
      "AvidJacquemin\n",
      "BadetsBellangerBulutDelavault\n",
      "BardinJacobHipplerLaterrade\n",
      "BasseBelivierJanoulet\n",
      "BauraudEscandeTendeiro\n",
      "BayonaEnjilela\n",
      "BeccavinGautierVigouroux\n",
      "BelhaniBoudassouSanchez\n",
      "BerdotBourgmeyerLaurentPourcel\n",
      "BezemontJuzanGuillonPoirier\n",
      "BlegerDinclauxLeLaurain\n",
      "CampetTourrel\n",
      "CarbonnierCodognottoMonfroy\n",
      "ChallancinMicheletOliveira\n",
      "CirtautaiteLabeikyteVas\n",
      "ColombeLeGuillouRamaye\n",
      "CoteGuillot\n",
      "DelayeDumainePauillac\n",
      "DuniauMaillardRosnet\n",
      "DupelDupont\n",
      "GendreDescrambesMonnier\n",
      "HimTalouTourdotFuentes\n",
      "JaubertLagrangeTriffaux\n",
      "LayanFreselMartorell\n",
      "MerleRoumier\n",
      "PocheluSusset\n",
      "RoussetZago\n"
     ]
    }
   ],
   "source": [
    "print \"\\n\".join(sorted(groupes.keys()))"
   ]
  },
  {
   "cell_type": "code",
   "execution_count": 8,
   "metadata": {},
   "outputs": [],
   "source": [
    "def trouverNom(groupeNoms,nomDepot):\n",
    "#    print nomDepot\n",
    "    score=0\n",
    "    for nom in groupeNoms:\n",
    "#        print nom\n",
    "        if nom.lower() in unidecode(nomDepot.lower()).split(u\" \") or nom.lower() in nomDepot.lower():\n",
    "            score+=1\n",
    "    return score\n",
    "        \n",
    "def trouverGroupe(nomDepot):\n",
    "    resultats={}\n",
    "    for groupe in groupes:\n",
    "        scoreGroupe=trouverNom(groupes[groupe],nomDepot)\n",
    "        if scoreGroupe>0:\n",
    "            resultats[groupe]=scoreGroupe\n",
    "    if max(resultats, key=resultats.get):\n",
    "        return max(resultats, key=resultats.get)\n",
    "    else: return None\n",
    "#    return resultats"
   ]
  },
  {
   "cell_type": "code",
   "execution_count": 9,
   "metadata": {},
   "outputs": [
    {
     "data": {
      "text/plain": [
       "'BerdotBourgmeyerLaurentPourcel'"
      ]
     },
     "execution_count": 9,
     "metadata": {},
     "output_type": "execute_result"
    }
   ],
   "source": [
    "trouverGroupe(u\"LaurentPourcel Kathy\")"
   ]
  },
  {
   "cell_type": "code",
   "execution_count": 10,
   "metadata": {},
   "outputs": [
    {
     "name": "stdout",
     "output_type": "stream",
     "text": [
      "/Users/gilles/pCloud Drive/FOD/Corpus-2018/25 files from AvidJacquemin on Jan 21, 2019 25 files from AvidJacquemin on Jan 21, 2019 (u'25', u'AvidJacquemin', u'Jan 21, 2019')\n",
      "AvidJacquemin\n",
      "\n",
      "/Users/gilles/pCloud Drive/FOD/Corpus-2018/1 file from AvidJacquemin on Jan 22, 2019 1 file from AvidJacquemin on Jan 22, 2019 (u'1', u'AvidJacquemin', u'Jan 22, 2019')\n",
      "AvidJacquemin\n",
      "\n",
      "/Users/gilles/pCloud Drive/FOD/Corpus-2018/5 files from BauraudEscandeTendeiro on Jan 24, 2019 5 files from BauraudEscandeTendeiro on Jan 24, 2019 (u'5', u'BauraudEscandeTendeiro', u'Jan 24, 2019')\n",
      "BauraudEscandeTendeiro\n",
      "\n",
      "/Users/gilles/pCloud Drive/FOD/Corpus-2018/7 files from BauraudEscandeTendeiro on Jan 24, 2019 7 files from BauraudEscandeTendeiro on Jan 24, 2019 (u'7', u'BauraudEscandeTendeiro', u'Jan 24, 2019')\n",
      "BauraudEscandeTendeiro\n",
      "\n",
      "/Users/gilles/pCloud Drive/FOD/Corpus-2018/4 files from BauraudEscandeTendeiro on Jan 24, 2019 4 files from BauraudEscandeTendeiro on Jan 24, 2019 (u'4', u'BauraudEscandeTendeiro', u'Jan 24, 2019')\n",
      "BauraudEscandeTendeiro\n",
      "\n",
      "/Users/gilles/pCloud Drive/FOD/Corpus-2018/14 files from BelhaniBoudassouSanchez on Jan 25, 2019 14 files from BelhaniBoudassouSanchez on Jan 25, 2019 (u'14', u'BelhaniBoudassouSanchez', u'Jan 25, 2019')\n",
      "BelhaniBoudassouSanchez\n",
      "\n",
      "/Users/gilles/pCloud Drive/FOD/Corpus-2018/1 file from BelhaniBoudassouSanchez on Jan 27, 2019 1 file from BelhaniBoudassouSanchez on Jan 27, 2019 (u'1', u'BelhaniBoudassouSanchez', u'Jan 27, 2019')\n",
      "BelhaniBoudassouSanchez\n",
      "\n"
     ]
    }
   ],
   "source": [
    "for d in depots:\n",
    "    nomDepot=d.rsplit(u\"/\",1)[1]\n",
    "    m=re.match(ur\"^(\\d+) files? from ([^@]+) on (.*)$\",nomDepot)\n",
    "    if m:\n",
    "        print d,nomDepot,m.groups()\n",
    "        print trouverGroupe(m.group(2))\n",
    "        print "
   ]
  },
  {
   "cell_type": "code",
   "execution_count": 98,
   "metadata": {},
   "outputs": [
    {
     "data": {
      "text/plain": [
       "['/Users/gilles/pCloud Drive/pCloud Sync/Corpus-2018/39 files from Beccavin Vigouroux Gautier on Nov 30, 2018',\n",
       " '/Users/gilles/pCloud Drive/pCloud Sync/Corpus-2018/145 files from BasseBelivierJanoulet on Dec 5, 2018',\n",
       " '/Users/gilles/pCloud Drive/pCloud Sync/Corpus-2018/13 files from jacobhipplerjade@gmail.com on Dec 7, 2018',\n",
       " '/Users/gilles/pCloud Drive/pCloud Sync/Corpus-2018/1 file from BECCAVIN VIGOUROUX GAUTIER on Dec 13, 2018',\n",
       " '/Users/gilles/pCloud Drive/pCloud Sync/Corpus-2018/2 files from Roumier Emeline  on Dec 14, 2018',\n",
       " '/Users/gilles/pCloud Drive/pCloud Sync/Corpus-2018/2 files from MerleMarion on Dec 14, 2018',\n",
       " '/Users/gilles/pCloud Drive/pCloud Sync/Corpus-2018/30 files from LATERRADE L\\xc3\\xa9na on Dec 14, 2018',\n",
       " '/Users/gilles/pCloud Drive/pCloud Sync/Corpus-2018/10 files from L\\xc3\\xa9na LATERRADE on Dec 14, 2018',\n",
       " '/Users/gilles/pCloud Drive/pCloud Sync/Corpus-2018/2 files from Ame\\xcc\\x81lie ARNAUD on Dec 15, 2018',\n",
       " '/Users/gilles/pCloud Drive/pCloud Sync/Corpus-2018/1 file from Charlotte TOURREL on Dec 15, 2018',\n",
       " '/Users/gilles/pCloud Drive/pCloud Sync/Corpus-2018/9 files from Ad\\xc3\\xa8le Bardin on Dec 16, 2018',\n",
       " '/Users/gilles/pCloud Drive/pCloud Sync/Corpus-2018/9 files from Ad\\xc3\\xa8le Bardin on Dec 16, 2018 (1)']"
      ]
     },
     "execution_count": 98,
     "metadata": {},
     "output_type": "execute_result"
    }
   ],
   "source": [
    "depots"
   ]
  },
  {
   "cell_type": "code",
   "execution_count": 63,
   "metadata": {},
   "outputs": [
    {
     "data": {
      "text/plain": [
       "{'AbesJautzyChouyaFilyo': {'AbesJautzy', 'Chouya', 'Filyo'},\n",
       " 'AndralDuizaboTauziede': {'Andral', 'Duizabo', 'Tauziede'},\n",
       " 'ArnaudCharlesRoussel': {'Arnaud', 'Charles', 'Roussel'},\n",
       " 'AudoueineixMagnac': {'Audoueineix', 'Magnac'},\n",
       " 'AvidJacquemin': {'Avid', 'Jacquemin'},\n",
       " 'BadetsBellangerBulutDelavault': {'Badets', 'Bellanger', 'BulutDelavault'},\n",
       " 'BardinJacobHipplerLaterrade': {'Bardin', 'JacobHippler', 'Laterrade'},\n",
       " 'BasseBelivierJanoulet': {'Basse', 'Belivier', 'Janoulet'},\n",
       " 'BauraudEscandeTendeiro': {'Bauraud', 'Escande', 'Tendeiro'},\n",
       " 'BayonaEnjilela': {'Bayona', 'Enjilela'},\n",
       " 'BeccavinGautierVigouroux': {'Beccavin', 'Gautier', 'Vigouroux'},\n",
       " 'BelhaniBoudassouSanchez': {'Belhani', 'Boudassou', 'Sanchez'},\n",
       " 'BerdotBourgmeyerLaurentPourcel': {'Berdot', 'Bourgmeyer', 'LaurentPourcel'},\n",
       " 'BezemontJuzanGuillonPoirier': {'BezemontJuzan', 'Guillon', 'Poirier'},\n",
       " 'BlegerDinclauxLeLaurain': {'Bleger', 'Dinclaux', 'LeLaurain'},\n",
       " 'CampetTourrel': {'Campet', 'Tourrel'},\n",
       " 'CarbonnierCodognottoMonfroy': {'Carbonnier', 'Codognotto', 'Monfroy'},\n",
       " 'ChallancinMicheletOliveira': {'Challancin', 'Michelet', 'Oliveira'},\n",
       " 'CirtautaiteLabeikyteVas': {'Cirtautaite', 'Labeikyte', 'Vas'},\n",
       " 'ColombeLeGuillouRamaye': {'Colombe', 'LeGuillou', 'Ramaye'},\n",
       " 'CoteGuillot': {'Cote', 'Guillot'},\n",
       " 'DelayeDumainePauillac': {'Delaye', 'Dumaine', 'Pauillac'},\n",
       " 'DuniauMaillardRosnet': {'Duniau', 'Maillard', 'Rosnet'},\n",
       " 'DupelDupont': {'Dupel', 'Dupont'},\n",
       " 'GendreDescrambesMonnier': {'GendreDescrambes', 'Monnier'},\n",
       " 'HimTalouTourdotFuentes': {'Him', 'Talou', 'TourdotFuentes'},\n",
       " 'JaubertLagrangeTriffaux': {'Jaubert', 'Lagrange', 'Triffaux'},\n",
       " 'LayanFreselMartorell': {'LayanFresel', 'Martorell'},\n",
       " 'MerleRoumier': {'Merle', 'Roumier'},\n",
       " 'PocheluSusset': {'Pochelu', 'Susset'},\n",
       " 'RoussetZago': {'Rousset', 'Zago'}}"
      ]
     },
     "execution_count": 63,
     "metadata": {},
     "output_type": "execute_result"
    }
   ],
   "source": [
    "groupes"
   ]
  }
 ],
 "metadata": {
  "kernelspec": {
   "display_name": "Python 2",
   "language": "python",
   "name": "python2"
  },
  "language_info": {
   "codemirror_mode": {
    "name": "ipython",
    "version": 2
   },
   "file_extension": ".py",
   "mimetype": "text/x-python",
   "name": "python",
   "nbconvert_exporter": "python",
   "pygments_lexer": "ipython2",
   "version": "2.7.6"
  }
 },
 "nbformat": 4,
 "nbformat_minor": 2
}
