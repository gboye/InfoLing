{
 "cells": [
  {
   "cell_type": "code",
   "execution_count": 382,
   "metadata": {
    "collapsed": false
   },
   "outputs": [],
   "source": [
    "import time\n",
    "import sys\n",
    "import codecs\n",
    "import re\n",
    "import pdb # ajouter pdb.set_trace() à l'endroit où on veut le débugueur"
   ]
  },
  {
   "cell_type": "markdown",
   "metadata": {},
   "source": [
    "#Paramétrage\n",
    "\n",
    "- ajouter le nom de votre groupe dans *nomGroupe*\n",
    "- ajouter le nom de votre fichier corpus dans *nomCorpus*"
   ]
  },
  {
   "cell_type": "code",
   "execution_count": 383,
   "metadata": {
    "collapsed": false
   },
   "outputs": [],
   "source": [
    "nomGroupe=\"Gloses\"\n",
    "nomCorpus=\"textes\"\n",
    "\n",
    "prefixe=nomGroupe+\"-\"\n",
    "fichierLexique=\"../../phonemisation/bdlexique.txt\"\n",
    "fichierLexique=\"/Users/gilles/ownCloud/Cours/Bordeaux/L2-XML/XML-Ressources/bdlexique.txt\"\n",
    "\n",
    "lexicon=codecs.open(fichierLexique,\"r\",\"utf8\").readlines()\n",
    "#lexicon=codecs.open(fichierLexique,\"r\")\n",
    "\n",
    "fichierCorpus=prefixe+nomCorpus+\".txt\"\n",
    "fichier=codecs.open(fichierCorpus,\"r\",\"utf8\")\n",
    "#fichier=codecs.open(fichierCorpus,\"r\")\n",
    "\n",
    "fichierExceptions=prefixe+\"inconnus.txt\"\n",
    "try:\n",
    "    exceptions=codecs.open(fichierExceptions,\"r\",\"utf8\")\n",
    "    #exceptions=codecs.open(fichierExceptions,\"r\")\n",
    "    fichier_exceptions=True\n",
    "except:\n",
    "    fichier_exceptions=False"
   ]
  },
  {
   "cell_type": "code",
   "execution_count": 384,
   "metadata": {
    "collapsed": false
   },
   "outputs": [],
   "source": [
    "facultatives = 0"
   ]
  },
  {
   "cell_type": "code",
   "execution_count": 385,
   "metadata": {
    "collapsed": false
   },
   "outputs": [],
   "source": [
    "phrases=[]\n",
    "phon={}\n",
    "result=[]\n",
    "nouvellesExceptions = []\n",
    "output=[]"
   ]
  },
  {
   "cell_type": "markdown",
   "metadata": {},
   "source": [
    "#Préparation des fichiers"
   ]
  },
  {
   "cell_type": "markdown",
   "metadata": {},
   "source": [
    "###Modif GB 18/11/14\n",
    "\n",
    "- gestion du passage en minuscules des majuscules accentuées"
   ]
  },
  {
   "cell_type": "code",
   "execution_count": 386,
   "metadata": {
    "collapsed": false
   },
   "outputs": [],
   "source": [
    "encodageUTF8=True\n",
    "def lowerAccents(chaine):\n",
    "    if isinstance(chaine,str):\n",
    "        try:\n",
    "            result=chaine.decode(\"utf8\").lower()\n",
    "        except:\n",
    "            print chaine\n",
    "        return result\n",
    "    elif isinstance(chaine,unicode):\n",
    "        result=chaine.lower()\n",
    "    if not encodageUTF8:\n",
    "        result=result.encode(\"utf8\")\n",
    "    return result"
   ]
  },
  {
   "cell_type": "code",
   "execution_count": 387,
   "metadata": {
    "collapsed": false
   },
   "outputs": [
    {
     "name": "stdout",
     "output_type": "stream",
     "text": [
      "être\n"
     ]
    }
   ],
   "source": [
    "print (lowerAccents(\"Être\"))"
   ]
  },
  {
   "cell_type": "code",
   "execution_count": 388,
   "metadata": {
    "collapsed": false
   },
   "outputs": [],
   "source": [
    "for line in fichier:\n",
    "    line=line.strip()\n",
    "    if line != '':\n",
    "        phrases.append(line)"
   ]
  },
  {
   "cell_type": "code",
   "execution_count": 389,
   "metadata": {
    "collapsed": false
   },
   "outputs": [],
   "source": [
    "fichier.close()"
   ]
  },
  {
   "cell_type": "markdown",
   "metadata": {},
   "source": [
    "#Lire BDLex\n",
    "extraire de BDLex 0.forme fléchie, 1.phonétique, 2.liaison, 3.cat-gram, 4.genre+nombre"
   ]
  },
  {
   "cell_type": "code",
   "execution_count": 390,
   "metadata": {
    "collapsed": false
   },
   "outputs": [],
   "source": [
    "for entry in lexicon:\n",
    "    entry=entry.strip()\n",
    "    p=entry.split(';')\n",
    "    phon[lowerAccents(p[0])]=(lowerAccents(p[0]),p[1],p[2],p[3],p[4])"
   ]
  },
  {
   "cell_type": "code",
   "execution_count": 391,
   "metadata": {
    "collapsed": true
   },
   "outputs": [],
   "source": [
    "#lexicon.close()"
   ]
  },
  {
   "cell_type": "markdown",
   "metadata": {},
   "source": [
    "#Lire les exceptions\n",
    "\n",
    "extraire du fichier d'exceptions les mêmes données que pour BDLex"
   ]
  },
  {
   "cell_type": "markdown",
   "metadata": {},
   "source": [
    "###Modif GB 12/04/14\n",
    "- fait une liste des exceptions lues pour ne pas les rajouter à la fin\n",
    "- éviter de tenir compte des exceptions non renseignées\n",
    " - les mots du fichier exceptions sans transcriptions étaient transcrits par une chaine vide..."
   ]
  },
  {
   "cell_type": "code",
   "execution_count": 392,
   "metadata": {
    "collapsed": false
   },
   "outputs": [],
   "source": [
    "if fichier_exceptions:\n",
    "    oldExceptions={}\n",
    "    for entry in exceptions:\n",
    "        entry=entry.strip()\n",
    "        p=entry.split(';')\n",
    "        if len(p[1])!=0:\n",
    "            phon[lowerAccents(p[0])]=(lowerAccents(p[0]),p[1],p[2],p[3],p[4])\n",
    "        oldExceptions[lowerAccents(p[0])]=entry\n",
    "    exceptions.close()"
   ]
  },
  {
   "cell_type": "markdown",
   "metadata": {},
   "source": [
    "## Fonctions"
   ]
  },
  {
   "cell_type": "markdown",
   "metadata": {},
   "source": [
    "### 1. Vérifier si le mot existe"
   ]
  },
  {
   "cell_type": "markdown",
   "metadata": {},
   "source": [
    "algorithme\n",
    "\n",
    "+ si le mot est dans BDLex, ok\n",
    "+ s'il y a un espace dans le mot,\n",
    "    * le mot est divisé en deux et\n",
    "    * si les mots existent dans bdlex, ok\n",
    "    * sinon les mots sont ajoutés aux nouvelles exceptions et mis entre étoiles\n",
    "+ s'il y a un apostrophe dans le mot,\n",
    "    * le mot est divisé en deux\n",
    "    * si les mots existent dans bdlex, ok\n",
    "    * sinon les mots sont ajoutés aux nouvelles exceptions et mis entre étoiles\n",
    "+ dans les autres cas, le mot est ajouté aux nouvelles exceptions et mis entre étoiles"
   ]
  },
  {
   "cell_type": "code",
   "execution_count": 393,
   "metadata": {
    "collapsed": false
   },
   "outputs": [],
   "source": [
    "def verifier_mot(mot):\n",
    "        sampa=\"\"\n",
    "        if mot in oldExceptions.keys():\n",
    "            if not mot in phon.keys():\n",
    "                print mot\n",
    "        if mot in phon.keys():\n",
    "            sampa += phon[mot][0]\n",
    "        elif \" \" in mot:\n",
    "            mots = mot.split()\n",
    "            for mot in mots:\n",
    "                if mot in phon.keys():\n",
    "                    sampa += phon[mot][0]+\" \"\n",
    "                elif mot != \"\":\n",
    "                    sampa += \"***\"+mot+\"*** \"\n",
    "        elif u\"'\" in mot:\n",
    "            mots = mot.split(u\"'\")\n",
    "            mots[0]=mots[0]+\"'\"\n",
    "            for mot in mots:\n",
    "                if mot in phon.keys():\n",
    "                    sampa += phon[mot][0]+\" \"\n",
    "                elif mot != \"\":\n",
    "                    nouvellesExceptions.append(mot)\n",
    "                    sampa += \"***\"+mot+\"*** \"\n",
    "        elif mot != \"\": \n",
    "            nouvellesExceptions.append(mot)\n",
    "            sampa=\"***\"+mot+\"*** \"\n",
    "        return sampa"
   ]
  },
  {
   "cell_type": "code",
   "execution_count": 394,
   "metadata": {
    "collapsed": false
   },
   "outputs": [
    {
     "data": {
      "text/plain": [
       "u'manger'"
      ]
     },
     "execution_count": 394,
     "metadata": {},
     "output_type": "execute_result"
    }
   ],
   "source": [
    "verifier_mot(\"manger\")"
   ]
  },
  {
   "cell_type": "code",
   "execution_count": 395,
   "metadata": {
    "collapsed": false
   },
   "outputs": [
    {
     "data": {
      "text/plain": [
       "u'manger ***mt*** '"
      ]
     },
     "execution_count": 395,
     "metadata": {},
     "output_type": "execute_result"
    }
   ],
   "source": [
    "verifier_mot(\"manger mt\")"
   ]
  },
  {
   "cell_type": "code",
   "execution_count": 396,
   "metadata": {
    "collapsed": false
   },
   "outputs": [
    {
     "data": {
      "text/plain": [
       "u\"j' ai \""
      ]
     },
     "execution_count": 396,
     "metadata": {},
     "output_type": "execute_result"
    }
   ],
   "source": [
    "verifier_mot(\"j'ai\")"
   ]
  },
  {
   "cell_type": "code",
   "execution_count": 397,
   "metadata": {
    "collapsed": false
   },
   "outputs": [
    {
     "data": {
      "text/plain": [
       "u\"y' a \""
      ]
     },
     "execution_count": 397,
     "metadata": {},
     "output_type": "execute_result"
    }
   ],
   "source": [
    "verifier_mot(\"y'a\")"
   ]
  },
  {
   "cell_type": "code",
   "execution_count": 398,
   "metadata": {
    "collapsed": false
   },
   "outputs": [
    {
     "name": "stdout",
     "output_type": "stream",
     "text": [
      "«monsieur\n"
     ]
    },
    {
     "data": {
      "text/plain": [
       "u'***\\xabmonsieur*** '"
      ]
     },
     "execution_count": 398,
     "metadata": {},
     "output_type": "execute_result"
    }
   ],
   "source": [
    "verifier_mot(u\"«monsieur\")"
   ]
  },
  {
   "cell_type": "code",
   "execution_count": 399,
   "metadata": {
    "collapsed": false
   },
   "outputs": [
    {
     "data": {
      "text/plain": [
       "u'internet'"
      ]
     },
     "execution_count": 399,
     "metadata": {},
     "output_type": "execute_result"
    }
   ],
   "source": [
    "verifier_mot(u\"internet\")"
   ]
  },
  {
   "cell_type": "code",
   "execution_count": 400,
   "metadata": {
    "collapsed": false
   },
   "outputs": [
    {
     "data": {
      "text/plain": [
       "{u'claudia': u'claudia;klodja;;;;',\n",
       " u'gere': u'gere;dZir;;;;',\n",
       " u'internet': u'internet;\\xeatErnEt;;;;',\n",
       " u'paul': u'paul;pOl;;;;',\n",
       " u'schieffer': u'schieffer;SifEr;;;;',\n",
       " u'sulitzer': u'sulitzer;sylitzEr;;;;',\n",
       " u\"y'\": u\"y';j;;;;\",\n",
       " u'\\xabmonsieur': u'\\xabmonsieur;;;;;'}"
      ]
     },
     "execution_count": 400,
     "metadata": {},
     "output_type": "execute_result"
    }
   ],
   "source": [
    "oldExceptions"
   ]
  },
  {
   "cell_type": "markdown",
   "metadata": {},
   "source": [
    "### 2. traduire le SAMPA de BDLexique en API"
   ]
  },
  {
   "cell_type": "markdown",
   "metadata": {},
   "source": [
    "#Modif GB 12/04/14\n",
    "- ajout du r et du â\n",
    "- ajout des exemples associés en dessous"
   ]
  },
  {
   "cell_type": "code",
   "execution_count": 401,
   "metadata": {
    "collapsed": false
   },
   "outputs": [],
   "source": [
    "# traduire SAMPA-BDLex en API\n",
    "def sampa2api(sampa):\n",
    "    api=re.sub(u'S',u'ʃ',sampa) \n",
    "    api=re.sub(u'Z',u'ʒ', api)\n",
    "    api=re.sub(u'N',u'ŋ',api)\n",
    "    api=re.sub(u'J',u'ɲ',api)\n",
    "    api=re.sub(u'r',u'ʁ',api) \n",
    "    api=re.sub(u'H',u'ɥ',api)\n",
    "    api=re.sub(u'E',u'ɛ',api)\n",
    "    api=re.sub(u'2',u'ø',api)\n",
    "    api=re.sub(u'9',u'œ',api)\n",
    "    api=re.sub(u'6',u'ə',api)\n",
    "    api=re.sub(u'O',u'ɔ',api)\n",
    "    api=re.sub(u'è',u'e',api)   \n",
    "    api=re.sub(u'ò',u'o',api)    \n",
    "    api=re.sub(u'â',u'ɑ̃',api)   \n",
    "    api=re.sub(u'ê',u'ɛ̃',api)   \n",
    "    api=re.sub(u'û',u'œ̃',api)  \n",
    "    api=re.sub(u'ô',u'ɔ̃',api)       \n",
    "    api=re.sub(u'@',u'ə',api)\n",
    "    api=re.sub(u'n\"',u'n',api) \n",
    "    api=re.sub(u't\"',u't',api) \n",
    "    api=re.sub(u'z\"',u'z',api) \n",
    "    api=re.sub(u'R\"',u'ʁ',api) \n",
    "    api=re.sub(u'p\"',u'p',api) \n",
    "    return api"
   ]
  },
  {
   "cell_type": "code",
   "execution_count": 402,
   "metadata": {
    "collapsed": false
   },
   "outputs": [
    {
     "data": {
      "text/plain": [
       "u'e'"
      ]
     },
     "execution_count": 402,
     "metadata": {},
     "output_type": "execute_result"
    }
   ],
   "source": [
    "sampa2api(phon[\"ai\"][1])"
   ]
  },
  {
   "cell_type": "code",
   "execution_count": 403,
   "metadata": {
    "collapsed": false
   },
   "outputs": [
    {
     "data": {
      "text/plain": [
       "u'\\u0283a'"
      ]
     },
     "execution_count": 403,
     "metadata": {},
     "output_type": "execute_result"
    }
   ],
   "source": [
    "sampa2api(phon[\"chat\"][1])"
   ]
  },
  {
   "cell_type": "code",
   "execution_count": 404,
   "metadata": {
    "collapsed": false
   },
   "outputs": [
    {
     "data": {
      "text/plain": [
       "u'ok\\u0153\\u0303'"
      ]
     },
     "execution_count": 404,
     "metadata": {},
     "output_type": "execute_result"
    }
   ],
   "source": [
    "sampa2api(phon[\"aucun\"][1])"
   ]
  },
  {
   "cell_type": "code",
   "execution_count": 405,
   "metadata": {
    "collapsed": false
   },
   "outputs": [
    {
     "data": {
      "text/plain": [
       "u'\\u0283\\u0251\\u0303'"
      ]
     },
     "execution_count": 405,
     "metadata": {},
     "output_type": "execute_result"
    }
   ],
   "source": [
    "sampa2api(phon[\"chant\"][1])"
   ]
  },
  {
   "cell_type": "code",
   "execution_count": 406,
   "metadata": {
    "collapsed": false
   },
   "outputs": [
    {
     "data": {
      "text/plain": [
       "u'ma\\u0281\\u0283e'"
      ]
     },
     "execution_count": 406,
     "metadata": {},
     "output_type": "execute_result"
    }
   ],
   "source": [
    "sampa2api(phon[u\"marché\"][1])"
   ]
  },
  {
   "cell_type": "code",
   "execution_count": 407,
   "metadata": {
    "collapsed": false
   },
   "outputs": [
    {
     "data": {
      "text/plain": [
       "u'm\\u0259sj\\xf8'"
      ]
     },
     "execution_count": 407,
     "metadata": {},
     "output_type": "execute_result"
    }
   ],
   "source": [
    "sampa2api(phon[\"monsieur\"][1])"
   ]
  },
  {
   "cell_type": "markdown",
   "metadata": {},
   "source": [
    "### 3. trimer le mot en cours"
   ]
  },
  {
   "cell_type": "markdown",
   "metadata": {},
   "source": [
    "algorithme\n",
    "\n",
    "+ la ponctuation est remplacée par un espace\n",
    "+ les espaces aux extrémités sont effacés\n",
    "+ le mot est mis en minuscules"
   ]
  },
  {
   "cell_type": "code",
   "execution_count": 408,
   "metadata": {
    "collapsed": false
   },
   "outputs": [],
   "source": [
    "def trimer(mot):\n",
    "    mot=lowerAccents(mot)\n",
    "    for p in u',;.:-?!()“”‘’‛‟′″´˝\"«»':\n",
    "        mot=mot.replace(p, ' ')\n",
    "    mot=mot.strip()\n",
    "    return mot"
   ]
  },
  {
   "cell_type": "code",
   "execution_count": 409,
   "metadata": {
    "collapsed": false
   },
   "outputs": [
    {
     "data": {
      "text/plain": [
       "u'trois'"
      ]
     },
     "execution_count": 409,
     "metadata": {},
     "output_type": "execute_result"
    }
   ],
   "source": [
    "trimer(u\",;. :trois-?!( )\")"
   ]
  },
  {
   "cell_type": "code",
   "execution_count": 410,
   "metadata": {
    "collapsed": false
   },
   "outputs": [
    {
     "data": {
      "text/plain": [
       "u'essai chaud'"
      ]
     },
     "execution_count": 410,
     "metadata": {},
     "output_type": "execute_result"
    }
   ],
   "source": [
    "trimer(\"(essai)chaud\")"
   ]
  },
  {
   "cell_type": "code",
   "execution_count": 411,
   "metadata": {
    "collapsed": false
   },
   "outputs": [
    {
     "data": {
      "text/plain": [
       "u'gar\\xe7on  monsieur'"
      ]
     },
     "execution_count": 411,
     "metadata": {},
     "output_type": "execute_result"
    }
   ],
   "source": [
    "trimer(\"Garçon, monsieur.\")"
   ]
  },
  {
   "cell_type": "code",
   "execution_count": 412,
   "metadata": {
    "collapsed": false
   },
   "outputs": [
    {
     "name": "stdout",
     "output_type": "stream",
     "text": [
      "pêché\n"
     ]
    }
   ],
   "source": [
    "print (trimer(\"PÊCHÉ\"))"
   ]
  },
  {
   "cell_type": "code",
   "execution_count": 413,
   "metadata": {
    "collapsed": false
   },
   "outputs": [
    {
     "data": {
      "text/plain": [
       "u'vont ils'"
      ]
     },
     "execution_count": 413,
     "metadata": {},
     "output_type": "execute_result"
    }
   ],
   "source": [
    "trimer(\"vont-ils\")"
   ]
  },
  {
   "cell_type": "code",
   "execution_count": 414,
   "metadata": {
    "collapsed": false
   },
   "outputs": [
    {
     "data": {
      "text/plain": [
       "u'j ai'"
      ]
     },
     "execution_count": 414,
     "metadata": {},
     "output_type": "execute_result"
    }
   ],
   "source": [
    "trimer(\"j‘ai\")"
   ]
  },
  {
   "cell_type": "code",
   "execution_count": 415,
   "metadata": {
    "collapsed": false
   },
   "outputs": [
    {
     "data": {
      "text/plain": [
       "u'y a'"
      ]
     },
     "execution_count": 415,
     "metadata": {},
     "output_type": "execute_result"
    }
   ],
   "source": [
    "trimer(\"«y’a»\")"
   ]
  },
  {
   "cell_type": "code",
   "execution_count": 416,
   "metadata": {
    "collapsed": false
   },
   "outputs": [
    {
     "data": {
      "text/plain": [
       "u'monsieur'"
      ]
     },
     "execution_count": 416,
     "metadata": {},
     "output_type": "execute_result"
    }
   ],
   "source": [
    "trimer(u\"«monsieur,\")"
   ]
  },
  {
   "cell_type": "code",
   "execution_count": 417,
   "metadata": {
    "collapsed": false
   },
   "outputs": [
    {
     "data": {
      "text/plain": [
       "u'internet'"
      ]
     },
     "execution_count": 417,
     "metadata": {},
     "output_type": "execute_result"
    }
   ],
   "source": [
    "trimer(u\"Internet,\")"
   ]
  },
  {
   "cell_type": "markdown",
   "metadata": {},
   "source": [
    "### 4. Vérifier si la liaison est possible"
   ]
  },
  {
   "cell_type": "markdown",
   "metadata": {},
   "source": [
    "algorithme\n",
    "\n",
    "+ si le mot courant et le suivant ne sont pas dans lexicon, pas de liaison\n",
    "+ si le mot a une consonne dans le champ de la voyelle de liaison, check1 est vrai\n",
    "+ si le mot suivant commence par une voyelle, check2 est vrai\n",
    "\n",
    "  si check1 et check2 sont vrais, il y a liaison"
   ]
  },
  {
   "cell_type": "code",
   "execution_count": 418,
   "metadata": {
    "collapsed": false
   },
   "outputs": [],
   "source": [
    "def liaison_possible(phrase ,mot , mot_numero):\n",
    "    check1=0\n",
    "    check2=0\n",
    "    if mot in phon and phrase[mot_numero+1] in phon:\n",
    "        consonnes=['k\"', '(kt)\"', 'n\"', 'p\"', 'R\"', '@t\"', 't\"', '-V', '+V', '@z\"', 'z\"']\n",
    "        phoneme=phon[mot][2]\n",
    "        for phoneme in consonnes:\n",
    "            check1=1\n",
    "        \n",
    "        voyelles=[u\"H\", u\"j\", u\"w\", \n",
    "                  u\"i\"\n",
    "                  u\"y\", \n",
    "                  u\"u\", u\"û\",  \n",
    "                  u\"a\", u\"â\"\n",
    "                  u\"O\", u\"ò\", u\"o\", u\"ô\", \n",
    "                  u\"E\", u\"è\", u\"e\", u\"ê\", \n",
    "                  u\"2\", u\"9\", u\"6\", u\"@\", \n",
    "                  ]\n",
    "        mot_suivant=phon[phrase[mot_numero+1]][1]\n",
    "        for v in voyelles:\n",
    "            if mot_suivant.startswith(v):\n",
    "                check2=1\n",
    "\n",
    "    if check1 and check2 :\n",
    "        return True\n",
    "    else:\n",
    "        return False"
   ]
  },
  {
   "cell_type": "markdown",
   "metadata": {},
   "source": [
    "### 5. vérifier si la liaison est obligatoire"
   ]
  },
  {
   "cell_type": "markdown",
   "metadata": {},
   "source": [
    "algorithme\n",
    "\n",
    "+ si le mot courant et le suivant sont dans un des cas de figure, il y a liaison\n",
    "+ sinon pas de liaison"
   ]
  },
  {
   "cell_type": "code",
   "execution_count": 419,
   "metadata": {
    "collapsed": false
   },
   "outputs": [],
   "source": [
    "def liaison_obligatoire(phrase, mot, mot_numero):\n",
    "    determinant=[\"d\", \"P\"]\n",
    "    nom=[\"N\", \"G\", \"M\"]\n",
    "    adjectif=[\"J\", \"G\", \"M\"]\n",
    "    pronompers=[\"P\"]\n",
    "    verbe=[\"V\"]\n",
    "    catgram_mot1=phon[phrase[mot_numero]][3]\n",
    "    catgram_mot2=phon[phrase[mot_numero+1]][3]\n",
    "\n",
    "    if catgram_mot1 in determinant and catgram_mot2 in nom :\n",
    "        return True\n",
    "\n",
    "    elif catgram_mot1 in determinant and catgram_mot2 in adjectif :\n",
    "        return True\n",
    " \n",
    "    elif catgram_mot1 in pronompers and catgram_mot2 in verbe :\n",
    "        return True\n",
    "\n",
    "    elif catgram_mot1 in verbe and catgram_mot2 in pronompers :\n",
    "        return True\n",
    "\n",
    "    else:\n",
    "        return False"
   ]
  },
  {
   "cell_type": "code",
   "execution_count": 420,
   "metadata": {
    "collapsed": false
   },
   "outputs": [
    {
     "data": {
      "text/plain": [
       "(u'sommes', u'sOm', u'@', u'V', u'2S')"
      ]
     },
     "execution_count": 420,
     "metadata": {},
     "output_type": "execute_result"
    }
   ],
   "source": [
    "phon[\"sommes\"]"
   ]
  },
  {
   "cell_type": "code",
   "execution_count": 421,
   "metadata": {
    "collapsed": false
   },
   "outputs": [
    {
     "data": {
      "text/plain": [
       "(u'armes', u'arm', u'@', u'V', u'2S')"
      ]
     },
     "execution_count": 421,
     "metadata": {},
     "output_type": "execute_result"
    }
   ],
   "source": [
    "phon[\"armes\"]"
   ]
  },
  {
   "cell_type": "code",
   "execution_count": 422,
   "metadata": {
    "collapsed": false
   },
   "outputs": [
    {
     "data": {
      "text/plain": [
       "(u'cet', u'sEt', u'+V', u'd', u'MS')"
      ]
     },
     "execution_count": 422,
     "metadata": {},
     "output_type": "execute_result"
    }
   ],
   "source": [
    "phon[\"cet\"]"
   ]
  },
  {
   "cell_type": "code",
   "execution_count": 423,
   "metadata": {
    "collapsed": false
   },
   "outputs": [
    {
     "data": {
      "text/plain": [
       "(u'monsieur', u'm6sj2', u'', u'N', u'MS')"
      ]
     },
     "execution_count": 423,
     "metadata": {},
     "output_type": "execute_result"
    }
   ],
   "source": [
    "phon[\"monsieur\"]"
   ]
  },
  {
   "cell_type": "markdown",
   "metadata": {},
   "source": [
    "Cas de figure possibles:\n",
    "\n",
    "- DET + N\n",
    "    * ri + N:   d'animal, \n",
    "    * di + N:   certains éléphants\n",
    "    * rd + N:   les animaux\n",
    "    * dd + N:   ces étés, cet été\n",
    "    * dp + N:   ton anorak\n",
    "    * rc + N:   aux armes\n",
    "- DET + ADJ:\n",
    "    * ri + ADJ:   d'énormes\n",
    "    * di + ADJ:   plusieurs immenses\n",
    "    * rd + ADJ:   les immenses\n",
    "    * dd + ADJ:   cet immense\n",
    "    * dp + ADJ:   son immense\n",
    "    * rc + ADJ:   aux immenses\n",
    "- PERS + V:\n",
    "    * SS + V:   m'épate\n",
    "- V + PRO PERS: \n",
    "    * V + SS:   vont-ils\n"
   ]
  },
  {
   "cell_type": "markdown",
   "metadata": {},
   "source": [
    "algorithme\n",
    "\n",
    "+ si le mot courant et le suivant sont dans un des cas de figure, il y a liaison\n",
    "+ sinon pas de liaison"
   ]
  },
  {
   "cell_type": "code",
   "execution_count": 424,
   "metadata": {
    "collapsed": false
   },
   "outputs": [],
   "source": [
    "# vérifier si la liaison est facultative\n",
    "def liaison_facultative(phrase, mot, mot_numero):\n",
    "    #pdb.set_trace()\n",
    "    nom=[\"N\", \"G\", \"M\"]\n",
    "    pluriel=[\"MP\", \"FP\"]\n",
    "    adjectif=[\"J\", \"G\", \"M\"]\n",
    "    verbe=[\"V\"]\n",
    "    pronompers=[\"P\"]\n",
    "    adverbe=[\"A\"]\n",
    "    preposition=[\"p\"]\n",
    "    catgram_mot1=phon[phrase[mot_numero]][3]\n",
    "    catgram_mot2=phon[phrase[mot_numero+1]][3]\n",
    "    genre_mot1=phon[phrase[mot_numero]][4]\n",
    "    \n",
    "    if (catgram_mot1 in nom) and (phon[phrase[mot_numero]][4] in pluriel) and (catgram_mot2 in adjectif) : \n",
    "        return True\n",
    "\n",
    "    elif (catgram_mot1 in verbe) and (catgram_mot2 not in pronompers):\n",
    "        return True\n",
    "\n",
    "    elif catgram_mot1 in adverbe :\n",
    "        return True\n",
    "    \n",
    "    elif catgram_mot1 in preposition : \n",
    "        return True\n",
    "\n",
    "    else :\n",
    "        return False"
   ]
  },
  {
   "cell_type": "markdown",
   "metadata": {},
   "source": [
    "Cas de figure possibles :\n",
    "\n",
    "- N pl + ADJ: \n",
    "    * N + ADJ: monstres énormes \n",
    "    * G + ADJ: rivaux énormes\n",
    "- VERBE + TOUT-SAUF-PRO-PERS:\n",
    "    * V + N sont éléphants\n",
    "    * V + G sommes abdicaires\n",
    "    * V + V sommes assis\n",
    "    * V + A sommes admirablement\n",
    "    * V + p sommes autour de\n",
    "    * V + di ont aucune\n",
    "    * V + rc sommes au\n",
    "- ADV + QQCH:\n",
    "    * ADV + N vraiment abruti\n",
    "    * ADV + G vraiment abandonné\n",
    "    * ADV + V vraiment aimé\n",
    "    * ADV + J vraiment étonnant\n",
    "    * ADV + ss vraiment ils\n",
    "    * ADV + A vraiment étonnamment\n",
    "    * ADV + p vraiment attendu\n",
    "    * ADV + di vraiment autre \n",
    "    * ADV + rc vraiment au\n",
    "- PREP + QQCH:\n",
    "    * PREP + N très amoureux\n",
    "    * PREP + G très abandonné\n",
    "    * PREP + V très aimé\n",
    "    * PREP + J très étonnant\n",
    "    * PREP + SS très ils\n",
    "    * PREP + A très étonnamment\n",
    "    * PREP + p très attendu\n",
    "    * PREP + di très autre\n",
    "    * PREP + rc très au\n"
   ]
  },
  {
   "cell_type": "markdown",
   "metadata": {},
   "source": [
    "## Traitement"
   ]
  },
  {
   "cell_type": "markdown",
   "metadata": {},
   "source": [
    "+ Partie 1\n",
    "*chaque phrase est prise individuellement,\n",
    "    * découpée en blocs,\n",
    "        * qui sont chacuns trimés si ce sont des mots\n",
    "        * s'il y a plusieurs mots dans le bloc, ils sont séparés\n",
    "    + Partie 2\n",
    "    * pour chaque couple de mots\n",
    "        * si la liaison est possible,\n",
    "            * et qu'elle est obligatoire, l'api avec la liaison est généré\n",
    "            * et qu'elle est facultative,\n",
    "                * si l'utilisateur l'a choisi, l'api avec la liaison est généré\n",
    "                * sinon l'api sans la liaison est généré\n",
    "\n",
    "        + Partie 3\n",
    "        * si la liaison n'est pas possible,\n",
    "            * si le mot est dans bdlex, l'api est généré\n",
    "            * sinon le mot est laissé tel quel (il a déjà les étoiles)        \n",
    "\n",
    "    * pour le dernier mot de la phrase, \n",
    "        * si le mot est dans bdlex, l'api est généré\n",
    "        * sinon le mot est laissé tel quel (il a déjà les étoiles) \n",
    "\n",
    "+ Partie 4\n",
    "* le message à l'utilisateur et la phrase en api est imprimée"
   ]
  },
  {
   "cell_type": "markdown",
   "metadata": {},
   "source": [
    "#Modif GB 12/04/14\n",
    "- suppression du délai dans la boucle\n",
    " - pour 1500 lignes => 3 secondes sans ralentisseur, 1503 secondes avec "
   ]
  },
  {
   "cell_type": "code",
   "execution_count": 425,
   "metadata": {
    "collapsed": true
   },
   "outputs": [],
   "source": [
    "def listerMotsCorpus(lignes):\n",
    "    phrases=[]\n",
    "    motsPhrases=[]\n",
    "    elementsPhrases=[]\n",
    "    motsCorpus=set()\n",
    "    nPhrases=0\n",
    "    for ligne in lignes:\n",
    "        line=ligne.strip()\n",
    "    #    print nPhrases, line\n",
    "        phrases.append(line)\n",
    "        elements=re.findall(ur\"[\\wâàéèêëîïôùûüçÂÀÉÈÊËÎÏÔÙÛÜÇæœÆŒ]+['’]?|[-.…,—–()\\[\\]\\/#\\\"“”‘«»<>'’=~]| [;!?:]\", line)\n",
    "        mots=[x for x in elements if not x in u\"-.…,—–()\\[\\]\\/#\\\"“”‘«»<>'’=~\" and not x in [\" ;\",\" !\",\" ?\",\" :\"]]\n",
    "        elements=[x for x in elements if x!=\" \"]\n",
    "        elementsPhrases.append(elements)\n",
    "        phrasePropre = u\"\"\n",
    "        for mot in mots:\n",
    "            mot = trimer(mot)\n",
    "            phrasePropre += mot+u\" \"\n",
    "            motsCorpus.add(mot)\n",
    "        phraseMots = phrasePropre.strip()\n",
    "        phraseMots = phrasePropre.split()        \n",
    "        motsPhrases.append(phraseMots)\n",
    "        nPhrases+=1\n",
    "    return (motsCorpus,motsPhrases,elementsPhrases)"
   ]
  },
  {
   "cell_type": "code",
   "execution_count": 426,
   "metadata": {
    "collapsed": true
   },
   "outputs": [],
   "source": [
    "def extraireMotsCorpus(motsCorpus,dictPhon):\n",
    "    for entry in lexicon:\n",
    "        entry=entry.strip()\n",
    "        p=entry.split(u';')\n",
    "        if p[0].lower() in motsCorpus:\n",
    "#            print entry\n",
    "            if p[2]==\"@\" and not p[3] in [\"N\",\"V\",\"J\",\"K\"]:\n",
    "                p[1]+=p[2]\n",
    "                p[2]=\"\"\n",
    "                if len(p)<7:\n",
    "                    for i in range(len(p)+1,7):\n",
    "                        p.append(\"\")\n",
    "            dictPhon[p[0].lower()]=(p[0],p[1],p[2],p[3],p[4],p[5],p[6],p[7],p[8],p[9])\n",
    "    return phon\n"
   ]
  },
  {
   "cell_type": "code",
   "execution_count": 427,
   "metadata": {
    "collapsed": true
   },
   "outputs": [],
   "source": [
    "def extraireMotsCorpus(motsCorpus,dictPhon):\n",
    "    localPhon={}\n",
    "    for mot in motsCorpus:\n",
    "        lowerMot=mot.lower()\n",
    "        if lowerMot in dictPhon:\n",
    "            localPhon[lowerMot]=dictPhon[lowerMot]\n",
    "    return localPhon\n"
   ]
  },
  {
   "cell_type": "code",
   "execution_count": 428,
   "metadata": {
    "collapsed": false
   },
   "outputs": [],
   "source": [
    "(motsCorpus,motsPhrases,elementsPhrases)=listerMotsCorpus(phrases)\n",
    "#print motsCorpus\n",
    "#phon={}\n",
    "phon=extraireMotsCorpus(motsCorpus,phon)"
   ]
  },
  {
   "cell_type": "code",
   "execution_count": 429,
   "metadata": {
    "collapsed": false
   },
   "outputs": [
    {
     "data": {
      "text/html": [
       "\n",
       "<style>\n",
       "div.output_area pre {\n",
       "    font-family: Lucida Grande, monospace;\n",
       "font-size: 14pt;\n",
       "}\n",
       "</style>\n"
      ],
      "text/plain": [
       "<IPython.core.display.HTML object>"
      ]
     },
     "execution_count": 429,
     "metadata": {},
     "output_type": "execute_result"
    }
   ],
   "source": [
    "from IPython.core.display import HTML\n",
    "HTML(\"\"\"\n",
    "<style>\n",
    "div.output_area pre {\n",
    "    font-family: Lucida Grande, monospace;\n",
    "font-size: 14pt;\n",
    "}\n",
    "</style>\n",
    "\"\"\")"
   ]
  },
  {
   "cell_type": "code",
   "execution_count": 430,
   "metadata": {
    "collapsed": false,
    "scrolled": true
   },
   "outputs": [
    {
     "name": "stdout",
     "output_type": "stream",
     "text": [
      "1 sur 36\n",
      "il a tuʁne sa vi dɑ̃ tus le sɑ̃\n",
      "\n",
      "\u00142 sur 36\n",
      "puʁ savwaʁ si sa ave œ̃ sɑ̃ l ɛgzistɑ̃s\n",
      "\n",
      "\u00143 sur 36\n",
      "il a dəmɑ̃de lœʁ avi a de ta d ʒɑ̃ ʁavi\n",
      "\n",
      "\u00144 sur 36\n",
      "ʁavi d done lœʁ avi syʁ la vi\n",
      "\n",
      "\u00145 sur 36\n",
      "il a tʁavɛʁse le vapœʁ de dɛʁviʃ tuʁnœʁ\n",
      "\n",
      "\u00146 sur 36\n",
      "dez aʃiʃ fymœʁ e il a di\n",
      "\n",
      "\u00147 sur 36\n",
      "la vi n vo ʁjɛ̃ ʁjɛ̃ la vi n vo ʁjɛ̃\n",
      "\n",
      "\u00148 sur 36\n",
      "me mwa kɑ̃ ʒ tjɛ̃ tjɛ̃ me mwa kɑ̃ ʒ tjɛ̃\n",
      "\n",
      "\u00149 sur 36\n",
      "la dɑ̃ me dø mɛ̃ eblui\n",
      "\n",
      "\u001410 sur 36\n",
      "le dø ʒoli pəti sɛ̃ d mɔ̃n ami\n",
      "\n",
      "\u001411 sur 36\n",
      "la ʒ di ʁjɛ̃ ʁjɛ̃ ʁjɛ̃ ʁjɛ̃ n vo la vi\n",
      "\n",
      "\u001412 sur 36\n",
      "il a vy l ɛspas ki pas\n",
      "\n",
      "\u001413 sur 36\n",
      "ɑ̃tʁ la dʒɛt sɛt le fast le palas\n",
      "\n",
      "\u001414 sur 36\n",
      "e pɥi le tɛknisjɛ̃ d syʁfas\n",
      "\n",
      "\u001415 sur 36\n",
      "d otʁəz ɛspɛʁ dɑ̃ le kloʃe le monastɛʁ\n",
      "\n",
      "\u001416 sur 36\n",
      "vwaʁ l vjø sɛʁʒɑ̃ pepɛʁ me s n e k ʁiʃaʁ dʒiʁ\n",
      "\n",
      "\u001417 sur 36\n",
      "il e ɑ̃tʁe kɔm œ̃ ɛ̃sɛkt syʁ sit d ɛ̃tɛʁnɛt\n",
      "\n",
      "\u001418 sur 36\n",
      "vwaʁ le ʒɑ̃ de sɛkt e il a di\n",
      "\n",
      "\u001419 sur 36\n",
      "la vi n vo ʁjɛ̃ ʁjɛ̃ la vi n vo ʁjɛ̃\n",
      "\n",
      "\u001420 sur 36\n",
      "me mwa kɑ̃ ʒ tjɛ̃ tjɛ̃ me mwa kɑ̃ ʒ tjɛ̃\n",
      "\n",
      "\u001421 sur 36\n",
      "la dɑ̃ me dø mɛ̃ eblui\n",
      "\n",
      "\u001422 sur 36\n",
      "le dø ʒoli pəti sɛ̃ d mɔ̃n ami\n",
      "\n",
      "\u001423 sur 36\n",
      "la ʒ di ʁjɛ̃ ʁjɛ̃ ʁjɛ̃ ʁjɛ̃ n vo la vi\n",
      "\n",
      "\u001424 sur 36\n",
      "il a vy mɑ̃k d amuʁ mɑ̃k d aʁʒɑ̃\n",
      "\n",
      "\u001425 sur 36\n",
      "kɔm la vi s e detɛʁʒɑ̃\n",
      "\n",
      "\u001426 sur 36\n",
      "e kɔm sa netwa le ʒɑ̃\n",
      "\n",
      "\u001427 sur 36\n",
      "il a ʒue ʒø ɛ̃tɛʁdi puʁ dez ami ɑ̃dɔʁmi la nostalʒi\n",
      "\n",
      "\u001428 sur 36\n",
      "e il a di\n",
      "\n",
      "\u001429 sur 36\n",
      "la vi n vo ʁjɛ̃ ʁjɛ̃ la vi n vo ʁjɛ̃\n",
      "\n",
      "\u001430 sur 36\n",
      "me mwa kɑ̃ ʒ tjɛ̃ tjɛ̃ me mwa kɑ̃ ʒ tjɛ̃\n",
      "\n",
      "\u001431 sur 36\n",
      "la dɑ̃ me dø mɛ̃ eblui\n",
      "\n",
      "\u001432 sur 36\n",
      "le dø ʒoli pəti sɛ̃ d mɔ̃n ami\n",
      "\n",
      "\u001433 sur 36\n",
      "la ʒ di ʁjɛ̃ ʁjɛ̃ ʁjɛ̃ ʁjɛ̃ n vo la vi\n",
      "\n",
      "\u001434 sur 36\n",
      "ʁjɛ̃ ʁjɛ̃ ʁjɛ̃ ʁjɛ̃ n vo la vi\n",
      "\n",
      "\u001435 sur 36\n",
      "ʁjɛ̃ ʁjɛ̃ ʁjɛ̃ ʁjɛ̃ n vo la vi\n",
      "\n",
      "\u001436 sur 36\n",
      "lɔ̃tɑ̃ ʒ m sɥi kuʃe d bon œʁ\n",
      "\n",
      "\u0014CPU times: user 18.6 ms, sys: 5.52 ms, total: 24.2 ms\n",
      "Wall time: 1.02 s\n"
     ]
    }
   ],
   "source": [
    "%%time\n",
    "a=1\n",
    "for phrase in phrases:\n",
    "    api = \"\"\n",
    "    mots=re.split(u\"[->< /@\\_]\", phrase)\n",
    "    phrasePropre = u\"\"\n",
    "    for mot in mots:\n",
    "        mot = trimer(mot)\n",
    "        mot = verifier_mot(mot)\n",
    "        phrasePropre += mot+u\" \"\n",
    "    phrasePropre = phrasePropre.strip()\n",
    "    phraseMots = phrasePropre.split()\n",
    "\n",
    "    # partie 2    \n",
    "    mot_numero=0\n",
    "    while mot_numero <= len(phraseMots)-2:\n",
    "        \n",
    "        if liaison_possible(phraseMots, phraseMots[mot_numero], mot_numero):\n",
    " \n",
    "            if liaison_obligatoire(phraseMots, phraseMots[mot_numero], mot_numero):\n",
    "                api += sampa2api(phon[phraseMots[mot_numero]][1])+sampa2api(phon[phraseMots[mot_numero]][2]+\" \")\n",
    "\n",
    "            elif liaison_facultative(phraseMots, phraseMots[mot_numero], mot_numero):\n",
    "                if facultatives:\n",
    "                    api += sampa2api(phon[phraseMots[mot_numero]][1])+sampa2api(phon[phraseMots[mot_numero]][2]+\" \")\n",
    "                else :\n",
    "                    api += sampa2api(phon[phraseMots[mot_numero]][1])+\" \"\n",
    "            else:\n",
    "                if phraseMots[mot_numero] in phon:\n",
    "                    api += sampa2api(phon[phraseMots[mot_numero]][1]+\" \")\n",
    "                else:\n",
    "                    api += phraseMots[mot_numero]+\" \"\n",
    "        # partie 3\n",
    "        else:\n",
    "            if phraseMots[mot_numero] in phon:\n",
    "                api += sampa2api(phon[phraseMots[mot_numero]][1]+\" \")\n",
    "            else:\n",
    "                api += phraseMots[mot_numero]+\" \"\n",
    "        mot_numero = mot_numero+1\n",
    "    \n",
    "    if phraseMots[len(phraseMots)-1] in phon:\n",
    "        api += sampa2api(phon[phraseMots[len(phraseMots)-1]][1])\n",
    "    else:\n",
    "        api += phraseMots[mot_numero]\n",
    "    \n",
    "    # partie 4\n",
    "    sys.stdout.write(str(a)+\" sur \"+ str(len(phrases))+\"\\n\"+api+\"\\n\\n\"+chr(20))\n",
    "    #\n",
    "    # CE BLOC REGLE LE NOMBRE DE PHRASES A TRAITER AVANT D'AFFICHER LE RESULTAT\n",
    "    #\n",
    "    if a%25==0:\n",
    "        sys.stdout.flush()\n",
    "        time.sleep(1)\n",
    "    a=a+1\n",
    "    output.append(api)"
   ]
  },
  {
   "cell_type": "markdown",
   "metadata": {},
   "source": [
    "#Modif GB 12/04/14\n",
    "- Insertion d'un set sur les nouvellesExceptions pour éviter les entrées multiples\n",
    "- Ajout d'un test pour vérifier que les nouvellesExceptions sont nouvelles\n",
    "\n",
    "#TO DO\n",
    "- Ajouter un message pour dire que le résultat a été concaténé au fichier existant si c'est le cas."
   ]
  },
  {
   "cell_type": "code",
   "execution_count": 431,
   "metadata": {
    "collapsed": false
   },
   "outputs": [],
   "source": [
    "#1.2.a. mettre la liste des inconnus dans le fichier inconnus.txt\n",
    "with codecs.open(prefixe+\"inconnus.txt\", \"w\", \"utf8\") as f:\n",
    "    for ligne in sorted(oldExceptions, key=lambda key: oldExceptions[key]):\n",
    "        f.write(oldExceptions[ligne])\n",
    "        f.write(\"\\n\")        \n",
    "    for n in set(nouvellesExceptions):\n",
    "        if not (n in oldExceptions.keys()): \n",
    "            f.write(n+\";;;;;\")\n",
    "            f.write(\"\\n\")\n",
    "        \n",
    "#1.2.b. mettre les phrases phonémisées dans un fichier\n",
    "with codecs.open(prefixe+\"phonemise.txt\", \"w\", \"utf8\") as f:\n",
    "    for o in output:\n",
    "        f.write(o)\n",
    "        f.write(\"\\n\")\n",
    "\n",
    "with codecs.open(prefixe+\"verification.txt\", \"w\", \"utf8\") as f:\n",
    "    for a in range(len(output)-2):\n",
    "        f.write(phrases[a]+\"\\n\"+output[a])\n",
    "        f.write(\"\\n\\n\")"
   ]
  },
  {
   "cell_type": "code",
   "execution_count": 432,
   "metadata": {
    "collapsed": false
   },
   "outputs": [
    {
     "ename": "IOError",
     "evalue": "[Errno 2] No such file or directory: 'phonemizer.css'",
     "output_type": "error",
     "traceback": [
      "\u001b[0;31m---------------------------------------------------------------------------\u001b[0m",
      "\u001b[0;31mIOError\u001b[0m                                   Traceback (most recent call last)",
      "\u001b[0;32m<ipython-input-432-d206e56bee2f>\u001b[0m in \u001b[0;36m<module>\u001b[0;34m()\u001b[0m\n\u001b[1;32m      3\u001b[0m     \u001b[0mstyles\u001b[0m \u001b[0;34m=\u001b[0m \u001b[0mopen\u001b[0m\u001b[0;34m(\u001b[0m\u001b[0;34m\"phonemizer.css\"\u001b[0m\u001b[0;34m,\u001b[0m \u001b[0;34m\"r\"\u001b[0m\u001b[0;34m)\u001b[0m\u001b[0;34m.\u001b[0m\u001b[0mread\u001b[0m\u001b[0;34m(\u001b[0m\u001b[0;34m)\u001b[0m\u001b[0;34m\u001b[0m\u001b[0m\n\u001b[1;32m      4\u001b[0m     \u001b[0;32mreturn\u001b[0m \u001b[0mHTML\u001b[0m\u001b[0;34m(\u001b[0m\u001b[0mstyles\u001b[0m\u001b[0;34m)\u001b[0m\u001b[0;34m\u001b[0m\u001b[0m\n\u001b[0;32m----> 5\u001b[0;31m \u001b[0mcss_styling\u001b[0m\u001b[0;34m(\u001b[0m\u001b[0;34m)\u001b[0m\u001b[0;34m\u001b[0m\u001b[0m\n\u001b[0m",
      "\u001b[0;32m<ipython-input-432-d206e56bee2f>\u001b[0m in \u001b[0;36mcss_styling\u001b[0;34m()\u001b[0m\n\u001b[1;32m      1\u001b[0m \u001b[0;32mfrom\u001b[0m \u001b[0mIPython\u001b[0m\u001b[0;34m.\u001b[0m\u001b[0mcore\u001b[0m\u001b[0;34m.\u001b[0m\u001b[0mdisplay\u001b[0m \u001b[0;32mimport\u001b[0m \u001b[0mHTML\u001b[0m\u001b[0;34m\u001b[0m\u001b[0m\n\u001b[1;32m      2\u001b[0m \u001b[0;32mdef\u001b[0m \u001b[0mcss_styling\u001b[0m\u001b[0;34m(\u001b[0m\u001b[0;34m)\u001b[0m\u001b[0;34m:\u001b[0m\u001b[0;34m\u001b[0m\u001b[0m\n\u001b[0;32m----> 3\u001b[0;31m     \u001b[0mstyles\u001b[0m \u001b[0;34m=\u001b[0m \u001b[0mopen\u001b[0m\u001b[0;34m(\u001b[0m\u001b[0;34m\"phonemizer.css\"\u001b[0m\u001b[0;34m,\u001b[0m \u001b[0;34m\"r\"\u001b[0m\u001b[0;34m)\u001b[0m\u001b[0;34m.\u001b[0m\u001b[0mread\u001b[0m\u001b[0;34m(\u001b[0m\u001b[0;34m)\u001b[0m\u001b[0;34m\u001b[0m\u001b[0m\n\u001b[0m\u001b[1;32m      4\u001b[0m     \u001b[0;32mreturn\u001b[0m \u001b[0mHTML\u001b[0m\u001b[0;34m(\u001b[0m\u001b[0mstyles\u001b[0m\u001b[0;34m)\u001b[0m\u001b[0;34m\u001b[0m\u001b[0m\n\u001b[1;32m      5\u001b[0m \u001b[0mcss_styling\u001b[0m\u001b[0;34m(\u001b[0m\u001b[0;34m)\u001b[0m\u001b[0;34m\u001b[0m\u001b[0m\n",
      "\u001b[0;31mIOError\u001b[0m: [Errno 2] No such file or directory: 'phonemizer.css'"
     ]
    }
   ],
   "source": [
    "from IPython.core.display import HTML\n",
    "def css_styling():\n",
    "    styles = open(\"phonemizer.css\", \"r\").read()\n",
    "    return HTML(styles)\n",
    "css_styling()\n"
   ]
  },
  {
   "cell_type": "code",
   "execution_count": null,
   "metadata": {
    "collapsed": true
   },
   "outputs": [],
   "source": []
  }
 ],
 "metadata": {
  "kernelspec": {
   "display_name": "Python 2",
   "language": "python",
   "name": "python2"
  },
  "language_info": {
   "codemirror_mode": {
    "name": "ipython",
    "version": 2
   },
   "file_extension": ".py",
   "mimetype": "text/x-python",
   "name": "python",
   "nbconvert_exporter": "python",
   "pygments_lexer": "ipython2",
   "version": "2.7.11"
  }
 },
 "nbformat": 4,
 "nbformat_minor": 0
}
