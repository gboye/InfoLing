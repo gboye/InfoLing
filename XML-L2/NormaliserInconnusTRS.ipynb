{
 "cells": [
  {
   "cell_type": "code",
   "execution_count": 1,
   "metadata": {
    "collapsed": true
   },
   "outputs": [],
   "source": [
    "import os"
   ]
  },
  {
   "cell_type": "code",
   "execution_count": 16,
   "metadata": {
    "collapsed": false
   },
   "outputs": [
    {
     "name": "stdout",
     "output_type": "stream",
     "text": [
      "/Users/gilles/Downloads/LNS3U5-Dépot des TRS--28847/ANETA KIRCHNEROVA_11613/inconnus.txt\n",
      "/Users/gilles/Downloads/LNS3U5-Dépot des TRS--28847/ANGELIQUE BECKER_11639/inconnus.txt\n",
      "/Users/gilles/Downloads/LNS3U5-Dépot des TRS--28847/CHLOE ALARCON_11600/inconnus.txt\n",
      "/Users/gilles/Downloads/LNS3U5-Dépot des TRS--28847/CHLOE ANDRE_11638/inconnus.txt\n",
      "/Users/gilles/Downloads/LNS3U5-Dépot des TRS--28847/CHLOE DONATIEN_11626/inconnus.txt\n",
      "/Users/gilles/Downloads/LNS3U5-Dépot des TRS--28847/CLARA CASSUS_11618/inconnus.txt\n",
      "/Users/gilles/Downloads/LNS3U5-Dépot des TRS--28847/DIANE VIEIRA_11652/inconnus.txt\n",
      "/Users/gilles/Downloads/LNS3U5-Dépot des TRS--28847/ESTELLE BAUDIS_11650/inconnus.txt\n",
      "/Users/gilles/Downloads/LNS3U5-Dépot des TRS--28847/MAJDA JOUHADI_11567/inconnus.txt\n",
      "/Users/gilles/Downloads/LNS3U5-Dépot des TRS--28847/MARINE BETHOULE_11635/inconnus.txt\n",
      "/Users/gilles/Downloads/LNS3U5-Dépot des TRS--28847/MATHILDE MARTEAU_11576/inconnus.txt\n",
      "/Users/gilles/Downloads/LNS3U5-Dépot des TRS--28847/MORGANE VASSAL_11612/inconnus.txt\n",
      "/Users/gilles/Downloads/LNS3U5-Dépot des TRS--28847/ORIANE TOINARD_11629/inconnus.txt\n",
      "/Users/gilles/Downloads/LNS3U5-Dépot des TRS--28847/ROMAIN BUCHAILLAT_11614/inconnus.txt\n",
      "/Users/gilles/Downloads/LNS3U5-Dépot des TRS--28847/SABRIN ROMDHANI_11583/inconnus_CHLOE_ANDRE.txt\n",
      "/Users/gilles/Downloads/LNS3U5-Dépot des TRS--28847/TULLIA PASSAGNE_11624/inconnus.txt\n"
     ]
    }
   ],
   "source": [
    "for root, dirs, files in os.walk(\"/Users/gilles/Downloads/LNS3U5-Dépot des TRS--28847/\"):\n",
    "    for dir in dirs:\n",
    "        for rootCorpus, reps, fichiers in os.walk(root+dir):\n",
    "            for fichier in fichiers:\n",
    "                if \"inconnus\" in fichier:\n",
    "                    print rootCorpus+\"/\"+fichier\n",
    "#            print fichiers"
   ]
  },
  {
   "cell_type": "code",
   "execution_count": null,
   "metadata": {
    "collapsed": true
   },
   "outputs": [],
   "source": []
  },
  {
   "cell_type": "code",
   "execution_count": 14,
   "metadata": {
    "collapsed": false
   },
   "outputs": [
    {
     "name": "stdout",
     "output_type": "stream",
     "text": [
      "/Users/gilles/Downloads/LNS3U5-Dépot des TRS--28847/ANETA KIRCHNEROVA_11613/heartstone\n",
      "/Users/gilles/Downloads/LNS3U5-Dépot des TRS--28847/ANETA KIRCHNEROVA_11613/heartstone mots inconnus .\n",
      "/Users/gilles/Downloads/LNS3U5-Dépot des TRS--28847/ANETA KIRCHNEROVA_11613/Rayek xeleko mots iconnus.txt\n",
      "/Users/gilles/Downloads/LNS3U5-Dépot des TRS--28847/ANGELIQUE BECKER_11639/Xeleko-6trs\n",
      "/Users/gilles/Downloads/LNS3U5-Dépot des TRS--28847/BORIS DUBUC_11572/.DS_Store\n",
      "/Users/gilles/Downloads/LNS3U5-Dépot des TRS--28847/CLARA CASSUS_11618/TRS Cassus Galindo Baudis.zip\n",
      "/Users/gilles/Downloads/LNS3U5-Dépot des TRS--28847/HELOISE GIMENEZ_11592/.DS_Store\n",
      "/Users/gilles/Downloads/LNS3U5-Dépot des TRS--28847/JEAN-ELIE DURAND_11586/Jean -Elie Durand fichier .trs\n",
      "/Users/gilles/Downloads/LNS3U5-Dépot des TRS--28847/JENNIFER MASSICOT_11651/inconnus (3).txt\n",
      "/Users/gilles/Downloads/LNS3U5-Dépot des TRS--28847/JULIE LAVAL_11577/inconnus (2).txt\n",
      "/Users/gilles/Downloads/LNS3U5-Dépot des TRS--28847/LILI AGUER_11637/Les-inconnus-début-de-la-phonétisation.pdf\n",
      "/Users/gilles/Downloads/LNS3U5-Dépot des TRS--28847/MAEVA BAYBAUD_11597/Inconnu Maëva baybaud.txt\n",
      "/Users/gilles/Downloads/LNS3U5-Dépot des TRS--28847/MARGOT PINSOLLES_11617/inconnus-1.txt\n",
      "/Users/gilles/Downloads/LNS3U5-Dépot des TRS--28847/MARINE BETHOULE_11635/inconnus (1).txt\n",
      "/Users/gilles/Downloads/LNS3U5-Dépot des TRS--28847/MARION ARAMENDI_11598/inconnus-Marion.txt\n",
      "/Users/gilles/Downloads/LNS3U5-Dépot des TRS--28847/MATHILDE MARTEAU_11576/inconnus (2).txt\n",
      "/Users/gilles/Downloads/LNS3U5-Dépot des TRS--28847/MORGANE VASSAL_11612/inconnus api.txt\n",
      "/Users/gilles/Downloads/LNS3U5-Dépot des TRS--28847/PATRICIA RICHARD_11591/liste mots inconnus(2).txt\n",
      "/Users/gilles/Downloads/LNS3U5-Dépot des TRS--28847/SABRIN ROMDHANI_11583/inconnus_CHLOE_ANDRE.txt\n",
      "/Users/gilles/Downloads/LNS3U5-Dépot des TRS--28847/SANDRINE DOMON_11599/inconnus modifiés (1).txt\n",
      "/Users/gilles/Downloads/LNS3U5-Dépot des TRS--28847/TULLIA PASSAGNE_11624/inconnus pret.txt\n",
      "/Users/gilles/Downloads/LNS3U5-Dépot des TRS--28847/YAMINA BOUZEKRI_11615/contrôle frontière franco-belge.mp3\n"
     ]
    }
   ],
   "source": [
    "for root, dirs, files in os.walk(\"/Users/gilles/Downloads/LNS3U5-Dépot des TRS--28847/\"):\n",
    "    for dir in dirs:\n",
    "        for rootCorpus, reps, fichiers in os.walk(root+dir):\n",
    "            for fichier in fichiers:\n",
    "                if fichier.endswith(\".trs~\"):\n",
    "                    nomTilde=rootCorpus+\"/\"+fichier\n",
    "                    nomNormal=rootCorpus+\"/\"+fichier.replace(\".trs~\",\".trs\")\n",
    "                    os.rename(nomTilde,nomNormal)\n",
    "                    print \".trs~\",nomNormal\n",
    "                elif fichier.endswith(\".trs~.\"):\n",
    "                    nomTilde=rootCorpus+\"/\"+fichier\n",
    "                    nomNormal=rootCorpus+\"/\"+fichier.replace(\".trs~.\",\".trs\")\n",
    "                    os.rename(nomTilde,nomNormal)\n",
    "                    print nomNormal\n",
    "                elif fichier.endswith(\"trs~\"):\n",
    "                    nomTilde=rootCorpus+\"/\"+fichier\n",
    "                    nomNormal=rootCorpus+\"/\"+fichier.replace(\"trs~\",\".trs\")\n",
    "                    os.rename(nomTilde,nomNormal)\n",
    "                    print nomNormal\n",
    "                elif fichier.endswith(\"trs.\"):\n",
    "                    nomTilde=rootCorpus+\"/\"+fichier\n",
    "                    nomNormal=rootCorpus+\"/\"+fichier.replace(\"trs.\",\".trs\")\n",
    "                    os.rename(nomTilde,nomNormal)\n",
    "                    print nomNormal\n",
    "                elif not fichier.endswith(\".trs\") and fichier!=\"inconnus.txt\":\n",
    "                    print rootCorpus+\"/\"+fichier\n",
    "#            print fichiers"
   ]
  },
  {
   "cell_type": "code",
   "execution_count": 10,
   "metadata": {
    "collapsed": false
   },
   "outputs": [
    {
     "name": "stdout",
     "output_type": "stream",
     "text": [
      "del /Users/gilles/Downloads/LNS3U5-Dépot des TRS--28847/ANAIS HUGUET_11582/alex does travel - un australien parle français-BDL2 (2).trs\n",
      "del /Users/gilles/Downloads/LNS3U5-Dépot des TRS--28847/ANAIS HUGUET_11582/Comment jai appris le français - English guy speaking French-BDL2.trs\n",
      "del /Users/gilles/Downloads/LNS3U5-Dépot des TRS--28847/ANAIS HUGUET_11582/dans mes binocles- FAQ-BDL2.trs\n",
      "del /Users/gilles/Downloads/LNS3U5-Dépot des TRS--28847/ANAIS HUGUET_11582/Gars américain qui parle français!-BDL2.trs\n",
      "del /Users/gilles/Downloads/LNS3U5-Dépot des TRS--28847/ANAIS HUGUET_11582/Le dresscode plutôt bizarre de mon lycée américain -BDL2 (2).trs\n",
      "del /Users/gilles/Downloads/LNS3U5-Dépot des TRS--28847/ANAIS HUGUET_11582/Make Up favoris du moment simple à réaliser-BDL2.trs\n",
      "del /Users/gilles/Downloads/LNS3U5-Dépot des TRS--28847/ANAIS HUGUET_11582/Quelques-Recommandations-Pour-SAméliorer-en-Français_-How-to-Get-Better-at-French-3-BDL2.trs\n",
      "del /Users/gilles/Downloads/LNS3U5-Dépot des TRS--28847/ANAIS HUGUET_11582/transcriber Rachel Comment jai appris le français-BDL2.trs\n",
      "del /Users/gilles/Downloads/LNS3U5-Dépot des TRS--28847/ANAIS HUGUET_11582/transcription orthographique modif-BDL2.trs\n",
      "del /Users/gilles/Downloads/LNS3U5-Dépot des TRS--28847/ANAIS HUGUET_11582/Un-américain-qui-parle-français-2-BDL2.trs\n",
      "keep /Users/gilles/Downloads/LNS3U5-Dépot des TRS--28847/ANNE JEAN-PIERRE_11640/3Cours Latin 5e - trimmed  transsss.trs\n",
      "keep /Users/gilles/Downloads/LNS3U5-Dépot des TRS--28847/CAMILLE LANDAIS_11632/entretien.trs\n",
      "del /Users/gilles/Downloads/LNS3U5-Dépot des TRS--28847/CHLOE ANDRE_11638/AdeleExarchopoulosCesarMeilleurEspoirFeminin-BDL2.trs\n",
      "del /Users/gilles/Downloads/LNS3U5-Dépot des TRS--28847/CHLOE ANDRE_11638/AdeleHaenelCesarMeilleureActrice-BDL2.trs\n",
      "del /Users/gilles/Downloads/LNS3U5-Dépot des TRS--28847/CHLOE ANDRE_11638/AnniversaireRemi-BDL2 - Copie.trs\n",
      "del /Users/gilles/Downloads/LNS3U5-Dépot des TRS--28847/CHLOE ANDRE_11638/FranceIrlandeFanzone-BDL2 - Copie.trs\n",
      "del /Users/gilles/Downloads/LNS3U5-Dépot des TRS--28847/CHLOE ANDRE_11638/GuiHuguetteArrieregrandparents-BDL2 - Copie.trs\n",
      "del /Users/gilles/Downloads/LNS3U5-Dépot des TRS--28847/CHLOE ANDRE_11638/GuiHuguetteJournalBapteme-BDL2 - Copie.trs\n",
      "del /Users/gilles/Downloads/LNS3U5-Dépot des TRS--28847/CHLOE ANDRE_11638/KevinAzaisCesarMeilleurEspoirMasculin-BDL2.trs\n",
      "del /Users/gilles/Downloads/LNS3U5-Dépot des TRS--28847/CHLOE ANDRE_11638/Lesdouzecoupsdemidi-BDL2.trs\n",
      "del /Users/gilles/Downloads/LNS3U5-Dépot des TRS--28847/CHLOE ANDRE_11638/LouaneEmeraCesarMeilleurespoirFeminin-BDL2.trs\n",
      "del /Users/gilles/Downloads/LNS3U5-Dépot des TRS--28847/CHLOE ANDRE_11638/PierreNineyCesarMeilleurActeur-BDL2.trs\n",
      "del /Users/gilles/Downloads/LNS3U5-Dépot des TRS--28847/CHLOE ANDRE_11638/RencontreXavierDolan-BDL2.trs\n",
      "keep /Users/gilles/Downloads/LNS3U5-Dépot des TRS--28847/CORENTIN VENDE_11602/Amandine.trs\n",
      "keep /Users/gilles/Downloads/LNS3U5-Dépot des TRS--28847/CORENTIN VENDE_11602/Clemence.trs\n",
      "keep /Users/gilles/Downloads/LNS3U5-Dépot des TRS--28847/CORENTIN VENDE_11602/Sarah_Vanessa_Marion.trs\n",
      "del /Users/gilles/Downloads/LNS3U5-Dépot des TRS--28847/DIANE VIEIRA_11652/Catherine-BDL2.trs\n",
      "del /Users/gilles/Downloads/LNS3U5-Dépot des TRS--28847/DIANE VIEIRA_11652/Claire-BDL2.trs\n",
      "del /Users/gilles/Downloads/LNS3U5-Dépot des TRS--28847/DIANE VIEIRA_11652/Lucas-BDL2.trs\n",
      "keep /Users/gilles/Downloads/LNS3U5-Dépot des TRS--28847/ELODY DIDRY_11594/trs_2.trs\n",
      "keep /Users/gilles/Downloads/LNS3U5-Dépot des TRS--28847/ELODY DIDRY_11594/trs_3.trs\n",
      "keep /Users/gilles/Downloads/LNS3U5-Dépot des TRS--28847/ESTELLE ROCHE_11628/Melenchon_FINI1.trs\n",
      "keep /Users/gilles/Downloads/LNS3U5-Dépot des TRS--28847/ESTELLE ROCHE_11628/Transcription-mots-croises_FINI1.trs\n",
      "keep /Users/gilles/Downloads/LNS3U5-Dépot des TRS--28847/ESTELLE ROCHE_11628/Valls-Le-Pen-des-paroles-et-des-actes_FINI1.trs\n",
      "keep /Users/gilles/Downloads/LNS3U5-Dépot des TRS--28847/HELOISE GIMENEZ_11592/MajdaEtCedric.trs\n",
      "keep /Users/gilles/Downloads/LNS3U5-Dépot des TRS--28847/JULIE LAVAL_11577/1) enregistrement 1 grand-mère.trs\n",
      "keep /Users/gilles/Downloads/LNS3U5-Dépot des TRS--28847/JULIE LAVAL_11577/10) enregistrement Maeliss et Rachel.trs\n",
      "keep /Users/gilles/Downloads/LNS3U5-Dépot des TRS--28847/JULIE LAVAL_11577/11) enregistrement Maeliss et Laura.trs\n",
      "keep /Users/gilles/Downloads/LNS3U5-Dépot des TRS--28847/JULIE LAVAL_11577/13) Amis.trs\n",
      "keep /Users/gilles/Downloads/LNS3U5-Dépot des TRS--28847/JULIE LAVAL_11577/2 ) enregistrement 2 grand-mère.trs\n",
      "keep /Users/gilles/Downloads/LNS3U5-Dépot des TRS--28847/JULIE LAVAL_11577/4) grand-pere avec balises.trs\n",
      "keep /Users/gilles/Downloads/LNS3U5-Dépot des TRS--28847/JULIE LAVAL_11577/5) Rachel et sa tante 1.trs\n",
      "keep /Users/gilles/Downloads/LNS3U5-Dépot des TRS--28847/JULIE LAVAL_11577/9) Père avec Balises.trs\n",
      "keep /Users/gilles/Downloads/LNS3U5-Dépot des TRS--28847/LAURA DESPORT_11634/Adam.trs\n",
      "keep /Users/gilles/Downloads/LNS3U5-Dépot des TRS--28847/LAURA DESPORT_11634/Alix.trs\n",
      "keep /Users/gilles/Downloads/LNS3U5-Dépot des TRS--28847/LEA DELALEU_11570/Trans1.mp3 (1).trs\n",
      "keep /Users/gilles/Downloads/LNS3U5-Dépot des TRS--28847/LEA DELALEU_11570/Trans2.trs\n",
      "keep /Users/gilles/Downloads/LNS3U5-Dépot des TRS--28847/LEA DELALEU_11570/Trans3.trs\n",
      "keep /Users/gilles/Downloads/LNS3U5-Dépot des TRS--28847/LEA DELALEU_11570/Trans4.trs\n",
      "del /Users/gilles/Downloads/LNS3U5-Dépot des TRS--28847/LUCAS PRUNIER_11654/Debat-primaire-socialiste_Des-paroles-et-des-actes-FINAL-BDL2.xml\n",
      "del /Users/gilles/Downloads/LNS3U5-Dépot des TRS--28847/LUCAS PRUNIER_11654/La-Primaire-de-la-Droite-et-du-Centre_Le-debat-FINAL-BDL2.xml\n",
      "del /Users/gilles/Downloads/LNS3U5-Dépot des TRS--28847/LUCAS PRUNIER_11654/Mariage-pour-tous_Examen-du-projet-de-loi_discours-de-Taubira-FINAL-BDL2.xml\n",
      "del /Users/gilles/Downloads/LNS3U5-Dépot des TRS--28847/MAEVA BAYBAUD_11597/Gaëlle - Linguistique Du Corpsus-BDL2 (1).xml\n",
      "del /Users/gilles/Downloads/LNS3U5-Dépot des TRS--28847/MAEVA BAYBAUD_11597/Gaëlle - Linguistique Du Corpsus-BDL2.xml\n",
      "del /Users/gilles/Downloads/LNS3U5-Dépot des TRS--28847/MAEVA BAYBAUD_11597/Laïla - Linguistque Corpus 2-BDL2.trs\n",
      "del /Users/gilles/Downloads/LNS3U5-Dépot des TRS--28847/MAEVA BAYBAUD_11597/Laïla - Linguistque Corpus 2-BDL2.xml\n",
      "del /Users/gilles/Downloads/LNS3U5-Dépot des TRS--28847/MAEVA BAYBAUD_11597/Sarah Mounic -BDL2.trs\n",
      "del /Users/gilles/Downloads/LNS3U5-Dépot des TRS--28847/MAEVA BAYBAUD_11597/Sarah Mounic -BDL2.xml\n",
      "keep /Users/gilles/Downloads/LNS3U5-Dépot des TRS--28847/MANON LAFITTE_11606/Xeleko.trs\n",
      "keep /Users/gilles/Downloads/LNS3U5-Dépot des TRS--28847/MANON MARTELLI_11611/Linguistique_japonaise2.trs\n",
      "del /Users/gilles/Downloads/LNS3U5-Dépot des TRS--28847/MORGANE CORDOMI_11645/Linguistique-BDL2.trs\n",
      "del /Users/gilles/Downloads/LNS3U5-Dépot des TRS--28847/MORGANE CORDOMI_11645/Linguistiques-BDL2 (1).trs\n",
      "keep /Users/gilles/Downloads/LNS3U5-Dépot des TRS--28847/ROMAIN BUCHAILLAT_11614/Alain Juppe sur RTL le 15 juin 2016.trs\n",
      "keep /Users/gilles/Downloads/LNS3U5-Dépot des TRS--28847/ROMAIN BUCHAILLAT_11614/Bernard Cazeneuve sur Europe 1 le 27 juillet 2016.trs\n",
      "keep /Users/gilles/Downloads/LNS3U5-Dépot des TRS--28847/ROMAIN BUCHAILLAT_11614/Bruno Le Maire sur France 2 le 18 juillet 2016.trs\n",
      "keep /Users/gilles/Downloads/LNS3U5-Dépot des TRS--28847/ROMAIN BUCHAILLAT_11614/Christiane Taubira sur France Info le 08 janvier 2015.trs\n",
      "keep /Users/gilles/Downloads/LNS3U5-Dépot des TRS--28847/ROMAIN BUCHAILLAT_11614/Florian Philippot sur iTELE le 19 juillet 2016.trs\n",
      "keep /Users/gilles/Downloads/LNS3U5-Dépot des TRS--28847/ROMAIN BUCHAILLAT_11614/Francois Hollande sur TF1 le 14 juillet 2016.trs\n",
      "keep /Users/gilles/Downloads/LNS3U5-Dépot des TRS--28847/ROMAIN BUCHAILLAT_11614/Jean Francois Cope sur BFMTV le 19 juin 2016.trs\n",
      "keep /Users/gilles/Downloads/LNS3U5-Dépot des TRS--28847/ROMAIN BUCHAILLAT_11614/Manuel Valls sur France Inter le 15 juin 2016.trs\n",
      "keep /Users/gilles/Downloads/LNS3U5-Dépot des TRS--28847/ROMAIN BUCHAILLAT_11614/Marine Le Pen sur France 2 le 08 janvier 2015.trs\n",
      "keep /Users/gilles/Downloads/LNS3U5-Dépot des TRS--28847/ROMAIN BUCHAILLAT_11614/Marine Le Pen sur France Inter le 19 novembre 2015.trs\n",
      "keep /Users/gilles/Downloads/LNS3U5-Dépot des TRS--28847/ROMAIN BUCHAILLAT_11614/Marion Marechal Le Pen sur France Info le 17 juin 2016.trs\n",
      "keep /Users/gilles/Downloads/LNS3U5-Dépot des TRS--28847/ROMAIN BUCHAILLAT_11614/Martine Aubry sur BFMTV et RMC le 03 decembre 2015.trs\n",
      "keep /Users/gilles/Downloads/LNS3U5-Dépot des TRS--28847/ROMAIN BUCHAILLAT_11614/Nicolas Sarkozy sur Europe 1 le 02 decembre 2015.trs\n",
      "keep /Users/gilles/Downloads/LNS3U5-Dépot des TRS--28847/SARA COMES_11636/Linguistique Japonais.trs\n",
      "keep /Users/gilles/Downloads/LNS3U5-Dépot des TRS--28847/SARA COMES_11636/LinguistiqueAnglais.trs\n",
      "keep /Users/gilles/Downloads/LNS3U5-Dépot des TRS--28847/SRILAKSHMI BALARD_11619/MajdaEtCedric.trs\n"
     ]
    }
   ],
   "source": [
    "from datetime import datetime\n",
    "for root, dirs, files in os.walk(\"/Users/gilles/Downloads/LNS3U5-Dépot des TRS--28847/\"):\n",
    "    for dir in dirs:\n",
    "        for rootCorpus, reps, fichiers in os.walk(root+dir):\n",
    "            for fichier in fichiers:\n",
    "                if \"BDL2\" in fichier:\n",
    "                    fichierBDL2=rootCorpus+\"/\"+fichier\n",
    "                    print \"del\",fichierBDL2\n",
    "                    os.remove(fichierBDL2)\n",
    "                elif fichier.endswith(\".trs\") and not \"BDL2\" in fichier:\n",
    "                    nomFichier=rootCorpus+\"/\"+fichier\n",
    "                    attr=os.stat(nomFichier)\n",
    "                    if attr.st_mtime>1483000000:\n",
    "                        print \"keep\",nomFichier\n",
    "#                        print datetime.fromtimestamp(attr.st_mtime),attr.st_mtime"
   ]
  },
  {
   "cell_type": "code",
   "execution_count": null,
   "metadata": {
    "collapsed": true
   },
   "outputs": [],
   "source": []
  }
 ],
 "metadata": {
  "kernelspec": {
   "display_name": "Python 2",
   "language": "python",
   "name": "python2"
  },
  "language_info": {
   "codemirror_mode": {
    "name": "ipython",
    "version": 2
   },
   "file_extension": ".py",
   "mimetype": "text/x-python",
   "name": "python",
   "nbconvert_exporter": "python",
   "pygments_lexer": "ipython2",
   "version": "2.7.11"
  }
 },
 "nbformat": 4,
 "nbformat_minor": 0
}
