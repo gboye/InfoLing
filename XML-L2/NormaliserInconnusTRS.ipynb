{
 "cells": [
  {
   "cell_type": "code",
   "execution_count": 1,
   "metadata": {
    "collapsed": true
   },
   "outputs": [],
   "source": [
    "import os"
   ]
  },
  {
   "cell_type": "code",
   "execution_count": 16,
   "metadata": {
    "collapsed": false
   },
   "outputs": [
    {
     "name": "stdout",
     "output_type": "stream",
     "text": [
      "/Users/gilles/Downloads/LNS3U5-Dépot des TRS--28847/ANETA KIRCHNEROVA_11613/inconnus.txt\n",
      "/Users/gilles/Downloads/LNS3U5-Dépot des TRS--28847/ANGELIQUE BECKER_11639/inconnus.txt\n",
      "/Users/gilles/Downloads/LNS3U5-Dépot des TRS--28847/CHLOE ALARCON_11600/inconnus.txt\n",
      "/Users/gilles/Downloads/LNS3U5-Dépot des TRS--28847/CHLOE ANDRE_11638/inconnus.txt\n",
      "/Users/gilles/Downloads/LNS3U5-Dépot des TRS--28847/CHLOE DONATIEN_11626/inconnus.txt\n",
      "/Users/gilles/Downloads/LNS3U5-Dépot des TRS--28847/CLARA CASSUS_11618/inconnus.txt\n",
      "/Users/gilles/Downloads/LNS3U5-Dépot des TRS--28847/DIANE VIEIRA_11652/inconnus.txt\n",
      "/Users/gilles/Downloads/LNS3U5-Dépot des TRS--28847/ESTELLE BAUDIS_11650/inconnus.txt\n",
      "/Users/gilles/Downloads/LNS3U5-Dépot des TRS--28847/MAJDA JOUHADI_11567/inconnus.txt\n",
      "/Users/gilles/Downloads/LNS3U5-Dépot des TRS--28847/MARINE BETHOULE_11635/inconnus.txt\n",
      "/Users/gilles/Downloads/LNS3U5-Dépot des TRS--28847/MATHILDE MARTEAU_11576/inconnus.txt\n",
      "/Users/gilles/Downloads/LNS3U5-Dépot des TRS--28847/MORGANE VASSAL_11612/inconnus.txt\n",
      "/Users/gilles/Downloads/LNS3U5-Dépot des TRS--28847/ORIANE TOINARD_11629/inconnus.txt\n",
      "/Users/gilles/Downloads/LNS3U5-Dépot des TRS--28847/ROMAIN BUCHAILLAT_11614/inconnus.txt\n",
      "/Users/gilles/Downloads/LNS3U5-Dépot des TRS--28847/SABRIN ROMDHANI_11583/inconnus_CHLOE_ANDRE.txt\n",
      "/Users/gilles/Downloads/LNS3U5-Dépot des TRS--28847/TULLIA PASSAGNE_11624/inconnus.txt\n"
     ]
    }
   ],
   "source": [
    "for root, dirs, files in os.walk(\"/Users/gilles/Downloads/LNS3U5-Dépot des TRS--28847/\"):\n",
    "    for dir in dirs:\n",
    "        for rootCorpus, reps, fichiers in os.walk(root+dir):\n",
    "            for fichier in fichiers:\n",
    "                if \"inconnus\" in fichier:\n",
    "                    print rootCorpus+\"/\"+fichier\n",
    "#            print fichiers"
   ]
  },
  {
   "cell_type": "code",
   "execution_count": null,
   "metadata": {
    "collapsed": true
   },
   "outputs": [],
   "source": []
  },
  {
   "cell_type": "code",
   "execution_count": 19,
   "metadata": {
    "collapsed": false
   },
   "outputs": [
    {
     "name": "stdout",
     "output_type": "stream",
     "text": [
      "/Users/gilles/Downloads/LNS3U5-Dépot des TRS--28847/ANETA KIRCHNEROVA_11613/.DS_Store\n",
      "/Users/gilles/Downloads/LNS3U5-Dépot des TRS--28847/ANGELIQUE BECKER_11639/Xeleko-6trs\n",
      "/Users/gilles/Downloads/LNS3U5-Dépot des TRS--28847/BORIS DUBUC_11572/.DS_Store\n",
      "/Users/gilles/Downloads/LNS3U5-Dépot des TRS--28847/CHLOE ALARCON_11600/.DS_Store\n",
      "/Users/gilles/Downloads/LNS3U5-Dépot des TRS--28847/CLARA CASSUS_11618/.DS_Store\n",
      "/Users/gilles/Downloads/LNS3U5-Dépot des TRS--28847/DIANE VIEIRA_11652/.DS_Store\n",
      "/Users/gilles/Downloads/LNS3U5-Dépot des TRS--28847/MARINE BETHOULE_11635/.DS_Store\n",
      "/Users/gilles/Downloads/LNS3U5-Dépot des TRS--28847/MORGANE VASSAL_11612/.DS_Store\n",
      "/Users/gilles/Downloads/LNS3U5-Dépot des TRS--28847/SABRIN ROMDHANI_11583/inconnus_CHLOE_ANDRE.txt\n",
      "/Users/gilles/Downloads/LNS3U5-Dépot des TRS--28847/YAMINA BOUZEKRI_11615/.DS_Store\n"
     ]
    }
   ],
   "source": [
    "for root, dirs, files in os.walk(\"/Users/gilles/Downloads/LNS3U5-Dépot des TRS--28847/\"):\n",
    "    for dir in dirs:\n",
    "        for rootCorpus, reps, fichiers in os.walk(root+dir):\n",
    "            for fichier in fichiers:\n",
    "                if fichier.endswith(\".trs~\"):\n",
    "                    nomTilde=rootCorpus+\"/\"+fichier\n",
    "                    nomNormal=rootCorpus+\"/\"+fichier.replace(\".trs.\",\".trs\")\n",
    "                    os.rename(nomTilde,nomNormal)\n",
    "                    print nomNormal\n",
    "                elif fichier.endswith(\".trs~.\"):\n",
    "                    nomTilde=rootCorpus+\"/\"+fichier\n",
    "                    nomNormal=rootCorpus+\"/\"+fichier.replace(\".trs~.\",\".trs\")\n",
    "                    os.rename(nomTilde,nomNormal)\n",
    "                    print nomNormal\n",
    "                elif fichier.endswith(\"trs~\"):\n",
    "                    nomTilde=rootCorpus+\"/\"+fichier\n",
    "                    nomNormal=rootCorpus+\"/\"+fichier.replace(\"trs~\",\".trs\")\n",
    "                    os.rename(nomTilde,nomNormal)\n",
    "                    print nomNormal\n",
    "                elif not fichier.endswith(\".trs\") and fichier!=\"inconnus.txt\":\n",
    "                    print rootCorpus+\"/\"+fichier\n",
    "#            print fichiers"
   ]
  },
  {
   "cell_type": "code",
   "execution_count": 31,
   "metadata": {
    "collapsed": false
   },
   "outputs": [
    {
     "name": "stdout",
     "output_type": "stream",
     "text": [
      "/Users/gilles/Dropbox/TRS-V2/ANETA KIRCHNEROVA_11613/heartstone.trs\n",
      "/Users/gilles/Dropbox/TRS-V2/ANETA KIRCHNEROVA_11613/xeleko.trs\n",
      "/Users/gilles/Dropbox/TRS-V2/ANGELIQUE BECKER_11639/Aneta6.trs\n",
      "/Users/gilles/Dropbox/TRS-V2/AXELLE DE OLIVEIRA_11655/Les Filles à la fac 2211.trs\n",
      "/Users/gilles/Dropbox/TRS-V2/BORIS DUBUC_11572/E_le_ve_8_m.trs\n",
      "/Users/gilles/Dropbox/TRS-V2/CARLA DELURET_11644/Donald Trump Talks Media Coverage, Polls and His Vocal Transformation.trs\n",
      "/Users/gilles/Dropbox/TRS-V2/CARLA DELURET_11644/Nicolas Sarkozy et questions libres.trs\n",
      "/Users/gilles/Dropbox/TRS-V2/CHLOE ALARCON_11600/cours maths.trs\n",
      "/Users/gilles/Dropbox/TRS-V2/CHLOE ALARCON_11600/duo evaluations mutliples.trs\n",
      "/Users/gilles/Dropbox/TRS-V2/CHLOE ALARCON_11600/eleve 3 lecture evaluée .trs\n",
      "/Users/gilles/Dropbox/TRS-V2/CHLOE ALARCON_11600/eleve histoire inventée evaluation.trs\n",
      "/Users/gilles/Dropbox/TRS-V2/CHLOE ALARCON_11600/eleve questions evaluation maths.trs\n",
      "/Users/gilles/Dropbox/TRS-V2/CHLOE ALARCON_11600/eleve raconte histoire inventée evaluation cm1.trs\n",
      "/Users/gilles/Dropbox/TRS-V2/CHLOE ALARCON_11600/groupe 3 questions evaluation.trs\n",
      "/Users/gilles/Dropbox/TRS-V2/CHLOE ALARCON_11600/groupe 4 acitivité fable.trs\n",
      "/Users/gilles/Dropbox/TRS-V2/CHLOE ALARCON_11600/groupe 5 activité fable.trs\n",
      "/Users/gilles/Dropbox/TRS-V2/CHLOE ALARCON_11600/Présentation Activité Au Tableau Autre Groupe suite.trs\n",
      "/Users/gilles/Dropbox/TRS-V2/CHLOE ALARCON_11600/Présentation Activité Au Tableau Autre Groupe.trs\n",
      "/Users/gilles/Dropbox/TRS-V2/CHLOE ANDRE_11638/KevinAzaisCesarMeilleurEspoirMasculin.trs\n",
      "/Users/gilles/Dropbox/TRS-V2/ELODY DIDRY_11594/trs_2.trs\n",
      "/Users/gilles/Dropbox/TRS-V2/ELODY DIDRY_11594/trs_3.trs\n",
      "/Users/gilles/Dropbox/TRS-V2/ELODY DIDRY_11594/trs_8.trs\n",
      "/Users/gilles/Dropbox/TRS-V2/HOUYAM LAHSIBI_11649/Cube Benoit.trs\n",
      "/Users/gilles/Dropbox/TRS-V2/JOYCE COURTY_11571/3Cours_Latin 5e _Jean-Pierre_Anne.trs\n",
      "/Users/gilles/Dropbox/TRS-V2/JULIE LAVAL_11577/13) Amis.trs\n",
      "/Users/gilles/Dropbox/TRS-V2/MANON LAFITTE_11606/Xeleko.trs\n",
      "/Users/gilles/Dropbox/TRS-V2/MARGOT PINSOLLES_11617/Nicolas Sarkozy et questions libres.trs\n",
      "/Users/gilles/Dropbox/TRS-V2/MORGANE CORDOMI_11645/Linguistique.trs\n"
     ]
    }
   ],
   "source": [
    "from datetime import datetime\n",
    "for root, dirs, files in os.walk(\"/Users/gilles/Dropbox/TRS-V2/\"):\n",
    "    for dir in dirs:\n",
    "        for rootCorpus, reps, fichiers in os.walk(root+dir):\n",
    "            for fichier in fichiers:\n",
    "                if fichier.endswith(\".trs\") and not fichier.endswith(\"BDL2.trs\"):\n",
    "                    nomFichier=rootCorpus+\"/\"+fichier\n",
    "                    attr=os.stat(nomFichier)\n",
    "                    if attr.st_mtime>1483000000:\n",
    "                        print nomFichier\n",
    "#                        print datetime.fromtimestamp(attr.st_mtime),attr.st_mtime"
   ]
  },
  {
   "cell_type": "code",
   "execution_count": null,
   "metadata": {
    "collapsed": true
   },
   "outputs": [],
   "source": []
  }
 ],
 "metadata": {
  "kernelspec": {
   "display_name": "Python 2",
   "language": "python",
   "name": "python2"
  },
  "language_info": {
   "codemirror_mode": {
    "name": "ipython",
    "version": 2
   },
   "file_extension": ".py",
   "mimetype": "text/x-python",
   "name": "python",
   "nbconvert_exporter": "python",
   "pygments_lexer": "ipython2",
   "version": "2.7.11"
  }
 },
 "nbformat": 4,
 "nbformat_minor": 0
}
