{
 "metadata": {
  "name": "",
  "signature": "sha256:fb82cb456d6c5cfbb0ed3fb4d82f7eb8abe61151015dfb43af005eedf004d6de"
 },
 "nbformat": 3,
 "nbformat_minor": 0,
 "worksheets": [
  {
   "cells": [
    {
     "cell_type": "code",
     "collapsed": false,
     "input": [
      "debug=0"
     ],
     "language": "python",
     "metadata": {},
     "outputs": [],
     "prompt_number": 1
    },
    {
     "cell_type": "code",
     "collapsed": false,
     "input": [
      "repCorpus='/Users/gilles/Copy/Python/workspace/Phonemizer/'\n",
      "grCorpus='GBCM-'\n",
      "nomCorpus=\"BouvardPecuchet-Ch1.txt\"\n",
      "fichierCorpus=repCorpus+grCorpus+nomCorpus\n",
      "with open(fichierCorpus,'r') as stream:\n",
      "    corpus=stream.readlines()"
     ],
     "language": "python",
     "metadata": {},
     "outputs": [],
     "prompt_number": 3
    },
    {
     "cell_type": "code",
     "collapsed": false,
     "input": [
      "repMorphalou='/Users/gilles/Dropbox/Travail/Recherche/BoBo/Tonton/morphalou/'\n",
      "fichierMorphalou=repMorphalou+'Morphalou-2.0.xml'"
     ],
     "language": "python",
     "metadata": {},
     "outputs": [],
     "prompt_number": 4
    },
    {
     "cell_type": "code",
     "collapsed": false,
     "input": [
      "import xml.etree.ElementTree as etree\n",
      "data = etree.parse(fichierMorphalou)"
     ],
     "language": "python",
     "metadata": {},
     "outputs": [],
     "prompt_number": 5
    },
    {
     "cell_type": "code",
     "collapsed": false,
     "input": [
      "root=data.getroot()"
     ],
     "language": "python",
     "metadata": {},
     "outputs": [],
     "prompt_number": 6
    },
    {
     "cell_type": "code",
     "collapsed": false,
     "input": [
      "%time\n",
      "lexique={}\n",
      "for entry in root.iter('lexicalEntry'):\n",
      "    for inflectedForm in entry.iter('inflectedForm'):\n",
      "        forme=inflectedForm.find(\"orthography\").text\n",
      "        if not forme in lexique:\n",
      "            lexique[forme]=[]\n",
      "        lemme=entry.find(\"formSet\").find(\"lemmatizedForm\")\n",
      "        lexique[forme].append((lemme,inflectedForm))"
     ],
     "language": "python",
     "metadata": {},
     "outputs": [
      {
       "output_type": "stream",
       "stream": "stdout",
       "text": [
        "CPU times: user 11 \u00b5s, sys: 0 ns, total: 11 \u00b5s\n",
        "Wall time: 14.1 \u00b5s\n"
       ]
      }
     ],
     "prompt_number": 15
    },
    {
     "cell_type": "code",
     "collapsed": false,
     "input": [
      "lexique[\"petit\"][1][1].find(\"orthography\").text"
     ],
     "language": "python",
     "metadata": {},
     "outputs": [
      {
       "metadata": {},
       "output_type": "pyout",
       "prompt_number": 13,
       "text": [
        "'petit'"
       ]
      }
     ],
     "prompt_number": 13
    },
    {
     "cell_type": "code",
     "collapsed": false,
     "input": [
      "lexique[\"petit\"][0][0].find(\"orthography\").text"
     ],
     "language": "python",
     "metadata": {},
     "outputs": [
      {
       "metadata": {},
       "output_type": "pyout",
       "prompt_number": 18,
       "text": [
        "'petit'"
       ]
      }
     ],
     "prompt_number": 18
    },
    {
     "cell_type": "code",
     "collapsed": false,
     "input": [
      "class morphEntry():\n",
      "    def __init__(self,lemme):\n",
      "        self.lemme=lemme\n",
      "        self.formes=[]\n",
      "    def addForm(self,forme):\n",
      "        if not forme in self.formes:\n",
      "            self.formes.append(forme)\n",
      "            \n",
      "class morphLexicon():\n",
      "    def __init__(self):\n",
      "        self.entries={}\n",
      "        self.forms={}\n",
      "    def addEntry(self,entry):\n",
      "        if not entry.lemme in self.lexicon:\n",
      "            self.lexicon[entry.lemme]=entry\n",
      "        for forme in entry.formes:\n",
      "            if not forme in self.forms:\n",
      "                self.forms[forme]=[]\n",
      "            if not entry.lemme in self.forms[forme]:\n",
      "                self.forms[forme].append(entry.lemme)"
     ],
     "language": "python",
     "metadata": {},
     "outputs": [],
     "prompt_number": 17
    },
    {
     "cell_type": "code",
     "collapsed": false,
     "input": [],
     "language": "python",
     "metadata": {},
     "outputs": []
    }
   ],
   "metadata": {}
  }
 ]
}