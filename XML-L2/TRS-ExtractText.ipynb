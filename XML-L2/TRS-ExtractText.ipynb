{
 "cells": [
  {
   "cell_type": "code",
   "execution_count": 80,
   "metadata": {
    "collapsed": true
   },
   "outputs": [],
   "source": [
    "from lxml import etree\n",
    "import glob,codecs"
   ]
  },
  {
   "cell_type": "code",
   "execution_count": 81,
   "metadata": {
    "collapsed": true
   },
   "outputs": [],
   "source": [
    "parser = etree.XMLParser(remove_blank_text=True)"
   ]
  },
  {
   "cell_type": "code",
   "execution_count": 82,
   "metadata": {
    "collapsed": true
   },
   "outputs": [],
   "source": [
    "def printPhon(rootTRS):\n",
    "    phonLignes=[]\n",
    "    for ligne in rootTRS.xpath(\"//Turn//text()\"):\n",
    "        ligne=ligne.strip()\n",
    "        phonLignes.append(ligne)\n",
    "    return(phonLignes)"
   ]
  },
  {
   "cell_type": "code",
   "execution_count": 83,
   "metadata": {
    "collapsed": false
   },
   "outputs": [],
   "source": [
    "def writeListe(nomFichier,liste):\n",
    "    with codecs.open(nomFichier, \"w\", encoding='utf8') as f:\n",
    "        fMots={}\n",
    "        for ligne in liste:\n",
    "            f.write(ligne+u\"\\n\")\n",
    "            for mot in ligne.split():\n",
    "                if not mot in fMots:\n",
    "                    fMots[mot]=0\n",
    "                fMots[mot]+=1\n",
    "    nomFichierMots=nomFichier.replace(\".txt\",\"-Mots.csv\")\n",
    "    with codecs.open(nomFichierMots, \"w\", encoding='utf8') as f:\n",
    "        for mot in fMots:\n",
    "            f.write(u\"%s\\t%s\\n\"%(mot,fMots[mot]))\n",
    "        f.write(u\"\\n\")\n",
    "    lMots.append(fMots)"
   ]
  },
  {
   "cell_type": "code",
   "execution_count": 84,
   "metadata": {
    "collapsed": false
   },
   "outputs": [],
   "source": [
    "def extractPhon(nomDir,version=\"CM\"):\n",
    "    nomPhonTRS=[nom for nom in glob.glob(nomDir+\"*.trs\") if not \"-BDL2\" in nom]\n",
    "    for nom in nomPhonTRS:\n",
    "#        print nom\n",
    "    #    print\n",
    "        nomTextePhon=nom.replace(\".trs\",\"-\"+version+\".txt\")\n",
    "#        print nomTextePhon\n",
    "        try:\n",
    "            xmlTRS=etree.parse(nom,parser)\n",
    "        except:\n",
    "            print \"erreur avec\",nom\n",
    "        phonLignes=printPhon(xmlTRS)\n",
    "        writeListe(nomTextePhon,phonLignes)"
   ]
  },
  {
   "cell_type": "code",
   "execution_count": 85,
   "metadata": {
    "collapsed": true
   },
   "outputs": [],
   "source": [
    "def iterateExtract(nomDir,version=\"CM\"):\n",
    "    dirListe=glob.glob(nomDir+\"*/\")\n",
    "    for dirName in dirListe:\n",
    "        print dirName\n",
    "        extractPhon(dirName,version)"
   ]
  },
  {
   "cell_type": "code",
   "execution_count": 86,
   "metadata": {
    "collapsed": true
   },
   "outputs": [],
   "source": [
    "nomDirTRS='/Users/gilles/ownCloud/Cours/Bordeaux/L3-CorpusEcole/Corpus Boris/'"
   ]
  },
  {
   "cell_type": "code",
   "execution_count": 87,
   "metadata": {
    "collapsed": false
   },
   "outputs": [],
   "source": [
    "lMots=[]\n",
    "extractPhon(nomDirTRS,version=\"brut\")\n",
    "#iterateExtract(nomDirCM,version=\"CM\")"
   ]
  },
  {
   "cell_type": "code",
   "execution_count": 90,
   "metadata": {
    "collapsed": false
   },
   "outputs": [],
   "source": [
    "dMots={}\n",
    "taille=len(lMots)\n",
    "for i,l in enumerate(lMots):\n",
    "    for k in l:\n",
    "        if not k in dMots:\n",
    "            dMots[k]=[0 for n in range(taille)]\n",
    "        dMots[k][i]=l[k]"
   ]
  },
  {
   "cell_type": "code",
   "execution_count": 93,
   "metadata": {
    "collapsed": false
   },
   "outputs": [],
   "source": [
    "nomFichierLexique=nomDirTRS+\"lexique.csv\"\n",
    "with codecs.open(nomFichierLexique, \"w\", encoding='utf8') as f:\n",
    "    for mot in dMots:\n",
    "        f.write(\"%s\\t%s\\n\"%(mot,\"\\t\".join([str(d) for d in dMots[mot]])))"
   ]
  },
  {
   "cell_type": "code",
   "execution_count": null,
   "metadata": {
    "collapsed": true
   },
   "outputs": [],
   "source": []
  }
 ],
 "metadata": {
  "kernelspec": {
   "display_name": "Python 2",
   "language": "python",
   "name": "python2"
  },
  "language_info": {
   "codemirror_mode": {
    "name": "ipython",
    "version": 2
   },
   "file_extension": ".py",
   "mimetype": "text/x-python",
   "name": "python",
   "nbconvert_exporter": "python",
   "pygments_lexer": "ipython2",
   "version": "2.7.11"
  }
 },
 "nbformat": 4,
 "nbformat_minor": 0
}
