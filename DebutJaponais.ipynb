{
 "cells": [
  {
   "cell_type": "code",
   "execution_count": 95,
   "metadata": {
    "collapsed": true
   },
   "outputs": [],
   "source": [
    "import codecs\n",
    "from lxml import etree\n",
    "from lxml.builder import E"
   ]
  },
  {
   "cell_type": "code",
   "execution_count": 96,
   "metadata": {
    "collapsed": false
   },
   "outputs": [],
   "source": [
    "fExercice=\"Japonais.txt\"\n",
    "fMoodleXMLVide=\"MoodleXML-Vide.xml\"\n",
    "base=codecs.open(fExercice,\"r\", 'utf8')"
   ]
  },
  {
   "cell_type": "code",
   "execution_count": 97,
   "metadata": {
    "collapsed": false
   },
   "outputs": [],
   "source": [
    "entreeXML=etree.parse(fMoodleXMLVide)\n",
    "sortieXML=entreeXML.getroot()\n",
    "#print sortieXML.tag\n",
    "#print etree.tostring(sortieXML, pretty_print=True)"
   ]
  },
  {
   "cell_type": "code",
   "execution_count": 98,
   "metadata": {
    "collapsed": false,
    "scrolled": true
   },
   "outputs": [
    {
     "name": "stdout",
     "output_type": "stream",
     "text": [
      "<quiz>\n",
      "<!-- question: 0  -->\n",
      "  <question type=\"category\">\n",
      "    <category>\n",
      "        <text>$course$/Défaut pour Cours Gilles Boyé</text>\n",
      "\n",
      "    </category>\n",
      "  </question>\n",
      "\n",
      "<!-- question: 66901  -->\n",
      "  <question type=\"cloze\">\n",
      "    <name>\n",
      "      <text>Test</text>\n",
      "    </name>\n",
      "    <questiontext format=\"html\">\n",
      "      <text>&lt;p&gt;chats {:RX:=chat(M)-PL~%75%chat\\.(M\\.PL|M-PL)~%50%chat[[\\(_M_\\)[-.]_PL_]]~%0%--.*(&amp;amp;&amp;amp;chat&amp;amp;&amp;amp;M&amp;amp;&amp;amp;PL).*#il vous manque des éléments~.*#vous avez les bons éléments mais peut-être plus et/ou pas dans le bon ordre.}&lt;/p&gt;&lt;p&gt;&lt;br&gt;&lt;/p&gt;</text>\n",
      "    </questiontext>\n",
      "    <generalfeedback format=\"html\">\n",
      "      <text/>\n",
      "    </generalfeedback>\n",
      "    <penalty>0.3333333</penalty>\n",
      "    <hidden>0</hidden>\n",
      "  </question>\n",
      "\n",
      "<!-- question: 72459  -->\n",
      "  <question type=\"multichoice\">\n",
      "    <name>\n",
      "      <text>TITRE</text>\n",
      "    </name>\n",
      "    <questiontext format=\"html\">\n",
      "      <text>&lt;p&gt;CONSIGNE&lt;br&gt;&lt;/p&gt;</text>\n",
      "    </questiontext>\n",
      "    <generalfeedback format=\"html\">\n",
      "      <text>&lt;p&gt;FEEDBACKGENERAL&lt;br&gt;&lt;/p&gt;</text>\n",
      "    </generalfeedback>\n",
      "    <defaultgrade>1.0000000</defaultgrade>\n",
      "    <penalty>0.3333333</penalty>\n",
      "    <hidden>0</hidden>\n",
      "    <single>false</single>\n",
      "    <shuffleanswers>true</shuffleanswers>\n",
      "    <answernumbering>123</answernumbering>\n",
      "    <correctfeedback format=\"html\">\n",
      "      <text>Votre réponse est correcte.</text>\n",
      "    </correctfeedback>\n",
      "    <partiallycorrectfeedback format=\"html\">\n",
      "      <text>Votre réponse est partiellement correcte.</text>\n",
      "    </partiallycorrectfeedback>\n",
      "    <incorrectfeedback format=\"html\">\n",
      "      <text>Votre réponse est incorrecte.</text>\n",
      "    </incorrectfeedback>\n",
      "    <shownumcorrect/>\n",
      "    <answer fraction=\"50\" format=\"html\">\n",
      "      <text>&lt;p&gt;REP1&lt;br&gt;&lt;/p&gt;</text>\n",
      "      <feedback format=\"html\">\n",
      "        <text/>\n",
      "      </feedback>\n",
      "    </answer>\n",
      "    <answer fraction=\"50\" format=\"html\">\n",
      "      <text>&lt;p&gt;REP2&lt;br&gt;&lt;/p&gt;</text>\n",
      "      <feedback format=\"html\">\n",
      "        <text/>\n",
      "      </feedback>\n",
      "    </answer>\n",
      "    <answer fraction=\"0\" format=\"html\">\n",
      "      <text>&lt;p&gt;REP3&lt;br&gt;&lt;/p&gt;</text>\n",
      "      <feedback format=\"html\">\n",
      "        <text/>\n",
      "      </feedback>\n",
      "    </answer>\n",
      "    <answer fraction=\"0\" format=\"html\">\n",
      "      <text>&lt;p&gt;REP4&lt;br&gt;&lt;/p&gt;</text>\n",
      "      <feedback format=\"html\">\n",
      "        <text/>\n",
      "      </feedback>\n",
      "    </answer>\n",
      "  </question>\n",
      "\n",
      "<!-- question: 67692  -->\n",
      "  <question type=\"regexp\">\n",
      "    <name>\n",
      "      <text>TEST</text>\n",
      "    </name>\n",
      "    <questiontext format=\"html\">\n",
      "      <text>Quelles sont les couleurs du drapeau de la France ?&lt;br&gt;&lt;p&gt;&lt;br&gt;&lt;/p&gt;</text>\n",
      "    </questiontext>\n",
      "    <generalfeedback format=\"html\">\n",
      "      <text/>\n",
      "    </generalfeedback>\n",
      "    <defaultgrade>1.0000000</defaultgrade>\n",
      "    <penalty>0.1000000</penalty>\n",
      "    <hidden>0</hidden>\n",
      "    <usehint>2</usehint>\n",
      "    <usecase>0</usecase>\n",
      "    <studentshowalternate>1</studentshowalternate>\n",
      "    <answer fraction=\"100\">\n",
      "      <text>\n",
      "bleu, blanc, rouge\n",
      "      </text>\n",
      "      <feedback format=\"html\">\n",
      "        <text>\n",
      "\n",
      "        </text>\n",
      "      </feedback>\n",
      "    </answer>\n",
      "    <answer fraction=\"50\">\n",
      "      <text>\n",
      "[[_bleu_, _blanc_, _rouge_]]\n",
      "      </text>\n",
      "      <feedback format=\"html\">\n",
      "        <text>\n",
      "\n",
      "        </text>\n",
      "      </feedback>\n",
      "    </answer>\n",
      "    <answer fraction=\"0\">\n",
      "      <text>\n",
      "--.*(&amp;&amp;bleu&amp;&amp;blanc&amp;&amp;rouge).*\n",
      "      </text>\n",
      "      <feedback format=\"html\">\n",
      "        <text>\n",
      "\n",
      "        </text>\n",
      "      </feedback>\n",
      "    </answer>\n",
      "  </question>\n",
      "\n",
      "<answer attribut=\"bonne\">blabla</answer><answer attribut=\"bonne\">toto</answer><answer attribut=\"mauvaise\">toto</answer><answer attribut=\"mauvaise\">toto</answer><answer attribut=\"bonne\">blabla</answer><answer attribut=\"bonne\">toto</answer><answer attribut=\"mauvaise\">toto</answer><answer attribut=\"mauvaise\">toto</answer></quiz>\n",
      "\n"
     ]
    }
   ],
   "source": [
    "consigneLignes=[]\n",
    "exercices=False\n",
    "for ligne in base:\n",
    "    if \"===\" in ligne:\n",
    "        exercices=True\n",
    "    else:\n",
    "        if exercices:\n",
    "            (kanji,choix)= ligne.split(\":\")\n",
    "            reponses=choix.split(\",\")\n",
    "            for element in reponses:\n",
    "                if element.startswith(\"=\"):\n",
    "                    bonneReponse=element[1:]\n",
    "                    reponse=E.answer(bonneReponse,{\"attribut\":\"bonne\"})\n",
    "                    sortieXML.append(reponse)\n",
    "                else:\n",
    "                    mauvaiseReponse=element\n",
    "                    reponse=E.answer(bonneReponse,{\"attribut\":\"mauvaise\"})\n",
    "                    sortieXML.append(reponse)\n",
    "        else:\n",
    "            consigneLignes.append(ligne)\n",
    "print etree.tostring(sortieXML, encoding='UTF-8', pretty_print=True)"
   ]
  },
  {
   "cell_type": "code",
   "execution_count": 99,
   "metadata": {
    "collapsed": false
   },
   "outputs": [
    {
     "name": "stdout",
     "output_type": "stream",
     "text": [
      "Consigne en texte.\n",
      "\n",
      "丕\n"
     ]
    }
   ],
   "source": [
    "for ligne in consigneLignes:\n",
    "    print ligne\n",
    "print kanji"
   ]
  },
  {
   "cell_type": "code",
   "execution_count": null,
   "metadata": {
    "collapsed": false
   },
   "outputs": [],
   "source": []
  }
 ],
 "metadata": {
  "kernelspec": {
   "display_name": "Python 2",
   "language": "python",
   "name": "python2"
  },
  "language_info": {
   "codemirror_mode": {
    "name": "ipython",
    "version": 2
   },
   "file_extension": ".py",
   "mimetype": "text/x-python",
   "name": "python",
   "nbconvert_exporter": "python",
   "pygments_lexer": "ipython2",
   "version": "2.7.9"
  }
 },
 "nbformat": 4,
 "nbformat_minor": 0
}
