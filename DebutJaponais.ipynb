{
 "cells": [
  {
   "cell_type": "code",
   "execution_count": 84,
   "metadata": {
    "collapsed": true
   },
   "outputs": [],
   "source": [
    "import codecs\n",
    "from lxml import etree\n",
    "from lxml.builder import E"
   ]
  },
  {
   "cell_type": "code",
   "execution_count": 85,
   "metadata": {
    "collapsed": false
   },
   "outputs": [],
   "source": [
    "fExercice=\"Japonais.txt\"\n",
    "fMoodleXMLVide=\"MoodleXML-Vide.xml\"\n",
    "base=codecs.open(fExercice,\"r\", 'utf8')"
   ]
  },
  {
   "cell_type": "code",
   "execution_count": 86,
   "metadata": {
    "collapsed": false
   },
   "outputs": [],
   "source": [
    "entreeXML=etree.parse(fMoodleXMLVide)\n",
    "sortieXML=entreeXML.getroot()\n",
    "#print sortieXML.tag\n",
    "#print etree.tostring(sortieXML, pretty_print=True)"
   ]
  },
  {
   "cell_type": "code",
   "execution_count": 88,
   "metadata": {
    "collapsed": false
   },
   "outputs": [
    {
     "name": "stdout",
     "output_type": "stream",
     "text": [
      "<quiz>\n",
      "<!-- question: 0  -->\n",
      "  <question type=\"category\">\n",
      "    <category>\n",
      "        <text>$course$/D&#233;faut pour Cours Gilles Boy&#233;</text>\n",
      "\n",
      "    </category>\n",
      "  </question>\n",
      "\n",
      "<!-- question: 66901  -->\n",
      "  <question type=\"cloze\">\n",
      "    <name>\n",
      "      <text>Test</text>\n",
      "    </name>\n",
      "    <questiontext format=\"html\">\n",
      "      <text>&lt;p&gt;chats {:RX:=chat(M)-PL~%75%chat\\.(M\\.PL|M-PL)~%50%chat[[\\(_M_\\)[-.]_PL_]]~%0%--.*(&amp;amp;&amp;amp;chat&amp;amp;&amp;amp;M&amp;amp;&amp;amp;PL).*#il vous manque des &#233;l&#233;ments~.*#vous avez les bons &#233;l&#233;ments mais peut-&#234;tre plus et/ou pas dans le bon ordre.}&lt;/p&gt;&lt;p&gt;&lt;br&gt;&lt;/p&gt;</text>\n",
      "    </questiontext>\n",
      "    <generalfeedback format=\"html\">\n",
      "      <text/>\n",
      "    </generalfeedback>\n",
      "    <penalty>0.3333333</penalty>\n",
      "    <hidden>0</hidden>\n",
      "  </question>\n",
      "\n",
      "<!-- question: 72459  -->\n",
      "  <question type=\"multichoice\">\n",
      "    <name>\n",
      "      <text>TITRE</text>\n",
      "    </name>\n",
      "    <questiontext format=\"html\">\n",
      "      <text>&lt;p&gt;CONSIGNE&lt;br&gt;&lt;/p&gt;</text>\n",
      "    </questiontext>\n",
      "    <generalfeedback format=\"html\">\n",
      "      <text>&lt;p&gt;FEEDBACKGENERAL&lt;br&gt;&lt;/p&gt;</text>\n",
      "    </generalfeedback>\n",
      "    <defaultgrade>1.0000000</defaultgrade>\n",
      "    <penalty>0.3333333</penalty>\n",
      "    <hidden>0</hidden>\n",
      "    <single>false</single>\n",
      "    <shuffleanswers>true</shuffleanswers>\n",
      "    <answernumbering>123</answernumbering>\n",
      "    <correctfeedback format=\"html\">\n",
      "      <text>Votre r&#233;ponse est correcte.</text>\n",
      "    </correctfeedback>\n",
      "    <partiallycorrectfeedback format=\"html\">\n",
      "      <text>Votre r&#233;ponse est partiellement correcte.</text>\n",
      "    </partiallycorrectfeedback>\n",
      "    <incorrectfeedback format=\"html\">\n",
      "      <text>Votre r&#233;ponse est incorrecte.</text>\n",
      "    </incorrectfeedback>\n",
      "    <shownumcorrect/>\n",
      "    <answer fraction=\"50\" format=\"html\">\n",
      "      <text>&lt;p&gt;REP1&lt;br&gt;&lt;/p&gt;</text>\n",
      "      <feedback format=\"html\">\n",
      "        <text/>\n",
      "      </feedback>\n",
      "    </answer>\n",
      "    <answer fraction=\"50\" format=\"html\">\n",
      "      <text>&lt;p&gt;REP2&lt;br&gt;&lt;/p&gt;</text>\n",
      "      <feedback format=\"html\">\n",
      "        <text/>\n",
      "      </feedback>\n",
      "    </answer>\n",
      "    <answer fraction=\"0\" format=\"html\">\n",
      "      <text>&lt;p&gt;REP3&lt;br&gt;&lt;/p&gt;</text>\n",
      "      <feedback format=\"html\">\n",
      "        <text/>\n",
      "      </feedback>\n",
      "    </answer>\n",
      "    <answer fraction=\"0\" format=\"html\">\n",
      "      <text>&lt;p&gt;REP4&lt;br&gt;&lt;/p&gt;</text>\n",
      "      <feedback format=\"html\">\n",
      "        <text/>\n",
      "      </feedback>\n",
      "    </answer>\n",
      "  </question>\n",
      "\n",
      "<!-- question: 67692  -->\n",
      "  <question type=\"regexp\">\n",
      "    <name>\n",
      "      <text>TEST</text>\n",
      "    </name>\n",
      "    <questiontext format=\"html\">\n",
      "      <text>Quelles sont les couleurs du drapeau de la France ?&lt;br&gt;&lt;p&gt;&lt;br&gt;&lt;/p&gt;</text>\n",
      "    </questiontext>\n",
      "    <generalfeedback format=\"html\">\n",
      "      <text/>\n",
      "    </generalfeedback>\n",
      "    <defaultgrade>1.0000000</defaultgrade>\n",
      "    <penalty>0.1000000</penalty>\n",
      "    <hidden>0</hidden>\n",
      "    <usehint>2</usehint>\n",
      "    <usecase>0</usecase>\n",
      "    <studentshowalternate>1</studentshowalternate>\n",
      "    <answer fraction=\"100\">\n",
      "      <text>\n",
      "bleu, blanc, rouge\n",
      "      </text>\n",
      "      <feedback format=\"html\">\n",
      "        <text>\n",
      "\n",
      "        </text>\n",
      "      </feedback>\n",
      "    </answer>\n",
      "    <answer fraction=\"50\">\n",
      "      <text>\n",
      "[[_bleu_, _blanc_, _rouge_]]\n",
      "      </text>\n",
      "      <feedback format=\"html\">\n",
      "        <text>\n",
      "\n",
      "        </text>\n",
      "      </feedback>\n",
      "    </answer>\n",
      "    <answer fraction=\"0\">\n",
      "      <text>\n",
      "--.*(&amp;&amp;bleu&amp;&amp;blanc&amp;&amp;rouge).*\n",
      "      </text>\n",
      "      <feedback format=\"html\">\n",
      "        <text>\n",
      "\n",
      "        </text>\n",
      "      </feedback>\n",
      "    </answer>\n",
      "  </question>\n",
      "\n",
      "<answer attribut=\"valeur\">blabla</answer><answer attribut=\"valeur\">toto</answer><answer attribut=\"valeur\">blabla</answer><answer attribut=\"valeur\">toto</answer></quiz>\n",
      "\n"
     ]
    }
   ],
   "source": [
    "consigneLignes=[]\n",
    "exercices=False\n",
    "for ligne in base:\n",
    "    if \"===\" in ligne:\n",
    "        exercices=True\n",
    "    else:\n",
    "        if exercices:\n",
    "            (kanji,choix)= ligne.split(\":\")\n",
    "            reponses=choix.split(\",\")\n",
    "            for element in reponses:\n",
    "                if element.startswith(\"=\"):\n",
    "                    bonneReponse=element[1:]\n",
    "                    reponse=E.answer(bonneReponse,{\"attribut\":\"valeur\"})\n",
    "                    sortieXML.append(reponse)\n",
    "                else:\n",
    "                    mauvaiseReponse=element\n",
    "                    reponse=E.answer(bonneReponse,{\"attribut\":\"valeur\"})\n",
    "                    sortieXML.append(reponse)\n",
    "        else:\n",
    "            consigneLignes.append(ligne)\n",
    "print etree.tostring(sortieXML, pretty_print=True)"
   ]
  },
  {
   "cell_type": "code",
   "execution_count": null,
   "metadata": {
    "collapsed": true
   },
   "outputs": [],
   "source": [
    "for ligne in consigneLignes:\n",
    "    print ligne\n",
    "print kanji"
   ]
  },
  {
   "cell_type": "code",
   "execution_count": 47,
   "metadata": {
    "collapsed": false
   },
   "outputs": [
    {
     "name": "stdout",
     "output_type": "stream",
     "text": [
      "<Element root at 0x104813758>\n"
     ]
    }
   ],
   "source": []
  }
 ],
 "metadata": {
  "kernelspec": {
   "display_name": "Python 2",
   "language": "python",
   "name": "python2"
  },
  "language_info": {
   "codemirror_mode": {
    "name": "ipython",
    "version": 2
   },
   "file_extension": ".py",
   "mimetype": "text/x-python",
   "name": "python",
   "nbconvert_exporter": "python",
   "pygments_lexer": "ipython2",
   "version": "2.7.9"
  }
 },
 "nbformat": 4,
 "nbformat_minor": 0
}
