{
 "cells": [
  {
   "cell_type": "code",
   "execution_count": 55,
   "metadata": {
    "collapsed": true
   },
   "outputs": [],
   "source": [
    "import codecs\n",
    "from lxml import etree\n",
    "from lxml.builder import E"
   ]
  },
  {
   "cell_type": "code",
   "execution_count": 56,
   "metadata": {
    "collapsed": false
   },
   "outputs": [],
   "source": [
    "fExercice=\"Japonais.txt\"\n",
    "base=codecs.open(fExercice,\"r\", 'utf8')"
   ]
  },
  {
   "cell_type": "code",
   "execution_count": 57,
   "metadata": {
    "collapsed": false
   },
   "outputs": [
    {
     "name": "stdout",
     "output_type": "stream",
     "text": [
      "<root><answer attribut=\"valeur\">blabla</answer></root>\n",
      "<root><answer attribut=\"valeur\">blabla</answer><answer attribut=\"valeur\">toto</answer></root>\n",
      "mauvaise réponse titi\n",
      "mauvaise réponse tutu\n",
      "\n",
      "<root><answer attribut=\"valeur\">blabla</answer><answer attribut=\"valeur\">toto</answer><answer attribut=\"valeur\">blabla</answer></root>\n",
      "<root><answer attribut=\"valeur\">blabla</answer><answer attribut=\"valeur\">toto</answer><answer attribut=\"valeur\">blabla</answer><answer attribut=\"valeur\">toto</answer></root>\n",
      "mauvaise réponse bobo\n",
      "mauvaise réponse bubu\n"
     ]
    }
   ],
   "source": [
    "consigneLignes=[]\n",
    "exercices=False\n",
    "sortieXML=etree.Element(\"root\")\n",
    "for ligne in base:\n",
    "    if \"===\" in ligne:\n",
    "        exercices=True\n",
    "    else:\n",
    "        if exercices:\n",
    "            (kanji,choix)= ligne.split(\":\")\n",
    "            reponses=choix.split(\",\")\n",
    "            for element in reponses:\n",
    "                if element.startswith(\"=\"):\n",
    "                    bonneReponse=element[1:]\n",
    "                    reponse=E.answer(bonneReponse,{\"attribut\":\"valeur\"})\n",
    "                    sortieXML.append(reponse)\n",
    "                    print etree.tostring(sortieXML)\n",
    "                else:\n",
    "                    print \"mauvaise réponse\", element\n",
    "        else:\n",
    "            consigneLignes.append(ligne)"
   ]
  },
  {
   "cell_type": "code",
   "execution_count": null,
   "metadata": {
    "collapsed": true
   },
   "outputs": [],
   "source": [
    "for ligne in consigneLignes:\n",
    "    print ligne\n",
    "print kanji"
   ]
  },
  {
   "cell_type": "code",
   "execution_count": 47,
   "metadata": {
    "collapsed": false
   },
   "outputs": [
    {
     "name": "stdout",
     "output_type": "stream",
     "text": [
      "<Element root at 0x104813758>\n"
     ]
    }
   ],
   "source": []
  }
 ],
 "metadata": {
  "kernelspec": {
   "display_name": "Python 2",
   "language": "python",
   "name": "python2"
  },
  "language_info": {
   "codemirror_mode": {
    "name": "ipython",
    "version": 2
   },
   "file_extension": ".py",
   "mimetype": "text/x-python",
   "name": "python",
   "nbconvert_exporter": "python",
   "pygments_lexer": "ipython2",
   "version": "2.7.9"
  }
 },
 "nbformat": 4,
 "nbformat_minor": 0
}
