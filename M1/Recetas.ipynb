{
 "cells": [
  {
   "cell_type": "code",
   "execution_count": 8,
   "metadata": {
    "collapsed": false
   },
   "outputs": [],
   "source": [
    "import urllib2\n",
    "from bs4 import BeautifulSoup"
   ]
  },
  {
   "cell_type": "code",
   "execution_count": 9,
   "metadata": {
    "collapsed": false
   },
   "outputs": [],
   "source": [
    "listeRecetas=[\"2250AA\",\"266MW\"]"
   ]
  },
  {
   "cell_type": "code",
   "execution_count": 10,
   "metadata": {
    "collapsed": false
   },
   "outputs": [],
   "source": [
    "listIngregientes=[]\n",
    "for recette in listeRecetas:\n",
    "    response = urllib2.urlopen('http://www.recetas.net/receta.asp?id=%s' % recette)\n",
    "    html = response.read()\n",
    "    soup=BeautifulSoup(html,\"lxml\")\n",
    "    listIngregientes.append(soup.find(\"div\", {\"class\":\"ingredientes\"}))"
   ]
  },
  {
   "cell_type": "code",
   "execution_count": 11,
   "metadata": {
    "collapsed": false
   },
   "outputs": [
    {
     "name": "stdout",
     "output_type": "stream",
     "text": [
      "4 dientes\n",
      "ajo\n",
      "1 pizca\n",
      "sal\n",
      "50 gramos\n",
      "mantequilla\n",
      "1 kilo\n",
      "lubina partida por la mitad\n",
      "100 ccs\n",
      "aceite de oliva\n",
      "1 cucharada\n",
      "perejil picado\n",
      "1 chorreón\n",
      "vinagre\n",
      "20 ccs\n",
      "aceite\n",
      "400 gramos\n",
      "espagueti\n",
      "4 \n",
      "huevo, las yemas\n",
      "1 pellizco\n",
      "pimienta negra\n",
      "150 gramos\n",
      "queso pecorino, Grana Padano\n",
      "1 pizca\n",
      "sal\n",
      "120 gramos\n",
      "tocino ahumado\n"
     ]
    }
   ],
   "source": [
    "for liste in listIngregientes:\n",
    "    listeIngredients=liste.findAll(\"span\", {\"itemprop\":\"ingredient\"})\n",
    "    for ingredient in listeIngredients:\n",
    "        print ingredient.find(\"span\", {\"itemprop\":\"amount\"}).text\n",
    "        print ingredient.find(\"span\", {\"itemprop\":\"name\"}).text\n"
   ]
  },
  {
   "cell_type": "code",
   "execution_count": null,
   "metadata": {
    "collapsed": false
   },
   "outputs": [],
   "source": []
  }
 ],
 "metadata": {
  "kernelspec": {
   "display_name": "Python 2",
   "language": "python",
   "name": "python2"
  },
  "language_info": {
   "codemirror_mode": {
    "name": "ipython",
    "version": 2
   },
   "file_extension": ".py",
   "mimetype": "text/x-python",
   "name": "python",
   "nbconvert_exporter": "python",
   "pygments_lexer": "ipython2",
   "version": "2.7.10"
  }
 },
 "nbformat": 4,
 "nbformat_minor": 0
}
