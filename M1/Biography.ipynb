{
 "cells": [
  {
   "cell_type": "code",
   "execution_count": null,
   "metadata": {
    "collapsed": true
   },
   "outputs": [],
   "source": [
    "from xml.etree import ElementTree as etree"
   ]
  },
  {
   "cell_type": "code",
   "execution_count": null,
   "metadata": {
    "collapsed": true
   },
   "outputs": [],
   "source": [
    "def parse(biography):\n",
    "    treebiography = biography\n",
    "    rootbiography = treebiography.getroot()\n",
    "    dictbiography = {}\n",
    "    dictbiography[\"album\"]=[]\n",
    "    for album in rootbiography.findall(\"./biography/album\"):\n",
    "        dictalbum = {}\n",
    "        dictalbum [\"title\"]= album.findall(\"./title\")\n",
    "        dictbiography[\"album\"] += dictalbum\n",
    "    return dictbiography"
   ]
  },
  {
   "cell_type": "code",
   "execution_count": null,
   "metadata": {
    "collapsed": false,
    "scrolled": true
   },
   "outputs": [],
   "source": [
    "fichierBio=\"biographie.xml\"\n",
    "biography=etree.parse(fichierBio)\n",
    "print(parse(biography))"
   ]
  },
  {
   "cell_type": "code",
   "execution_count": null,
   "metadata": {
    "collapsed": true
   },
   "outputs": [],
   "source": [
    "def parse(biography):\n",
    "    dictbiography = {}\n",
    "    for album in biography.findall(\"album\"):\n",
    "        title=album.find(\"title\").text\n",
    "        dictbiography[title]=[]\n",
    "        for song in album.findall(\"playlist/music\"):\n",
    "            dictbiography[title].append(song.text)\n",
    "    return dictbiography        "
   ]
  },
  {
   "cell_type": "code",
   "execution_count": null,
   "metadata": {
    "collapsed": true
   },
   "outputs": [],
   "source": []
  }
 ],
 "metadata": {
  "kernelspec": {
   "display_name": "Python 2",
   "language": "python",
   "name": "python2"
  },
  "language_info": {
   "codemirror_mode": {
    "name": "ipython",
    "version": 2
   },
   "file_extension": ".py",
   "mimetype": "text/x-python",
   "name": "python",
   "nbconvert_exporter": "python",
   "pygments_lexer": "ipython2",
   "version": "2.7.10"
  }
 },
 "nbformat": 4,
 "nbformat_minor": 0
}
