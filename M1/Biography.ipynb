{
 "cells": [
  {
   "cell_type": "code",
   "execution_count": 2,
   "metadata": {
    "collapsed": true
   },
   "outputs": [],
   "source": [
    "from xml.etree import ElementTree as etree"
   ]
  },
  {
   "cell_type": "code",
   "execution_count": 35,
   "metadata": {
    "collapsed": true
   },
   "outputs": [],
   "source": [
    "def parse(biography):\n",
    "    treebiography = biography\n",
    "    rootbiography = treebiography.getroot()\n",
    "    dictbiography = {}\n",
    "    dictbiography[\"album\"]=[]\n",
    "    for album in rootbiography.findall(\"./biography/album\"):\n",
    "        dictalbum = {}\n",
    "        dictalbum [\"title\"]= album.findall(\"./title\")\n",
    "        dictbiography[\"album\"] += dictalbum\n",
    "    return dictbiography"
   ]
  },
  {
   "cell_type": "code",
   "execution_count": 39,
   "metadata": {
    "collapsed": false,
    "scrolled": true
   },
   "outputs": [
    {
     "name": "stdout",
     "output_type": "stream",
     "text": [
      "{'Abbey road ': ['Come together ', ' Something ', \" Maxwell's silver hammer \", ' Oh darling ', \" I want you (she's so heavy) \", ' Here comes the sun ', ' Because ', ' Sun king ', ' Mean Mr. Mustard  ', ' Polythene Pam ', ' She came in through the bathroom window ', ' Golden slumbers ', ' Carry that weight ', ' The end ', ' Her majesty '], \"Sergent Pepper's lonely hearts club band \": [\"Sergent Pepper's lonely heart's club band \", ' With a little help from my friends ', ' Lucy in the sky with diamond ', ' Getting better ', ' Fixing a hole ', \" She's leaving home \", ' Being for the benefits of Mr. Kite ', ' Within you without you ', \" When I'm 64 \", ' Lovely Rita ', ' Good morning good morning ', ' A day in the life '], ' The Beatles> ': [' Back in the USSR ', ' Dear Prudence ', ' Glass Onion ', ' Ob-la-di Ob-la-da ', ' Wild honey pie ', ' The conitnuing story of Bungalow Bill ', ' While my guitar gently weeps ', ' Hapiness is a warm gun ', ' Martha my dear ', \" I'm so tired \", ' Blackbird ', ' Piggies ', ' Rocky Raccoon ', \" Don't pass me by \", \" Why don't we do it in the road ? \", ' I will ', ' Julia ', ' Birthday ', ' Yer Blues ', \" Mother's nature son \", ' Everybody has something to hide except me and my monkey ', ' Sexy sadie ', ' Helter Skelter ', ' Long, long, long ', ' Revolution 1 ', ' Honey pie ', ' Savoy truffle ', ' Cry baby cry ', ' Revolution 9 ', ' Good night ']}\n"
     ]
    }
   ],
   "source": [
    "fichierBio=\"biographie.xml\"\n",
    "biography=etree.parse(fichierBio)\n",
    "print(parse(biography))"
   ]
  },
  {
   "cell_type": "code",
   "execution_count": 38,
   "metadata": {
    "collapsed": true
   },
   "outputs": [],
   "source": [
    "def parse(biography):\n",
    "    dictbiography = {}\n",
    "    for album in biography.findall(\"album\"):\n",
    "        title=album.find(\"title\").text\n",
    "        dictbiography[title]=[]\n",
    "        for song in album.findall(\"playlist/music\"):\n",
    "            dictbiography[title].append(song.text)\n",
    "    return dictbiography        "
   ]
  },
  {
   "cell_type": "code",
   "execution_count": null,
   "metadata": {
    "collapsed": true
   },
   "outputs": [],
   "source": []
  }
 ],
 "metadata": {
  "kernelspec": {
   "display_name": "Python 2",
   "language": "python",
   "name": "python2"
  },
  "language_info": {
   "codemirror_mode": {
    "name": "ipython",
    "version": 2
   },
   "file_extension": ".py",
   "mimetype": "text/x-python",
   "name": "python",
   "nbconvert_exporter": "python",
   "pygments_lexer": "ipython2",
   "version": "2.7.9"
  }
 },
 "nbformat": 4,
 "nbformat_minor": 0
}
