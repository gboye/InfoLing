{
 "metadata": {
  "name": "",
  "signature": "sha256:1470810d06d49111b5393106a4025ed5225c6f792d36e7fb6ff4844798ad31ab"
 },
 "nbformat": 3,
 "nbformat_minor": 0,
 "worksheets": [
  {
   "cells": [
    {
     "cell_type": "code",
     "collapsed": false,
     "input": [
      "from unidecode import unidecode\n",
      "import re\n",
      "import random as rd\n",
      "import itertools as it"
     ],
     "language": "python",
     "metadata": {},
     "outputs": [],
     "prompt_number": 1
    },
    {
     "cell_type": "code",
     "collapsed": false,
     "input": [
      "jetons = {\"a\": 9, \"b\": 2, \"c\": 2, \"d\": 3, \"e\": 15, \n",
      "         \"f\": 2, \"g\": 2, \"h\": 2, \"i\": 8, \"j\": 1, \n",
      "         \"k\": 1, \"l\": 5, \"m\": 3, \"n\": 6, \"o\": 6, \n",
      "         \"p\": 2, \"q\": 1, \"r\": 6, \"s\": 6, \"t\": 6, \n",
      "         \"u\": 6, \"v\": 2, \"w\": 1, \"x\": 1, \"y\": 1, \n",
      "         \"z\": 1, \"*\": 2}\n",
      "score = {\"a\": 1, \"b\": 3, \"c\": 3, \"d\": 2, \"e\": 1, \n",
      "         \"f\": 4, \"g\": 2, \"h\": 4, \"i\": 1, \"j\": 8, \n",
      "         \"k\": 10, \"l\": 1, \"m\": 2, \"n\": 1, \"o\": 1, \n",
      "         \"p\": 3, \"q\": 8, \"r\": 1, \"s\": 1, \"t\": 1, \n",
      "         \"u\": 1, \"v\": 4, \"w\": 10, \"x\": 10, \"y\": 10, \n",
      "         \"z\": 10, \"*\":0}\n",
      "joueurs=[\"Valentine\",\"Maelys\",\"Javier\",\"Oana\"]\n",
      "rack={}\n",
      "nombreLettresRack=7\n",
      "for joueur in joueurs:\n",
      "    rack[joueur]=[\"\" for num in range(nombreLettresRack)]\n",
      "    "
     ],
     "language": "python",
     "metadata": {},
     "outputs": [],
     "prompt_number": 32
    },
    {
     "cell_type": "code",
     "collapsed": false,
     "input": [
      "rack[joueur]=[\"\" for num in range(nombreLettresRack)]"
     ],
     "language": "python",
     "metadata": {},
     "outputs": [],
     "prompt_number": 3
    },
    {
     "cell_type": "code",
     "collapsed": false,
     "input": [
      "rack"
     ],
     "language": "python",
     "metadata": {},
     "outputs": [
      {
       "metadata": {},
       "output_type": "pyout",
       "prompt_number": 4,
       "text": [
        "{'Javier': ['', '', '', '', '', '', ''],\n",
        " 'Maelys': ['', '', '', '', '', '', ''],\n",
        " 'Oana': ['', '', '', '', '', '', ''],\n",
        " 'Valentine': ['', '', '', '', '', '', '']}"
       ]
      }
     ],
     "prompt_number": 4
    },
    {
     "cell_type": "code",
     "collapsed": false,
     "input": [
      "lettres=\"ABZEFSU\"\n",
      "for i,lettre in enumerate(lettres):\n",
      "    rack['Maelys'][i]=lettre\n"
     ],
     "language": "python",
     "metadata": {},
     "outputs": [],
     "prompt_number": 13
    },
    {
     "cell_type": "code",
     "collapsed": false,
     "input": [
      "rack['Maelys']"
     ],
     "language": "python",
     "metadata": {},
     "outputs": [
      {
       "metadata": {},
       "output_type": "pyout",
       "prompt_number": 14,
       "text": [
        "['A', 'B', 'Z', 'E', 'F', 'S', 'U']"
       ]
      }
     ],
     "prompt_number": 14
    },
    {
     "cell_type": "code",
     "collapsed": false,
     "input": [
      "rack"
     ],
     "language": "python",
     "metadata": {},
     "outputs": [
      {
       "metadata": {},
       "output_type": "pyout",
       "prompt_number": 7,
       "text": [
        "{'Javier': ['', '', '', '', '', '', ''],\n",
        " 'Maelys': ['', '', '', 'A', '', '', ''],\n",
        " 'Oana': ['', '', '', '', '', '', ''],\n",
        " 'Valentine': ['', '', '', '', '', '', '']}"
       ]
      }
     ],
     "prompt_number": 7
    },
    {
     "cell_type": "markdown",
     "metadata": {},
     "source": [
      "###D\u00e9finition des objets pour le scrabble\n",
      "- Sac\n",
      "- Rack"
     ]
    },
    {
     "cell_type": "code",
     "collapsed": false,
     "input": [
      "class sacJetons():\n",
      "    def __init__(self,jetons={}):\n",
      "        self.jetons=jetons\n",
      "    def tirage(self,n):\n",
      "        jetonsTirage=[]\n",
      "        for element in self.jetons:\n",
      "            for num in range(self.jetons[element]):\n",
      "                jetonsTirage.append(element)\n",
      "        tirageJetons=rd.sample(jetonsTirage,n)\n",
      "        for jeton in tirageJetons:\n",
      "            self.jetons[jeton]+=-1\n",
      "        return \"\".join(tirageJetons)\n"
     ],
     "language": "python",
     "metadata": {},
     "outputs": [],
     "prompt_number": 38
    },
    {
     "cell_type": "code",
     "collapsed": false,
     "input": [
      "sac=sacJetons(jetons)"
     ],
     "language": "python",
     "metadata": {},
     "outputs": [],
     "prompt_number": 34
    },
    {
     "cell_type": "code",
     "collapsed": false,
     "input": [
      "r['Maelys']=rack(sac.tirage(7))"
     ],
     "language": "python",
     "metadata": {},
     "outputs": [],
     "prompt_number": 24
    },
    {
     "cell_type": "code",
     "collapsed": false,
     "input": [
      "rack1"
     ],
     "language": "python",
     "metadata": {},
     "outputs": [
      {
       "metadata": {},
       "output_type": "pyout",
       "prompt_number": 25,
       "text": [
        "'nekrblo'"
       ]
      }
     ],
     "prompt_number": 25
    },
    {
     "cell_type": "code",
     "collapsed": false,
     "input": [
      "class rack():\n",
      "    def __init__(self,lettres=\"\"):\n",
      "        self.lettres=lettres\n",
      "        if len(self.lettres)>7:\n",
      "            print(\"trop de lettres, pas possible\")\n",
      "            self.lettres=\"\""
     ],
     "language": "python",
     "metadata": {},
     "outputs": [],
     "prompt_number": 28
    },
    {
     "cell_type": "code",
     "collapsed": false,
     "input": [
      "r={}\n",
      "r[\"Maelys\"]=rack(\"nekrblo\")"
     ],
     "language": "python",
     "metadata": {},
     "outputs": [],
     "prompt_number": 29
    },
    {
     "cell_type": "code",
     "collapsed": false,
     "input": [
      "r[\"Maelys\"].lettres"
     ],
     "language": "python",
     "metadata": {},
     "outputs": [
      {
       "metadata": {},
       "output_type": "pyout",
       "prompt_number": 31,
       "text": [
        "'nekrblo'"
       ]
      }
     ],
     "prompt_number": 31
    }
   ],
   "metadata": {}
  }
 ]
}