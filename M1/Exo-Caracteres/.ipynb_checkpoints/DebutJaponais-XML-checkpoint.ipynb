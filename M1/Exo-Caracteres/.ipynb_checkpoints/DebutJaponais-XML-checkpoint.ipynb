{
 "cells": [
  {
   "cell_type": "code",
   "execution_count": 109,
   "metadata": {
    "collapsed": true
   },
   "outputs": [],
   "source": [
    "import codecs\n",
    "from lxml import etree\n",
    "from lxml.builder import E\n",
    "import random, re"
   ]
  },
  {
   "cell_type": "code",
   "execution_count": 110,
   "metadata": {
    "collapsed": true
   },
   "outputs": [],
   "source": [
    "debug=True"
   ]
  },
  {
   "cell_type": "code",
   "execution_count": 111,
   "metadata": {
    "collapsed": false
   },
   "outputs": [],
   "source": [
    "xml=etree.Element(\"quiz\")\n",
    "question=E.question(E.category(E.text(\"category\")),type=\"category\")\n",
    "xml.append(question)\n",
    "exercice=E.question(\n",
    "    E.name(E.text(\"titre\")),\n",
    "    E.questiontext(E.text(etree.CDATA(\"<p>consigne<br/></p>\"))),\n",
    "    E.generalfeedback(E.text(etree.CDATA(\"<p>generalFeedback<br/></p>\")),format=\"html\"),\n",
    "    E.defaultgrade(\"1.0\"),\n",
    "    E.penalty(\"0.3333333\"),\n",
    "    E.hidden(\"0\"),\n",
    "    E.single(\"false\"),\n",
    "    E.shuffleanswers(\"true\"),\n",
    "    E.answernumbering(\"123\"),\n",
    "    type=\"multichoice\")\n",
    "xml.append(exercice)"
   ]
  },
  {
   "cell_type": "code",
   "execution_count": 112,
   "metadata": {
    "collapsed": false
   },
   "outputs": [
    {
     "name": "stdout",
     "output_type": "stream",
     "text": [
      "<?xml version='1.0' encoding='utf8'?>\n",
      "<question type=\"category\">\n",
      "  <category>\n",
      "    <text>category</text>\n",
      "  </category>\n",
      "</question>\n",
      "\n"
     ]
    }
   ],
   "source": [
    "print etree.tostring(question,pretty_print=True,xml_declaration=True, encoding=\"utf8\")"
   ]
  },
  {
   "cell_type": "code",
   "execution_count": 113,
   "metadata": {
    "collapsed": true
   },
   "outputs": [],
   "source": [
    "score={0:\"0\", 1:\"100\", 2:\"50\", 3:\"33.333\", 4:\"25\", 5:\"20\"}\n",
    "\n",
    "class MoodleXML:\n",
    "    def __init__(self):\n",
    "        self.xml=etree.Element(\"quiz\")\n",
    "    def addQuiz(self,quiz):\n",
    "        self.xml.append(quiz)\n",
    "    def addQuizzes(self,quizzes):\n",
    "        for quiz in quizzes:\n",
    "            self.addQuiz(quiz)\n",
    "    def getXML(self):\n",
    "        result=etree.tostring(self.xml,pretty_print=True,xml_declaration=True, encoding=\"utf8\").decode(\"utf8\")\n",
    "        return result"
   ]
  },
  {
   "cell_type": "code",
   "execution_count": 114,
   "metadata": {
    "collapsed": true
   },
   "outputs": [],
   "source": [
    "class XMLMultichoice:\n",
    "    '''\n",
    "    Conteneur pour une série d'exercices d'une même catégorie\n",
    "    '''\n",
    "    def __init__(self,category):\n",
    "        questionCategorie=E.question(E.category(E.text(category)),type=\"category\")\n",
    "        self.exercices=[questionCategorie]\n",
    "    \n",
    "    def addExercice(self,exercice):\n",
    "        self.exercices.append(exercice.exercice)\n",
    "    \n",
    "    def getMultichoices(self):                \n",
    "        \n",
    "        result=u\"\\n\".join(categoryStructure)\n",
    "        for exercice in self.exercices:\n",
    "            result+=exercice.forme\n",
    "        return result"
   ]
  },
  {
   "cell_type": "code",
   "execution_count": 115,
   "metadata": {
    "collapsed": false
   },
   "outputs": [],
   "source": [
    "class MultichoiceExercice:\n",
    "    '''\n",
    "    Conteneur pour un exercice Multichoice\n",
    "    \n",
    "    on fournit le titre et le corps de la question à insérer tout prêts\n",
    "    '''\n",
    "    def __init__(self,titre,consigne,reponses,**kwargs):\n",
    "        options={\n",
    "            \"feedback\":u\"Bien Reçu!\",\n",
    "            \"defaultgrade\":\"1.0\",\n",
    "            \"penalty\":\"0.3333333\",\n",
    "            \"hidden\":\"0\",\n",
    "            \"single\":\"false\",\n",
    "            \"shuffleanswers\":\"true\",\n",
    "            \"answernumbering\":\"123\"\n",
    "        }\n",
    "        options[\"titre\"]=titre\n",
    "        options[\"consigne\"]=consigne\n",
    "        for option in kwargs.keys():\n",
    "            if option in options:\n",
    "                options[option]=kwargs[option]\n",
    "                print options[option]\n",
    "        self.exercice=E.question(\n",
    "            E.name(E.text(options[\"titre\"])),\n",
    "            E.questiontext(E.text(etree.CDATA(u\"<p>%s<br/></p>\"%options[\"consigne\"]))),\n",
    "            E.generalfeedback(E.text(etree.CDATA(u\"<p>%s<br/></p>\"%options[\"feedback\"])),format=\"html\"),\n",
    "            E.defaultgrade(options[\"defaultgrade\"]),\n",
    "            E.penalty(options[\"penalty\"]),\n",
    "            E.hidden(options[\"hidden\"]),\n",
    "            E.single(options[\"single\"]),\n",
    "            E.shuffleanswers(options[\"shuffleanswers\"]),\n",
    "            E.answernumbering(options[\"answernumbering\"]),\n",
    "            type=\"multichoice\")        \n",
    "        (bonnesReponses,mauvaisesReponses)=reponses\n",
    "#        if debug: print reponses\n",
    "        nombreReponses=len(bonnesReponses)+len(mauvaisesReponses)        \n",
    "        scoreBonneReponse=score[len(bonnesReponses)]\n",
    "        scoreMauvaiseReponse=\"-\"+score[min(len(mauvaisesReponses),2)]\n",
    "        numerosReponses=range(nombreReponses)\n",
    "        random.shuffle(numerosReponses)\n",
    "        for numero in numerosReponses:\n",
    "            if numero<len(bonnesReponses):\n",
    "                answer=E.answer(\n",
    "                        E.text(etree.CDATA(u\"<p>%s<br/></p>\"%bonnesReponses[numero])),\n",
    "                        E.feedback(E.text(), format=\"html\"),\n",
    "                        fraction=u'%s'%scoreBonneReponse, format=\"html\")\n",
    "            else:\n",
    "                answer=E.answer(\n",
    "                        E.text(etree.CDATA(u\"<p>%s<br/></p>\"%mauvaisesReponses[numero-len(bonnesReponses)])),\n",
    "                        E.feedback(E.text(), format=\"html\"),\n",
    "                        fraction=u'%s'%scoreMauvaiseReponse, format=\"html\")\n",
    "            self.exercice.append(answer)\n",
    "#        self.forme=u\"\\n\".join(exerciceHeader+exerciceAnswers+exerciceTrailer)"
   ]
  },
  {
   "cell_type": "markdown",
   "metadata": {},
   "source": [
    "xml=MoodleXML()\n",
    "mc=XMLMultichoice(\"CATEGORIE\")\n",
    "exo=MultichoiceExercice(\"TITRE\", \"CONSIGNE\", ([\"br1\",\"br2\",\"br3\"],[\"mr1\"]))\n",
    "#print exo.forme\n",
    "mc.addExercice(exo)\n",
    "xml.addQuiz(mc.getMultichoices())\n",
    "xml.getXML()"
   ]
  },
  {
   "cell_type": "code",
   "execution_count": 116,
   "metadata": {
    "collapsed": false
   },
   "outputs": [],
   "source": [
    "fExercice=\"kanjiL1-S1-S2.txt\"\n",
    "cExercice=codecs.open(fExercice,\"r\", 'utf8')\n",
    "base=cExercice.readlines()\n",
    "xml=MoodleXML()"
   ]
  },
  {
   "cell_type": "code",
   "execution_count": 117,
   "metadata": {
    "collapsed": false,
    "scrolled": true
   },
   "outputs": [
    {
     "name": "stdout",
     "output_type": "stream",
     "text": [
      "base de données\n",
      "consigne trouvée 'Sélectionner la lecture correspondant pour cet hiragana'\n",
      "consigne trouvée 'Sélectionner la lecture correspondant pour ce katakana'\n",
      "base de données\n",
      "consigne trouvée 'Sélectionner la ou les lecture(s) correspondante(s) pour ce kanji'\n"
     ]
    }
   ],
   "source": [
    "consigneLignes=[]\n",
    "#nouvelExercice=False\n",
    "courantExercice=False\n",
    "ligneExercice=False\n",
    "ligneConsigne=False\n",
    "for ligne in base:\n",
    "    ligne=ligne.strip()\n",
    "    typeConsigne=re.match(u\"^\\s*«(.*)»\\s*\",ligne)\n",
    "    if u\"Base de données pour un exercice\" in ligne:\n",
    "        if debug: print \"base de données\"\n",
    "#    elif ligneConsigne:\n",
    "#        m=re.match(u\"^\\s*«(.*)»\\s*\",ligne)\n",
    "    elif typeConsigne:\n",
    "#        nouvelExercice=True\n",
    "        if courantExercice:\n",
    "            xml.addQuizzes(mc.exercices)\n",
    "            courantExercice=False\n",
    "        baseConsigne=typeConsigne.group(1).strip()\n",
    "        if debug: print u\"consigne trouvée '%s'\"% baseConsigne\n",
    "        mc=XMLMultichoice(baseConsigne)\n",
    "        ligneConsigne=False\n",
    "        ligneExercice=True\n",
    "    elif u\"Leçon\" in ligne:\n",
    "#        print \"Leçon\"\n",
    "        if courantExercice:\n",
    "            xml.addQuizzes(mc.exercices)\n",
    "            courantExercice=False        \n",
    "        m=re.match(u\"Leçon\\s*(\\d+)\\s*\",ligne)\n",
    "        if m:\n",
    "#            print \"Leçon\", m.group(1)\n",
    "###            mc=XMLMultichoice(m.group(1)+\": \"+consigne)\n",
    "            mc=XMLMultichoice(baseConsigne.strip()+\"/\"+m.group(1))\n",
    "    elif ligneExercice and \":\" in ligne:\n",
    "        (kanji,choix)= ligne.split(\":\")\n",
    "        reponses=choix.split(\",\")\n",
    "        bonnesReponses=[]\n",
    "        mauvaisesReponses=[]\n",
    "        for element in reponses:\n",
    "            if element.startswith(\"=\"):\n",
    "                bonneReponse=element[1:]\n",
    "                bonnesReponses.append(bonneReponse)\n",
    "            else:\n",
    "                mauvaiseReponse=element\n",
    "                mauvaisesReponses.append(mauvaiseReponse)\n",
    "        titre=kanji+\": \"+\"+\"+\", \".join(bonnesReponses)+\"-\"+\", \".join(mauvaisesReponses)\n",
    "        consigne=baseConsigne+\" \"+kanji\n",
    "#        if debug: print (titre,consigne, bonnesReponses, mauvaisesReponses)\n",
    "        mc.addExercice(MultichoiceExercice(titre, consigne, (bonnesReponses,mauvaisesReponses)))\n",
    "        courantExercice=True\n",
    "if courantExercice:\n",
    "    xml.addQuizzes(mc.exercices)\n",
    "    courantExercice=False\n",
    "    \n"
   ]
  },
  {
   "cell_type": "code",
   "execution_count": 118,
   "metadata": {
    "collapsed": false
   },
   "outputs": [],
   "source": [
    "#print type(xml.getXML())"
   ]
  },
  {
   "cell_type": "code",
   "execution_count": 119,
   "metadata": {
    "collapsed": true
   },
   "outputs": [],
   "source": [
    "fExerciceXML=fExercice.split(\".\")[0]+\".xml\"\n",
    "with codecs.open(fExerciceXML,\"w\",encoding=\"utf8\") as output:\n",
    "    output.write(xml.getXML())"
   ]
  },
  {
   "cell_type": "code",
   "execution_count": null,
   "metadata": {
    "collapsed": false
   },
   "outputs": [],
   "source": []
  }
 ],
 "metadata": {
  "kernelspec": {
   "display_name": "Python 2",
   "language": "python",
   "name": "python2"
  },
  "language_info": {
   "codemirror_mode": {
    "name": "ipython",
    "version": 2
   },
   "file_extension": ".py",
   "mimetype": "text/x-python",
   "name": "python",
   "nbconvert_exporter": "python",
   "pygments_lexer": "ipython2",
   "version": "2.7.10"
  }
 },
 "nbformat": 4,
 "nbformat_minor": 0
}
