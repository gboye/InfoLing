{
 "cells": [
  {
   "cell_type": "code",
   "execution_count": 9,
   "metadata": {
    "collapsed": true
   },
   "outputs": [],
   "source": [
    "import re\n",
    "import sys\n",
    "import codecs, csv"
   ]
  },
  {
   "cell_type": "code",
   "execution_count": 10,
   "metadata": {
    "collapsed": true
   },
   "outputs": [],
   "source": [
    "cmuFile=codecs.open(\"cmudict-0.7b\",\"r\", 'utf8')"
   ]
  },
  {
   "cell_type": "code",
   "execution_count": 11,
   "metadata": {
    "collapsed": true
   },
   "outputs": [],
   "source": [
    "elpFileCSV=codecs.open(\"ELP-Lexicon.csv\",\"r\", 'utf8')"
   ]
  },
  {
   "cell_type": "code",
   "execution_count": 12,
   "metadata": {
    "collapsed": false
   },
   "outputs": [],
   "source": [
    "elpFile = csv.reader(elpFileCSV, delimiter=',', quotechar='\"')"
   ]
  },
  {
   "cell_type": "code",
   "execution_count": 13,
   "metadata": {
    "collapsed": false
   },
   "outputs": [],
   "source": [
    "lexiconELP=[]\n",
    "for index,line in enumerate(elpFile):\n",
    "    if line:\n",
    "        word=line[0]\n",
    "        if word.islower() or word.istitle() :\n",
    "            lexiconELP.append(word.upper())\n",
    "    else:\n",
    "        print index"
   ]
  },
  {
   "cell_type": "code",
   "execution_count": 14,
   "metadata": {
    "collapsed": false,
    "scrolled": true
   },
   "outputs": [
    {
     "name": "stdout",
     "output_type": "stream",
     "text": [
      "CPU times: user 2 µs, sys: 1 µs, total: 3 µs\n",
      "Wall time: 3.81 µs\n"
     ]
    }
   ],
   "source": [
    "%time\n",
    "dictionary={}\n",
    "for index,line in enumerate(cmuFile):\n",
    "    if \";;;\" not in line: #delete header\n",
    "        entry=line.strip().split(\"  \")#every entry contains 2 spaces\n",
    "        word=entry[0] #word is in first column\n",
    "        syllabes=entry[1:] #beginning of phonetic string in 2nd column\n",
    "        if word in lexiconELP:\n",
    "            dictionary[word]=syllabes\n",
    "#            if len(dictionary)%1000==0:\n",
    "#                print index,len(dictionary)"
   ]
  },
  {
   "cell_type": "code",
   "execution_count": 15,
   "metadata": {
    "collapsed": false
   },
   "outputs": [],
   "source": [
    "with open('test.csv', 'w') as output:\n",
    "    for key in sorted(dictionary):\n",
    "        row=[key]+dictionary[key]\n",
    "        output.write(key+\"  \"+\" \".join(dictionary[key])+\"\\n\")"
   ]
  }
 ],
 "metadata": {
  "kernelspec": {
   "display_name": "Python 2",
   "language": "python",
   "name": "python2"
  },
  "language_info": {
   "codemirror_mode": {
    "name": "ipython",
    "version": 2
   },
   "file_extension": ".py",
   "mimetype": "text/x-python",
   "name": "python",
   "nbconvert_exporter": "python",
   "pygments_lexer": "ipython2",
   "version": "2.7.9"
  }
 },
 "nbformat": 4,
 "nbformat_minor": 0
}
