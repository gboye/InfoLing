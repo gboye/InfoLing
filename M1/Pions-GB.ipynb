{
 "metadata": {
  "name": "",
  "signature": "sha256:86e74aec87c14706bc478da67919f63218c54f15d5cd192787f8ef22836580a0"
 },
 "nbformat": 3,
 "nbformat_minor": 0,
 "worksheets": [
  {
   "cells": [
    {
     "cell_type": "code",
     "collapsed": false,
     "input": [
      "import random"
     ],
     "language": "python",
     "metadata": {},
     "outputs": [],
     "prompt_number": 1
    },
    {
     "cell_type": "code",
     "collapsed": false,
     "input": [
      "tailleRack=7\n",
      "listeJetons = {\"a\": 9, \"b\": 2, \"c\": 2, \"d\": 3, \"e\": 15, \n",
      "         \"f\": 2, \"g\": 2, \"h\": 2, \"i\": 8, \"j\": 1, \n",
      "         \"k\": 1, \"l\": 5, \"m\": 3, \"n\": 6, \"o\": 6, \n",
      "         \"p\": 2, \"q\": 1, \"r\": 6, \"s\": 6, \"t\": 6, \n",
      "         \"u\": 6, \"v\": 2, \"w\": 1, \"x\": 1, \"y\": 1, \n",
      "         \"z\": 1, \"*\": 2}"
     ],
     "language": "python",
     "metadata": {},
     "outputs": [],
     "prompt_number": 2
    },
    {
     "cell_type": "code",
     "collapsed": false,
     "input": [
      "class Pions():\n",
      "    def __init__(self,nom=\"pions\",jetons=listeJetons):\n",
      "        self.nom=nom\n",
      "        self.jetons=jetons\n",
      "        self.vide={}\n",
      "        for jeton in self.jetons:\n",
      "            self.vide[jeton]=0\n",
      "            \n",
      "    def __repr__(self):\n",
      "        return self.nom+\" : \"+\"\".join(self.listerJetons())\n",
      "    \n",
      "    def listerJetons(self):\n",
      "        '''\n",
      "        cr\u00e9e une chaine avec tous les jetons de l'objet\n",
      "        '''\n",
      "        liste=[]\n",
      "        for jeton in self.jetons:\n",
      "            nombre=self.jetons[jeton]\n",
      "            liste.extend([jeton]*nombre)\n",
      "        return liste\n",
      "            \n",
      "    def tirerJetons(self,n):\n",
      "        '''\n",
      "        tire n jetons dans l'objet (si l'objet n'est pas vide)\n",
      "            si il en reste suffisamment\n",
      "            sinon tire tous les jetons restants\n",
      "        '''\n",
      "        jetons=self.listerJetons()\n",
      "        nb=len(jetons)\n",
      "        tirage=[]\n",
      "        if nb == 0:\n",
      "            print \"%s n'a plus de jetons\" % self.nom\n",
      "        if n <= len(jetons):\n",
      "            tirage=random.sample(jetons,n)\n",
      "        else:\n",
      "            tirage=jetons\n",
      "            print \"%s n'a plus de jetons\" % self.nom\n",
      "        for jeton in tirage:\n",
      "            self.jetons[jeton]-=1\n",
      "        return tirage    \n",
      "    \n",
      "    def ajouterJetons(self,jetons):\n",
      "        '''\n",
      "        ajoute des jetons dans l'objet\n",
      "        '''\n",
      "        for jeton in jetons:\n",
      "            self.jetons[jeton]+=1\n",
      "            \n",
      "    def jouerLettres(self,lettres):\n",
      "        changements=[]\n",
      "        lettreEpuisee=False\n",
      "        for lettre in lettres:\n",
      "            if self.jetons[lettre]>0:\n",
      "                self.jetons[lettre]-=1\n",
      "                changements.append(lettre)\n",
      "            else:\n",
      "                lettreEpuisee=True\n",
      "                print \"pas suffisamment de %s\" % lettre\n",
      "        if lettreEpuisee:\n",
      "            for changement in changements:\n",
      "                self.jetons[changement]+=1\n",
      "        else:\n",
      "            jeu.plateau.ajouterJetons(lettres)\n",
      "        "
     ],
     "language": "python",
     "metadata": {},
     "outputs": [],
     "prompt_number": 3
    },
    {
     "cell_type": "code",
     "collapsed": false,
     "input": [
      "class Scrabble():\n",
      "    def __init__ (self):\n",
      "        self.joueurs=[]\n",
      "        self.sac=Pions(\"sac\")\n",
      "        self.rack={}\n",
      "        # Pions().vide cr\u00e9e la liste vide au dessus\n",
      "        # Pions(Pions().vide) cr\u00e9e un objet avec des pions avec 0 de chaque\n",
      "        self.plateau=Pions(\"plateau\",Pions().vide)\n",
      "    \n",
      "    def ajouterJoueur (self,joueur):\n",
      "        if joueur in self.joueurs:\n",
      "            print (\"Le joueur %s est d\u00e9j\u00e0 dans la liste\" % joueur)\n",
      "        else:            \n",
      "            self.joueurs.append(joueur)\n",
      "            self.rack[joueur]=Pions(joueur,Pions().vide)\n",
      "    \n",
      "    def remplirRack (self,joueur):\n",
      "        nbJetons=len(self.rack[joueur].listerJetons())\n",
      "        tir=self.sac.tirerJetons(tailleRack-nbJetons)\n",
      "        self.rack[joueur].ajouterJetons(tir)"
     ],
     "language": "python",
     "metadata": {},
     "outputs": [],
     "prompt_number": 4
    },
    {
     "cell_type": "code",
     "collapsed": false,
     "input": [
      "jeu=Scrabble()"
     ],
     "language": "python",
     "metadata": {},
     "outputs": [],
     "prompt_number": 5
    },
    {
     "cell_type": "code",
     "collapsed": false,
     "input": [
      "jeu.ajouterJoueur(\"Val\")\n",
      "jeu.ajouterJoueur(\"Mae\")"
     ],
     "language": "python",
     "metadata": {},
     "outputs": [],
     "prompt_number": 6
    },
    {
     "cell_type": "code",
     "collapsed": false,
     "input": [
      "jeu.remplirRack(\"Val\")"
     ],
     "language": "python",
     "metadata": {},
     "outputs": [],
     "prompt_number": 14
    },
    {
     "cell_type": "code",
     "collapsed": false,
     "input": [
      "for joueur in jeu.joueurs:\n",
      "    print jeu.rack[joueur]"
     ],
     "language": "python",
     "metadata": {},
     "outputs": [
      {
       "output_type": "stream",
       "stream": "stdout",
       "text": [
        "Val : gimnptx\n",
        "Mae : \n"
       ]
      }
     ],
     "prompt_number": 17
    },
    {
     "cell_type": "code",
     "collapsed": false,
     "input": [
      "jeu.rack[\"Val\"].jouerLettres(\"doree\")\n",
      "jeu.remplirRack(\"Val\")"
     ],
     "language": "python",
     "metadata": {},
     "outputs": [],
     "prompt_number": 16
    },
    {
     "cell_type": "code",
     "collapsed": false,
     "input": [
      "jeu"
     ],
     "language": "python",
     "metadata": {},
     "outputs": [
      {
       "metadata": {},
       "output_type": "pyout",
       "prompt_number": 10,
       "text": [
        "<__main__.Scrabble instance at 0x10446e2d8>"
       ]
      }
     ],
     "prompt_number": 10
    },
    {
     "cell_type": "code",
     "collapsed": false,
     "input": [],
     "language": "python",
     "metadata": {},
     "outputs": []
    }
   ],
   "metadata": {}
  }
 ]
}