{
 "cells": [
  {
   "cell_type": "code",
   "execution_count": 2,
   "metadata": {
    "collapsed": false
   },
   "outputs": [],
   "source": [
    "from urllib2 import urlopen, quote, HTTPError, URLError\n",
    "from pattern.text.fr import parse, tag, parsetree\n",
    "import codecs, re\n",
    "from bs4 import BeautifulSoup as BS"
   ]
  },
  {
   "cell_type": "code",
   "execution_count": 3,
   "metadata": {
    "collapsed": false
   },
   "outputs": [
    {
     "name": "stdout",
     "output_type": "stream",
     "text": [
      "002/CD/O/O ././O/O\n",
      "ant/NN/B-NP/O Helmut/NNP/I-NP/O Kohl/NNP/I-NP/O et/CC/I-NP/O les/DT/I-NP/O chrétiens-démocrates/NNS/I-NP/O (/(/O/O CDU/NN/B-NP/O )/)/O/O PEUVENT-il/NN/B-NP/O encore/RB/I-NP/O gagner/VB/I-VP/O les/DT/B-NP/O élections/NNS/I-NP/O législative/JJ/I-NP/O\n",
      "<type 'unicode'>\n",
      "001.  akil Ahmad Mutawakil, a affirmé que les Iraniens \" POURRAIENT avoir été tués\". \"Quand les talibans so /NN/B-NP/O\n",
      "<type 'unicode'>\n",
      "002.  ant Helmut Kohl et les chrétiens-démocrates (CDU) PEUVENT-il encore gagner les élections législative /NN/B-NP/O\n",
      "<type 'unicode'>\n",
      "003.  depuis qu/NN/B-NP/O '/'/O/O il a été victime d/NN/B-NP/O '/'/O/O un attentat en 1990, POURRA succéder à M. Kohl. \"Je pense que c/NN/B-NP/O '/'/O/O est une /NN/B-NP/O\n",
      "<type 'unicode'>\n",
      "004.  e notre envoyée spéciale La guerre en Afghanistan POURRAIT avoir pris un nouveau tour avec l/NN/B-NP/O '/'/O/O entrée, /NN/B-NP/O\n",
      "<type 'unicode'>\n",
      "005.  atrick Collins. Mais tous ceux qui ont trente ans POURRONT aller dans l/NN/B-NP/O '/'/O/O espace, j/NN/B-NP/O '/'/O/O en suis sûr !\" VER /NN/B-NP/O\n",
      "<type 'unicode'>\n",
      "006.  ite plus le départ du chancelier que l/NN/B-NP/O '/'/O/O arrivée au POUVOIR de la gauche. Cette coalition serait condu /NN/B-NP/O\n",
      "<type 'unicode'>\n",
      "007.  t se resserre entre le chancelier Helmut Kohl, au POUVOIR depuis seize ans, et le candidat social- d /NN/B-NP/O\n",
      "<type 'unicode'>\n",
      "008.  aboul en septembre 1996, Oussama ben Laden aurait PU avoir quelques soucis à se faire, étant donné l /NN/B-NP/O\n",
      "<type 'unicode'>\n",
      "009.  se de ces dispositions, la dépense moyenne aurait PU être, en 1997, de 350 000 francs. La brièveté d /NN/B-NP/O\n",
      "<type 'unicode'>\n",
      "010.   les pics de pollution. A ce stade, les autorités PEUVENT prendre des mesures pour réduire la circul /NN/B-NP/O\n",
      "<type 'unicode'>\n",
      "011.  avait vu un peu de sa tignasse de neige. On avait PU se faufiler pour apercevoir Isabelle Aubret \"Et /NN/B-NP/O\n",
      "<type 'unicode'>\n",
      "012.   moyens de le défendre. Une alliance avec Bolloré PEUT lui permettre de mettre à l/NN/B-NP/O '/'/O/O abri le groupe. D /NN/B-NP/O\n",
      "<type 'unicode'>\n",
      "013.  omment une ingérence militaire ou un bombardement PEUVENT contribuer à apaiser la situation\" au Koso /NN/B-NP/O\n",
      "<type 'unicode'>\n",
      "014.  texte très favorable à Vincent Bolloré : celui-ci PEUT augmenter sa participation jusqu/NN/B-NP/O '/'/O/O à 14 % comme /NN/B-NP/O\n",
      "<type 'unicode'>\n",
      "015.  e Signoret \"la juge\". L/NN/B-NP/O '/'/O/O administration continuera PEUT-être à écrire : Mme X est nommée intendant, o /NN/B-NP/O\n",
      "<type 'unicode'>\n",
      "016.   constant et sur tous les terrains que les Corses POURRONT impulser les changements nécessaires. Con /NN/B-NP/O\n",
      "<type 'unicode'>\n",
      "017.  t surtout de mettre la main sur TF 1, une arme de POUVOIR qui fait rêver. ENSEMBLE A L/NN/B-NP/O '/'/O/O ÉCOLE Enrichi /NN/B-NP/O\n",
      "<type 'unicode'>\n",
      "018.  termination des peuples du sud du Soudan, afin de POUVOIR exploiter (dans tous les sens du terme) le /NN/B-NP/O\n"
     ]
    }
   ],
   "source": [
    "url = \"http://lextutor.ca/cgi-bin/conc/wwwassocwords.pl?lingo=French&unframed=true&SearchType=family&SearchStr=pouvoir&Corpus=Fr_le_monde.txt&ColloSize=1&SortType=left&LineWidth=100&Maximum=99&Gaps=no_gaps&Fam_or_Word=multi&AssocWord=&Associate=left\"\n",
    "page = urlopen(url)\n",
    "inside = BS(page.read(), \"lxml\")\n",
    "sentences = []\n",
    "contents = inside.find(\"div\", {\"id\":\"print_out\"})\n",
    "text = contents.get_text().split(\"\\n\")\n",
    "#print type(contents.get_text())\n",
    "test=u'002.  ant Helmut Kohl et les chrétiens-démocrates (CDU) PEUVENT-il encore gagner les élections législative'\n",
    "print type(test)parse(test)\n",
    "for t in text[2:20]:\n",
    "    print type(t)\n",
    "    print parse(t.encode('utf-8').strip(), encoding=\"utf-8\")\n",
    "    numbers = re.match(r'\\d{3}\\.(.*)',t.strip())\n",
    "    if numbers:\n",
    "        sentences.append(numbers.group(1).strip())"
   ]
  },
  {
   "cell_type": "code",
   "execution_count": 41,
   "metadata": {
    "collapsed": false
   },
   "outputs": [
    {
     "name": "stdout",
     "output_type": "stream",
     "text": [
      "'akil Ahmad Mutawakil, a affirmé que les Iraniens \" POURRAIENT avoir été tués\". \"Quand les talibans so'\n",
      "<type 'unicode'>\n",
      "akil Ahmad Mutawakil, a affirmé que les Iraniens \" POURRAIENT avoir été tués\". \"Quand les talibans so/NN/B-NP/O\n"
     ]
    }
   ],
   "source": [
    "#phrase = u\"akil ahmad mutawakil, a affirmé que les iraniens \\\" pourraient avoir été tués\\\". \\\"quand les talibans so\"\n",
    "phrase = sentences[0].strip()\n",
    "print \"'\"+sentences[0]+\"'\"\n",
    "print type(phrase)\n",
    "s = parse(phrase, encoding='unicode')\n",
    "print s"
   ]
  },
  {
   "cell_type": "code",
   "execution_count": 32,
   "metadata": {
    "collapsed": false
   },
   "outputs": [
    {
     "name": "stdout",
     "output_type": "stream",
     "text": [
      "<type 'unicode'>\n",
      "akil ahmad mutawakil, a affirmé que les iraniens  pourraient avoir été tués. quand les talibans so/NN/B-NP/O\n",
      "\n",
      "<type 'unicode'>\n",
      "ant helmut kohl et les chrétiens-démocrates (cdu) peuvent-il encore gagner les élections législative/JJ/B-ADJP/O\n",
      "\n"
     ]
    }
   ],
   "source": [
    "for t in sentences[:2]:\n",
    "    t = t.strip().lower()\n",
    "    t = t.replace('\"', '')\n",
    "    #t = str(t.encode('utf-8')) \n",
    "    print type(t)\n",
    "    #for w in words:\n",
    "    parsed = parse(t) #,tokenize = True,tags=True, relations = True,lemmata=True) #,tokenize = True,tags=True, lemmata=True)\n",
    "    #parsed = parsetree(t, lemmata=True, encoding=\"utf8\", tokenize = True,tags=True, chunks = True)\n",
    "    #data = parsed.split(\"/\")\n",
    "    #form = data[0]\n",
    "    #tag = data[1]\n",
    "    #lemma = data[-1]\n",
    "    #print form, tag, lemma \n",
    "    print parsed\n",
    "    print"
   ]
  },
  {
   "cell_type": "code",
   "execution_count": null,
   "metadata": {
    "collapsed": true
   },
   "outputs": [],
   "source": []
  },
  {
   "cell_type": "code",
   "execution_count": null,
   "metadata": {
    "collapsed": true
   },
   "outputs": [],
   "source": []
  }
 ],
 "metadata": {
  "kernelspec": {
   "display_name": "Python 2",
   "language": "python",
   "name": "python2"
  },
  "language_info": {
   "codemirror_mode": {
    "name": "ipython",
    "version": 2
   },
   "file_extension": ".py",
   "mimetype": "text/x-python",
   "name": "python",
   "nbconvert_exporter": "python",
   "pygments_lexer": "ipython2",
   "version": "2.7.11"
  }
 },
 "nbformat": 4,
 "nbformat_minor": 0
}
