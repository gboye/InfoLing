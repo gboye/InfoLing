{
 "cells": [
  {
   "cell_type": "code",
   "execution_count": 1,
   "metadata": {},
   "outputs": [],
   "source": [
    "from unidecode import unidecode\n",
    "import re\n",
    "import random as rd\n",
    "import itertools as it"
   ]
  },
  {
   "cell_type": "code",
   "execution_count": 32,
   "metadata": {},
   "outputs": [],
   "source": [
    "jetons = {\"a\": 9, \"b\": 2, \"c\": 2, \"d\": 3, \"e\": 15, \n",
    "         \"f\": 2, \"g\": 2, \"h\": 2, \"i\": 8, \"j\": 1, \n",
    "         \"k\": 1, \"l\": 5, \"m\": 3, \"n\": 6, \"o\": 6, \n",
    "         \"p\": 2, \"q\": 1, \"r\": 6, \"s\": 6, \"t\": 6, \n",
    "         \"u\": 6, \"v\": 2, \"w\": 1, \"x\": 1, \"y\": 1, \n",
    "         \"z\": 1, \"*\": 2}\n",
    "score = {\"a\": 1, \"b\": 3, \"c\": 3, \"d\": 2, \"e\": 1, \n",
    "         \"f\": 4, \"g\": 2, \"h\": 4, \"i\": 1, \"j\": 8, \n",
    "         \"k\": 10, \"l\": 1, \"m\": 2, \"n\": 1, \"o\": 1, \n",
    "         \"p\": 3, \"q\": 8, \"r\": 1, \"s\": 1, \"t\": 1, \n",
    "         \"u\": 1, \"v\": 4, \"w\": 10, \"x\": 10, \"y\": 10, \n",
    "         \"z\": 10, \"*\":0}\n",
    "joueurs=[\"Valentine\",\"Maelys\",\"Javier\",\"Oana\"]\n",
    "rack={}\n",
    "nombreLettresRack=7\n",
    "for joueur in joueurs:\n",
    "    rack[joueur]=[\"\" for num in range(nombreLettresRack)]\n",
    "    "
   ]
  },
  {
   "cell_type": "code",
   "execution_count": 3,
   "metadata": {},
   "outputs": [],
   "source": [
    "rack[joueur]=[\"\" for num in range(nombreLettresRack)]"
   ]
  },
  {
   "cell_type": "code",
   "execution_count": 4,
   "metadata": {},
   "outputs": [
    {
     "data": {
      "text/plain": [
       "{'Javier': ['', '', '', '', '', '', ''],\n",
       " 'Maelys': ['', '', '', '', '', '', ''],\n",
       " 'Oana': ['', '', '', '', '', '', ''],\n",
       " 'Valentine': ['', '', '', '', '', '', '']}"
      ]
     },
     "execution_count": 4,
     "metadata": {},
     "output_type": "execute_result"
    }
   ],
   "source": [
    "rack"
   ]
  },
  {
   "cell_type": "code",
   "execution_count": 13,
   "metadata": {},
   "outputs": [],
   "source": [
    "lettres=\"ABZEFSU\"\n",
    "for i,lettre in enumerate(lettres):\n",
    "    rack['Maelys'][i]=lettre\n"
   ]
  },
  {
   "cell_type": "code",
   "execution_count": 14,
   "metadata": {},
   "outputs": [
    {
     "data": {
      "text/plain": [
       "['A', 'B', 'Z', 'E', 'F', 'S', 'U']"
      ]
     },
     "execution_count": 14,
     "metadata": {},
     "output_type": "execute_result"
    }
   ],
   "source": [
    "rack['Maelys']"
   ]
  },
  {
   "cell_type": "code",
   "execution_count": 7,
   "metadata": {},
   "outputs": [
    {
     "data": {
      "text/plain": [
       "{'Javier': ['', '', '', '', '', '', ''],\n",
       " 'Maelys': ['', '', '', 'A', '', '', ''],\n",
       " 'Oana': ['', '', '', '', '', '', ''],\n",
       " 'Valentine': ['', '', '', '', '', '', '']}"
      ]
     },
     "execution_count": 7,
     "metadata": {},
     "output_type": "execute_result"
    }
   ],
   "source": [
    "rack"
   ]
  },
  {
   "cell_type": "markdown",
   "metadata": {},
   "source": [
    "###Définition des objets pour le scrabble\n",
    "- Sac\n",
    "- Rack"
   ]
  },
  {
   "cell_type": "code",
   "execution_count": 38,
   "metadata": {},
   "outputs": [],
   "source": [
    "class sacJetons():\n",
    "    def __init__(self,jetons={}):\n",
    "        self.jetons=jetons\n",
    "    def tirage(self,n):\n",
    "        jetonsTirage=[]\n",
    "        for element in self.jetons:\n",
    "            for num in range(self.jetons[element]):\n",
    "                jetonsTirage.append(element)\n",
    "        tirageJetons=rd.sample(jetonsTirage,n)\n",
    "        for jeton in tirageJetons:\n",
    "            self.jetons[jeton]+=-1\n",
    "        return \"\".join(tirageJetons)\n"
   ]
  },
  {
   "cell_type": "code",
   "execution_count": 34,
   "metadata": {},
   "outputs": [],
   "source": [
    "sac=sacJetons(jetons)"
   ]
  },
  {
   "cell_type": "code",
   "execution_count": 24,
   "metadata": {},
   "outputs": [],
   "source": [
    "r['Maelys']=rack(sac.tirage(7))"
   ]
  },
  {
   "cell_type": "code",
   "execution_count": 25,
   "metadata": {},
   "outputs": [
    {
     "data": {
      "text/plain": [
       "'nekrblo'"
      ]
     },
     "execution_count": 25,
     "metadata": {},
     "output_type": "execute_result"
    }
   ],
   "source": [
    "rack1"
   ]
  },
  {
   "cell_type": "code",
   "execution_count": 28,
   "metadata": {},
   "outputs": [],
   "source": [
    "class rack():\n",
    "    def __init__(self,lettres=\"\"):\n",
    "        self.lettres=lettres\n",
    "        if len(self.lettres)>7:\n",
    "            print(\"trop de lettres, pas possible\")\n",
    "            self.lettres=\"\""
   ]
  },
  {
   "cell_type": "code",
   "execution_count": 29,
   "metadata": {},
   "outputs": [],
   "source": [
    "r={}\n",
    "r[\"Maelys\"]=rack(\"nekrblo\")"
   ]
  },
  {
   "cell_type": "code",
   "execution_count": 31,
   "metadata": {},
   "outputs": [
    {
     "data": {
      "text/plain": [
       "'nekrblo'"
      ]
     },
     "execution_count": 31,
     "metadata": {},
     "output_type": "execute_result"
    }
   ],
   "source": [
    "r[\"Maelys\"].lettres"
   ]
  }
 ],
 "metadata": {
  "kernelspec": {
   "display_name": "Python 2",
   "language": "python",
   "name": "python2"
  },
  "language_info": {
   "codemirror_mode": {
    "name": "ipython",
    "version": 2
   },
   "file_extension": ".py",
   "mimetype": "text/x-python",
   "name": "python",
   "nbconvert_exporter": "python",
   "pygments_lexer": "ipython2",
   "version": "2.7.11"
  }
 },
 "nbformat": 4,
 "nbformat_minor": 1
}
