{
 "cells": [
  {
   "cell_type": "code",
   "execution_count": 1,
   "metadata": {},
   "outputs": [],
   "source": [
    "import random"
   ]
  },
  {
   "cell_type": "code",
   "execution_count": 2,
   "metadata": {},
   "outputs": [],
   "source": [
    "tailleRack=7\n",
    "listeJetons = {\"a\": 9, \"b\": 2, \"c\": 2, \"d\": 3, \"e\": 15, \n",
    "         \"f\": 2, \"g\": 2, \"h\": 2, \"i\": 8, \"j\": 1, \n",
    "         \"k\": 1, \"l\": 5, \"m\": 3, \"n\": 6, \"o\": 6, \n",
    "         \"p\": 2, \"q\": 1, \"r\": 6, \"s\": 6, \"t\": 6, \n",
    "         \"u\": 6, \"v\": 2, \"w\": 1, \"x\": 1, \"y\": 1, \n",
    "         \"z\": 1, \"*\": 2}"
   ]
  },
  {
   "cell_type": "code",
   "execution_count": 3,
   "metadata": {},
   "outputs": [],
   "source": [
    "class Pions():\n",
    "    def __init__(self,nom=\"pions\",jetons=listeJetons):\n",
    "        self.nom=nom\n",
    "        self.jetons=jetons\n",
    "        self.vide={}\n",
    "        for jeton in self.jetons:\n",
    "            self.vide[jeton]=0\n",
    "            \n",
    "    def __repr__(self):\n",
    "        return self.nom+\" : \"+\"\".join(self.listerJetons())\n",
    "    \n",
    "    def listerJetons(self):\n",
    "        '''\n",
    "        crée une chaine avec tous les jetons de l'objet\n",
    "        '''\n",
    "        liste=[]\n",
    "        for jeton in self.jetons:\n",
    "            nombre=self.jetons[jeton]\n",
    "            liste.extend([jeton]*nombre)\n",
    "        return liste\n",
    "            \n",
    "    def tirerJetons(self,n):\n",
    "        '''\n",
    "        tire n jetons dans l'objet (si l'objet n'est pas vide)\n",
    "            si il en reste suffisamment\n",
    "            sinon tire tous les jetons restants\n",
    "        '''\n",
    "        jetons=self.listerJetons()\n",
    "        nb=len(jetons)\n",
    "        tirage=[]\n",
    "        if nb == 0:\n",
    "            print \"%s n'a plus de jetons\" % self.nom\n",
    "        if n <= len(jetons):\n",
    "            tirage=random.sample(jetons,n)\n",
    "        else:\n",
    "            tirage=jetons\n",
    "            print \"%s n'a plus de jetons\" % self.nom\n",
    "        for jeton in tirage:\n",
    "            self.jetons[jeton]-=1\n",
    "        return tirage    \n",
    "    \n",
    "    def ajouterJetons(self,jetons):\n",
    "        '''\n",
    "        ajoute des jetons dans l'objet\n",
    "        '''\n",
    "        for jeton in jetons:\n",
    "            self.jetons[jeton]+=1\n",
    "            \n",
    "    def jouerLettres(self,lettres):\n",
    "        changements=[]\n",
    "        lettreEpuisee=False\n",
    "        for lettre in lettres:\n",
    "            if self.jetons[lettre]>0:\n",
    "                self.jetons[lettre]-=1\n",
    "                changements.append(lettre)\n",
    "            else:\n",
    "                lettreEpuisee=True\n",
    "                print \"pas suffisamment de %s\" % lettre\n",
    "        if lettreEpuisee:\n",
    "            for changement in changements:\n",
    "                self.jetons[changement]+=1\n",
    "        else:\n",
    "            jeu.plateau.ajouterJetons(lettres)\n",
    "        "
   ]
  },
  {
   "cell_type": "code",
   "execution_count": 4,
   "metadata": {},
   "outputs": [],
   "source": [
    "class Scrabble():\n",
    "    def __init__ (self):\n",
    "        self.joueurs=[]\n",
    "        self.sac=Pions(\"sac\")\n",
    "        self.rack={}\n",
    "        # Pions().vide crée la liste vide au dessus\n",
    "        # Pions(Pions().vide) crée un objet avec des pions avec 0 de chaque\n",
    "        self.plateau=Pions(\"plateau\",Pions().vide)\n",
    "    \n",
    "    def ajouterJoueur (self,joueur):\n",
    "        if joueur in self.joueurs:\n",
    "            print (\"Le joueur %s est déjà dans la liste\" % joueur)\n",
    "        else:            \n",
    "            self.joueurs.append(joueur)\n",
    "            self.rack[joueur]=Pions(joueur,Pions().vide)\n",
    "    \n",
    "    def remplirRack (self,joueur):\n",
    "        nbJetons=len(self.rack[joueur].listerJetons())\n",
    "        tir=self.sac.tirerJetons(tailleRack-nbJetons)\n",
    "        self.rack[joueur].ajouterJetons(tir)"
   ]
  },
  {
   "cell_type": "code",
   "execution_count": 5,
   "metadata": {},
   "outputs": [],
   "source": [
    "jeu=Scrabble()"
   ]
  },
  {
   "cell_type": "code",
   "execution_count": 6,
   "metadata": {},
   "outputs": [],
   "source": [
    "jeu.ajouterJoueur(\"Val\")\n",
    "jeu.ajouterJoueur(\"Mae\")"
   ]
  },
  {
   "cell_type": "code",
   "execution_count": 14,
   "metadata": {},
   "outputs": [],
   "source": [
    "jeu.remplirRack(\"Val\")"
   ]
  },
  {
   "cell_type": "code",
   "execution_count": 17,
   "metadata": {},
   "outputs": [
    {
     "name": "stdout",
     "output_type": "stream",
     "text": [
      "Val : gimnptx\n",
      "Mae : \n"
     ]
    }
   ],
   "source": [
    "for joueur in jeu.joueurs:\n",
    "    print jeu.rack[joueur]"
   ]
  },
  {
   "cell_type": "code",
   "execution_count": 16,
   "metadata": {},
   "outputs": [],
   "source": [
    "jeu.rack[\"Val\"].jouerLettres(\"doree\")\n",
    "jeu.remplirRack(\"Val\")"
   ]
  },
  {
   "cell_type": "code",
   "execution_count": 10,
   "metadata": {},
   "outputs": [
    {
     "data": {
      "text/plain": [
       "<__main__.Scrabble instance at 0x10446e2d8>"
      ]
     },
     "execution_count": 10,
     "metadata": {},
     "output_type": "execute_result"
    }
   ],
   "source": [
    "jeu"
   ]
  },
  {
   "cell_type": "code",
   "execution_count": null,
   "metadata": {},
   "outputs": [],
   "source": []
  }
 ],
 "metadata": {
  "kernelspec": {
   "display_name": "Python 2",
   "language": "python",
   "name": "python2"
  },
  "language_info": {
   "codemirror_mode": {
    "name": "ipython",
    "version": 2
   },
   "file_extension": ".py",
   "mimetype": "text/x-python",
   "name": "python",
   "nbconvert_exporter": "python",
   "pygments_lexer": "ipython2",
   "version": "2.7.11"
  }
 },
 "nbformat": 4,
 "nbformat_minor": 1
}
