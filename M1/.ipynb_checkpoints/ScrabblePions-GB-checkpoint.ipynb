{
 "cells": [
  {
   "cell_type": "code",
   "execution_count": 1,
   "metadata": {},
   "outputs": [],
   "source": [
    "from unidecode import unidecode\n",
    "import re\n",
    "import random as rd\n",
    "import itertools as it\n",
    "import warnings"
   ]
  },
  {
   "cell_type": "code",
   "execution_count": 2,
   "metadata": {},
   "outputs": [],
   "source": [
    "cotePlateau=15\n",
    "nombrePionsRack=7\n",
    "jetonsFR = {\"a\": 9, \"b\": 2, \"c\": 2, \"d\": 3, \"e\": 15, \n",
    " \"f\": 2, \"g\": 2, \"h\": 2, \"i\": 8, \"j\": 1, \n",
    " \"k\": 1, \"l\": 5, \"m\": 3, \"n\": 6, \"o\": 6, \n",
    " \"p\": 2, \"q\": 1, \"r\": 6, \"s\": 6, \"t\": 6, \n",
    " \"u\": 6, \"v\": 2, \"w\": 1, \"x\": 1, \"y\": 1, \n",
    " \"z\": 1, \"*\": 2}\n",
    "pointsFR = {\"a\": 1, \"b\": 3, \"c\": 3, \"d\": 2, \"e\": 1, \n",
    " \"f\": 4, \"g\": 2, \"h\": 4, \"i\": 1, \"j\": 8, \n",
    " \"k\": 10, \"l\": 1, \"m\": 2, \"n\": 1, \"o\": 1, \n",
    " \"p\": 3, \"q\": 8, \"r\": 1, \"s\": 1, \"t\": 1, \n",
    " \"u\": 1, \"v\": 4, \"w\": 10, \"x\": 10, \"y\": 10, \n",
    " \"z\": 10, \"*\":0}"
   ]
  },
  {
   "cell_type": "code",
   "execution_count": 3,
   "metadata": {},
   "outputs": [],
   "source": [
    "class Jetons():\n",
    "    def __init__(self,jetons={},points={}):\n",
    "        if jetons:\n",
    "            self.jetons=jetons\n",
    "        else:\n",
    "            self.jetons=jetonsFR\n",
    "        if points:\n",
    "            self.points=points\n",
    "        else:\n",
    "            self.points=pointsFR\n",
    "        self.base={}\n",
    "        for cle in self.jetons:\n",
    "            self.base[cle]=0\n",
    "        self.vide=False\n",
    "\n",
    "    def __repr__(self):\n",
    "        result=[]\n",
    "        for lettre in self.jetons:\n",
    "            result.append(lettre*self.jetons[lettre])\n",
    "        return \", \".join(result)\n",
    "            \n",
    "    def listerJetons(self):\n",
    "        listeJetons=[]\n",
    "        for element in self.jetons:\n",
    "            for num in range(self.jetons[element]):\n",
    "                listeJetons.append(element)\n",
    "        return listeJetons\n",
    "\n",
    "    def tirerJetons(self,n):\n",
    "        jetonsTirage=self.listerJetons()\n",
    "        try:\n",
    "            tirageJetons=rd.sample(jetonsTirage,n)\n",
    "        except ValueError:\n",
    "            tirageJetons=jetonsTirage\n",
    "            self.vide=True\n",
    "        if self.vide:\n",
    "            warnings.warn(\"le sac est vide\")\n",
    "        for jeton in tirageJetons:\n",
    "            self.jetons[jeton]+=-1\n",
    "        return tirageJetons\n",
    "\n",
    "    def ajouterJetons(self,listeJetons):\n",
    "        for element in listeJetons:\n",
    "            self.jetons[element]+=1\n",
    "\n",
    "    def transfererJetons(self,destination,lettres):\n",
    "        correct=True\n",
    "        changements=[]\n",
    "        for lettre in lettres:\n",
    "            if self.jetons[lettre]>0:\n",
    "                self.jetons[lettre]-=1\n",
    "                destination.jetons[lettre]+=1\n",
    "                changements.append(lettre)\n",
    "            else:\n",
    "                print (\"la lettre %s n'est pas disponible\")\n",
    "                correct=False\n",
    "        if not correct:\n",
    "            for changement in changements:\n",
    "                self.jetons[changement]+=1\n",
    "                destination.jetons[changement]-=1\n",
    "        return correct"
   ]
  },
  {
   "cell_type": "code",
   "execution_count": 4,
   "metadata": {},
   "outputs": [],
   "source": [
    "class Scrabble():\n",
    "    def __init__(self,jetons=Jetons()):\n",
    "        self.jetons=jetons\n",
    "        self.joueurs=[]\n",
    "        self.racks={}\n",
    "        self.sac=jetons\n",
    "        self.plateau=Jetons(jetons.base)\n",
    "        self.fin=\"\"\n",
    "        \n",
    "    def ajouterJoueur(self,joueur):\n",
    "        if not joueur in self.joueurs:\n",
    "            self.joueurs.append(joueur)\n",
    "            self.racks[joueur]=Jetons(Jetons().base)\n",
    "        else:\n",
    "            print \"Le joueur %s est déjà dans la liste, proposez un autre nom.\"%joueur\n",
    "    \n",
    "    def ajouterJoueurs(self,*joueurs):\n",
    "        for joueur in joueurs:\n",
    "            self.ajouterJoueur(joueur)\n",
    "            \n",
    "    def remplirRack(self,joueur):\n",
    "        nombreManquants=nombrePionsRack-len(self.racks[joueur].listerJetons())\n",
    "        nouveauxPions=self.sac.tirerJetons(nombreManquants)\n",
    "        self.racks[joueur].ajouterJetons(nouveauxPions)\n",
    "            \n",
    "    def jouerLettres(self,joueur,lettres):\n",
    "        if self.fin==\"\":\n",
    "            if isinstance(lettres,str) or isinstance(lettres,unicode):\n",
    "                lettres=list(lettres)\n",
    "            correct=self.racks[joueur].transfererJetons(self.plateau,lettres)\n",
    "            if correct:\n",
    "                nombreManquants=len(lettres)\n",
    "                nouveauxPions=self.sac.tirerJetons(nombreManquants)\n",
    "                self.racks[joueur].ajouterJetons(nouveauxPions)\n",
    "                if len(self.racks[joueur].listerJetons())==0:\n",
    "                    print \"%s a terminé, la partie est finie\"%joueur\n",
    "                    self.fin=joueur\n",
    "            else:\n",
    "                warnings.warn(\"%s ne peut pas jouer %s\"%(joueur,lettres))\n",
    "            return correct\n",
    "        else:\n",
    "            warnings.warn(\"La partie est finie, %s a terminé\"%self.fin)\n",
    "        "
   ]
  },
  {
   "cell_type": "code",
   "execution_count": 6,
   "metadata": {},
   "outputs": [],
   "source": [
    "jeu=Scrabble()"
   ]
  },
  {
   "cell_type": "code",
   "execution_count": 11,
   "metadata": {},
   "outputs": [
    {
     "name": "stdout",
     "output_type": "stream",
     "text": [
      "Le joueur Thomas est déjà dans la liste, proposez un autre nom.\n"
     ]
    }
   ],
   "source": [
    "jeu.ajouterJoueur(\"Thomas\")"
   ]
  },
  {
   "cell_type": "code",
   "execution_count": 12,
   "metadata": {},
   "outputs": [
    {
     "name": "stdout",
     "output_type": "stream",
     "text": [
      "Le joueur Hélios est déjà dans la liste, proposez un autre nom.\n",
      "Le joueur Joseph est déjà dans la liste, proposez un autre nom.\n",
      "Le joueur Olivier est déjà dans la liste, proposez un autre nom.\n"
     ]
    }
   ],
   "source": [
    "jeu.ajouterJoueurs(\"Hélios\",\"Joseph\",\"Olivier\")"
   ]
  },
  {
   "cell_type": "code",
   "execution_count": 15,
   "metadata": {},
   "outputs": [
    {
     "name": "stdout",
     "output_type": "stream",
     "text": [
      "Thomas ['e', 'i', 'r', 'r', 'u', 't', 'w']\n",
      "Hélios ['*', 'e', 'd', 'i', 'u', 't', 't']\n",
      "Joseph ['a', 'e', 'l', 'n', 'n', 's', 'u']\n",
      "Olivier ['e', 'h', 'k', 'o', 'o', 's', 't']\n"
     ]
    }
   ],
   "source": [
    "for joueur in jeu.joueurs:\n",
    "    jeu.remplirRack(joueur)\n",
    "    print joueur, jeu.racks[joueur].listerJetons()"
   ]
  },
  {
   "cell_type": "code",
   "execution_count": 16,
   "metadata": {},
   "outputs": [
    {
     "data": {
      "text/plain": [
       ", a, , , e, , , , , , , , , l, , nn, , , s, , u, , , , , , "
      ]
     },
     "execution_count": 16,
     "metadata": {},
     "output_type": "execute_result"
    }
   ],
   "source": [
    "jeu.racks[\"Joseph\"]"
   ]
  },
  {
   "cell_type": "code",
   "execution_count": 19,
   "metadata": {},
   "outputs": [
    {
     "data": {
      "text/plain": [
       "0"
      ]
     },
     "execution_count": 19,
     "metadata": {},
     "output_type": "execute_result"
    }
   ],
   "source": [
    "nombrePionsRack-len(jeu.racks[\"Joseph\"].listerJetons())"
   ]
  },
  {
   "cell_type": "code",
   "execution_count": 19,
   "metadata": {},
   "outputs": [
    {
     "name": "stderr",
     "output_type": "stream",
     "text": [
      "-c:40: UserWarning: le sac est vide\n"
     ]
    }
   ],
   "source": [
    "for joueur in jeu.joueurs:\n",
    "    jeu.jouerLettres(joueur,rd.sample(jeu.racks[joueur].listerJetons(),5))"
   ]
  },
  {
   "cell_type": "code",
   "execution_count": 20,
   "metadata": {},
   "outputs": [
    {
     "data": {
      "text/plain": [
       ", , , , , , , , , , , , , , , , , , , , , , , , , , "
      ]
     },
     "execution_count": 20,
     "metadata": {},
     "output_type": "execute_result"
    }
   ],
   "source": [
    "jeu.sac"
   ]
  },
  {
   "cell_type": "code",
   "execution_count": 29,
   "metadata": {},
   "outputs": [
    {
     "name": "stdout",
     "output_type": "stream",
     "text": [
      "Thomas ['n', 's', 't']\n",
      "Hélios ['d', 'i', 'y']\n",
      "Joseph ['e', 'e']\n",
      "Olivier []\n"
     ]
    }
   ],
   "source": [
    "for joueur in jeu.joueurs:\n",
    "    print joueur, jeu.racks[joueur].listerJetons()"
   ]
  },
  {
   "cell_type": "code",
   "execution_count": 23,
   "metadata": {},
   "outputs": [
    {
     "data": {
      "text/plain": [
       "True"
      ]
     },
     "execution_count": 23,
     "metadata": {},
     "output_type": "execute_result"
    }
   ],
   "source": [
    "jeu.jouerLettres(\"Thomas\",\"rare\")"
   ]
  },
  {
   "cell_type": "code",
   "execution_count": 25,
   "metadata": {},
   "outputs": [
    {
     "data": {
      "text/plain": [
       "True"
      ]
     },
     "execution_count": 25,
     "metadata": {},
     "output_type": "execute_result"
    }
   ],
   "source": [
    "jeu.jouerLettres(\"Hélios\",\"jets\")"
   ]
  },
  {
   "cell_type": "code",
   "execution_count": 27,
   "metadata": {},
   "outputs": [
    {
     "data": {
      "text/plain": [
       "True"
      ]
     },
     "execution_count": 27,
     "metadata": {},
     "output_type": "execute_result"
    }
   ],
   "source": [
    "jeu.jouerLettres(\"Joseph\",\"nuie\")"
   ]
  },
  {
   "cell_type": "code",
   "execution_count": 28,
   "metadata": {},
   "outputs": [
    {
     "name": "stdout",
     "output_type": "stream",
     "text": [
      "Olivier a terminé, la partie est finie\n"
     ]
    },
    {
     "data": {
      "text/plain": [
       "True"
      ]
     },
     "execution_count": 28,
     "metadata": {},
     "output_type": "execute_result"
    }
   ],
   "source": [
    "jeu.jouerLettres(\"Olivier\",\"da\")"
   ]
  },
  {
   "cell_type": "code",
   "execution_count": null,
   "metadata": {},
   "outputs": [],
   "source": []
  }
 ],
 "metadata": {
  "kernelspec": {
   "display_name": "Python 2",
   "language": "python",
   "name": "python2"
  },
  "language_info": {
   "codemirror_mode": {
    "name": "ipython",
    "version": 2
   },
   "file_extension": ".py",
   "mimetype": "text/x-python",
   "name": "python",
   "nbconvert_exporter": "python",
   "pygments_lexer": "ipython2",
   "version": "2.7.11"
  }
 },
 "nbformat": 4,
 "nbformat_minor": 1
}
