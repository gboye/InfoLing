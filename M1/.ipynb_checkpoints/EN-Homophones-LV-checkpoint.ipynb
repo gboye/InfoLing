{
 "cells": [
  {
   "cell_type": "code",
   "execution_count": 1,
   "metadata": {
    "collapsed": false
   },
   "outputs": [],
   "source": [
    "import re\n",
    "import sys\n",
    "import codecs"
   ]
  },
  {
   "cell_type": "code",
   "execution_count": 2,
   "metadata": {
    "collapsed": false
   },
   "outputs": [],
   "source": [
    "#f=codecs.open(sys.argv[1],\"r\", 'latin1')\n",
    "f=codecs.open(\"cmudict-ELPfiltered.csv\",\"r\", 'utf8')"
   ]
  },
  {
   "cell_type": "code",
   "execution_count": 3,
   "metadata": {
    "collapsed": false
   },
   "outputs": [],
   "source": [
    "vowels=[\"AA\",\"AA0\",\"AA1\",\"AA2\",\"AE\",\"AE0\",\"AE1\",\n",
    "\"AE2\",\"AH\",\"AH0\",\"AH1\",\"AH2\",\"AO\",\"AO0\",\"AO1\",\"AO2\",\n",
    "\"AW\",\"AW0\",\"AW1\",\"AW2\",\"AY\",\"AY0\",\"AY1\",\"AY2\",\"EH\",\"EH0\",\n",
    "\"EH1\",\"EH2\",\"ER\",\"ER0\",\"ER1\",\"ER2\",\"EY\",\"EY0\",\"EY1\",\"EY2\",\n",
    "\"IH\",\"IH0\",\"IH1\",\"IH2\",\"IY\",\"IY0\",\"IY1\",\"IY2\",\"OW\",\"OW0\",\n",
    "\"OW1\",\"OW2\",\"OY\",\"OY0\",\"OY1\",\"OY2\",\"UH\",\"UH0\",\"UH1\",\n",
    "\"UH2\",\"UW\",\"UW0\",\"UW1\",\"UW2\"]\n",
    "#should i be creating a dico instead?\n",
    "consonnes=[\"B\",\"CH\",\"D\",\"DH\",\"F\",\"G\",\"HH\",\"JH\",\"K\",\"L\",\n",
    "\"M\",\"N\",\"NG\",\"P\",\"R\",\"S\",\"SH\",\"T\",\"TH\",\"V\",\"W\",\"Y\",\"Z\",\"ZH\"]\n",
    "graphicalVowels=[\"A\",\"E\",\"I\",\"O\",\"U\", \"Y\"]\n"
   ]
  },
  {
   "cell_type": "code",
   "execution_count": 4,
   "metadata": {
    "collapsed": false
   },
   "outputs": [],
   "source": [
    "dictionary={}\n",
    "for line in f:\n",
    "    if \";;;\" not in line: #delete header\n",
    "        entry=line.split(\"  \")#every entry contains 2 spaces\n",
    "        word=entry[0] #word is in first column\n",
    "        syllabe=entry[1] #beginning of phonetic string in 2nd column\n",
    "        if syllabe in dictionary:\n",
    "            dictionary[syllabe].append(word)\n",
    "        else:\n",
    "            dictionary[syllabe]=[word]"
   ]
  },
  {
   "cell_type": "code",
   "execution_count": 5,
   "metadata": {
    "collapsed": false
   },
   "outputs": [],
   "source": [
    "spellingDict={}"
   ]
  },
  {
   "cell_type": "code",
   "execution_count": 6,
   "metadata": {
    "collapsed": false
   },
   "outputs": [],
   "source": [
    "for el in list(dictionary.items()):\n",
    "    syllable=el[0].split()\n",
    "    words=el[1]\n",
    "    if syllable[0] in consonnes and syllable[1] in vowels:\n",
    "        wordsInitialConsonants={}\n",
    "        for word in words:\n",
    "            initialConsonants=\"\"\n",
    "            for letter in word:\n",
    "                if not letter in graphicalVowels:\n",
    "                    initialConsonants+=letter\n",
    "                else:\n",
    "                    break\n",
    "            wordsInitialConsonants[word]=initialConsonants\n",
    "#        print (syllable[0], wordsInitialConsonants)\n",
    "        for initialC in wordsInitialConsonants:\n",
    "            if not syllable[0] in spellingDict:\n",
    "                spellingDict[syllable[0]]=set()\n",
    "            spellingDict[syllable[0]].add(wordsInitialConsonants[initialC])"
   ]
  },
  {
   "cell_type": "code",
   "execution_count": 7,
   "metadata": {
    "collapsed": false
   },
   "outputs": [
    {
     "data": {
      "text/plain": [
       "{u'B': {u'B', u'BH'},\n",
       " u'CH': {u'C', u'CH', u'CZ', u'TCH'},\n",
       " u'D': {u'D', u'DH', u'T'},\n",
       " u'DH': {u'TH'},\n",
       " u'F': {u'F', u'PF', u'PH'},\n",
       " u'G': {u'G', u'GH'},\n",
       " u'HH': {u'H', u'J', u'WH'},\n",
       " u'JH': {u'DJ', u'G', u'J'},\n",
       " u'K': {u'C', u'CH', u'K', u'KH', u'Q'},\n",
       " u'L': {u'L', u'LL'},\n",
       " u'M': {u'M'},\n",
       " u'N': {u'GN', u'KN', u'MN', u'N', u'PN'},\n",
       " u'P': {u'P'},\n",
       " u'R': {u'R', u'RH', u'RW', u'WR'},\n",
       " u'S': {u'C', u'PS', u'S', u'SC', u'SW'},\n",
       " u'SH': {u'CH', u'S', u'SCH', u'SH'},\n",
       " u'T': {u\"'T\", u'PT', u'T', u'TH', u'TW'},\n",
       " u'TH': {u'TH'},\n",
       " u'V': {u'V'},\n",
       " u'W': {'', u'J', u'W', u'WH'},\n",
       " u'Y': {''},\n",
       " u'Z': {u'CZ', u'TS', u'X', u'Z'},\n",
       " u'ZH': {u'G', u'J'}}"
      ]
     },
     "execution_count": 7,
     "metadata": {},
     "output_type": "execute_result"
    }
   ],
   "source": [
    "spellingDict"
   ]
  }
 ],
 "metadata": {
  "kernelspec": {
   "display_name": "Python 2",
   "language": "python",
   "name": "python2"
  },
  "language_info": {
   "codemirror_mode": {
    "name": "ipython",
    "version": 2
   },
   "file_extension": ".py",
   "mimetype": "text/x-python",
   "name": "python",
   "nbconvert_exporter": "python",
   "pygments_lexer": "ipython2",
   "version": "2.7.9"
  }
 },
 "nbformat": 4,
 "nbformat_minor": 0
}
