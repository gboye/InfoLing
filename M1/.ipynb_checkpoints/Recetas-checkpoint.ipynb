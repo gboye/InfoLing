{
 "metadata": {
  "name": "",
  "signature": "sha256:846b46867aaba37e9bb0548dd32f37a91177397a7c7a15c7c8551af7a14140d6"
 },
 "nbformat": 3,
 "nbformat_minor": 0,
 "worksheets": [
  {
   "cells": [
    {
     "cell_type": "code",
     "collapsed": false,
     "input": [
      "import urllib2\n",
      "from bs4 import BeautifulSoup"
     ],
     "language": "python",
     "metadata": {},
     "outputs": [],
     "prompt_number": 1
    },
    {
     "cell_type": "code",
     "collapsed": false,
     "input": [
      "listeRecetas=[\"2250AA\",\"266MW\"]"
     ],
     "language": "python",
     "metadata": {},
     "outputs": [],
     "prompt_number": 2
    },
    {
     "cell_type": "code",
     "collapsed": false,
     "input": [
      "listIngregientes=[]\n",
      "for recette in listeRecetas:\n",
      "    response = urllib2.urlopen('http://www.recetas.net/receta.asp?id=%s' % recette)\n",
      "    html = response.read()\n",
      "    soup=BeautifulSoup(html)\n",
      "    listIngregientes.append(soup.find(\"div\", {\"class\":\"ingredientes\"}))"
     ],
     "language": "python",
     "metadata": {},
     "outputs": [],
     "prompt_number": 3
    },
    {
     "cell_type": "code",
     "collapsed": false,
     "input": [
      "for liste in listIngregientes:\n",
      "    listeIngredients=liste.findAll(\"span\", {\"itemprop\":\"ingredient\"})\n",
      "    for ingredient in listeIngredients:\n",
      "        print ingredient.find(\"span\", {\"itemprop\":\"amount\"}).text\n",
      "        print ingredient.find(\"span\", {\"itemprop\":\"name\"}).text\n"
     ],
     "language": "python",
     "metadata": {},
     "outputs": [
      {
       "output_type": "stream",
       "stream": "stdout",
       "text": [
        "4\u00a0dientes\n",
        "ajo\n",
        "1\u00a0pizca\n",
        "sal\n",
        "50\u00a0gramos\n",
        "mantequilla\n",
        "1\u00a0kilo\n",
        "lubina partida por la mitad\n",
        "100\u00a0ccs\n",
        "aceite de oliva\n",
        "1\u00a0cucharada\n",
        "perejil picado\n",
        "1\u00a0chorre\u00f3n\n",
        "vinagre\n",
        "20\u00a0ccs\n",
        "aceite\n",
        "400\u00a0gramos\n",
        "espagueti\n",
        "4\u00a0\n",
        "huevo, las yemas\n",
        "1\u00a0pellizco\n",
        "pimienta negra\n",
        "150\u00a0gramos\n",
        "queso pecorino, Grana Padano\n",
        "1\u00a0pizca\n",
        "sal\n",
        "120\u00a0gramos\n",
        "tocino ahumado\n"
       ]
      }
     ],
     "prompt_number": 4
    },
    {
     "cell_type": "code",
     "collapsed": false,
     "input": [],
     "language": "python",
     "metadata": {},
     "outputs": []
    }
   ],
   "metadata": {}
  }
 ]
}