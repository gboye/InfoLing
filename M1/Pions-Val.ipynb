{
 "metadata": {
  "name": "",
  "signature": "sha256:34ff077306b48fceb18591a1ae51f1cccab99bdab232147ef13ab60ababde844"
 },
 "nbformat": 3,
 "nbformat_minor": 0,
 "worksheets": [
  {
   "cells": [
    {
     "cell_type": "markdown",
     "metadata": {},
     "source": [
      "### Importer les modules n\u00e9cessaires au fonctionnement du script"
     ]
    },
    {
     "cell_type": "code",
     "collapsed": false,
     "input": [
      "import random"
     ],
     "language": "python",
     "metadata": {},
     "outputs": [],
     "prompt_number": 1
    },
    {
     "cell_type": "markdown",
     "metadata": {},
     "source": [
      "### D\u00e9finir la liste des jetons"
     ]
    },
    {
     "cell_type": "code",
     "collapsed": false,
     "input": [
      "listeJetons = {\"a\": 9, \"b\": 2, \"c\": 2, \"d\": 3, \"e\": 15, \n",
      "         \"f\": 2, \"g\": 2, \"h\": 2, \"i\": 8, \"j\": 1, \n",
      "         \"k\": 1, \"l\": 5, \"m\": 3, \"n\": 6, \"o\": 6, \n",
      "         \"p\": 2, \"q\": 1, \"r\": 6, \"s\": 6, \"t\": 6, \n",
      "         \"u\": 6, \"v\": 2, \"w\": 1, \"x\": 1, \"y\": 1, \n",
      "         \"z\": 1, \"*\": 2}"
     ],
     "language": "python",
     "metadata": {},
     "outputs": [],
     "prompt_number": 2
    },
    {
     "cell_type": "markdown",
     "metadata": {},
     "source": [
      "## DEFINIR UN OBJET \"Pions\" \n",
      "###D\u00e9finir la fonction \"listerJetons\" afin de mettre tous les jetons \u00e0 la suite (AAA,BB, etc.)\n",
      "\n",
      "###D\u00e9finir la fonction \"tirerJetons\"\n",
      "* #### V\u00e9rifier que le sac n'est pas vide\n",
      "* #### V\u00e9rifier le nombre de jetons du sac\n",
      "* #### Tirer al\u00e9atoirement le nombre de jetons necessaire\n",
      "* #### Pour chaque jeton tir\u00e9, le sortir du sac\n",
      "\n",
      "###D\u00e9finir la fonction \"ajouterJetons\""
     ]
    },
    {
     "cell_type": "code",
     "collapsed": false,
     "input": [
      "class Pions():\n",
      "    def __init__(self,jetons=listeJetons):\n",
      "        self.jetons=jetons\n",
      "        self.vide={}\n",
      "        for jeton in self.jetons:\n",
      "            self.vide[jeton]=0\n",
      "    \n",
      "    def listerJetons(self): #faire de \"listeJetons\" ou \"self.jetons\" une cha\u00eene de caract\u00e8res\n",
      "        chaine=\"\"\n",
      "        for jeton in self.jetons:\n",
      "            nombre=self.jetons[jeton]\n",
      "            chaine+=jeton*nombre\n",
      "        return chaine\n",
      "            \n",
      "    def tirerJetons(self,n):\n",
      "        jetons=self.listerJetons()\n",
      "        nb=len(jetons) # nombre de jetons dans le sac\n",
      "        tirage=[]\n",
      "        if nb == 0:\n",
      "            print \"Le sac est vide\"\n",
      "        if n <= nb : # n est le nombre de jetons que l'on veut tirer\n",
      "            tirage=random.sample(jetons,n) #tire al\u00e9atoirement les jetons du sac\n",
      "        else:\n",
      "            tirage=list(jetons)\n",
      "            print \"Ce tirage vide le sac\"\n",
      "        for jeton in tirage: # retire du sac chaque jeton du tirage \n",
      "            self.jetons[jeton]-=1\n",
      "        return tirage # renvoie le tirage\n",
      "    \n",
      "    def ajouterJetons(self,jetons):\n",
      "        for jeton in jetons:\n",
      "            self.jetons[jeton]+=1"
     ],
     "language": "python",
     "metadata": {},
     "outputs": [],
     "prompt_number": 3
    },
    {
     "cell_type": "markdown",
     "metadata": {},
     "source": [
      "## DEFINIR UN OBJET \"Scrabble\" COMPRENANT TOUTES LES COMPOSANTES NECESSAIRES AU JEU\n",
      "###D\u00e9finir la fonction \"ajouterJoueur\" pour ajouter des joueurs au jeu\n",
      "* #### Ajouter joueur \u00e0 la liste\n",
      "* #### Lui donner un rack\n",
      "\n",
      "###D\u00e9finir la fonction \"remplirRack\" pour remplir le rack de chaque joueur\n",
      "* #### Tirer le nombre de jetons necessaire"
     ]
    },
    {
     "cell_type": "code",
     "collapsed": false,
     "input": [
      "class Scrabble():\n",
      "    def __init__ (self):\n",
      "        self.joueurs=[] # D\u00e9fini une liste de joueurs vide\n",
      "        self.sac=Pions() #D\u00e9fini un sac contenant des objet de type \"Pions()\"\n",
      "        self.rack={} # D\u00e9fini un rack comme un dictionnaire (car on va devoir dire \"rack de tel joueur\")\n",
      "        self.plateau=Pions(Pions().vide) # Pions().vide cr\u00e9e la liste vide au dessus / Pions(Pions().vide) cr\u00e9e un objet avec des pions avec 0 de chaque\n",
      "    \n",
      "    def ajouterJoueur (self,joueur):\n",
      "        if joueur in self.joueurs:  # V\u00e9rifier que le nom du joueur n'est pas d\u00e9j\u00e0 dans la liste\n",
      "            print (\"Le joueur est d\u00e9j\u00e0 dans la liste\")\n",
      "        else:            \n",
      "            self.joueurs.append(joueur) #Si le joueur n'est pas d\u00e9j\u00e0 dans la liste, l'ajouter\n",
      "            self.rack[joueur]=Pions(Pions().vide) #et lui donner un rack (vide)\n",
      "    \n",
      "    def remplirRack (self,joueur):\n",
      "        tir=self.sac.tirerJetons(7)\n",
      "        self.rack[joueur].ajouterJetons(tir)"
     ],
     "language": "python",
     "metadata": {},
     "outputs": [],
     "prompt_number": 4
    },
    {
     "cell_type": "code",
     "collapsed": false,
     "input": [
      "jeu=Scrabble()"
     ],
     "language": "python",
     "metadata": {},
     "outputs": [],
     "prompt_number": 11
    },
    {
     "cell_type": "code",
     "collapsed": false,
     "input": [
      "jeu.ajouterJoueur(\"Val\")"
     ],
     "language": "python",
     "metadata": {},
     "outputs": [],
     "prompt_number": 12
    },
    {
     "cell_type": "code",
     "collapsed": false,
     "input": [
      "jeu.remplirRack(\"Val\")"
     ],
     "language": "python",
     "metadata": {},
     "outputs": [],
     "prompt_number": 13
    },
    {
     "cell_type": "code",
     "collapsed": false,
     "input": [
      "jeu.rack[\"Val\"].listerJetons()"
     ],
     "language": "python",
     "metadata": {},
     "outputs": [
      {
       "metadata": {},
       "output_type": "pyout",
       "prompt_number": 14,
       "text": [
        "'eeflnsu'"
       ]
      }
     ],
     "prompt_number": 14
    },
    {
     "cell_type": "code",
     "collapsed": false,
     "input": [
      "len(jeu.rack[\"Val\"].listerJetons())"
     ],
     "language": "python",
     "metadata": {},
     "outputs": [
      {
       "metadata": {},
       "output_type": "pyout",
       "prompt_number": 15,
       "text": [
        "7"
       ]
      }
     ],
     "prompt_number": 15
    },
    {
     "cell_type": "code",
     "collapsed": false,
     "input": [],
     "language": "python",
     "metadata": {},
     "outputs": []
    }
   ],
   "metadata": {}
  }
 ]
}