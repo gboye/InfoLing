{
 "cells": [
  {
   "cell_type": "code",
   "execution_count": 9,
   "metadata": {
    "collapsed": true
   },
   "outputs": [],
   "source": [
    "import optparse, os, glob, codecs, time, re"
   ]
  },
  {
   "cell_type": "code",
   "execution_count": 10,
   "metadata": {
    "collapsed": true
   },
   "outputs": [],
   "source": [
    "import bs4"
   ]
  },
  {
   "cell_type": "code",
   "execution_count": 11,
   "metadata": {
    "collapsed": false
   },
   "outputs": [],
   "source": [
    "def choisir_fichier(default=u\".\"):\n",
    "    for file in glob.glob(default):\n",
    "        print file\n",
    "    return raw_input(u\"Fichier Talismane : \")"
   ]
  },
  {
   "cell_type": "code",
   "execution_count": 12,
   "metadata": {
    "collapsed": true
   },
   "outputs": [],
   "source": [
    "def monter(origin,numero):\n",
    "    gouv=mot[numero][\"gouv\"]\n",
    "    phrase[gouv][\"nums\"].append(mot[origin][\"num\"])\n",
    "    if gouv!=0:\n",
    "        monter(origin,gouv)"
   ]
  },
  {
   "cell_type": "code",
   "execution_count": 13,
   "metadata": {
    "collapsed": true
   },
   "outputs": [],
   "source": [
    "def baliser(chaine,balise,attvals=[]):\n",
    "    if attvals:\n",
    "        result='<%s'%balise\n",
    "        for element in attvals:\n",
    "            if \"=\" in element:\n",
    "                (attr,val)=element.split(\"=\")\n",
    "                result=result+' %s=\"%s\"'%(attr,val)\n",
    "            else:\n",
    "                if element!=\"_\":\n",
    "                    result=result+' type=\"%s\"'%(element)\n",
    "        result=result+'>%s</%s>' % (chaine, balise)\n",
    "    else:\n",
    "        result='<%s>%s</%s>' % (balise, chaine, balise)\n",
    "    return result"
   ]
  },
  {
   "cell_type": "code",
   "execution_count": 14,
   "metadata": {
    "collapsed": true
   },
   "outputs": [],
   "source": [
    "def baliser_groupe(liste,debut,fin,balise,attvals=[]):\n",
    "    if attvals:\n",
    "        result='<%s'%balise\n",
    "        for element in attvals:\n",
    "            if \"=\" in element:\n",
    "                (attr,val)=element.split(\"=\")\n",
    "                result=result+' %s=\"%s\"'%(attr.replace(\"+\",\"_plus_\"),val.replace(\"+\",\"_plus_\"))\n",
    "            else:\n",
    "                if element!=\"_\":\n",
    "                    result=result+' type=\"%s\"'%(element.replace(\"+\",\"_plus_\"))\n",
    "                    \n",
    "        result=result+'>'\n",
    "        liste[debut]=result+liste[debut]\n",
    "        liste[fin]=liste[fin]+'</%s>'%(balise.replace(\"+\",\"_plus_\"))\n",
    "    else:\n",
    "        liste[debut]='<%s>'%(balise)+liste[debut]\n",
    "        liste[fin]=liste[fin]+'</%s>'%(balise.replace(\"+\",\"_plus_\"))"
   ]
  },
  {
   "cell_type": "code",
   "execution_count": 15,
   "metadata": {
    "collapsed": false
   },
   "outputs": [
    {
     "name": "stdout",
     "output_type": "stream",
     "text": [
      "Eclypsia3.tal\n",
      "phraseJean.tal\n",
      "Fichier Talismane : DM3/Louna3ansCharles.tal\n"
     ]
    }
   ],
   "source": [
    "xml_lines=[]\n",
    "tag_file_name=choisir_fichier(u\"*.tal\")"
   ]
  },
  {
   "cell_type": "code",
   "execution_count": 16,
   "metadata": {
    "collapsed": false
   },
   "outputs": [],
   "source": [
    "with codecs.open(tag_file_name.strip(),\"r\",\"utf-8\") as tag_file:\n",
    "    tag_data=tag_file.readlines()\n",
    "file_name, sep, after = tag_file_name.rpartition(\".\")\n",
    "output_file_name=file_name+\"-\"+time.strftime(\"%y%m%d\")+\".xml\""
   ]
  },
  {
   "cell_type": "code",
   "execution_count": 17,
   "metadata": {
    "collapsed": true
   },
   "outputs": [],
   "source": [
    "xml_lines.append('<?xml version=\"1.0\" encoding=\"UTF-8\"?>')\n",
    "xml_lines.append('<!--?xml-stylesheet type=\"text/css\" href=\"affichage.css\"?-->')"
   ]
  },
  {
   "cell_type": "code",
   "execution_count": 18,
   "metadata": {
    "collapsed": true
   },
   "outputs": [],
   "source": [
    "mots=[(0,\"\",[])]\n",
    "mot={0:{\"num\":0, \"forme\":\"\", \"cat\":\"PHR\"}}\n",
    "phrase={0:{\"nums\":[],\"forme\":\"\", \"lemme\":\"\", \"cat\":\"PHR\",\"gouv\":0, \"rel\":\"\"}}"
   ]
  },
  {
   "cell_type": "code",
   "execution_count": 19,
   "metadata": {
    "collapsed": false,
    "scrolled": true
   },
   "outputs": [],
   "source": [
    "for line in tag_data:\n",
    "    line = line.strip()\n",
    "    if \"\\t\" in line:\n",
    "        (num, forme, lemme, cat, catdet, morsyn, gouv, rel, trail1,trail2)=line.split(\"\\t\")\n",
    "        morsyn = morsyn.strip(\"|\")\n",
    "        morsyns=morsyn.split(\"|\")\n",
    "        if \"_\" in forme:\n",
    "            temp=forme.split(\"_\")\n",
    "            forme=\" \".join(temp)\n",
    "        if lemme == \"_\": lemme = forme\n",
    "        mot[int(num)]={\"num\":int(num), \"forme\":forme, \"lemme\":lemme, \"cat\":cat, \"gouv\":int(gouv), \"rel\":rel, \"morsyns\":morsyns}\n",
    "        phrase[int(num)]={\"nums\":[int(num)], \"forme\":forme, \"lemme\":lemme, \"cat\":cat, \"gouv\":int(gouv), \"rel\":rel}\n",
    "    elif re.match(r\"<[^?].*>\", line):\n",
    "        # print line\n",
    "        xml_lines.append(line)\n",
    "    else:\n",
    "        positions=[i for i in range(len(mot))]\n",
    "        suite=\"\"\n",
    "        for i in range(1,len(mot)):\n",
    "            monter(i,i)\n",
    "            L = [\"num=%s\"%i,\"lexeme=\"+mot[i][\"lemme\"].upper(),\"cat=\"+mot[i][\"cat\"].replace(\"+\",\"_plus_\")]\n",
    "            mots.append((i,baliser(mot[i][\"forme\"],\"mot\", mot[i][\"morsyns\"].extend(L)),phrase[i][\"nums\"]))\n",
    "            positions[i]=baliser(mot[i][\"forme\"],\"mot\",mot[i][\"morsyns\"])  #mot[i][\"cat\"].replace(\"+\",\"_plus_\")\n",
    "            if mot[i][\"forme\"] in \",.\" or suite.endswith(\"'\"):\n",
    "                suite=suite+mot[i][\"forme\"]\n",
    "            else:\n",
    "                suite=suite+\" \"+mot[i][\"forme\"]\n",
    "        # print mot, xml_mots\n",
    "        suite = re.sub(r\"\\(-+ *\\)\", \"(-)\", suite)\n",
    "        #xml_lines.append('<!-- %s -->'%suite)\n",
    "        xml_mots=mots[:]\n",
    "        xml_mots.sort(key=lambda x: len(x[2]))\n",
    "        for element in xml_mots:\n",
    "            element[2].sort()\n",
    "            if element[2]:\n",
    "                relation=\"fonction=%s\"%phrase[element[0]][\"rel\"].replace(\"+\",\"_plus_\")\n",
    "                syntagme=\"G%s\"%phrase[element[0]][\"cat\"].replace(\"+\",\"_plus_\")\n",
    "                num_tete=\"num_tete=%s\"%element[0]\n",
    "                gouverneur=\"cat_gouv=%s\"%mot[phrase[element[0]][\"gouv\"]][\"cat\"].replace(\"+\",\"_plus_\")\n",
    "                num_gouverneur=\"num_gouv=%s\"%mot[phrase[element[0]][\"gouv\"]][\"num\"]\n",
    "                baliser_groupe(positions,int(element[2][:1][0]),int(element[2][-1:][0]),syntagme,[relation,num_tete,gouverneur,num_gouverneur])\n",
    "        mots.sort(key=lambda x: x[0])\n",
    "        for position in positions:\n",
    "            if position!=0:\n",
    "                xml_lines.append(position)\n",
    "        xml_lines.append(\"\")\n",
    "        xml_lines.append(\"\")      \n",
    "        mots=[(0,\"\",[])]\n",
    "        mot={0:{\"num\":0, \"forme\":\"\", \"cat\":\"PHR\"}}\n",
    "        phrase={0:{\"nums\":[],\"forme\":\"\", \"lemme\":\"\", \"cat\":\"PHR\",\"gouv\":0, \"rel\":\"\"}}"
   ]
  },
  {
   "cell_type": "code",
   "execution_count": 20,
   "metadata": {
    "collapsed": true,
    "scrolled": true
   },
   "outputs": [],
   "source": [
    "with codecs.open(output_file_name, \"w\", \"utf-8\") as output_file:\n",
    "    xml_text=\"\\n\".join(xml_lines)\n",
    "    soup=bs4.BeautifulSoup(xml_text,\"xml\")\n",
    "    output_file.write(soup.prettify())"
   ]
  }
 ],
 "metadata": {
  "kernelspec": {
   "display_name": "Python 2",
   "language": "python",
   "name": "python2"
  },
  "language_info": {
   "codemirror_mode": {
    "name": "ipython",
    "version": 2
   },
   "file_extension": ".py",
   "mimetype": "text/x-python",
   "name": "python",
   "nbconvert_exporter": "python",
   "pygments_lexer": "ipython2",
   "version": "2.7.6"
  }
 },
 "nbformat": 4,
 "nbformat_minor": 1
}
