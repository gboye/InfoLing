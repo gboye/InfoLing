{
 "metadata": {
  "name": "",
  "signature": "sha256:027f5d93715e080a7efb997c632479406622dda4362df6323aa568fc5d60da22"
 },
 "nbformat": 3,
 "nbformat_minor": 0,
 "worksheets": [
  {
   "cells": [
    {
     "cell_type": "markdown",
     "metadata": {},
     "source": [
      "#Transformer les TRS\n",
      "##Importer les modules n\u00e9cessaires\n",
      "- codecs est le module qui permet de lire l'encodage UTF8 ou ISO-8859-1 au choix\n",
      "- re est le module qui permet d'utiliser des expressions r\u00e9guli\u00e8res pour analyser une chaine de caract\u00e8res"
     ]
    },
    {
     "cell_type": "code",
     "collapsed": false,
     "input": [
      "import codecs, re"
     ],
     "language": "python",
     "metadata": {},
     "outputs": [],
     "prompt_number": 1
    },
    {
     "cell_type": "markdown",
     "metadata": {},
     "source": [
      "##D\u00e9claration des noms des fichiers"
     ]
    },
    {
     "cell_type": "code",
     "collapsed": false,
     "input": [
      "nomTRS=\"/Users/gilles/Copy/Linguistique et corpus 2014-2015/Corpus_VEGA_FOUCHARD_KANCEL/Transcriptions orthographiques/conv_19.23_1.trs\"\n",
      "nomXML=nomTRS.replace(\".trs\",\".xml\")"
     ],
     "language": "python",
     "metadata": {},
     "outputs": [],
     "prompt_number": 2
    },
    {
     "cell_type": "markdown",
     "metadata": {},
     "source": [
      "##Lecture du fichier TRS"
     ]
    },
    {
     "cell_type": "code",
     "collapsed": false,
     "input": [
      "with codecs.open(nomTRS,\"r\",encoding=\"ISO-8859-1\") as entree:\n",
      "    transcription=entree.readlines()"
     ],
     "language": "python",
     "metadata": {},
     "outputs": [],
     "prompt_number": 3
    },
    {
     "cell_type": "markdown",
     "metadata": {},
     "source": [
      "##Ajout des lignes pour les disfluences et la mise en forme\n",
      "- apr\u00e8s la ligne de d\u00e9claration de l'encodage : la r\u00e9f\u00e9rence de la feuille de style\n",
      "- apr\u00e8s les lignes de d\u00e9but de disfluences : la balise &lt;disfluence>\n",
      "- avant les lignes de fin de disfluences : la balise &lt;/difluence>\n",
      "\n",
      "Avec le fichier XML\n",
      ">pour chaque ligne\n",
      ">>nettoyer la ligne\n",
      ">>comparer la ligne avec un event de type disflu\n",
      "\n",
      ">>si la ligne est la d\u00e9claration d'encodage\n",
      ">>>recopier la ligne\n",
      ">>>ajouter la r\u00e9f\u00e9rence de la feuille de style\n",
      "\n",
      ">>si la ligne est la r\u00e9f\u00e9rence de la feuille de style\n",
      ">>>ne rien faire\n",
      "\n",
      ">>si la ligne est celle de la DTD\n",
      ">>>remplacer la ligne par celle de la DTD adapt\u00e9e pour accepter les disfluences\n",
      "\n",
      ">>si la ligne est du type event de disfluence\n",
      ">>>si le dernier attribut vaut begin\n",
      ">>>>recopier la ligne\n",
      ">>>>ajouter une balise &lt;disfluence>\n",
      "\n",
      ">>>si le dernier attribut vaut end\n",
      ">>>>ajouter une balise &lt;/disfluence>\n",
      ">>>>recopier la ligne\n",
      "\n",
      ">>sinon\n",
      ">>>recopier la ligne"
     ]
    },
    {
     "cell_type": "code",
     "collapsed": false,
     "input": [
      "with codecs.open(nomXML,\"w\",encoding=\"UTF8\") as sortie:\n",
      "    for ligne in transcription:\n",
      "        ligne=ligne.strip()\n",
      "        disfluenceGen=re.match('<Event desc=\"disflu\" type=\"(noise|lexical|pronounce|language|entities)\" extent=\"(begin|end)\"/>',ligne)\n",
      "        disfluenceSpec=re.match('<Event desc=\"(Md|Rep|AutoC|NonFinie|MCoup)\" type=\"pronounce\" extent=\"(begin|end)\"/>',ligne)        \n",
      "        if ligne=='<?xml version=\"1.0\" encoding=\"ISO-8859-1\"?>':\n",
      "            sortie.write(ligne.replace(\"ISO-8859-1\",\"UTF-8\")+\"\\n\")\n",
      "            sortie.write('<?xml-stylesheet type=\"text/xsl\" href=\"TRS-Speakers.xsl\" ?>'+\"\\n\")\n",
      "        elif ligne=='<?xml-stylesheet type=\"text/xsl\" href=\"TRS-Speakers.xsl\" ?>':\n",
      "            pass\n",
      "        elif ligne=='<!DOCTYPE Trans SYSTEM \"trans-14.dtd\">':\n",
      "            sortie.write('<!DOCTYPE Trans SYSTEM \"trans-14-corpus.dtd\">'+\"\\n\")\n",
      "        elif disfluenceGen:\n",
      "            if disfluenceGen.group(2)==\"begin\":\n",
      "                sortie.write(ligne+\"\\n\")\n",
      "                sortie.write(\"<disfluence>\"+\"\\n\")\n",
      "            elif disfluenceGen.group(2)==\"end\":\n",
      "                sortie.write(\"</disfluence>\"+\"\\n\")\n",
      "                sortie.write(ligne+\"\\n\")\n",
      "        elif disfluenceSpec:\n",
      "            if disfluenceSpec.group(2)==\"begin\":\n",
      "                sortie.write(ligne+\"\\n\")\n",
      "                sortie.write('<disfluence type=\"%s\">'%disfluenceSpec.group(1)+\"\\n\")\n",
      "            elif disfluenceSpec.group(2)==\"end\":\n",
      "                sortie.write(\"</disfluence>\"+\"\\n\")\n",
      "                sortie.write(ligne+\"\\n\")\n",
      "        else:\n",
      "            sortie.write(ligne+\"\\n\")"
     ],
     "language": "python",
     "metadata": {},
     "outputs": [],
     "prompt_number": 4
    },
    {
     "cell_type": "markdown",
     "metadata": {},
     "source": [
      "<Event desc=\"Md\" type=\"pronounce\" extent=\"begin\"/> : pour \"marqueurs du discours\"\n",
      "<Event desc=\"Rep\" type=\"pronounce\" extent=\"begin\"/> : pour \"r\u00e9p\u00e9titions\"\n",
      "<Event desc=\"AutoC\" type=\"pronounce\" extent=\"begin\"/> : pour \"auto correction\"\n",
      "<Event desc=\"NonFinie\" type=\"pronounce\" extent=\"end\"/> : pour \"phrase non finie\"\n",
      "<Event desc=\"MCoup\" type=\"pronounce\" extent=\"end\"/> : pour \"mot coup\u00e9\"\n"
     ]
    }
   ],
   "metadata": {}
  }
 ]
}