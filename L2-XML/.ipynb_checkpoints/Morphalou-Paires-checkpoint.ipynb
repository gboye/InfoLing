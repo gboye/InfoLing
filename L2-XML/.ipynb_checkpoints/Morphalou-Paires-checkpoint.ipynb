{
 "metadata": {
  "name": "",
  "signature": "sha256:2012e728c285a6cc859a7655893b044fef98b779e31d7020debe433553383596"
 },
 "nbformat": 3,
 "nbformat_minor": 0,
 "worksheets": [
  {
   "cells": [
    {
     "cell_type": "code",
     "collapsed": false,
     "input": [
      "debug=0\n",
      "simplex=True\n",
      "fichierMorphalou='/Users/gilles/Dropbox/Travail/Recherche/BoBo/Tonton/morphalou/Morphalou-2.0.xml'\n",
      "fichierSimplex='/Users/gilles/Dropbox/Travail/Recherche/BoBo/Tonton/morphalou/N-simples-Obj.txt'"
     ],
     "language": "python",
     "metadata": {},
     "outputs": [],
     "prompt_number": 19
    },
    {
     "cell_type": "code",
     "collapsed": false,
     "input": [
      "with open(fichierSimplex,\"r\") as stream:\n",
      "    lexiqueSimplex=stream.readlines()\n",
      "motsSimples=[]\n",
      "for ligne in lexiqueSimplex:\n",
      "#    print [ligne.strip().decode(\"utf8\")]\n",
      "    motsSimples.append(ligne.strip().decode(\"utf8\"))"
     ],
     "language": "python",
     "metadata": {},
     "outputs": [],
     "prompt_number": 26
    },
    {
     "cell_type": "code",
     "collapsed": false,
     "input": [
      "import xml.etree.ElementTree as etree\n",
      "data = etree.parse(fichierMorphalou)"
     ],
     "language": "python",
     "metadata": {},
     "outputs": [],
     "prompt_number": 4
    },
    {
     "cell_type": "code",
     "collapsed": false,
     "input": [
      "root=data.getroot()"
     ],
     "language": "python",
     "metadata": {},
     "outputs": [],
     "prompt_number": 5
    },
    {
     "cell_type": "code",
     "collapsed": false,
     "input": [
      "def trouverAdjectif(masculin,feminin):\n",
      "    lemme=masculin\n",
      "    adjTrouve=False\n",
      "    for i in range(5):\n",
      "        recherche=\"./*[@id='\"+lemme+\"_\"+str(i)+\"']\"\n",
      "        for element in root.findall(recherche):\n",
      "            if element.find(\"formSet\").find(\"lemmatizedForm\").find(\"grammaticalCategory\").text == \"adjective\":\n",
      "                mascTrouve=False\n",
      "                femTrouve=False\n",
      "                for inflectedForm in element.iter(\"inflectedForm\"):\n",
      "                    if inflectedForm.find(\"grammaticalNumber\").text==\"singular\":\n",
      "                        if inflectedForm.find(\"grammaticalGender\").text==\"masculine\" and inflectedForm.find(\"orthography\").text==masculin:\n",
      "                            mascTrouve=True\n",
      "                        elif inflectedForm.find(\"grammaticalGender\").text==\"feminine\" and inflectedForm.find(\"orthography\").text==feminin:\n",
      "                                femTrouve=True\n",
      "                if mascTrouve and femTrouve:\n",
      "                    adjTrouve=True\n",
      "    if adjTrouve:\n",
      "        return (masculin, feminin)\n",
      "    else:\n",
      "        return None"
     ],
     "language": "python",
     "metadata": {},
     "outputs": [],
     "prompt_number": 6
    },
    {
     "cell_type": "code",
     "collapsed": false,
     "input": [
      "paires={}\n",
      "categories={\"adj. et subst.\":\"SUBST\", \"commonNoun feminine\":\"NOM\"}\n",
      "for entry in root.iter('lexicalEntry'):\n",
      "    for variant in entry.iter('feminineVariantOf'):\n",
      "        masculin=variant.text\n",
      "        feminin=entry.find(\"formSet\").find(\"lemmatizedForm\").find(\"orthography\").text\n",
      "        possibleCategories=[x for x in categories if x in entry.find(\"originatingEntry\").text]\n",
      "\n",
      "#        '''\n",
      "#        V\u00e9rifier qu'on a bien un nom commun de genre f\u00e9minin ne donne aucune erreur\n",
      "#        '''\n",
      "#        catMorphalou=entry.find(\"formSet\").find(\"lemmatizedForm\").find(\"grammaticalCategory\").text\n",
      "#        genMorphalou=entry.find(\"formSet\").find(\"lemmatizedForm\").find(\"grammaticalGender\").text\n",
      "#        if catMorphalou!=\"commonNoun\" or genMorphalou!=\"feminine\":\n",
      "#            print \"PB\",masculin, feminin, catMorphalou,genMorphalou\n",
      "\n",
      "        if len(possibleCategories)==1:\n",
      "            categorie=categories[possibleCategories[0]]\n",
      "        else:\n",
      "            categorie=\"AUTRES\"\n",
      "#        if trouverAdjectif(masculin,feminin) and categorie!=\"SUBST\":\n",
      "#            categorie+=\"-SUBST\"\n",
      "        if not categorie in paires:\n",
      "            paires[categorie]={'epicenes':[], 'autres':[]}\n",
      "        if feminin==masculin:\n",
      "            paires[categorie]['epicenes'].append((masculin,feminin))\n",
      "        else:\n",
      "            paires[categorie]['autres'].append((masculin,feminin))"
     ],
     "language": "python",
     "metadata": {},
     "outputs": [],
     "prompt_number": 7
    },
    {
     "cell_type": "code",
     "collapsed": false,
     "input": [
      "adjectifs=[]\n",
      "for entry in root.iter('formSet'):\n",
      "#    for variant in entry.iter('feminineVariantOf'):\n",
      "#        masculin=variant.text\n",
      "#        feminin=entry.find(\"formSet\").find(\"lemmatizedForm\").find(\"orthography\").text\n",
      "#        possibleCategories=[x for x in categories if x in entry.find(\"originatingEntry\").text]\n",
      "    if entry.find(\"lemmatizedForm\").find(\"grammaticalCategory\").text == \"adjective\":\n",
      "        masc=\"\"\n",
      "        fem=\"\"\n",
      "        for inflectedForm in entry.iter(\"inflectedForm\"):\n",
      "            if inflectedForm.find(\"grammaticalNumber\").text==\"singular\":\n",
      "                if inflectedForm.find(\"grammaticalGender\").text==\"masculine\":\n",
      "                    masc=inflectedForm.find(\"orthography\").text\n",
      "                elif inflectedForm.find(\"grammaticalGender\").text==\"feminine\":\n",
      "                    fem=inflectedForm.find(\"orthography\").text\n",
      "                else:\n",
      "                    print \"PB de genre\"\n",
      "        if masc and fem:\n",
      "            adjectifs.append((masc, fem))"
     ],
     "language": "python",
     "metadata": {},
     "outputs": [],
     "prompt_number": 8
    },
    {
     "cell_type": "code",
     "collapsed": false,
     "input": [
      "globalCompteurs={'cat':{},'epi':{},'adjnom':{0:0,1:0}}\n",
      "localCompteurs={'cat':{},'epi':{},'adjnom':{0:0,1:0}}\n",
      "titres=[\"masculin\",\"f\u00e9minin\",\"adjnom\",\"cat\u00e9gories\",\"\u00e9pic\u00e8ne\"]\n",
      "print \"\\t\".join(titres)\n",
      "for categorie in paires:\n",
      "    for typePaire in paires[categorie]:\n",
      "        if debug: \n",
      "            print \"CAT\", categorie\n",
      "            print \"TYPE\",typePaire\n",
      "        if categorie==\"NOM\": cat=1\n",
      "        elif categorie==\"SUBST\": cat=2\n",
      "        else: cat=0\n",
      "        if not cat in globalCompteurs['cat']:\n",
      "            globalCompteurs['cat'][cat]=0\n",
      "        localCompteurs['cat'][cat]=0\n",
      "        if typePaire==\"epicenes\": epi=1\n",
      "        else: epi=0\n",
      "        if not epi in globalCompteurs['epi']:\n",
      "            globalCompteurs['epi'][epi]=0\n",
      "        localCompteurs['epi'][epi]=0\n",
      "        for paire in paires[categorie][typePaire]:\n",
      "            adjnom=int(not paire in adjectifs)\n",
      "            if not simplex or paire[0] in motsSimples: \n",
      "                print \"\\t\".join([paire[0],paire[1],str(adjnom),str(cat),str(epi)])\n",
      "            localCompteurs['cat'][cat]+=1\n",
      "            localCompteurs['epi'][epi]+=1\n",
      "            localCompteurs['adjnom'][adjnom]+=1\n",
      "        for compteur in localCompteurs:\n",
      "            for value in localCompteurs[compteur]:\n",
      "                if debug: print compteur,value,localCompteurs[compteur][value]\n",
      "                globalCompteurs[compteur][value]+=localCompteurs[compteur][value]\n",
      "            if debug: print\n",
      "        if debug: print\n",
      "    if debug: print\n",
      "for compteur in globalCompteurs:\n",
      "    for value in globalCompteurs[compteur]:\n",
      "        if debug: print compteur,value,globalCompteurs[compteur][value]\n",
      "    if debug: print\n",
      "if debug: print\n"
     ],
     "language": "python",
     "metadata": {},
     "outputs": [
      {
       "output_type": "stream",
       "stream": "stdout",
       "text": [
        "masculin\tf\u00e9minin\tadjnom\tcat\u00e9gories\t\u00e9pic\u00e8ne\n",
        "butor\tbutorde\t1\t1\t0\n",
        "lion\tlionne\t1\t1\t0"
       ]
      },
      {
       "output_type": "stream",
       "stream": "stdout",
       "text": [
        "\n",
        "ogre\togresse\t1\t1\t0\n",
        "titan\ttitane\t1\t1\t0"
       ]
      },
      {
       "output_type": "stream",
       "stream": "stdout",
       "text": [
        "\n",
        "acrobate\tacrobate\t1\t1\t1"
       ]
      },
      {
       "output_type": "stream",
       "stream": "stdout",
       "text": [
        "\n",
        "asc\u00e8te\tasc\u00e8te\t1\t1\t1"
       ]
      },
      {
       "output_type": "stream",
       "stream": "stdout",
       "text": [
        "\n",
        "athl\u00e8te\tathl\u00e8te\t1\t1\t1\n",
        "coll\u00e8gue\tcoll\u00e8gue\t1\t1\t1"
       ]
      },
      {
       "output_type": "stream",
       "stream": "stdout",
       "text": [
        "\n",
        "comparse\tcomparse\t1\t1\t1\n",
        "concierge\tconcierge\t1\t1\t1\n",
        "convive\tconvive\t1\t1\t1"
       ]
      },
      {
       "output_type": "stream",
       "stream": "stdout",
       "text": [
        "\n",
        "esth\u00e8te\testh\u00e8te\t1\t1\t1"
       ]
      },
      {
       "output_type": "stream",
       "stream": "stdout",
       "text": [
        "\n",
        "fan\tfan\t1\t1\t1\n",
        "fellah\tfellah\t1\t1\t1\n",
        "funambule\tfunambule\t1\t1\t1"
       ]
      },
      {
       "output_type": "stream",
       "stream": "stdout",
       "text": [
        "\n",
        "hotu\thotu\t1\t1\t1"
       ]
      },
      {
       "output_type": "stream",
       "stream": "stdout",
       "text": [
        "\n",
        "ilote\tilote\t1\t1\t1"
       ]
      },
      {
       "output_type": "stream",
       "stream": "stdout",
       "text": [
        "\n",
        "l\u00e9gume\tl\u00e9gume\t1\t1\t1"
       ]
      },
      {
       "output_type": "stream",
       "stream": "stdout",
       "text": [
        "\n",
        "manouche\tmanouche\t1\t1\t1\n",
        "margrave\tmargrave\t1\t1\t1\n",
        "minus\tminus\t1\t1\t1"
       ]
      },
      {
       "output_type": "stream",
       "stream": "stdout",
       "text": [
        "\n",
        "m\u00f4me\tm\u00f4me\t1\t1\t1"
       ]
      },
      {
       "output_type": "stream",
       "stream": "stdout",
       "text": [
        "\n",
        "pros\u00e9lyte\tpros\u00e9lyte\t1\t1\t1"
       ]
      },
      {
       "output_type": "stream",
       "stream": "stdout",
       "text": [
        "\n",
        "prox\u00e9n\u00e8te\tprox\u00e9n\u00e8te\t1\t1\t1\n",
        "p\u00e8gre\tp\u00e8gre\t1\t1\t1"
       ]
      },
      {
       "output_type": "stream",
       "stream": "stdout",
       "text": [
        "\n",
        "p\u00e9core\tp\u00e9core\t1\t1\t1\n",
        "saltimbanque\tsaltimbanque\t1\t1\t1"
       ]
      },
      {
       "output_type": "stream",
       "stream": "stdout",
       "text": [
        "\n",
        "soprano\tsoprano\t1\t1\t1"
       ]
      },
      {
       "output_type": "stream",
       "stream": "stdout",
       "text": [
        "\n",
        "th\u00e9rapeute\tth\u00e9rapeute\t1\t1\t1"
       ]
      },
      {
       "output_type": "stream",
       "stream": "stdout",
       "text": [
        "\n",
        "yankee\tyankee\t1\t1\t1"
       ]
      },
      {
       "output_type": "stream",
       "stream": "stdout",
       "text": [
        "\n",
        "a\u00efeul\ta\u00efeule\t1\t0\t0"
       ]
      },
      {
       "output_type": "stream",
       "stream": "stdout",
       "text": [
        "\n",
        "bistro\tbistrote\t1\t0\t0"
       ]
      },
      {
       "output_type": "stream",
       "stream": "stdout",
       "text": [
        "\n",
        "bougre\tbougresse\t1\t0\t0"
       ]
      },
      {
       "output_type": "stream",
       "stream": "stdout",
       "text": [
        "\n",
        "chaland\tchalande\t1\t0\t0"
       ]
      },
      {
       "output_type": "stream",
       "stream": "stdout",
       "text": [
        "\n",
        "citoyen\tcitoyenne\t1\t0\t0"
       ]
      },
      {
       "output_type": "stream",
       "stream": "stdout",
       "text": [
        "\n",
        "client\tcliente\t1\t0\t0\n",
        "colonel\tcolonelle\t1\t0\t0"
       ]
      },
      {
       "output_type": "stream",
       "stream": "stdout",
       "text": [
        "\n",
        "commensal\tcommensale\t1\t0\t0\n",
        "comte\tcomtesse\t1\t0\t0\n",
        "confident\tconfidente\t1\t0\t0\n",
        "doyen\tdoyenne\t1\t0\t0"
       ]
      },
      {
       "output_type": "stream",
       "stream": "stdout",
       "text": [
        "\n",
        "filleul\tfilleule\t1\t0\t0"
       ]
      },
      {
       "output_type": "stream",
       "stream": "stdout",
       "text": [
        "\n",
        "h\u00f4te\th\u00f4tesse\t1\t0\t0"
       ]
      },
      {
       "output_type": "stream",
       "stream": "stdout",
       "text": [
        "\n",
        "orant\torante\t1\t0\t0"
       ]
      },
      {
       "output_type": "stream",
       "stream": "stdout",
       "text": [
        "\n",
        "pr\u00e9sident\tpr\u00e9sidente\t1\t0\t0"
       ]
      },
      {
       "output_type": "stream",
       "stream": "stdout",
       "text": [
        "\n",
        "romanichel\tromanichelle\t1\t0\t0"
       ]
      },
      {
       "output_type": "stream",
       "stream": "stdout",
       "text": [
        "\n",
        "\u00e9pagneul\t\u00e9pagneule\t1\t0\t0"
       ]
      },
      {
       "output_type": "stream",
       "stream": "stdout",
       "text": [
        "\n",
        "gosse\tgosse\t1\t0\t1"
       ]
      },
      {
       "output_type": "stream",
       "stream": "stdout",
       "text": [
        "\n"
       ]
      }
     ],
     "prompt_number": 27
    },
    {
     "cell_type": "code",
     "collapsed": false,
     "input": [
      "noms=[]\n",
      "for entry in root.iter('formSet'):\n",
      "#    for variant in entry.iter('feminineVariantOf'):\n",
      "#        masculin=variant.text\n",
      "#        feminin=entry.find(\"formSet\").find(\"lemmatizedForm\").find(\"orthography\").text\n",
      "#        possibleCategories=[x for x in categories if x in entry.find(\"originatingEntry\").text]\n",
      "    if entry.find(\"lemmatizedForm\").find(\"grammaticalCategory\").text == \"commonNoun\":\n",
      "        sing=\"\"\n",
      "        for inflectedForm in entry.iter(\"inflectedForm\"):\n",
      "            if inflectedForm.find(\"grammaticalNumber\").text==\"singular\":\n",
      "                sing=inflectedForm.find(\"orthography\").text\n",
      "        if sing:\n",
      "            noms.append(sing)"
     ],
     "language": "python",
     "metadata": {},
     "outputs": [],
     "prompt_number": 10
    },
    {
     "cell_type": "code",
     "collapsed": false,
     "input": [
      "for nom in noms[:10]:\n",
      "    print nom\n",
      "distinctEntries= len(noms)"
     ],
     "language": "python",
     "metadata": {},
     "outputs": [
      {
       "output_type": "stream",
       "stream": "stdout",
       "text": [
        "aal\u00e9nien\n",
        "aba\n",
        "abaca\n",
        "abaddir\n",
        "abadie\n",
        "abadis\n",
        "abaisse\n",
        "abaissement\n",
        "abaisseur\n",
        "abaiss\u00e9e\n"
       ]
      }
     ],
     "prompt_number": 11
    },
    {
     "cell_type": "code",
     "collapsed": false,
     "input": [
      "distinctGraphies= len(set(noms))\n",
      "print distinctEntries, distinctGraphies\n",
      "distinctEntries-distinctGraphies"
     ],
     "language": "python",
     "metadata": {},
     "outputs": [
      {
       "output_type": "stream",
       "stream": "stdout",
       "text": [
        "42436 40592\n"
       ]
      },
      {
       "metadata": {},
       "output_type": "pyout",
       "prompt_number": 12,
       "text": [
        "1844"
       ]
      }
     ],
     "prompt_number": 12
    },
    {
     "cell_type": "raw",
     "metadata": {},
     "source": [
      "isteNoms=[]\n",
      "for nom in noms:\n",
      "    if nom.endswith(\"iste\"):\n",
      "        isteNoms.append(nom)\n",
      "for iste in isteNoms[:20]:\n",
      "    print iste"
     ]
    },
    {
     "cell_type": "raw",
     "metadata": {},
     "source": [
      "print len(set(isteNoms))"
     ]
    },
    {
     "cell_type": "code",
     "collapsed": false,
     "input": [
      "print len(isteNoms)"
     ],
     "language": "python",
     "metadata": {},
     "outputs": [
      {
       "output_type": "stream",
       "stream": "stdout",
       "text": [
        "1312\n"
       ]
      }
     ],
     "prompt_number": 12
    },
    {
     "cell_type": "code",
     "collapsed": false,
     "input": [
      "epicenes=noms[:]\n",
      "uniques=list(set(noms))\n",
      "for unique in uniques:\n",
      "    epicenes.remove(unique)"
     ],
     "language": "python",
     "metadata": {},
     "outputs": [],
     "prompt_number": 14
    },
    {
     "cell_type": "code",
     "collapsed": false,
     "input": [
      "print len(epicenes)\n",
      "for epicene in epicenes[0:10]:\n",
      "    print epicene"
     ],
     "language": "python",
     "metadata": {},
     "outputs": [
      {
       "output_type": "stream",
       "stream": "stdout",
       "text": [
        "1844\n",
        "abandonnataire\n",
        "abolitionniste\n",
        "abonnataire\n",
        "aborig\u00e8ne\n",
        "aboulique\n",
        "absent\u00e9iste\n",
        "abstentionniste\n",
        "acad\u00e9miste\n",
        "acajuba\n",
        "accense\n"
       ]
      }
     ],
     "prompt_number": 15
    },
    {
     "cell_type": "code",
     "collapsed": false,
     "input": [
      "epicenesMorphalou=[]\n",
      "for categorie in paires:\n",
      "    for paire in paires[categorie]['epicenes']:\n",
      "        if paire[0] in epicenes:\n",
      "            epicenesMorphalou.append(paire[0])"
     ],
     "language": "python",
     "metadata": {},
     "outputs": [],
     "prompt_number": 38
    },
    {
     "cell_type": "code",
     "collapsed": false,
     "input": [
      "print len(epicenesMorphalou)"
     ],
     "language": "python",
     "metadata": {},
     "outputs": [
      {
       "output_type": "stream",
       "stream": "stdout",
       "text": [
        "1283\n"
       ]
      }
     ],
     "prompt_number": 39
    },
    {
     "cell_type": "code",
     "collapsed": false,
     "input": [
      "epicenesAutres=[]\n",
      "for element in epicenes:\n",
      "    if element not in epicenesMorphalou:\n",
      "        epicenesAutres.append(element)"
     ],
     "language": "python",
     "metadata": {},
     "outputs": [],
     "prompt_number": 40
    },
    {
     "cell_type": "code",
     "collapsed": false,
     "input": [
      "for element in epicenesAutres:\n",
      "    print element"
     ],
     "language": "python",
     "metadata": {},
     "outputs": [
      {
       "output_type": "stream",
       "stream": "stdout",
       "text": [
        "acajuba\n",
        "accense\n",
        "accore\n",
        "acc\u00e9l\u00e9rif\u00e8re\n",
        "acense\n",
        "achondroplase\n",
        "acicule\n",
        "acm\u00e9\n",
        "acoustique\n",
        "acridophage\n",
        "acrodonte\n",
        "acrog\u00e8ne\n",
        "actiniaire\n",
        "ac\u00e8ne\n",
        "ac\u00e9phale\n",
        "adonique\n",
        "adriatique\n",
        "adventice\n",
        "affinitaire\n",
        "agalmatolithe\n",
        "agame\n",
        "aganippide\n",
        "aglosse\n",
        "agonistique\n",
        "agynaire\n",
        "ag\u00e9\n",
        "aigre\n",
        "aine\n",
        "aj\u00e9\n",
        "alabastre\n",
        "alamannique\n",
        "alaria\n",
        "albe\n",
        "albugo\n",
        "alexipharmaque\n",
        "aliquote\n",
        "alogique\n",
        "alternateur\n",
        "al\u00e9manique\n",
        "amide\n",
        "ammoniaque\n",
        "ammonite\n",
        "amnestique\n",
        "anacoste\n",
        "analytique\n",
        "andr\u00e8ne\n",
        "andr\u00e9ide\n",
        "angora\n",
        "ann\u00e9lide\n",
        "anoure\n",
        "antenniste\n",
        "anthropomorphe\n",
        "anthropo\u00efde\n",
        "antifriction\n",
        "antif\u00e9brile\n",
        "antipode\n",
        "aph\u00e9lie\n",
        "apide\n",
        "apocryphe\n",
        "apoenzyme\n",
        "appendiculaire\n",
        "apte\n",
        "araba\n",
        "arbitraire\n",
        "arch\u00e9e\n",
        "aria\n",
        "aromatique\n",
        "arp\u00e8te\n",
        "ar\u00e9naire\n",
        "ar\u00e9nicole\n",
        "ascite\n",
        "ascl\u00e9piade\n",
        "asc\u00e9tique\n",
        "aspergille\n",
        "asph\u00e8re\n",
        "asque\n",
        "astate\n",
        "athl\u00e9tique\n",
        "atlante\n",
        "atlantique\n",
        "atma\n",
        "atman\n",
        "atonaliste\n",
        "attentiste\n",
        "aubergiste\n",
        "auriculaire\n",
        "authentique\n",
        "autochrome\n",
        "autocrate\n",
        "automatique\n",
        "aviculaire\n",
        "aymara\n",
        "azyme\n",
        "a\u00e9rophyte\n",
        "a\u00efno\n",
        "baba\n",
        "bacillaire\n",
        "bacul\n",
        "badge\n",
        "baliste\n",
        "baln\u00e9aire\n",
        "bamboula\n",
        "barde\n",
        "bari\n",
        "basilique\n",
        "baste\n",
        "batavia\n",
        "bauge\n",
        "baume\n",
        "beatnik\n",
        "bedole\n",
        "bedolle\n",
        "beige\n",
        "berdin\n",
        "bergamine\n",
        "berlingue\n",
        "bibliopole\n",
        "bifore\n",
        "bigorne\n",
        "biom\u00e9trique\n",
        "bisse\n",
        "bleueur\n",
        "blondasse\n",
        "bob\u00e8che\n",
        "bogue\n",
        "boh\u00e8me\n",
        "boh\u00eame\n",
        "boire\n",
        "bolge\n",
        "bouffe\n",
        "bouillitoire\n",
        "bourgogne\n",
        "braille\n",
        "brandebourg\n",
        "bredin\n",
        "brie\n",
        "br\u00e9guet\n",
        "bucolique\n",
        "bugle\n",
        "bure\n",
        "burgonde\n",
        "buti\u00e8re\n",
        "b\u00e9chique\n",
        "cache\n",
        "calembourdiste\n",
        "calembourgiste\n",
        "cambre\n",
        "canada\n",
        "capillaire\n",
        "capitulaire\n",
        "cardinaliste\n",
        "carmagnole\n",
        "carnasse\n",
        "carnauba\n",
        "carpe\n",
        "cartouche\n",
        "catadioptrique\n",
        "cataphracte\n",
        "cathartique\n",
        "causse\n",
        "cave\n",
        "cavernicole\n",
        "cayenne\n",
        "ca\u00efque\n",
        "celtib\u00e8re\n",
        "celtique\n",
        "censitaire\n",
        "centigrade\n",
        "chainse\n",
        "chaintre\n",
        "champagne\n",
        "charadiste\n",
        "chaume\n",
        "chine\n",
        "chips\n",
        "chistera\n",
        "chist\u00e9ra\n",
        "chor\u00e9e\n",
        "chromo\n",
        "churrigueresque\n",
        "ch\u00e2sse\n",
        "ch\u00e2taignier\n",
        "cipolin\n",
        "cipollin\n",
        "ciste\n",
        "cistophore\n",
        "claque\n",
        "classique\n",
        "claude\n",
        "clephte\n",
        "clunip\u00e8de\n",
        "coca\n",
        "cocasse\n",
        "coche\n",
        "coco\n",
        "coenzyme\n",
        "cola\n",
        "collyre\n",
        "comestible\n",
        "complexe\n",
        "compound\n",
        "contrecarre\n",
        "contumace\n",
        "contumax\n",
        "copte\n",
        "coraco\u00efde\n",
        "cornette\n",
        "corydale\n",
        "corydalis\n",
        "cosm\u00e9tique\n",
        "cotyle\n",
        "coufique\n",
        "couple\n",
        "couque\n",
        "courbe\n",
        "crique\n",
        "cristallo\u00efde\n",
        "crucif\u00e8re\n",
        "cr\u00eape\n",
        "cucu\n",
        "cucul\n",
        "curie\n",
        "custode\n",
        "cyclo\u00efde\n",
        "cynoc\u00e9phale\n",
        "c\u00e2pre\n",
        "diachronique\n",
        "diagnostique\n",
        "diarrh\u00e9ique\n",
        "didactique\n",
        "didelphe\n",
        "dingo\n",
        "dioptre\n",
        "dio\u00efque\n",
        "dissyllabe\n",
        "dissyllabique\n",
        "di\u00e9t\u00e9tique\n",
        "doris\n",
        "drague\n",
        "drille\n",
        "drome\n",
        "dr\u00f4me\n",
        "d\u00e9ambulatoire\n",
        "d\u00e9capode\n",
        "d\u00e9clive\n",
        "d\u00e9cuple\n",
        "d\u00e9shonn\u00eate\n",
        "ectomorphe\n",
        "enseigne\n",
        "enzyme\n",
        "esbroufe\n",
        "esbrouffe\n",
        "escarpe\n",
        "escarre\n",
        "fade\n",
        "fantastique\n",
        "faune\n",
        "faux\n",
        "fixe\n",
        "flambe\n",
        "flasque\n",
        "florence\n",
        "foudre\n",
        "fourbe\n",
        "fouta\n",
        "foutah\n",
        "fraisia\n",
        "freesia\n",
        "funiculaire\n",
        "gaffe\n",
        "galactose\n",
        "galipe\n",
        "galle\n",
        "gamache\n",
        "garde\n",
        "gauche\n",
        "gave\n",
        "gazog\u00e8ne\n",
        "germanique\n",
        "geste\n",
        "gnomique\n",
        "gothique\n",
        "graphique\n",
        "greffe\n",
        "griffe\n",
        "grylle\n",
        "guinche\n",
        "g\u00eete\n",
        "halieutique\n",
        "harmonique\n",
        "hollande\n",
        "hom\u00e9otherme\n",
        "hymne\n",
        "hyphe\n",
        "hypocondre\n",
        "h\u00e9bertiste\n",
        "h\u00e9lico\u00efde\n",
        "ignifuge\n",
        "impossible\n",
        "interclasse\n",
        "interligne\n",
        "isotherme\n",
        "italiote\n",
        "jacket\n",
        "jacobite\n",
        "jacque\n",
        "jararaca\n",
        "jarre\n",
        "klephte\n",
        "kola\n",
        "lamellibranche\n",
        "lamellicorne\n",
        "landsturm\n",
        "laque\n",
        "leghorn\n",
        "lette\n",
        "leucite\n",
        "libyque\n",
        "limule\n",
        "lingue\n",
        "lino\n",
        "litt\u00e9raliste\n",
        "livre\n",
        "longane\n",
        "louche\n",
        "lucernaire\n",
        "lunaire\n",
        "l\u00e9vite\n",
        "maheutre\n",
        "maho\u00eetre\n",
        "maigre\n",
        "mainmortable\n",
        "malaise\n",
        "malvoisie\n",
        "manche\n",
        "mangle\n",
        "manille\n",
        "manoeuvre\n",
        "manse\n",
        "manucure\n",
        "marengo\n",
        "marine\n",
        "maroufle\n",
        "martyre\n",
        "masque\n",
        "matricide\n",
        "mauve\n",
        "maxi\n",
        "merci\n",
        "mestre\n",
        "mezzanine\n",
        "millefeuille\n",
        "mill\u00e9naire\n",
        "mimique\n",
        "mini\n",
        "mire\n",
        "mirepoix\n",
        "mn\u00e8me\n",
        "mode\n",
        "momordique\n",
        "monaco\n",
        "monadiste\n",
        "monoplace\n",
        "monopoliste\n",
        "monotype\n",
        "montreuil\n",
        "morne\n",
        "mort\n",
        "moucherolle\n",
        "moufle\n",
        "moule\n",
        "moussaka\n",
        "mousse\n",
        "mo\u00ef\n",
        "m\u00e9moire\n",
        "m\u00e9tabole\n",
        "m\u00f4le\n",
        "nasicorne\n",
        "nave\n",
        "naziste\n",
        "neume\n",
        "neutre\n",
        "nocturne\n",
        "nopol\u00e9onide\n",
        "n\u00f4tre\n",
        "obi\n",
        "ocre\n",
        "odonto\u00efde\n",
        "oestrone\n",
        "oeuvre\n",
        "office\n",
        "offset\n",
        "ombre\n",
        "omo\u00efde\n",
        "onagre\n",
        "oolithe\n",
        "orange\n",
        "orge\n",
        "osmaz\u00f4me\n",
        "page\n",
        "paillasse\n",
        "paisson\n",
        "palabre\n",
        "palme\n",
        "palpe\n",
        "pandore\n",
        "parall\u00e8le\n",
        "parjure\n",
        "parlementaire\n",
        "parricide\n",
        "passionnaire\n",
        "patarafe\n",
        "pataraphe\n",
        "pendule\n",
        "percale\n",
        "philhell\u00e8ne\n",
        "phlogistique\n",
        "phonolite\n",
        "phonolithe\n",
        "pilulaire\n",
        "pique\n",
        "plastique\n",
        "platine\n",
        "plume\n",
        "pl\u00e9ban\n",
        "pneumatique\n",
        "poisse\n",
        "ponte\n",
        "poste\n",
        "postiche\n",
        "pourpre\n",
        "po\u00eale\n",
        "psylle\n",
        "pupille\n",
        "pyrrhique\n",
        "p\u00e2ques\n",
        "p\u00e9riode\n",
        "quadrille\n",
        "quartette\n",
        "queux\n",
        "quintefeuille\n",
        "radiaire\n",
        "radio\n",
        "relaxe\n",
        "rel\u00e2che\n",
        "remarquable\n",
        "rhingrave\n",
        "ripuaire\n",
        "romanesque\n",
        "romaniste\n",
        "roma\u00efque\n",
        "ron\u00e9o\n",
        "rose\n",
        "roule\n",
        "rythmique\n",
        "r\u00e9ciproque\n",
        "r\u00e9flexe\n",
        "r\u00e9glisse\n",
        "sagittaire\n",
        "salicoside\n",
        "sandre\n",
        "sape\n",
        "sati\n",
        "satyre\n",
        "scalaire\n",
        "scolie\n",
        "scotiste\n",
        "scythe\n",
        "senorita\n",
        "septuple\n",
        "serpentaire\n",
        "sissonne\n",
        "solde\n",
        "somme\n",
        "souah\u00e9li\n",
        "stat\u00e8re\n",
        "superbe\n",
        "suspense\n",
        "swahili\n",
        "symbolique\n",
        "synopsis\n",
        "s\u00e2ti\n",
        "s\u00e9l\u00e9nite\n",
        "s\u00e9l\u00e9nit\u00e9\n",
        "s\u00e9mite\n",
        "tachine\n",
        "tanagra\n",
        "tarasque\n",
        "tartare\n",
        "tata\n",
        "teneur\n",
        "thermos\n",
        "titane\n",
        "ti\u00e8de\n",
        "tonique\n",
        "topique\n",
        "torque\n",
        "tour\n",
        "transat\n",
        "transatlantique\n",
        "transitaire\n",
        "treiziste\n",
        "triplo\u00efde\n",
        "troch\u00e9e\n",
        "trolle\n",
        "t\u00e9osophe\n",
        "ubiquitaire\n",
        "utriculaire\n",
        "vapeur\n",
        "varicoc\u00e8le\n",
        "vase\n",
        "vivre\n",
        "voile\n",
        "v\u00e9r\u00e9tille\n",
        "wateringue\n",
        "whig\n",
        "wyandotte\n",
        "zingara\n",
        "zingari\n",
        "zingaro\n",
        "zwanze\n",
        "z\u00e9olite\n",
        "z\u00e9olithe\n",
        "z\u00e9t\u00e9tique\n",
        "\u00e9carlate\n",
        "\u00e9changiste\n",
        "\u00e9cliptique\n",
        "\u00e9cologiste\n",
        "\u00e9conome\n",
        "\u00e9conomique\n",
        "\u00e9conomiste\n",
        "\u00e9ditorialiste\n",
        "\u00e9galitaire\n",
        "\u00e9galitariste\n",
        "\u00e9gotiste\n",
        "\u00e9go\u00efste\n",
        "\u00e9gyptiaque\n",
        "\u00e9gyptologue\n",
        "\u00e9l\u00e8ve\n",
        "\u00e9meraude\n",
        "\u00e9missaire\n",
        "\u00e9mule\n",
        "\u00e9m\u00e9tique\n",
        "\u00e9nergum\u00e8ne\n",
        "\u00e9pigraphiste\n",
        "\u00e9pileptique\n",
        "\u00e9pistolaire\n",
        "\u00e9pist\u00e9mologiste\n",
        "\u00e9pist\u00e9mologue\n",
        "\u00e9ponyme\n",
        "\u00e9quilibriste\n",
        "\u00e9ristique\n",
        "\u00e9rotomane\n",
        "\u00e9talagiste\n",
        "\u00e9thologiste\n",
        "\u00e9thologue\n",
        "\u00e9thylique\n",
        "\u00e9trusque\n",
        "\u00e9tymologiste\n",
        "\u00e9ventailliste\n",
        "\u00e9volutionniste\n"
       ]
      }
     ],
     "prompt_number": 41
    },
    {
     "cell_type": "raw",
     "metadata": {},
     "source": [
      "import random\n",
      "echantillon=random.sample(uniques,500)"
     ]
    },
    {
     "cell_type": "raw",
     "metadata": {},
     "source": [
      "for element in echantillon:\n",
      "    print element"
     ]
    },
    {
     "cell_type": "code",
     "collapsed": false,
     "input": [],
     "language": "python",
     "metadata": {},
     "outputs": []
    }
   ],
   "metadata": {}
  }
 ]
}