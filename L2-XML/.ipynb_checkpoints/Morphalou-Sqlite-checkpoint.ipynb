{
 "metadata": {
  "name": "",
  "signature": "sha256:6c721a48a62486a3a8bf3e96a64baf7d2ff11b09e9e4d2bfbc031a417bc5af72"
 },
 "nbformat": 3,
 "nbformat_minor": 0,
 "worksheets": [
  {
   "cells": [
    {
     "cell_type": "code",
     "collapsed": false,
     "input": [
      "debug=0"
     ],
     "language": "python",
     "metadata": {},
     "outputs": [],
     "prompt_number": 1
    },
    {
     "cell_type": "code",
     "collapsed": false,
     "input": [
      "import sqlite3"
     ],
     "language": "python",
     "metadata": {},
     "outputs": [],
     "prompt_number": 2
    },
    {
     "cell_type": "code",
     "collapsed": false,
     "input": [
      "repMorphalou='/Users/gilles/Dropbox/Travail/Recherche/BoBo/Tonton/morphalou/'\n",
      "fichierMorphalou=repMorphalou+'Morphalou-2.0.xml'"
     ],
     "language": "python",
     "metadata": {},
     "outputs": [],
     "prompt_number": 3
    },
    {
     "cell_type": "code",
     "collapsed": false,
     "input": [
      "%%time\n",
      "import xml.etree.ElementTree as etree\n",
      "data = etree.parse(fichierMorphalou)"
     ],
     "language": "python",
     "metadata": {},
     "outputs": [
      {
       "output_type": "stream",
       "stream": "stdout",
       "text": [
        "CPU times: user 39 s, sys: 4.46 s, total: 43.5 s\n",
        "Wall time: 44.5 s\n"
       ]
      }
     ],
     "prompt_number": 4
    },
    {
     "cell_type": "code",
     "collapsed": false,
     "input": [
      "root=data.getroot()"
     ],
     "language": "python",
     "metadata": {},
     "outputs": [],
     "prompt_number": 5
    },
    {
     "cell_type": "code",
     "collapsed": false,
     "input": [
      "fichierBase=repMorphalou+'Morphalou.sqlite'\n",
      "connexionBase=sqlite3.connect(fichierBase)\n",
      "curseur=connexionBase.cursor()"
     ],
     "language": "python",
     "metadata": {},
     "outputs": [],
     "prompt_number": 6
    },
    {
     "cell_type": "code",
     "collapsed": false,
     "input": [
      "%%time\n",
      "lexique={}\n",
      "lemmes={}\n",
      "# cases=[]\n",
      "for entry in root.iter('lexicalEntry'):\n",
      "    idEntry=entry.get(\"id\")\n",
      "    lemmatizedForm={}\n",
      "    lexicalFixed={}\n",
      "    for child in entry.find(\"formSet\").find(\"lemmatizedForm\").getchildren():\n",
      "        lemmatizedForm[child.tag]=child.text\n",
      "    lemmes[idEntry]=lemmatizedForm\n",
      "    lemmes[idEntry][\"origin\"]=entry.find(\"originatingEntry\").get(\"target\")+\" : \"+entry.find(\"originatingEntry\").text\n",
      "    lemme=lemmatizedForm[\"orthography\"]\n",
      "    categorie=lemmatizedForm[\"grammaticalCategory\"]\n",
      "    forme=idEntry\n",
      "    if not forme in lexique:\n",
      "        lexique[forme]=[]\n",
      "    for tag in [x for x in lemmatizedForm if x not in [\"orthography\",\"grammaticalCategory\"]]:\n",
      "        lexicalFixed[tag]=lemmatizedForm[tag]\n",
      "    for inflectedForm in entry.iter('inflectedForm'):\n",
      "        paradigme={}\n",
      "        for tag in lexicalFixed:\n",
      "            paradigme[tag]=lexicalFixed[tag]\n",
      "        for child in inflectedForm.getchildren():\n",
      "            paradigme[child.tag]=child.text\n",
      "        lexique[forme].append(paradigme)\n",
      "#        case=[(x,paradigme[x]) for x in paradigme if x!=\"orthography\"]\n",
      "#        if not case in cases:\n",
      "#            cases.append(case)\n"
     ],
     "language": "python",
     "metadata": {},
     "outputs": [
      {
       "output_type": "stream",
       "stream": "stdout",
       "text": [
        "CPU times: user 6.8 s, sys: 1.42 s, total: 8.22 s\n",
        "Wall time: 8.45 s\n"
       ]
      }
     ],
     "prompt_number": 16
    },
    {
     "cell_type": "code",
     "collapsed": false,
     "input": [
      "reqAddCell=(\n",
      "            'insert or ignore into Cells (gender, number, mood, tense, person) '\n",
      "            'values (%s) '\n",
      "            )"
     ],
     "language": "python",
     "metadata": {},
     "outputs": []
    },
    {
     "cell_type": "code",
     "collapsed": false,
     "input": [
      "requete=reqAddCell%'\"masculine\",\"singular\",\"\",\"\",\"\"'\n",
      "requete"
     ],
     "language": "python",
     "metadata": {},
     "outputs": []
    },
    {
     "cell_type": "code",
     "collapsed": false,
     "input": [
      "resultat=curseur.execute(requete)"
     ],
     "language": "python",
     "metadata": {},
     "outputs": []
    },
    {
     "cell_type": "code",
     "collapsed": false,
     "input": [
      "listAttributs=[\"grammaticalGender\",\n",
      "            \"grammaticalNumber\",\n",
      "            \"grammaticalMood\",\n",
      "            \"grammaticalTense\",\n",
      "            \"grammaticalPerson\",\n",
      "]\n",
      "dictAttributs={}\n",
      "for attribut in listAttributs:\n",
      "    dictAttributs[attribut]='\"\"'"
     ],
     "language": "python",
     "metadata": {},
     "outputs": [],
     "prompt_number": 11
    },
    {
     "cell_type": "code",
     "collapsed": false,
     "input": [
      "for case in cases:\n",
      "    attributs=dict(dictAttributs)\n",
      "    for element in case:\n",
      "        attributs[element[0]]='\"'+element[1]+'\"'\n",
      "    valeurs=\",\".join([attributs[x] for x in listAttributs])\n",
      "    requete=reqAddCell%valeurs\n",
      "    resultat=curseur.execute(requete)"
     ],
     "language": "python",
     "metadata": {},
     "outputs": []
    },
    {
     "cell_type": "code",
     "collapsed": false,
     "input": [
      "reqAddForm=(\n",
      "            'insert or ignore into Forms (orthographe) '\n",
      "            'values (%s) '\n",
      "            )\n",
      "requete=reqAddForm%('\"'+lexique[forme][0]['orthography']+'\"')\n",
      "requete"
     ],
     "language": "python",
     "metadata": {},
     "outputs": [
      {
       "metadata": {},
       "output_type": "pyout",
       "prompt_number": 62,
       "text": [
        "'insert or ignore into Forms (orthographe) values (\"mouleur\") '"
       ]
      }
     ],
     "prompt_number": 62
    },
    {
     "cell_type": "code",
     "collapsed": false,
     "input": [
      "for forme in lexique:\n",
      "    if lexique[forme]:\n",
      "        for element in lexique[forme]:\n",
      "            if element['orthography']:\n",
      "                requete=reqAddForm%('\"'+element['orthography']+'\"')\n",
      "                resultat=curseur.execute(requete)"
     ],
     "language": "python",
     "metadata": {},
     "outputs": [
      {
       "output_type": "stream",
       "stream": "stdout",
       "text": [
        "element dissoudre-verb {'orthography': None, 'grammaticalNumber': 'singular', 'grammaticalGender': 'feminine', 'grammaticalMood': 'participle', 'grammaticalTense': 'past'}\n"
       ]
      }
     ],
     "prompt_number": 70
    },
    {
     "cell_type": "code",
     "collapsed": false,
     "input": [
      "reqNumForme=(\n",
      "            'select forme '\n",
      "            'from Forms '\n",
      "            'where orthographe=\"%s\" '\n",
      "            )\n",
      "reqNumCell=(\n",
      "            'select cell '\n",
      "            'from Cells '\n",
      "            'where mood=:grammaticalMood and tense=:grammaticalTense and person=:grammaticalPerson ' \n",
      "            'and gender=:grammaticalGender and number=:grammaticalNumber '\n",
      "            )\n"
     ],
     "language": "python",
     "metadata": {},
     "outputs": [],
     "prompt_number": 9
    },
    {
     "cell_type": "code",
     "collapsed": false,
     "input": [
      "%%time\n",
      "formSet={}\n",
      "for lemme in lexique:\n",
      "    formSet[lemme]=[]\n",
      "    for element in lexique[lemme]:\n",
      "        if element['orthography']:\n",
      "#            print element\n",
      "            requete=reqNumForme%element['orthography']\n",
      "            curseur.execute(requete)\n",
      "            resultats=curseur.fetchone()\n",
      "#            print resultats\n",
      "            if resultats:\n",
      "                numForme=resultats[0]\n",
      "            for attribut in listAttributs:\n",
      "                if not attribut in element:\n",
      "                    element[attribut]=\"\"\n",
      "            curseur.execute(reqNumCell,element)\n",
      "            numCase=curseur.fetchone()[0]\n",
      "#            print element['orthography'], numForme,numCase\n",
      "            formSet[lemme].append((numForme,numCase))"
     ],
     "language": "python",
     "metadata": {},
     "outputs": [
      {
       "output_type": "stream",
       "stream": "stdout",
       "text": [
        "CPU times: user 21.6 s, sys: 13.6 s, total: 35.2 s\n",
        "Wall time: 36.2 s\n"
       ]
      }
     ],
     "prompt_number": 17
    },
    {
     "cell_type": "code",
     "collapsed": false,
     "input": [
      "listEntry=[ \"lexicalEntry\",\n",
      "            \"grammaticalGender\",\n",
      "            \"grammaticalCategory\",\n",
      "            \"cle\",\n",
      "            \"origin\"\n",
      "          ]\n",
      "\n",
      "reqAddEntry=(\n",
      "            'insert or ignore into Entries '\n",
      "            '(lexicalEntry,lemma,category,gender,formSet,origin) '\n",
      "            'values ('\n",
      "            ':lexicalEntry,:orthography,:grammaticalCategory,:grammaticalGender,'\n",
      "            ':cle,:origin) '\n",
      "            )\n",
      "\n",
      "reqAddFormSet=(\n",
      "            'insert or ignore into FormsSet '\n",
      "            '(formSet,form,cell) '\n",
      "            'values (:formSet,:form,:cell) '\n",
      "            )\n"
     ],
     "language": "python",
     "metadata": {},
     "outputs": [],
     "prompt_number": 36
    },
    {
     "cell_type": "code",
     "collapsed": false,
     "input": [
      "compteur=0\n",
      "bas=10\n",
      "haut=100\n",
      "for forme in formSet:\n",
      "#    if bas<compteur and compteur<haut and formSet[forme]:\n",
      "    if formSet[forme]:\n",
      "#        print forme, sorted(formSet[forme],key=lambda x: x[1])\n",
      "        cles=[]\n",
      "        for element in sorted(formSet[forme],key=lambda x: x[1]):\n",
      "            cles.append(str(element[0])+\":\"+str(element[1]))\n",
      "        cle=\"-\".join(cles)\n",
      "#        print forme,cle, str(hash(cle))\n",
      "        for element in listEntry:\n",
      "            if not element in lemmes[forme]:\n",
      "                lemmes[forme][element]=\"\"\n",
      "        lemmes[forme]['cle']=str(hash(cle))\n",
      "        lemmes[forme]['lexicalEntry']=forme\n",
      "        curseur.execute(reqAddEntry,lemmes[forme])\n",
      "        for element in formSet[forme]:\n",
      "            fs={}\n",
      "            fs[\"formSet\"]=lemmes[forme]['cle']\n",
      "            fs[\"form\"]=element[0]\n",
      "            fs[\"cell\"]=element[1]\n",
      "#            print forme,fs\n",
      "            curseur.execute(reqAddFormSet,fs)\n",
      "#        print\n",
      "    compteur+=1"
     ],
     "language": "python",
     "metadata": {},
     "outputs": [],
     "prompt_number": 42
    },
    {
     "cell_type": "code",
     "collapsed": false,
     "input": [
      "connexionBase.commit()"
     ],
     "language": "python",
     "metadata": {},
     "outputs": [],
     "prompt_number": 43
    },
    {
     "cell_type": "code",
     "collapsed": false,
     "input": [],
     "language": "python",
     "metadata": {},
     "outputs": []
    }
   ],
   "metadata": {}
  }
 ]
}