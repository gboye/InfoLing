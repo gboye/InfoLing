{
 "cells": [
  {
   "cell_type": "code",
   "execution_count": 1,
   "metadata": {
    "collapsed": true
   },
   "outputs": [],
   "source": [
    "from IPython.core.display import HTML,display\n",
    "from lxml import etree\n",
    "from lxml.html.builder import E"
   ]
  },
  {
   "cell_type": "code",
   "execution_count": 51,
   "metadata": {
    "collapsed": false
   },
   "outputs": [],
   "source": [
    "personnes=[str(i+1)+\"S\" for i in range(3)]+[str(i+1)+\"P\" for i in range(3)]\n",
    "colonnesFinies=[E.th(E.text(\"temps\\pers\"))]+[E.th(E.text(per)) for per in personnes]\n",
    "temps=[u\"ind.prés\", u\"ind.imparf\", u\"ind.passé\",u\"ind.futur\"]+[u\"subj.prés\", u\"subj.imparf\"]+[u\"cond.prés\", u\"impér.prés\"]\n",
    "lignesFinies=[[E.td(E.text(t)),E.td(),E.td(),E.td(),E.td(),E.td(),E.td()] for t in temps]"
   ]
  },
  {
   "cell_type": "code",
   "execution_count": 52,
   "metadata": {
    "collapsed": false
   },
   "outputs": [
    {
     "data": {
      "text/html": [
       "<table/>\n"
      ],
      "text/plain": [
       "<IPython.core.display.HTML object>"
      ]
     },
     "execution_count": 52,
     "metadata": {},
     "output_type": "execute_result"
    }
   ],
   "source": [
    "tableau=E.table()\n",
    "HTML(etree.tostring(tableau,pretty_print=True))"
   ]
  },
  {
   "cell_type": "code",
   "execution_count": 53,
   "metadata": {
    "collapsed": false
   },
   "outputs": [
    {
     "data": {
      "text/html": [
       "<table>\n",
       "  <tr>\n",
       "    <th>\n",
       "      <text>temps\\pers</text>\n",
       "    </th>\n",
       "    <th>\n",
       "      <text>1S</text>\n",
       "    </th>\n",
       "    <th>\n",
       "      <text>2S</text>\n",
       "    </th>\n",
       "    <th>\n",
       "      <text>3S</text>\n",
       "    </th>\n",
       "    <th>\n",
       "      <text>1P</text>\n",
       "    </th>\n",
       "    <th>\n",
       "      <text>2P</text>\n",
       "    </th>\n",
       "    <th>\n",
       "      <text>3P</text>\n",
       "    </th>\n",
       "  </tr>\n",
       "  <tr>\n",
       "    <td>\n",
       "      <text>ind.pr&#233;s</text>\n",
       "    </td>\n",
       "    <td/>\n",
       "    <td/>\n",
       "    <td/>\n",
       "    <td/>\n",
       "    <td/>\n",
       "    <td/>\n",
       "  </tr>\n",
       "  <tr>\n",
       "    <td>\n",
       "      <text>ind.imparf</text>\n",
       "    </td>\n",
       "    <td/>\n",
       "    <td/>\n",
       "    <td/>\n",
       "    <td/>\n",
       "    <td/>\n",
       "    <td/>\n",
       "  </tr>\n",
       "  <tr>\n",
       "    <td>\n",
       "      <text>ind.pass&#233;</text>\n",
       "    </td>\n",
       "    <td/>\n",
       "    <td/>\n",
       "    <td/>\n",
       "    <td/>\n",
       "    <td/>\n",
       "    <td/>\n",
       "  </tr>\n",
       "  <tr>\n",
       "    <td>\n",
       "      <text>ind.futur</text>\n",
       "    </td>\n",
       "    <td/>\n",
       "    <td/>\n",
       "    <td/>\n",
       "    <td/>\n",
       "    <td/>\n",
       "    <td/>\n",
       "  </tr>\n",
       "  <tr>\n",
       "    <td>\n",
       "      <text>subj.pr&#233;s</text>\n",
       "    </td>\n",
       "    <td/>\n",
       "    <td/>\n",
       "    <td/>\n",
       "    <td/>\n",
       "    <td/>\n",
       "    <td/>\n",
       "  </tr>\n",
       "  <tr>\n",
       "    <td>\n",
       "      <text>subj.imparf</text>\n",
       "    </td>\n",
       "    <td/>\n",
       "    <td/>\n",
       "    <td/>\n",
       "    <td/>\n",
       "    <td/>\n",
       "    <td/>\n",
       "  </tr>\n",
       "  <tr>\n",
       "    <td>\n",
       "      <text>cond.pr&#233;s</text>\n",
       "    </td>\n",
       "    <td/>\n",
       "    <td/>\n",
       "    <td/>\n",
       "    <td/>\n",
       "    <td/>\n",
       "    <td/>\n",
       "  </tr>\n",
       "  <tr>\n",
       "    <td>\n",
       "      <text>imp&#233;r.pr&#233;s</text>\n",
       "    </td>\n",
       "    <td/>\n",
       "    <td/>\n",
       "    <td/>\n",
       "    <td/>\n",
       "    <td/>\n",
       "    <td/>\n",
       "  </tr>\n",
       "</table>\n"
      ],
      "text/plain": [
       "<IPython.core.display.HTML object>"
      ]
     },
     "execution_count": 53,
     "metadata": {},
     "output_type": "execute_result"
    }
   ],
   "source": [
    "titres=E.tr()\n",
    "for element in colonnesFinies:\n",
    "    titres.append(element)\n",
    "tableau.append(titres)\n",
    "for ligne in lignesFinies:\n",
    "    rang=E.tr()\n",
    "    for element in ligne:\n",
    "        rang.append(element)\n",
    "    tableau.append(rang)\n",
    "HTML(etree.tostring(tableau,pretty_print=True))"
   ]
  },
  {
   "cell_type": "code",
   "execution_count": 55,
   "metadata": {
    "collapsed": false
   },
   "outputs": [
    {
     "ename": "SyntaxError",
     "evalue": "invalid syntax (<ipython-input-55-9997d4bb207a>, line 21)",
     "output_type": "error",
     "traceback": [
      "\u001b[0;36m  File \u001b[0;32m\"<ipython-input-55-9997d4bb207a>\"\u001b[0;36m, line \u001b[0;32m21\u001b[0m\n\u001b[0;31m    print(\"erreur case\",element,file=logfile)\u001b[0m\n\u001b[0m                                    ^\u001b[0m\n\u001b[0;31mSyntaxError\u001b[0m\u001b[0;31m:\u001b[0m invalid syntax\n"
     ]
    }
   ],
   "source": [
    "class tableauParadigme:\n",
    "    '''\n",
    "    Gestion des tableaux de flexion\n",
    "    '''\n",
    "\n",
    "    def __init__(self,lexeme):\n",
    "        self.lexeme=lexeme\n",
    "        self.paradigme={}\n",
    "\n",
    "    def ajouterElement(self,element):\n",
    "        (lexeme,forme,taminfo)=element.split(\"-\")\n",
    "        if self.lexeme==lexeme:\n",
    "            if len(taminfo)==4:\n",
    "                (tense,mode,pers,num)=taminfo\n",
    "            elif taminfo==\"inf\":\n",
    "                (tense,mode,pers,num)=(\"\",taminfo,\"\",\"\")\n",
    "                \n",
    "            elif taminfo==\"pP\":\n",
    "                (tense,mode,pers,num)=(\"p\",\"part\",\"\",\"\")\n",
    "            else:\n",
    "                print(\"erreur case\",element,file=logfile)\n",
    "            if not mode in self.paradigme:\n",
    "                self.paradigme[mode]={}\n",
    "            if not tense in self.paradigme[mode]:\n",
    "                self.paradigme[mode][tense]={}\n",
    "            if not pers+num in self.paradigme[mode][tense]:\n",
    "                self.paradigme[mode][tense][pers+num]=[]\n",
    "            self.paradigme[mode][tense][pers+num].append(forme)\n",
    "            \n",
    "      "
   ]
  },
  {
   "cell_type": "code",
   "execution_count": null,
   "metadata": {
    "collapsed": true
   },
   "outputs": [],
   "source": []
  }
 ],
 "metadata": {
  "kernelspec": {
   "display_name": "Python 2",
   "language": "python",
   "name": "python2"
  },
  "language_info": {
   "codemirror_mode": {
    "name": "ipython",
    "version": 2
   },
   "file_extension": ".py",
   "mimetype": "text/x-python",
   "name": "python",
   "nbconvert_exporter": "python",
   "pygments_lexer": "ipython2",
   "version": "2.7.10"
  }
 },
 "nbformat": 4,
 "nbformat_minor": 0
}
