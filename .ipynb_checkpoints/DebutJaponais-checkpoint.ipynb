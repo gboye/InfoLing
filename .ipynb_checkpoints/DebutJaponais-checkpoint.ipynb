{
 "cells": [
  {
   "cell_type": "code",
   "execution_count": 27,
   "metadata": {
    "collapsed": true
   },
   "outputs": [],
   "source": [
    "import codecs"
   ]
  },
  {
   "cell_type": "code",
   "execution_count": 28,
   "metadata": {
    "collapsed": false
   },
   "outputs": [],
   "source": [
    "fExercice=\"Japonais.txt\"\n",
    "base=codecs.open(fExercice,\"r\", 'utf8')"
   ]
  },
  {
   "cell_type": "code",
   "execution_count": 29,
   "metadata": {
    "collapsed": false
   },
   "outputs": [
    {
     "name": "stdout",
     "output_type": "stream",
     "text": [
      "bonne réponse blabla\n",
      "bonne réponse toto\n",
      "mauvaise réponse titi\n",
      "mauvaise réponse tutu\n",
      "\n",
      "bonne réponse blabla\n",
      "bonne réponse toto\n",
      "mauvaise réponse bobo\n",
      "mauvaise réponse bubu\n"
     ]
    }
   ],
   "source": [
    "consigneLignes=[]\n",
    "exercices=False\n",
    "for ligne in base:\n",
    "    if \"===\" in ligne:\n",
    "        exercices=True\n",
    "    else:\n",
    "        if exercices:\n",
    "            (kanji,choix)= ligne.split(\":\")\n",
    "            reponses=choix.split(\",\")\n",
    "            for element in reponses:\n",
    "                if element.startswith(\"=\"):\n",
    "                    print \"bonne réponse\", element[1:]\n",
    "                else:\n",
    "                    print \"mauvaise réponse\", element\n",
    "        else:\n",
    "            consigneLignes.append(ligne)"
   ]
  },
  {
   "cell_type": "code",
   "execution_count": 31,
   "metadata": {
    "collapsed": false
   },
   "outputs": [
    {
     "name": "stdout",
     "output_type": "stream",
     "text": [
      "Consigne en texte.\n",
      "\n",
      "丕\n"
     ]
    }
   ],
   "source": [
    "for ligne in consigneLignes:\n",
    "    print ligne\n",
    "print kanji"
   ]
  }
 ],
 "metadata": {
  "kernelspec": {
   "display_name": "Python 2",
   "language": "python",
   "name": "python2"
  },
  "language_info": {
   "codemirror_mode": {
    "name": "ipython",
    "version": 2
   },
   "file_extension": ".py",
   "mimetype": "text/x-python",
   "name": "python",
   "nbconvert_exporter": "python",
   "pygments_lexer": "ipython2",
   "version": "2.7.9"
  }
 },
 "nbformat": 4,
 "nbformat_minor": 0
}
