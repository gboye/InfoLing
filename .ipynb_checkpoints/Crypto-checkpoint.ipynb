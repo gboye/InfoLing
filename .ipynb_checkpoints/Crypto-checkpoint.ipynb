{
 "cells": [
  {
   "cell_type": "code",
   "execution_count": 135,
   "metadata": {
    "collapsed": false
   },
   "outputs": [],
   "source": [
    "puzzleOriginal=u\"m.eɪ s.ɜ.k ð.ʤ.t w.oʊ u.ʤ.s.p; u.p w.f.ɔ.s.f.n.ɔ t.ɪ z.æ.t.ə i.ɛ.k m.eɪ h.æ.k.ɔ\"\n",
    "puzzleMots=puzzleOriginal.split(\" \")\n",
    "puzzleSons=[]\n",
    "puzzleSetSons=set()\n",
    "for mot in puzzleMots:\n",
    "    sons=mot.split('.')\n",
    "    puzzleSons.extend(sons+[\" \"])\n",
    "    puzzleSetSons=puzzleSetSons.union(set(sons))\n",
    "#puzzleSetSons  "
   ]
  },
  {
   "cell_type": "code",
   "execution_count": 145,
   "metadata": {
    "collapsed": false
   },
   "outputs": [],
   "source": [
    "def noterSon(symbole,son):\n",
    "    trouves[symbole]=son\n",
    "    del restants[symbole]\n",
    "#    cle[son]=symbole"
   ]
  },
  {
   "cell_type": "code",
   "execution_count": 155,
   "metadata": {
    "collapsed": false
   },
   "outputs": [],
   "source": [
    "def substituerCle():\n",
    "    for son in puzzleSons:\n",
    "        son=son.strip(\",;:?!\")\n",
    "        if son in trouves:\n",
    "            print trouves[son],\n",
    "        else:\n",
    "            print \"(%s)\"%restants[son],\n",
    "    print\n",
    "    print puzzleOriginal"
   ]
  },
  {
   "cell_type": "code",
   "execution_count": 156,
   "metadata": {
    "collapsed": false
   },
   "outputs": [
    {
     "name": "stdout",
     "output_type": "stream",
     "text": [
      "ð ə ( ) p u ə ( ) m æ n ( ) ɪ z ( ) h æ p i ( ) h i ( ) ɪ k s p k t s ( ) n ɔ ( ) (z) (æ) n (ə) ( ) (i) (ɛ) ə ( ) ð ə ( ) (h) (æ) ə s ( )\n",
      "m.eɪ s.ɜ.k ð.ʤ.t w.oʊ u.ʤ.s.p; u.p w.f.ɔ.s.f.n.ɔ t.ɪ z.æ.t.ə i.ɛ.k m.eɪ h.æ.k.ɔ\n"
     ]
    }
   ],
   "source": [
    "restants={son.strip(\",;:?!\"):son.strip(\",;:?!\") for son in puzzleSetSons|set(\" \")}\n",
    "#print restants\n",
    "trouves={}\n",
    "\n",
    "noterSon(\"m\",u\"ð\")\n",
    "noterSon(u\"eɪ\",u\"ə\")\n",
    "noterSon(u\"ʤ\",u\"æ\")\n",
    "noterSon(u\"p\",u\"i\")\n",
    "noterSon(u\"f\",u\"k\")\n",
    "noterSon(u\"oʊ\",u\"z\")\n",
    "noterSon(u\"w\",u\"ɪ\")\n",
    "noterSon(u\"u\",u\"h\")\n",
    "noterSon(u\"ɪ\",u\"ɔ\")\n",
    "noterSon(u\"ɔ\",u\"s\")\n",
    "noterSon(u\"s\",u\"p\")\n",
    "noterSon(u\"ð\",u\"m\")\n",
    "noterSon(u\"n\",u\"t\")\n",
    "noterSon(u\"t\",u\"n\")\n",
    "noterSon(u\"ɜ\",u\"u\")\n",
    "noterSon(u\"k\",u\"ə\") \n",
    "\n",
    "'''\n",
    "noterSon(u\"ə\",u\"f\") \n",
    "noterSon(u\"ɛ\",u\"w\") \n",
    "noterSon(u\"h\",u\"eɪ\") \n",
    "noterSon(u\"z\",u\"ʤ\") \n",
    "noterSon(u\"i\",u\"ɛ\") \n",
    "noterSon(u\"æ\",u\"u\")\n",
    "'''\n",
    "substituerCle()"
   ]
  },
  {
   "cell_type": "code",
   "execution_count": 153,
   "metadata": {
    "collapsed": false
   },
   "outputs": [
    {
     "name": "stdout",
     "output_type": "stream",
     "text": [
      "   \n",
      "ə ə\n",
      "ɛ ɛ\n",
      "i i\n",
      "h h\n",
      "æ æ\n",
      "z z\n"
     ]
    }
   ],
   "source": [
    "for restant in restants:\n",
    "    print restant, restants[restant]"
   ]
  },
  {
   "cell_type": "code",
   "execution_count": 142,
   "metadata": {
    "collapsed": false
   },
   "outputs": [
    {
     "name": "stdout",
     "output_type": "stream",
     "text": [
      "æ\n"
     ]
    }
   ],
   "source": [
    "print u'\\xe6'"
   ]
  },
  {
   "cell_type": "code",
   "execution_count": null,
   "metadata": {
    "collapsed": true
   },
   "outputs": [],
   "source": []
  }
 ],
 "metadata": {
  "kernelspec": {
   "display_name": "Python 2",
   "language": "python",
   "name": "python2"
  },
  "language_info": {
   "codemirror_mode": {
    "name": "ipython",
    "version": 2
   },
   "file_extension": ".py",
   "mimetype": "text/x-python",
   "name": "python",
   "nbconvert_exporter": "python",
   "pygments_lexer": "ipython2",
   "version": "2.7.10"
  }
 },
 "nbformat": 4,
 "nbformat_minor": 0
}
