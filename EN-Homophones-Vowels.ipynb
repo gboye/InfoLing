{
 "cells": [
  {
   "cell_type": "code",
   "execution_count": 8,
   "metadata": {
    "collapsed": false
   },
   "outputs": [],
   "source": [
    "import re\n",
    "import sys\n",
    "import codecs"
   ]
  },
  {
   "cell_type": "code",
   "execution_count": 9,
   "metadata": {
    "collapsed": false
   },
   "outputs": [],
   "source": [
    "#f=codecs.open(sys.argv[1],\"r\", 'latin1')\n",
    "f=codecs.open(\"cmudict-ELPfiltered.csv\",\"r\", 'utf8')"
   ]
  },
  {
   "cell_type": "code",
   "execution_count": 10,
   "metadata": {
    "collapsed": false
   },
   "outputs": [],
   "source": [
    "vowels=[\"AA\",\"AA0\",\"AA1\",\"AA2\",\"AE\",\"AE0\",\"AE1\",\n",
    "\"AE2\",\"AH\",\"AH0\",\"AH1\",\"AH2\",\"AO\",\"AO0\",\"AO1\",\"AO2\",\n",
    "\"AW\",\"AW0\",\"AW1\",\"AW2\",\"AY\",\"AY0\",\"AY1\",\"AY2\",\"EH\",\"EH0\",\n",
    "\"EH1\",\"EH2\",\"ER\",\"ER0\",\"ER1\",\"ER2\",\"EY\",\"EY0\",\"EY1\",\"EY2\",\n",
    "\"IH\",\"IH0\",\"IH1\",\"IH2\",\"IY\",\"IY0\",\"IY1\",\"IY2\",\"OW\",\"OW0\",\n",
    "\"OW1\",\"OW2\",\"OY\",\"OY0\",\"OY1\",\"OY2\",\"UH\",\"UH0\",\"UH1\",\n",
    "\"UH2\",\"UW\",\"UW0\",\"UW1\",\"UW2\"]\n",
    "#should i be creating a dico instead?\n",
    "consonnes=[\"B\",\"CH\",\"D\",\"DH\",\"F\",\"G\",\"HH\",\"JH\",\"K\",\"L\",\n",
    "\"M\",\"N\",\"NG\",\"P\",\"R\",\"S\",\"SH\",\"T\",\"TH\",\"V\",\"W\",\"Y\",\"Z\",\"ZH\"]\n",
    "graphicalVowels=[letter for letter in \"AEIOUY\"]\n",
    "graphicalConsonants=[letter for letter in \"BCDFGHJKLMNPQRSTVWXZ\"]\n"
   ]
  },
  {
   "cell_type": "code",
   "execution_count": 11,
   "metadata": {
    "collapsed": false
   },
   "outputs": [],
   "source": [
    "dictionary={}\n",
    "for line in f:\n",
    "    if \";;;\" not in line: #delete header\n",
    "        entry=line.split(\"  \")#every entry contains 2 spaces\n",
    "        word=entry[0] #word is in first column\n",
    "        syllabe=entry[1] #beginning of phonetic string in 2nd column\n",
    "        if syllabe in dictionary:\n",
    "            dictionary[syllabe].append(word)\n",
    "        else:\n",
    "            dictionary[syllabe]=[word]"
   ]
  },
  {
   "cell_type": "code",
   "execution_count": 28,
   "metadata": {
    "collapsed": false
   },
   "outputs": [],
   "source": [
    "spellingDict={}"
   ]
  },
  {
   "cell_type": "code",
   "execution_count": 34,
   "metadata": {
    "collapsed": false,
    "scrolled": true
   },
   "outputs": [
    {
     "name": "stdout",
     "output_type": "stream",
     "text": [
      "[u'V', u'AO1', u'L', u'T', u'S'] [u'VAULTS']\n",
      "[u'HH', u'AE1', u'K', u'S', u'AO2'] [u'HACKSAW']\n",
      "[u'K', u'AE1', u'K', u'T', u'AY0'] [u'CACTI']\n",
      "[u'K', u'L', u'AY1', u'AH0', u'N', u'T', u'S'] [u\"CLIENT'S\", u'CLIENTS']\n",
      "[u'AE2', u'B', u'ER0', u'IH1', u'JH', u'AH0', u'N', u'IY0', u'Z'] [u'ABORIGINES']\n",
      "[u'B', u'OY1', u'HH', u'UH2', u'D'] [u'BOYHOOD']\n",
      "[u'P', u'R', u'EH0', u'M', u'AH0', u'N', u'IH1', u'SH', u'AH0', u'N'] [u'PREMONITION']\n",
      "[u'R', u'IH1', u'JH', u'AH0', u'Z'] [u'RIDGES']\n",
      "[u'IH2', u'N', u'S', u'T', u'R', u'AH1', u'K', u'T', u'S'] [u'INSTRUCTS']\n",
      "[u'AW1', u'T', u'G', u'R', u'OW2', u'IH0', u'NG'] [u'OUTGROWING']\n",
      "[u'G', u'EY1', u'JH', u'IH0', u'NG'] [u'GAUGING']\n",
      "[u'D', u'IH0', u'T', u'EH1', u'K', u'T', u'IH0', u'V'] [u'DETECTIVE']\n",
      "[u'T', u'IH1', u'D', u'B', u'IH0', u'T', u'S'] [u'TIDBITS']\n",
      "[u'AH0', u'L', u'AY1', u'N', u'M', u'AH0', u'N', u'T', u'S'] [u'ALIGNMENTS']\n",
      "[u'HH', u'AE1', u'NG', u'K', u'ER0', u'CH', u'IH0', u'F'] [u'HANDKERCHIEF']\n",
      "[u'D', u'EH1', u'N', u'IH0', u'G', u'R', u'EY2', u'T', u'IH0', u'D'] [u'DENIGRATED']\n",
      "[u'B', u'AH1', u'K', u'IH0', u'NG'] [u'BUCKING']\n",
      "[u'G', u'R', u'AW1', u'N', u'D', u'Z'] [u'GROUNDS']\n",
      "[u'R', u'IY1', u'CH', u'IH0', u'NG'] [u'REACHING']\n",
      "[u'G', u'EY1', u'Z', u'IH0', u'NG'] [u'GAZING']\n",
      "[u'L', u'AH0', u'JH', u'IH1', u'T', u'AH0', u'M', u'AH0', u'S', u'IY0'] [u'LEGITIMACY']\n",
      "[u'R', u'AE1', u'T', u'AH0', u'F', u'AY2', u'D'] [u'RATIFIED']\n",
      "[u'L', u'UW1', u'S'] [u'LOOSE']\n",
      "[u'IH2', u'N', u'AH0', u'D', u'M', u'IH1', u'S', u'AH0', u'B', u'AH0', u'L'] [u'INADMISSIBLE']\n",
      "[u'L', u'IH2', u'B', u'ER2', u'T', u'EH1', u'R', u'IY2', u'AH0', u'N'] [u'LIBERTARIAN']\n"
     ]
    }
   ],
   "source": [
    "for el in list(dictionary.items())[:25]:\n",
    "    syllable=el[0].split()\n",
    "    words=el[1]\n",
    "    print syllable, words\n",
    "    phoneticVowels=re.match(\"((B|CH|D|DH|F|G|HH|JH|K|L|M|N|NG|P|R|S|SH|T|TH|V|W|Y|Z|ZH) )*(AA|AA0|AA1|AA2|AE|AE0|AE1|AE2|AH|AH0|AH1|AH2|AO|AO0|AO1|AO2|AW|AW0|AW1|AW2|AY|AY0|AY1|AY2|EH|EH0|EH1|EH2|ER|ER0|ER1|ER2|EY|EY0|EY1|EY2|IH|IH0|IH1|IH2|IY|IY0|IY1|IY2|OW|OW0|OW1|OW2|OY|OY0|OY1|OY2|UH|UH0|UH1|UH2|UW|UW0|UW1|UW2) (?!(AA|AA0|AA1|AA2|AE|AE0|AE1|AE2|AH|AH0|AH1|AH2|AO|AO0|AO1|AO2|AW|AW0|AW1|AW2|AY|AY0|AY1|AY2|EH|EH0|EH1|EH2|ER|ER0|ER1|ER2|EY|EY0|EY1|EY2|IH|IH0|IH1|IH2|IY|IY0|IY1|IY2|OW|OW0|OW1|OW2|OY|OY0|OY1|OY2|UH|UH0|UH1|UH2|UW|UW0|UW1|UW2))\",el[0])\n",
    "    if phoneticVowels:\n",
    "        vowel=phoneticVowels.group(3)\n",
    "#        print vowel\n",
    "        for word in words:\n",
    "            graphicVowels=re.match(\"[BCDFGHJKLMNPQRSTVWXZ]*([AEIOUY]+)([BCDFGHJKLMNPQRSTVWXZ].*|)\",word)\n",
    "            if graphicVowels:\n",
    "                vowels=graphicVowels.group(1)\n",
    "                if vowel in spellingDict:\n",
    "                    spellingDict[vowel].add(vowels)\n",
    "                else:\n",
    "                    spellingDict[vowel]=set(vowels)"
   ]
  },
  {
   "cell_type": "code",
   "execution_count": 32,
   "metadata": {
    "collapsed": false,
    "scrolled": true
   },
   "outputs": [
    {
     "data": {
      "text/plain": [
       "{u'AA0': {u'A', u'AU', u'E', u'O', u'OI', u'UA'},\n",
       " u'AA1': {u'A',\n",
       "  u'AA',\n",
       "  u'AU',\n",
       "  u'E',\n",
       "  u'EA',\n",
       "  u'I',\n",
       "  u'O',\n",
       "  u'OI',\n",
       "  u'OU',\n",
       "  u'UA',\n",
       "  u'YA',\n",
       "  u'YO'},\n",
       " u'AA2': {u'A', u'AU', u'E', u'I', u'O', u'OI', u'UA'},\n",
       " u'AE0': {u'A', u'UA'},\n",
       " u'AE1': {u'A', u'AI', u'AU', u'UA', u'YA'},\n",
       " u'AE2': {u'A'},\n",
       " u'AH0': {u'A', u'AU', u'E', u'I', u'O', u'OE', u'U', u'UE', u'Y'},\n",
       " u'AH1': {u'A', u'O', u'OE', u'OO', u'OU', u'U', u'YOU', u'YU'},\n",
       " u'AH2': {u'A', u'O', u'U'},\n",
       " u'AO0': {u'A', u'AU', u'EO', u'O', u'UA'},\n",
       " u'AO1': {u'A',\n",
       "  u'AU',\n",
       "  u'EA',\n",
       "  u'EO',\n",
       "  u'O',\n",
       "  u'OA',\n",
       "  u'OE',\n",
       "  u'OO',\n",
       "  u'OU',\n",
       "  u'U',\n",
       "  u'UA',\n",
       "  u'UO',\n",
       "  u'YA',\n",
       "  u'YO',\n",
       "  u'YOU'},\n",
       " u'AO2': {u'A', u'AU', u'O', u'OU'},\n",
       " u'AW0': {u'O', u'OU', u'U'},\n",
       " u'AW1': {u'AO', u'AU', u'O', u'OU', u'U'},\n",
       " u'AW2': {u'O', u'OU', u'U'},\n",
       " u'AY0': {u'EI', u'I', u'Y'},\n",
       " u'AY1': {u'AE',\n",
       "  u'AI',\n",
       "  u'AY',\n",
       "  u'AYE',\n",
       "  u'EI',\n",
       "  u'EY',\n",
       "  u'EYE',\n",
       "  u'I',\n",
       "  u'IA',\n",
       "  u'IE',\n",
       "  u'OI',\n",
       "  u'UI',\n",
       "  u'UY',\n",
       "  u'Y',\n",
       "  u'YE'},\n",
       " u'AY2': {u'AI', u'EI', u'I', u'IE', u'Y'},\n",
       " u'EH0': {u'A', u'AE', u'AI', u'E'},\n",
       " u'EH1': {u'A',\n",
       "  u'AA',\n",
       "  u'AE',\n",
       "  u'AI',\n",
       "  u'AY',\n",
       "  u'AYE',\n",
       "  u'E',\n",
       "  u'EA',\n",
       "  u'EE',\n",
       "  u'EI',\n",
       "  u'EO',\n",
       "  u'EY',\n",
       "  u'IE',\n",
       "  u'OE',\n",
       "  u'U',\n",
       "  u'UA',\n",
       "  u'UE',\n",
       "  u'YE'},\n",
       " u'EH2': {u'A', u'AE', u'E', u'UA', u'UE'},\n",
       " u'ER0': {u'A', u'E', u'I', u'O', u'U', u'YOU'},\n",
       " u'ER1': {u'E', u'EA', u'I', u'O', u'OU', u'U', u'UE', u'UI', u'Y', u'YEA'},\n",
       " u'ER2': {u'E', u'I', u'OU', u'U'},\n",
       " u'EY0': {u'A', u'AI', u'E', u'EI'},\n",
       " u'EY1': {u'A',\n",
       "  u'AE',\n",
       "  u'AI',\n",
       "  u'AU',\n",
       "  u'AY',\n",
       "  u'AYE',\n",
       "  u'E',\n",
       "  u'EA',\n",
       "  u'EE',\n",
       "  u'EI',\n",
       "  u'EY',\n",
       "  u'EYE',\n",
       "  u'U',\n",
       "  u'UA',\n",
       "  u'UAI',\n",
       "  u'UE',\n",
       "  u'YA',\n",
       "  u'YEA'},\n",
       " u'EY2': {u'A', u'AE', u'AI', u'E'},\n",
       " u'IH0': {u'E', u'I', u'UI', u'Y'},\n",
       " u'IH1': {u'E',\n",
       "  u'EA',\n",
       "  u'EE',\n",
       "  u'EI',\n",
       "  u'EO',\n",
       "  u'I',\n",
       "  u'IE',\n",
       "  u'O',\n",
       "  u'U',\n",
       "  u'UE',\n",
       "  u'UEE',\n",
       "  u'UI',\n",
       "  u'Y',\n",
       "  u'YEA',\n",
       "  u'YI'},\n",
       " u'IH2': {u'E', u'I', u'UI', u'Y', u'YI'},\n",
       " u'IY0': {u'AE', u'E', u'EE', u'EU', u'I', u'UI'},\n",
       " u'IY1': {u'A',\n",
       "  u'AE',\n",
       "  u'E',\n",
       "  u'EA',\n",
       "  u'EE',\n",
       "  u'EI',\n",
       "  u'EO',\n",
       "  u'EY',\n",
       "  u'EYE',\n",
       "  u'I',\n",
       "  u'IE',\n",
       "  u'OE',\n",
       "  u'UE',\n",
       "  u'UEA',\n",
       "  u'UEE',\n",
       "  u'UI',\n",
       "  u'YEA',\n",
       "  u'YIE'},\n",
       " u'IY2': {u'E', u'EA', u'EE', u'I'},\n",
       " u'OW0': {u'AU', u'O', u'OU', u'UO', u'YO'},\n",
       " u'OW1': {u'AU',\n",
       "  u'E',\n",
       "  u'EAU',\n",
       "  u'EOU',\n",
       "  u'O',\n",
       "  u'OA',\n",
       "  u'OE',\n",
       "  u'OO',\n",
       "  u'OU',\n",
       "  u'UO',\n",
       "  u'YEO',\n",
       "  u'YO'},\n",
       " u'OW2': {u'AU', u'O'},\n",
       " u'OY1': {u'EU', u'O', u'OI', u'OY', u'Y'},\n",
       " u'OY2': {u'E', u'O', u'OI', u'OYEU', u'U', u'Y'},\n",
       " u'UH0': {u'EU', u'OO', u'OU', u'U', u'YOU'},\n",
       " u'UH1': {u'E', u'EU', u'O', u'OO', u'OU', u'U', u'UO', u'YOU'},\n",
       " u'UH2': {u'EU', u'O', u'OO', u'OU', u'U', u'UO'},\n",
       " u'UW0': {u'E', u'EU', u'IEU', u'O', u'OU', u'U', u'UE'},\n",
       " u'UW1': {u'E',\n",
       "  u'EAU',\n",
       "  u'EU',\n",
       "  u'IE',\n",
       "  u'O',\n",
       "  u'OE',\n",
       "  u'OO',\n",
       "  u'OOE',\n",
       "  u'OU',\n",
       "  u'U',\n",
       "  u'UE',\n",
       "  u'UEUE',\n",
       "  u'UI',\n",
       "  u'YOU',\n",
       "  u'YU'},\n",
       " u'UW2': {u'E', u'EU', u'O', u'OO', u'OU', u'OUI', u'U', u'UI', u'YU'}}"
      ]
     },
     "execution_count": 32,
     "metadata": {},
     "output_type": "execute_result"
    }
   ],
   "source": [
    "spellingDict"
   ]
  },
  {
   "cell_type": "code",
   "execution_count": null,
   "metadata": {
    "collapsed": true
   },
   "outputs": [],
   "source": []
  }
 ],
 "metadata": {
  "kernelspec": {
   "display_name": "Python 2",
   "language": "python",
   "name": "python2"
  },
  "language_info": {
   "codemirror_mode": {
    "name": "ipython",
    "version": 2
   },
   "file_extension": ".py",
   "mimetype": "text/x-python",
   "name": "python",
   "nbconvert_exporter": "python",
   "pygments_lexer": "ipython2",
   "version": "2.7.9"
  }
 },
 "nbformat": 4,
 "nbformat_minor": 0
}
